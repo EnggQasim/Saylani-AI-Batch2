{
 "cells": [
  {
   "cell_type": "code",
   "execution_count": 1,
   "metadata": {},
   "outputs": [
    {
     "name": "stdout",
     "output_type": "stream",
     "text": [
      "The Zen of Python, by Tim Peters\n",
      "\n",
      "Beautiful is better than ugly.\n",
      "Explicit is better than implicit.\n",
      "Simple is better than complex.\n",
      "Complex is better than complicated.\n",
      "Flat is better than nested.\n",
      "Sparse is better than dense.\n",
      "Readability counts.\n",
      "Special cases aren't special enough to break the rules.\n",
      "Although practicality beats purity.\n",
      "Errors should never pass silently.\n",
      "Unless explicitly silenced.\n",
      "In the face of ambiguity, refuse the temptation to guess.\n",
      "There should be one-- and preferably only one --obvious way to do it.\n",
      "Although that way may not be obvious at first unless you're Dutch.\n",
      "Now is better than never.\n",
      "Although never is often better than *right* now.\n",
      "If the implementation is hard to explain, it's a bad idea.\n",
      "If the implementation is easy to explain, it may be a good idea.\n",
      "Namespaces are one honking great idea -- let's do more of those!\n"
     ]
    }
   ],
   "source": [
    "import this"
   ]
  },
  {
   "cell_type": "code",
   "execution_count": 2,
   "metadata": {},
   "outputs": [
    {
     "data": {
      "text/plain": [
       "14"
      ]
     },
     "execution_count": 2,
     "metadata": {},
     "output_type": "execute_result"
    }
   ],
   "source": [
    "5 + 9 # Operation\n",
    "# Operators\n",
    "    # +, - , * , / , %, **\n",
    "    # = , +=, -=, *=, /=, **=\n",
    "    # == , <, >, >=, <=, !=\n",
    "    # and (&) or (|)\n",
    "    \n",
    "# 5, 9 # Oprands"
   ]
  },
  {
   "cell_type": "code",
   "execution_count": 3,
   "metadata": {},
   "outputs": [
    {
     "data": {
      "text/plain": [
       "41.0"
      ]
     },
     "execution_count": 3,
     "metadata": {},
     "output_type": "execute_result"
    }
   ],
   "source": [
    "#PEMDAS\n",
    "9 + 8 * 2 / 2**2 + (7 -3) * 7\n",
    "#9 + 8 * 2 / 2**2 + 4 * 7\n",
    "#9 + 8 * 2 / 4 + 4 * 7\n",
    "#9 + 8 * 2 / 4 + 4 * 7\n",
    "#9 + 16 / 4 + 28\n",
    "#9 + 4 + 28\n",
    "#41"
   ]
  },
  {
   "cell_type": "code",
   "execution_count": 5,
   "metadata": {},
   "outputs": [
    {
     "name": "stdout",
     "output_type": "stream",
     "text": [
      "20\n",
      "20\n",
      "93845240890848\n",
      "93845240890848\n"
     ]
    }
   ],
   "source": [
    "#copy types\n",
    "# Shallow Copy\n",
    "# Deep Copy\n",
    "\n",
    "a = 20\n",
    "b = 20\n",
    "\n",
    "print(a)\n",
    "print(b)\n",
    "\n",
    "print(id(a))\n",
    "print(id(b))"
   ]
  },
  {
   "cell_type": "code",
   "execution_count": 100,
   "metadata": {},
   "outputs": [
    {
     "name": "stdout",
     "output_type": "stream",
     "text": [
      "['p', 'a', 'k', 'i', 's', 't', 'a', 'n']\n",
      "['p', 'a', 'k', 'i', 's', 't', 'a', 'n']\n",
      "140323954634632\n",
      "140323954415624\n"
     ]
    }
   ],
   "source": [
    "a = list(\"pakistan\")\n",
    "b = a.copy()\n",
    "\n",
    "print(a)\n",
    "print(b)\n",
    "\n",
    "print(id(a))\n",
    "print(id(b))"
   ]
  },
  {
   "cell_type": "code",
   "execution_count": 6,
   "metadata": {},
   "outputs": [
    {
     "name": "stdout",
     "output_type": "stream",
     "text": [
      "20\n",
      "<class 'int'>\n"
     ]
    }
   ],
   "source": [
    "a = 20\n",
    "print(a)\n",
    "print(type(a))"
   ]
  },
  {
   "cell_type": "code",
   "execution_count": 101,
   "metadata": {},
   "outputs": [
    {
     "name": "stdout",
     "output_type": "stream",
     "text": [
      "3\n",
      "<class 'int'>\n"
     ]
    }
   ],
   "source": [
    "a = 11 // 3 # floor Division\n",
    "print(a)\n",
    "print(type(a))"
   ]
  },
  {
   "cell_type": "code",
   "execution_count": 7,
   "metadata": {},
   "outputs": [
    {
     "name": "stdout",
     "output_type": "stream",
     "text": [
      "20.8\n",
      "<class 'float'>\n"
     ]
    }
   ],
   "source": [
    "a = 20.8\n",
    "print(a)\n",
    "print(type(a))"
   ]
  },
  {
   "cell_type": "code",
   "execution_count": 8,
   "metadata": {},
   "outputs": [
    {
     "name": "stdout",
     "output_type": "stream",
     "text": [
      "1.0\n",
      "<class 'float'>\n"
     ]
    }
   ],
   "source": [
    "a = 8 / 8\n",
    "print(a)\n",
    "print(type(a))"
   ]
  },
  {
   "cell_type": "code",
   "execution_count": 9,
   "metadata": {},
   "outputs": [
    {
     "name": "stdout",
     "output_type": "stream",
     "text": [
      "True\n",
      "<class 'bool'>\n"
     ]
    }
   ],
   "source": [
    "a = True\n",
    "print(a)\n",
    "print(type(a))"
   ]
  },
  {
   "cell_type": "code",
   "execution_count": 10,
   "metadata": {},
   "outputs": [
    {
     "name": "stdout",
     "output_type": "stream",
     "text": [
      "False\n",
      "<class 'bool'>\n"
     ]
    }
   ],
   "source": [
    "a = False\n",
    "print(a)\n",
    "print(type(a))"
   ]
  },
  {
   "cell_type": "code",
   "execution_count": 11,
   "metadata": {},
   "outputs": [
    {
     "name": "stdout",
     "output_type": "stream",
     "text": [
      "20\n",
      "<class 'str'>\n"
     ]
    }
   ],
   "source": [
    "a = \"20\"\n",
    "print(a)\n",
    "print(type(a))"
   ]
  },
  {
   "cell_type": "code",
   "execution_count": 12,
   "metadata": {},
   "outputs": [
    {
     "name": "stdout",
     "output_type": "stream",
     "text": [
      "1\n",
      "<class 'str'>\n"
     ]
    }
   ],
   "source": [
    "a = '1'\n",
    "print(a)\n",
    "print(type(a))"
   ]
  },
  {
   "cell_type": "code",
   "execution_count": 13,
   "metadata": {},
   "outputs": [
    {
     "name": "stdout",
     "output_type": "stream",
     "text": [
      "20.7\n",
      "<class 'str'>\n"
     ]
    }
   ],
   "source": [
    "a = \"\"\"20.7\"\"\"\n",
    "print(a)\n",
    "print(type(a))"
   ]
  },
  {
   "cell_type": "code",
   "execution_count": 14,
   "metadata": {},
   "outputs": [
    {
     "name": "stdout",
     "output_type": "stream",
     "text": [
      "78\n",
      "<class 'str'>\n"
     ]
    }
   ],
   "source": [
    "a = '''78'''\n",
    "print(a)\n",
    "print(type(a))"
   ]
  },
  {
   "cell_type": "code",
   "execution_count": 19,
   "metadata": {},
   "outputs": [
    {
     "name": "stdout",
     "output_type": "stream",
     "text": [
      "['Ali', 'Hamza', 'Junaid', 200, True]\n",
      "True\n",
      "<class 'list'>\n"
     ]
    }
   ],
   "source": [
    "#Index    0       1       2      3     4\n",
    "names = [\"Ali\",\"Hamza\",\"Junaid\",200, True] #List[Element,Element]\n",
    "#Index     -5    -4      -3      -2   -1\n",
    "\n",
    "print(names)\n",
    "print(names[-1])   #list[indexNumber]\n",
    "print(type(names))"
   ]
  },
  {
   "cell_type": "code",
   "execution_count": 20,
   "metadata": {},
   "outputs": [
    {
     "name": "stdout",
     "output_type": "stream",
     "text": [
      "('Ali', 'Hamza', 'Junaid', 200, True)\n",
      "True\n",
      "<class 'tuple'>\n"
     ]
    }
   ],
   "source": [
    "#Index    0       1       2      3     4\n",
    "names = (\"Ali\",\"Hamza\",\"Junaid\",200, True) #tuple[Element,Element]\n",
    "#Index     -5    -4      -3      -2   -1\n",
    "\n",
    "print(names)\n",
    "print(names[-1])   #list[indexNumber]\n",
    "print(type(names))"
   ]
  },
  {
   "cell_type": "code",
   "execution_count": 21,
   "metadata": {},
   "outputs": [
    {
     "data": {
      "text/plain": [
       "{'Ali', 'Hamza', 'Rashid'}"
      ]
     },
     "execution_count": 21,
     "metadata": {},
     "output_type": "execute_result"
    }
   ],
   "source": [
    "names = {\"Ali\",\"Hamza\",\"Ali\",\"Hamza\",\"Rashid\"} #set\n",
    "names\n"
   ]
  },
  {
   "cell_type": "code",
   "execution_count": 22,
   "metadata": {},
   "outputs": [
    {
     "ename": "TypeError",
     "evalue": "'set' object does not support indexing",
     "output_type": "error",
     "traceback": [
      "\u001b[0;31m---------------------------------------------------------------------------\u001b[0m",
      "\u001b[0;31mTypeError\u001b[0m                                 Traceback (most recent call last)",
      "\u001b[0;32m<ipython-input-22-2dd900e82456>\u001b[0m in \u001b[0;36m<module>\u001b[0;34m\u001b[0m\n\u001b[1;32m      1\u001b[0m \u001b[0mnames\u001b[0m \u001b[0;34m=\u001b[0m \u001b[0;34m{\u001b[0m\u001b[0;34m\"Ali\"\u001b[0m\u001b[0;34m,\u001b[0m\u001b[0;34m\"Hamza\"\u001b[0m\u001b[0;34m,\u001b[0m\u001b[0;34m\"Ali\"\u001b[0m\u001b[0;34m,\u001b[0m\u001b[0;34m\"Hamza\"\u001b[0m\u001b[0;34m,\u001b[0m\u001b[0;34m\"Rashid\"\u001b[0m\u001b[0;34m}\u001b[0m \u001b[0;31m#set\u001b[0m\u001b[0;34m\u001b[0m\u001b[0;34m\u001b[0m\u001b[0m\n\u001b[0;32m----> 2\u001b[0;31m \u001b[0mnames\u001b[0m\u001b[0;34m[\u001b[0m\u001b[0;36m0\u001b[0m\u001b[0;34m]\u001b[0m\u001b[0;34m\u001b[0m\u001b[0;34m\u001b[0m\u001b[0m\n\u001b[0m",
      "\u001b[0;31mTypeError\u001b[0m: 'set' object does not support indexing"
     ]
    }
   ],
   "source": [
    "names = {\"Ali\",\"Hamza\",\"Ali\",\"Hamza\",\"Rashid\"} #set\n",
    "names[0]"
   ]
  },
  {
   "cell_type": "code",
   "execution_count": 26,
   "metadata": {},
   "outputs": [
    {
     "data": {
      "text/plain": [
       "'Hamza'"
      ]
     },
     "execution_count": 26,
     "metadata": {},
     "output_type": "execute_result"
    }
   ],
   "source": [
    "# Type Casting\n",
    "names = {\"Ali\",\"Hamza\",\"Ali\",\"Hamza\",\"Rashid\"} #set\n",
    "names = list(names)\n",
    "names[0]"
   ]
  },
  {
   "cell_type": "code",
   "execution_count": 102,
   "metadata": {},
   "outputs": [
    {
     "name": "stdout",
     "output_type": "stream",
     "text": [
      "('Ali', 'Hamza', 'Junaid', 200, True)\n",
      "True\n",
      "<class 'tuple'>\n"
     ]
    }
   ],
   "source": [
    "#Index    0       1       2      3     4\n",
    "names = (\"Ali\",\"Hamza\",\"Junaid\",200, True) #tuple[Element,Element]\n",
    "#Index     -5    -4      -3      -2   -1\n",
    "\n",
    "print(names)\n",
    "print(names[-1])   #list[indexNumber]\n",
    "print(type(names))"
   ]
  },
  {
   "cell_type": "code",
   "execution_count": 109,
   "metadata": {},
   "outputs": [
    {
     "name": "stdout",
     "output_type": "stream",
     "text": [
      "Pakistan\n"
     ]
    }
   ],
   "source": [
    "# {\n",
    "# key0: value1,\n",
    "# key1: value1, \n",
    "# key2:value2\n",
    "# }\n",
    "\n",
    "# key hashable data type\n",
    "# value any data types\n",
    "\n",
    "\n",
    "data = {\n",
    "    \"name\":\"Muhammad Qasim\",\n",
    "    \"fname\":\"Muhammad Aslam\",\n",
    "    \"fee\":500,\n",
    "    \"education\":['Matric',\"Intermediate\",\"BSCS\",\"DSCS\"],\n",
    "    5: \"Pakistan\",\n",
    "    'a' : 2000\n",
    "}\n",
    "\n",
    "print(data[5])"
   ]
  },
  {
   "cell_type": "code",
   "execution_count": 30,
   "metadata": {},
   "outputs": [
    {
     "name": "stdout",
     "output_type": "stream",
     "text": [
      "<class 'int'>\n",
      "<class 'float'>\n",
      "<class 'str'>\n",
      "<class 'list'>\n",
      "<class 'set'>\n",
      "<class 'bool'>\n"
     ]
    }
   ],
   "source": [
    "a = 20\n",
    "print(type(a))\n",
    "a = float(a)\n",
    "print(type(a))\n",
    "a = str(a)\n",
    "print(type(a))\n",
    "a = list(a)\n",
    "print(type(a))\n",
    "a = set(a)\n",
    "print(type(a))\n",
    "a = bool(a)\n",
    "print(type(a))"
   ]
  },
  {
   "cell_type": "code",
   "execution_count": 33,
   "metadata": {},
   "outputs": [
    {
     "data": {
      "text/plain": [
       "28"
      ]
     },
     "execution_count": 33,
     "metadata": {},
     "output_type": "execute_result"
    }
   ],
   "source": [
    "a = 28.9\n",
    "int(a)"
   ]
  },
  {
   "cell_type": "markdown",
   "metadata": {},
   "source": [
    "# Slicing"
   ]
  },
  {
   "cell_type": "raw",
   "metadata": {},
   "source": [
    "#list[start:end:step]\n",
    "#tuple[start:end:step]\n",
    "#string[start:end:step]\n",
    "#start ->Included\n",
    "#end   ->Excluded\n",
    "#Step  ->Sequance"
   ]
  },
  {
   "cell_type": "code",
   "execution_count": 38,
   "metadata": {},
   "outputs": [
    {
     "name": "stdout",
     "output_type": "stream",
     "text": [
      "Pakistan zinda bad\n",
      "dab adniz natsikaP\n",
      "ak\n",
      "Pakistan bad\n"
     ]
    }
   ],
   "source": [
    "a = \"Pakistan zinda bad\"\n",
    "print(a[::])\n",
    "print(a[::-1])\n",
    "print(a[1:3:])\n",
    "print(a[0:9:] + a[-3:])"
   ]
  },
  {
   "cell_type": "markdown",
   "metadata": {},
   "source": [
    "# String Data types and Methods"
   ]
  },
  {
   "cell_type": "raw",
   "metadata": {},
   "source": [
    "help(str)\n",
    "str?\n",
    "str??\n",
    "?str\n",
    "??str"
   ]
  },
  {
   "cell_type": "code",
   "execution_count": 41,
   "metadata": {},
   "outputs": [
    {
     "data": {
      "text/plain": [
       "['__add__',\n",
       " '__class__',\n",
       " '__contains__',\n",
       " '__delattr__',\n",
       " '__dir__',\n",
       " '__doc__',\n",
       " '__eq__',\n",
       " '__format__',\n",
       " '__ge__',\n",
       " '__getattribute__',\n",
       " '__getitem__',\n",
       " '__getnewargs__',\n",
       " '__gt__',\n",
       " '__hash__',\n",
       " '__init__',\n",
       " '__init_subclass__',\n",
       " '__iter__',\n",
       " '__le__',\n",
       " '__len__',\n",
       " '__lt__',\n",
       " '__mod__',\n",
       " '__mul__',\n",
       " '__ne__',\n",
       " '__new__',\n",
       " '__reduce__',\n",
       " '__reduce_ex__',\n",
       " '__repr__',\n",
       " '__rmod__',\n",
       " '__rmul__',\n",
       " '__setattr__',\n",
       " '__sizeof__',\n",
       " '__str__',\n",
       " '__subclasshook__',\n",
       " 'capitalize',\n",
       " 'casefold',\n",
       " 'center',\n",
       " 'count',\n",
       " 'encode',\n",
       " 'endswith',\n",
       " 'expandtabs',\n",
       " 'find',\n",
       " 'format',\n",
       " 'format_map',\n",
       " 'index',\n",
       " 'isalnum',\n",
       " 'isalpha',\n",
       " 'isascii',\n",
       " 'isdecimal',\n",
       " 'isdigit',\n",
       " 'isidentifier',\n",
       " 'islower',\n",
       " 'isnumeric',\n",
       " 'isprintable',\n",
       " 'isspace',\n",
       " 'istitle',\n",
       " 'isupper',\n",
       " 'join',\n",
       " 'ljust',\n",
       " 'lower',\n",
       " 'lstrip',\n",
       " 'maketrans',\n",
       " 'partition',\n",
       " 'replace',\n",
       " 'rfind',\n",
       " 'rindex',\n",
       " 'rjust',\n",
       " 'rpartition',\n",
       " 'rsplit',\n",
       " 'rstrip',\n",
       " 'split',\n",
       " 'splitlines',\n",
       " 'startswith',\n",
       " 'strip',\n",
       " 'swapcase',\n",
       " 'title',\n",
       " 'translate',\n",
       " 'upper',\n",
       " 'zfill']"
      ]
     },
     "execution_count": 41,
     "metadata": {},
     "output_type": "execute_result"
    }
   ],
   "source": [
    "a = \"MUhammAd Qasim\"\n",
    "dir(a)"
   ]
  },
  {
   "cell_type": "code",
   "execution_count": 42,
   "metadata": {},
   "outputs": [
    {
     "name": "stdout",
     "output_type": "stream",
     "text": [
      "MUHAMMAD QASIM\n",
      "MUHAmmAD QaSIM\n"
     ]
    }
   ],
   "source": [
    "a = \"MUHAmmAD QaSIM\"\n",
    "print(a.upper()) # Inline Operation\n",
    "print(a)"
   ]
  },
  {
   "cell_type": "code",
   "execution_count": 43,
   "metadata": {},
   "outputs": [
    {
     "name": "stdout",
     "output_type": "stream",
     "text": [
      "MUHAMMAD QASIM\n"
     ]
    }
   ],
   "source": [
    "a = \"MUHAmmAD QaSIM\"\n",
    "a = a.upper() # In Memory Operation\n",
    "\n",
    "print(a)"
   ]
  },
  {
   "cell_type": "code",
   "execution_count": 44,
   "metadata": {},
   "outputs": [
    {
     "name": "stdout",
     "output_type": "stream",
     "text": [
      "Muhmmad Qasim\n",
      "MUHmMaD QaSIM\n"
     ]
    }
   ],
   "source": [
    "a = \"MUHmMaD QaSIM\"\n",
    "print(a.title())\n",
    "print(a)"
   ]
  },
  {
   "cell_type": "code",
   "execution_count": 45,
   "metadata": {},
   "outputs": [
    {
     "name": "stdout",
     "output_type": "stream",
     "text": [
      "Muhmmad qasim\n",
      "MUHmMaD QaSIM\n"
     ]
    }
   ],
   "source": [
    "a = \"MUHmMaD QaSIM\"\n",
    "print(a.capitalize())\n",
    "print(a)"
   ]
  },
  {
   "cell_type": "code",
   "execution_count": 47,
   "metadata": {},
   "outputs": [
    {
     "name": "stdout",
     "output_type": "stream",
     "text": [
      "        Muhammad            Qasim     \n"
     ]
    }
   ],
   "source": [
    "a = \"        Muhammad            Qasim     \"\n",
    "print(a)"
   ]
  },
  {
   "cell_type": "code",
   "execution_count": 50,
   "metadata": {},
   "outputs": [
    {
     "name": "stdout",
     "output_type": "stream",
     "text": [
      "38\n",
      "Muhammad            Qasim     \n",
      "30\n",
      "        Muhammad            Qasim     \n"
     ]
    }
   ],
   "source": [
    "a = \"        Muhammad            Qasim     \"\n",
    "print(len(a))\n",
    "print(a.lstrip())\n",
    "print(len(a.lstrip()))\n",
    "print(a)"
   ]
  },
  {
   "cell_type": "code",
   "execution_count": 51,
   "metadata": {},
   "outputs": [
    {
     "name": "stdout",
     "output_type": "stream",
     "text": [
      "38\n",
      "        Muhammad            Qasim\n",
      "33\n",
      "        Muhammad            Qasim     \n"
     ]
    }
   ],
   "source": [
    "a = \"        Muhammad            Qasim     \"\n",
    "print(len(a))\n",
    "print(a.rstrip())\n",
    "print(len(a.rstrip()))\n",
    "print(a)"
   ]
  },
  {
   "cell_type": "code",
   "execution_count": 52,
   "metadata": {},
   "outputs": [
    {
     "name": "stdout",
     "output_type": "stream",
     "text": [
      "38\n",
      "Muhammad            Qasim\n",
      "25\n",
      "        Muhammad            Qasim     \n"
     ]
    }
   ],
   "source": [
    "a = \"        Muhammad            Qasim     \"\n",
    "print(len(a))\n",
    "print(a.strip())\n",
    "print(len(a.strip()))\n",
    "print(a)"
   ]
  },
  {
   "cell_type": "code",
   "execution_count": 53,
   "metadata": {},
   "outputs": [
    {
     "data": {
      "text/plain": [
       "['Muhammad', 'Qasim']"
      ]
     },
     "execution_count": 53,
     "metadata": {},
     "output_type": "execute_result"
    }
   ],
   "source": [
    "a = \"        Muhammad            Qasim     \"\n",
    "b = a.split()\n",
    "b"
   ]
  },
  {
   "cell_type": "code",
   "execution_count": 56,
   "metadata": {},
   "outputs": [
    {
     "data": {
      "text/plain": [
       "'Muhammad Qasim'"
      ]
     },
     "execution_count": 56,
     "metadata": {},
     "output_type": "execute_result"
    }
   ],
   "source": [
    "\" \".join(b)"
   ]
  },
  {
   "cell_type": "code",
   "execution_count": 57,
   "metadata": {},
   "outputs": [
    {
     "data": {
      "text/plain": [
       "'Muhammad=====Qasim'"
      ]
     },
     "execution_count": 57,
     "metadata": {},
     "output_type": "execute_result"
    }
   ],
   "source": [
    "\"=====\".join(b)"
   ]
  },
  {
   "cell_type": "code",
   "execution_count": 58,
   "metadata": {},
   "outputs": [
    {
     "data": {
      "text/plain": [
       "'39232323323322'"
      ]
     },
     "execution_count": 58,
     "metadata": {},
     "output_type": "execute_result"
    }
   ],
   "source": [
    "a = \"kjaskdfjaldjf 39u23j2 l3jj2 3k-323/32*2\"\n",
    "\n",
    "\"\".join([i for i in a if str.isnumeric(i)])"
   ]
  },
  {
   "cell_type": "code",
   "execution_count": 59,
   "metadata": {},
   "outputs": [
    {
     "data": {
      "text/plain": [
       "7"
      ]
     },
     "execution_count": 59,
     "metadata": {},
     "output_type": "execute_result"
    }
   ],
   "source": [
    "a = \"we are pakistan we love our country!\"\n",
    "a.find(\"pakistan\")"
   ]
  },
  {
   "cell_type": "code",
   "execution_count": 62,
   "metadata": {},
   "outputs": [
    {
     "data": {
      "text/plain": [
       "int"
      ]
     },
     "execution_count": 62,
     "metadata": {},
     "output_type": "execute_result"
    }
   ],
   "source": [
    "a = \"we are pakistan we love our country!\"\n",
    "a.index(\"pakistan\")"
   ]
  },
  {
   "cell_type": "code",
   "execution_count": 67,
   "metadata": {},
   "outputs": [
    {
     "name": "stdout",
     "output_type": "stream",
     "text": [
      "Search:sta\n",
      "sta\n"
     ]
    },
    {
     "data": {
      "text/plain": [
       "'stan we love our country!'"
      ]
     },
     "execution_count": 67,
     "metadata": {},
     "output_type": "execute_result"
    }
   ],
   "source": [
    "b = input(\"Search:\")\n",
    "print(a[a.index(b): a.index(b)+len(b)])\n",
    "a[a.index(b): ]"
   ]
  },
  {
   "cell_type": "code",
   "execution_count": 68,
   "metadata": {},
   "outputs": [
    {
     "name": "stdout",
     "output_type": "stream",
     "text": [
      "\n",
      "PIAIC ISLAMABAD\n",
      "Bahria University \n",
      "Name: Muhammad Qasim\n",
      "Father's Name: Muhammad Asalam\n",
      "\n"
     ]
    }
   ],
   "source": [
    "card = \"\"\"\n",
    "PIAIC ISLAMABAD\n",
    "Bahria University \n",
    "Name: Muhammad Qasim\n",
    "Father's Name: Muhammad Asalam\n",
    "\"\"\"\n",
    "\n",
    "print(card)"
   ]
  },
  {
   "cell_type": "code",
   "execution_count": 69,
   "metadata": {},
   "outputs": [
    {
     "name": "stdout",
     "output_type": "stream",
     "text": [
      "\n",
      "PIAIC ISLAMABAD\n",
      "Bahria University \n",
      "Name: \n",
      "Father's Name: \n",
      "\n"
     ]
    }
   ],
   "source": [
    "student_name = \"Muhammad Qasim\"\n",
    "f_name = \"Muhammad Asalam\"\n",
    "\n",
    "card = \"\"\"\n",
    "PIAIC ISLAMABAD\n",
    "Bahria University \n",
    "Name: \n",
    "Father's Name: \n",
    "\"\"\"\n",
    "\n",
    "print(card)"
   ]
  },
  {
   "cell_type": "code",
   "execution_count": 71,
   "metadata": {},
   "outputs": [
    {
     "name": "stdout",
     "output_type": "stream",
     "text": [
      "\n",
      "PIAIC ISLAMABAD\n",
      "Bahria University \n",
      "Name: Muhammad Qasim\n",
      "Father's Name: Muhammad Asalam\n",
      "Fee : 1000\n",
      "\n"
     ]
    }
   ],
   "source": [
    "student_name = \"Muhammad Qasim\"\n",
    "f_name = \"Muhammad Asalam\"\n",
    "fee = 1000\n",
    "\n",
    "card = \"\"\"\n",
    "PIAIC ISLAMABAD\n",
    "Bahria University \n",
    "Name: %s\n",
    "Father's Name: %s\n",
    "Fee : %d\n",
    "\"\"\"\n",
    "\n",
    "print(card%(student_name,f_name, fee))"
   ]
  },
  {
   "cell_type": "code",
   "execution_count": 72,
   "metadata": {},
   "outputs": [
    {
     "name": "stdout",
     "output_type": "stream",
     "text": [
      "Name:Ali\n",
      "Father's nameHamza\n",
      "Fee5000\n",
      "\n",
      "PIAIC ISLAMABAD\n",
      "Bahria University \n",
      "Name: Ali\n",
      "Father's Name: Hamza\n",
      "Fee : 5000\n",
      "\n"
     ]
    }
   ],
   "source": [
    "student_name = input(\"Name:\")\n",
    "f_name = input(\"Father's name\")\n",
    "fee = int(input(\"Fee\"))\n",
    "\n",
    "card = \"\"\"\n",
    "PIAIC ISLAMABAD\n",
    "Bahria University \n",
    "Name: %s\n",
    "Father's Name: %s\n",
    "Fee : %d\n",
    "\"\"\"\n",
    "\n",
    "print(card%(student_name,f_name, fee))"
   ]
  },
  {
   "cell_type": "code",
   "execution_count": 74,
   "metadata": {},
   "outputs": [
    {
     "name": "stdout",
     "output_type": "stream",
     "text": [
      "\n",
      "Bahria University Islamabad\n",
      "Student Name: Muhammad Qasim\n",
      "Father's Name: Muhammad Aslam\n",
      "Fee: 5000\n",
      "\n"
     ]
    }
   ],
   "source": [
    "name = \"Muhammad Qasim\"\n",
    "fname = \"Muhammad Aslam\"\n",
    "fee = 5000\n",
    "\n",
    "a=f\"\"\"\n",
    "Bahria University Islamabad\n",
    "Student Name: {name}\n",
    "Father's Name: {fname}\n",
    "Fee: {fee}\n",
    "\"\"\"\n",
    "print(a)"
   ]
  },
  {
   "cell_type": "code",
   "execution_count": 75,
   "metadata": {},
   "outputs": [
    {
     "name": "stdout",
     "output_type": "stream",
     "text": [
      "\n",
      "Bahria University Islamabad\n",
      "Student Name: Muhammad Qasim\n",
      "Father's Name: Muhammad Aslam\n",
      "Fee: 5000\n",
      "\n"
     ]
    }
   ],
   "source": [
    "name = \"Muhammad Qasim\"\n",
    "fname = \"Muhammad Aslam\"\n",
    "fee = 5000\n",
    "\n",
    "a=\"\"\"\n",
    "Bahria University Islamabad\n",
    "Student Name: {}\n",
    "Father's Name: {}\n",
    "Fee: {}\n",
    "\"\"\"\n",
    "print(a.format(name, fname,fee))"
   ]
  },
  {
   "cell_type": "code",
   "execution_count": 76,
   "metadata": {},
   "outputs": [
    {
     "name": "stdout",
     "output_type": "stream",
     "text": [
      "\n",
      "Bahria University Islamabad\n",
      "Student Name: Muhammad Aslam\n",
      "Father's Name: Muhammad Qasim\n",
      "Fee: 5000\n",
      "\n"
     ]
    }
   ],
   "source": [
    "name = \"Muhammad Qasim\"\n",
    "fname = \"Muhammad Aslam\"\n",
    "fee = 5000\n",
    "\n",
    "a=\"\"\"\n",
    "Bahria University Islamabad\n",
    "Student Name: {1}\n",
    "Father's Name: {0}\n",
    "Fee: {2}\n",
    "\"\"\"\n",
    "print(a.format(name, fname,fee))"
   ]
  },
  {
   "cell_type": "code",
   "execution_count": 77,
   "metadata": {},
   "outputs": [
    {
     "name": "stdout",
     "output_type": "stream",
     "text": [
      "\n",
      "Bahria University Islamabad\n",
      "Student Name: Muhammad Qasim\n",
      "Father's Name: Muhammad Aslam\n",
      "Fee: 5000\n",
      "\n"
     ]
    }
   ],
   "source": [
    "name = \"Muhammad Qasim\"\n",
    "fname = \"Muhammad Aslam\"\n",
    "fee = 5000\n",
    "\n",
    "a=\"\"\"\n",
    "Bahria University Islamabad\n",
    "Student Name: {sn}\n",
    "Father's Name: {fn}\n",
    "Fee: {f}\n",
    "\"\"\"\n",
    "print(a.format(f=fee, fn=fname, sn=name))"
   ]
  },
  {
   "cell_type": "code",
   "execution_count": 78,
   "metadata": {},
   "outputs": [
    {
     "data": {
      "text/plain": [
       "'11'"
      ]
     },
     "execution_count": 78,
     "metadata": {},
     "output_type": "execute_result"
    }
   ],
   "source": [
    "\"1\" + '1'"
   ]
  },
  {
   "cell_type": "code",
   "execution_count": 79,
   "metadata": {},
   "outputs": [
    {
     "data": {
      "text/plain": [
       "2"
      ]
     },
     "execution_count": 79,
     "metadata": {},
     "output_type": "execute_result"
    }
   ],
   "source": [
    "int(\"1\") + int('1')"
   ]
  },
  {
   "cell_type": "code",
   "execution_count": 83,
   "metadata": {},
   "outputs": [
    {
     "ename": "TypeError",
     "evalue": "unsupported operand type(s) for +: 'int' and 'str'",
     "output_type": "error",
     "traceback": [
      "\u001b[0;31m---------------------------------------------------------------------------\u001b[0m",
      "\u001b[0;31mTypeError\u001b[0m                                 Traceback (most recent call last)",
      "\u001b[0;32m<ipython-input-83-b83632928f1b>\u001b[0m in \u001b[0;36m<module>\u001b[0;34m\u001b[0m\n\u001b[0;32m----> 1\u001b[0;31m \u001b[0mint\u001b[0m\u001b[0;34m(\u001b[0m\u001b[0;34m\"1\"\u001b[0m\u001b[0;34m)\u001b[0m \u001b[0;34m+\u001b[0m \u001b[0;34m\"8\"\u001b[0m\u001b[0;34m\u001b[0m\u001b[0;34m\u001b[0m\u001b[0m\n\u001b[0m",
      "\u001b[0;31mTypeError\u001b[0m: unsupported operand type(s) for +: 'int' and 'str'"
     ]
    }
   ],
   "source": [
    "int(\"1\") + \"8\""
   ]
  },
  {
   "cell_type": "code",
   "execution_count": 84,
   "metadata": {},
   "outputs": [
    {
     "data": {
      "text/plain": [
       "'88'"
      ]
     },
     "execution_count": 84,
     "metadata": {},
     "output_type": "execute_result"
    }
   ],
   "source": [
    "\"8\" * 2"
   ]
  },
  {
   "cell_type": "code",
   "execution_count": 85,
   "metadata": {},
   "outputs": [
    {
     "data": {
      "text/plain": [
       "4"
      ]
     },
     "execution_count": 85,
     "metadata": {},
     "output_type": "execute_result"
    }
   ],
   "source": [
    "2*2"
   ]
  },
  {
   "cell_type": "code",
   "execution_count": 86,
   "metadata": {},
   "outputs": [
    {
     "data": {
      "text/plain": [
       "'PakPak'"
      ]
     },
     "execution_count": 86,
     "metadata": {},
     "output_type": "execute_result"
    }
   ],
   "source": [
    "\"Pak\" * 2"
   ]
  },
  {
   "cell_type": "code",
   "execution_count": 98,
   "metadata": {},
   "outputs": [
    {
     "name": "stdout",
     "output_type": "stream",
     "text": [
      "Bahria University Islamabad \n",
      "Student NameMuhammad Qasim\n",
      "Father's Name \n",
      "Muhammad Aslam\n",
      "Fee: 5000\n"
     ]
    }
   ],
   "source": [
    "name = \"Muhammad Qasim\"\n",
    "fname = \"Muhammad Aslam\"\n",
    "fee = 5000\n",
    "\n",
    "\n",
    "\n",
    "print(\"Bahria University Islamabad \\nStudent Name\" \\\n",
    "+ name + \"\\nFather's Name \\n\"+fname+\"\\nFee: \"+str(fee))"
   ]
  },
  {
   "cell_type": "code",
   "execution_count": 91,
   "metadata": {},
   "outputs": [
    {
     "data": {
      "text/plain": [
       "56.0"
      ]
     },
     "execution_count": 91,
     "metadata": {},
     "output_type": "execute_result"
    }
   ],
   "source": [
    "8 * 7 + 9 / 2 ** 20 // 2 "
   ]
  },
  {
   "cell_type": "code",
   "execution_count": 93,
   "metadata": {},
   "outputs": [
    {
     "data": {
      "text/plain": [
       "56.0"
      ]
     },
     "execution_count": 93,
     "metadata": {},
     "output_type": "execute_result"
    }
   ],
   "source": [
    "8 * \\\n",
    "7 + \\\n",
    "9 / \\\n",
    "2 ** \\\n",
    "20 // \\\n",
    "2 "
   ]
  },
  {
   "cell_type": "code",
   "execution_count": 112,
   "metadata": {},
   "outputs": [
    {
     "name": "stdout",
     "output_type": "stream",
     "text": [
      "Qasim Asif Hamza\n",
      "['Qasim', 'Asif', 'Hamza']\n",
      "Qasim Asif Hamza\n"
     ]
    }
   ],
   "source": [
    "names = [\"Qasim\",\"Asif\",\"Hamza\"]\n",
    "\n",
    "\n",
    "print(names[0], names[1], names[2])\n",
    "print(names)\n",
    "print(*names)"
   ]
  },
  {
   "cell_type": "code",
   "execution_count": 114,
   "metadata": {},
   "outputs": [
    {
     "name": "stdout",
     "output_type": "stream",
     "text": [
      "Qasim Aslam 2000\n"
     ]
    }
   ],
   "source": [
    "name, fname, fee = \"Qasim\", \"Aslam\", 2000\n",
    "print(name, fname,fee)"
   ]
  },
  {
   "cell_type": "code",
   "execution_count": 115,
   "metadata": {},
   "outputs": [
    {
     "name": "stdout",
     "output_type": "stream",
     "text": [
      "('Qasim',) Aslam 2000\n"
     ]
    }
   ],
   "source": [
    "a=[\"Qasim\", \"Aslam\", 2000]\n",
    "name = a[0],\n",
    "fname = a[1]\n",
    "fee = a[2]\n",
    "print(name, fname,fee)"
   ]
  },
  {
   "cell_type": "code",
   "execution_count": 116,
   "metadata": {},
   "outputs": [
    {
     "name": "stdout",
     "output_type": "stream",
     "text": [
      "Qasim Aslam 2000\n"
     ]
    }
   ],
   "source": [
    "a=[\"Qasim\", \"Aslam\", 2000]\n",
    "name, fname, fee = a\n",
    "print(name, fname,fee)"
   ]
  },
  {
   "cell_type": "markdown",
   "metadata": {},
   "source": [
    "# Assignment\n",
    "- String data types all methods \n",
    "- Apply random operators on 20 oprands"
   ]
  },
  {
   "cell_type": "code",
   "execution_count": null,
   "metadata": {},
   "outputs": [],
   "source": []
  }
 ],
 "metadata": {
  "kernelspec": {
   "display_name": "Python 3",
   "language": "python",
   "name": "python3"
  },
  "language_info": {
   "codemirror_mode": {
    "name": "ipython",
    "version": 3
   },
   "file_extension": ".py",
   "mimetype": "text/x-python",
   "name": "python",
   "nbconvert_exporter": "python",
   "pygments_lexer": "ipython3",
   "version": "3.7.1"
  }
 },
 "nbformat": 4,
 "nbformat_minor": 2
}
