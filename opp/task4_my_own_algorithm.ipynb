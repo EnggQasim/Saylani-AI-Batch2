{
 "cells": [
  {
   "cell_type": "code",
   "execution_count": 230,
   "metadata": {},
   "outputs": [
    {
     "name": "stdout",
     "output_type": "stream",
     "text": [
      "JPEG\n",
      "(500, 500)\n"
     ]
    }
   ],
   "source": [
    "import numpy as np\n",
    "from PIL import Image\n",
    "image1 = Image.open('2.jpg')\n",
    "print(image1.format)\n",
    "print(image1.size)"
   ]
  },
  {
   "cell_type": "code",
   "execution_count": 231,
   "metadata": {},
   "outputs": [
    {
     "data": {
      "text/plain": [
       "(500, 500, 3)"
      ]
     },
     "execution_count": 231,
     "metadata": {},
     "output_type": "execute_result"
    }
   ],
   "source": [
    "data = np.asarray(image1)\n",
    "data.shape"
   ]
  },
  {
   "cell_type": "code",
   "execution_count": 232,
   "metadata": {},
   "outputs": [],
   "source": [
    "filter = np.array([\n",
    "    [-1, 0, 1],\n",
    "    [-1, 0, 1],\n",
    "    [-1, 0, 1]])"
   ]
  },
  {
   "cell_type": "code",
   "execution_count": 233,
   "metadata": {},
   "outputs": [
    {
     "data": {
      "text/plain": [
       "500"
      ]
     },
     "execution_count": 233,
     "metadata": {},
     "output_type": "execute_result"
    }
   ],
   "source": [
    "data.shape[0]"
   ]
  },
  {
   "cell_type": "code",
   "execution_count": 234,
   "metadata": {},
   "outputs": [],
   "source": [
    "data1 = np.array(data)"
   ]
  },
  {
   "cell_type": "code",
   "execution_count": 235,
   "metadata": {},
   "outputs": [],
   "source": [
    "for i in range(data.shape[0]):\n",
    "    for x in range(data.shape[1]):\n",
    "                    data1[i,x:x+3,::] = np.dot(data[i,x:x+3,::],filter)\n",
    "        "
   ]
  },
  {
   "cell_type": "code",
   "execution_count": 236,
   "metadata": {},
   "outputs": [],
   "source": [
    "result = Image.fromarray(data1, 'RGB')\n",
    "result.save('task41.png')\n"
   ]
  },
  {
   "cell_type": "code",
   "execution_count": 261,
   "metadata": {},
   "outputs": [],
   "source": [
    "image2 = Image.open('2.jpg')\n",
    "data2 = np.asarray(image2)\n",
    "data2.shape\n",
    "filter2 = np.array([\n",
    "    [0.1, 0.1, 0.1],\n",
    "    [0.1, 0.1, 0.1],\n",
    "    [0.1, 0.1, 0.1]])\n",
    "data3 = np.array(data2)\n",
    "\n",
    "for i in range(data2.shape[0]):\n",
    "    for x in range(0,data2.shape[1],3):\n",
    "                    data3[i,x:x+3,::] = np.dot(data2[i,x:x+3,::],filter2)\n",
    "\n",
    "result = Image.fromarray(data3, 'RGB')\n",
    "result.save('task42.png')\n"
   ]
  },
  {
   "cell_type": "code",
   "execution_count": 255,
   "metadata": {},
   "outputs": [
    {
     "data": {
      "text/plain": [
       "array([[[ 34,   0, 222],\n",
       "        [ 32,   0, 224],\n",
       "        [ 29,   0, 227],\n",
       "        ...,\n",
       "        [175,   0,  81],\n",
       "        [175,   0,  81],\n",
       "        [175,   0,  81]],\n",
       "\n",
       "       [[ 40,   0, 216],\n",
       "        [ 34,   0, 222],\n",
       "        [ 29,   0, 227],\n",
       "        ...,\n",
       "        [175,   0,  81],\n",
       "        [175,   0,  81],\n",
       "        [175,   0,  81]],\n",
       "\n",
       "       [[ 40,   0, 216],\n",
       "        [ 37,   0, 219],\n",
       "        [ 29,   0, 227],\n",
       "        ...,\n",
       "        [175,   0,  81],\n",
       "        [175,   0,  81],\n",
       "        [175,   0,  81]],\n",
       "\n",
       "       ...,\n",
       "\n",
       "       [[152,   0, 104],\n",
       "        [134,   0, 122],\n",
       "        [107,   0, 149],\n",
       "        ...,\n",
       "        [113,   0, 143],\n",
       "        [119,   0, 137],\n",
       "        [125,   0, 131]],\n",
       "\n",
       "       [[155,   0, 101],\n",
       "        [113,   0, 143],\n",
       "        [ 65,   0, 191],\n",
       "        ...,\n",
       "        [110,   0, 146],\n",
       "        [116,   0, 140],\n",
       "        [122,   0, 134]],\n",
       "\n",
       "       [[152,   0, 104],\n",
       "        [ 95,   0, 161],\n",
       "        [ 38,   0, 218],\n",
       "        ...,\n",
       "        [ 95,   0, 161],\n",
       "        [104,   0, 152],\n",
       "        [110,   0, 146]]], dtype=uint8)"
      ]
     },
     "execution_count": 255,
     "metadata": {},
     "output_type": "execute_result"
    }
   ],
   "source": [
    "data3"
   ]
  },
  {
   "cell_type": "code",
   "execution_count": 221,
   "metadata": {},
   "outputs": [
    {
     "data": {
      "text/plain": [
       "array([[[ 34,   0, 222],\n",
       "        [ 32,   0, 224],\n",
       "        [ 29,   0, 227],\n",
       "        ...,\n",
       "        [175,   0,  81],\n",
       "        [175,   0,  81],\n",
       "        [175,   0,  81]],\n",
       "\n",
       "       [[ 40,   0, 216],\n",
       "        [ 34,   0, 222],\n",
       "        [ 29,   0, 227],\n",
       "        ...,\n",
       "        [175,   0,  81],\n",
       "        [175,   0,  81],\n",
       "        [175,   0,  81]],\n",
       "\n",
       "       [[ 40,   0, 216],\n",
       "        [ 37,   0, 219],\n",
       "        [ 29,   0, 227],\n",
       "        ...,\n",
       "        [175,   0,  81],\n",
       "        [175,   0,  81],\n",
       "        [175,   0,  81]],\n",
       "\n",
       "       ...,\n",
       "\n",
       "       [[ 40,  38,  26],\n",
       "        [ 46,  44,  32],\n",
       "        [ 55,  53,  41],\n",
       "        ...,\n",
       "        [145, 133, 121],\n",
       "        [143, 131, 119],\n",
       "        [141, 129, 117]],\n",
       "\n",
       "       [[ 39,  37,  25],\n",
       "        [ 53,  51,  39],\n",
       "        [ 69,  67,  55],\n",
       "        ...,\n",
       "        [146, 134, 122],\n",
       "        [144, 132, 120],\n",
       "        [142, 130, 118]],\n",
       "\n",
       "       [[ 40,  38,  26],\n",
       "        [ 59,  57,  45],\n",
       "        [ 78,  76,  64],\n",
       "        ...,\n",
       "        [151, 139, 127],\n",
       "        [148, 136, 124],\n",
       "        [146, 134, 122]]], dtype=uint8)"
      ]
     },
     "execution_count": 221,
     "metadata": {},
     "output_type": "execute_result"
    }
   ],
   "source": [
    "data1"
   ]
  },
  {
   "cell_type": "code",
   "execution_count": 71,
   "metadata": {},
   "outputs": [
    {
     "data": {
      "text/plain": [
       "array([], shape=(0, 3), dtype=uint8)"
      ]
     },
     "execution_count": 71,
     "metadata": {},
     "output_type": "execute_result"
    }
   ],
   "source": [
    "y=0\n",
    "x=499\n",
    "#data1[x,y,0]\n",
    "data1[x:-3,y:y+3,0] \n",
    "#=  np.dot(data[x:x-3,y:y+3,i],filter)"
   ]
  },
  {
   "cell_type": "code",
   "execution_count": 79,
   "metadata": {},
   "outputs": [
    {
     "name": "stdout",
     "output_type": "stream",
     "text": [
      "8502 0\n"
     ]
    }
   ],
   "source": [
    "dx = True\n",
    "x=8500\n",
    "while dx:\n",
    "    if(x % 3 == 0):\n",
    "        dx = False\n",
    "    else:\n",
    "        x =x+1\n",
    "print(x,x%3)     "
   ]
  },
  {
   "cell_type": "code",
   "execution_count": 82,
   "metadata": {},
   "outputs": [],
   "source": [
    "data1[499:500+3,499:500+3,::] = 0"
   ]
  },
  {
   "cell_type": "code",
   "execution_count": 83,
   "metadata": {},
   "outputs": [
    {
     "data": {
      "text/plain": [
       "(500, 500, 3)"
      ]
     },
     "execution_count": 83,
     "metadata": {},
     "output_type": "execute_result"
    }
   ],
   "source": [
    "data1.shape"
   ]
  },
  {
   "cell_type": "code",
   "execution_count": 89,
   "metadata": {},
   "outputs": [
    {
     "data": {
      "text/plain": [
       "array([[ 40,  38,  26],\n",
       "       [ 59,  57,  45],\n",
       "       [ 78,  76,  64],\n",
       "       ...,\n",
       "       [151, 139, 127],\n",
       "       [148, 136, 124],\n",
       "       [146, 134, 122]], dtype=uint8)"
      ]
     },
     "execution_count": 89,
     "metadata": {},
     "output_type": "execute_result"
    }
   ],
   "source": [
    "data1[499,::,::]"
   ]
  },
  {
   "cell_type": "code",
   "execution_count": 147,
   "metadata": {},
   "outputs": [
    {
     "data": {
      "text/plain": [
       "array([[0, 1, 2],\n",
       "       [3, 4, 5],\n",
       "       [6, 7, 8]])"
      ]
     },
     "execution_count": 147,
     "metadata": {},
     "output_type": "execute_result"
    }
   ],
   "source": [
    "a = np.arange(9).reshape(3,3)\n",
    "a"
   ]
  },
  {
   "cell_type": "code",
   "execution_count": 148,
   "metadata": {},
   "outputs": [
    {
     "data": {
      "text/plain": [
       "array([[0, 1, 2],\n",
       "       [3, 4, 5],\n",
       "       [6, 7, 8]])"
      ]
     },
     "execution_count": 148,
     "metadata": {},
     "output_type": "execute_result"
    }
   ],
   "source": [
    "a"
   ]
  },
  {
   "cell_type": "code",
   "execution_count": 151,
   "metadata": {},
   "outputs": [
    {
     "data": {
      "text/plain": [
       "array([[0],\n",
       "       [0],\n",
       "       [0]], dtype=int64)"
      ]
     },
     "execution_count": 151,
     "metadata": {},
     "output_type": "execute_result"
    }
   ],
   "source": [
    "b = np.int64(np.zeros((3,1)))\n",
    "c = np.int64(np.zeros((1,4)))\n",
    "b"
   ]
  },
  {
   "cell_type": "code",
   "execution_count": 153,
   "metadata": {},
   "outputs": [],
   "source": [
    "a = np.hstack((a,b))\n",
    "a = np.vstack((a,c))"
   ]
  },
  {
   "cell_type": "code",
   "execution_count": 154,
   "metadata": {},
   "outputs": [
    {
     "data": {
      "text/plain": [
       "array([[0, 1, 2, 0],\n",
       "       [3, 4, 5, 0],\n",
       "       [6, 7, 8, 0],\n",
       "       [0, 0, 0, 0]], dtype=int64)"
      ]
     },
     "execution_count": 154,
     "metadata": {},
     "output_type": "execute_result"
    }
   ],
   "source": [
    "a"
   ]
  },
  {
   "cell_type": "code",
   "execution_count": 155,
   "metadata": {},
   "outputs": [
    {
     "data": {
      "text/plain": [
       "(500, 500, 3)"
      ]
     },
     "execution_count": 155,
     "metadata": {},
     "output_type": "execute_result"
    }
   ],
   "source": [
    "data.shape"
   ]
  },
  {
   "cell_type": "code",
   "execution_count": 183,
   "metadata": {},
   "outputs": [
    {
     "data": {
      "text/plain": [
       "(500, 500, 3)"
      ]
     },
     "execution_count": 183,
     "metadata": {},
     "output_type": "execute_result"
    }
   ],
   "source": [
    "data1.shape"
   ]
  },
  {
   "cell_type": "code",
   "execution_count": 184,
   "metadata": {},
   "outputs": [
    {
     "ename": "ValueError",
     "evalue": "all the input arrays must have same number of dimensions",
     "output_type": "error",
     "traceback": [
      "\u001b[1;31m---------------------------------------------------------------------------\u001b[0m",
      "\u001b[1;31mValueError\u001b[0m                                Traceback (most recent call last)",
      "\u001b[1;32m<ipython-input-184-c4de036f8018>\u001b[0m in \u001b[0;36m<module>\u001b[1;34m\u001b[0m\n\u001b[0;32m      1\u001b[0m \u001b[0maddx\u001b[0m \u001b[1;33m=\u001b[0m \u001b[0mnp\u001b[0m\u001b[1;33m.\u001b[0m\u001b[0mint32\u001b[0m\u001b[1;33m(\u001b[0m\u001b[0mnp\u001b[0m\u001b[1;33m.\u001b[0m\u001b[0mzeros\u001b[0m\u001b[1;33m(\u001b[0m\u001b[1;33m(\u001b[0m\u001b[1;36m500\u001b[0m\u001b[1;33m,\u001b[0m\u001b[1;36m3\u001b[0m\u001b[1;33m)\u001b[0m\u001b[1;33m)\u001b[0m\u001b[1;33m)\u001b[0m\u001b[1;33m\u001b[0m\u001b[1;33m\u001b[0m\u001b[0m\n\u001b[0;32m      2\u001b[0m \u001b[0maddy\u001b[0m \u001b[1;33m=\u001b[0m \u001b[0mnp\u001b[0m\u001b[1;33m.\u001b[0m\u001b[0mint32\u001b[0m\u001b[1;33m(\u001b[0m\u001b[0mnp\u001b[0m\u001b[1;33m.\u001b[0m\u001b[0mzeros\u001b[0m\u001b[1;33m(\u001b[0m\u001b[1;33m(\u001b[0m\u001b[1;36m3\u001b[0m\u001b[1;33m,\u001b[0m\u001b[1;36m500\u001b[0m\u001b[1;33m)\u001b[0m\u001b[1;33m)\u001b[0m\u001b[1;33m)\u001b[0m\u001b[1;33m\u001b[0m\u001b[1;33m\u001b[0m\u001b[0m\n\u001b[1;32m----> 3\u001b[1;33m \u001b[0mdata1\u001b[0m\u001b[1;33m[\u001b[0m\u001b[1;36m0\u001b[0m\u001b[1;33m]\u001b[0m \u001b[1;33m=\u001b[0m \u001b[0mnp\u001b[0m\u001b[1;33m.\u001b[0m\u001b[0mhstack\u001b[0m\u001b[1;33m(\u001b[0m\u001b[1;33m(\u001b[0m\u001b[0mdata1\u001b[0m\u001b[1;33m,\u001b[0m\u001b[0maddx\u001b[0m\u001b[1;33m)\u001b[0m\u001b[1;33m)\u001b[0m\u001b[1;33m\u001b[0m\u001b[1;33m\u001b[0m\u001b[0m\n\u001b[0m\u001b[0;32m      4\u001b[0m \u001b[0mdata1\u001b[0m\u001b[1;33m[\u001b[0m\u001b[1;36m0\u001b[0m\u001b[1;33m]\u001b[0m \u001b[1;33m=\u001b[0m \u001b[0mnp\u001b[0m\u001b[1;33m.\u001b[0m\u001b[0mvstack\u001b[0m\u001b[1;33m(\u001b[0m\u001b[1;33m(\u001b[0m\u001b[0mdata1\u001b[0m\u001b[1;33m,\u001b[0m\u001b[0maddy\u001b[0m\u001b[1;33m)\u001b[0m\u001b[1;33m)\u001b[0m\u001b[1;33m\u001b[0m\u001b[1;33m\u001b[0m\u001b[0m\n",
      "\u001b[1;32mC:\\softwares\\anaconda\\lib\\site-packages\\numpy\\core\\shape_base.py\u001b[0m in \u001b[0;36mhstack\u001b[1;34m(tup)\u001b[0m\n\u001b[0;32m    338\u001b[0m         \u001b[1;32mreturn\u001b[0m \u001b[0m_nx\u001b[0m\u001b[1;33m.\u001b[0m\u001b[0mconcatenate\u001b[0m\u001b[1;33m(\u001b[0m\u001b[0marrs\u001b[0m\u001b[1;33m,\u001b[0m \u001b[1;36m0\u001b[0m\u001b[1;33m)\u001b[0m\u001b[1;33m\u001b[0m\u001b[1;33m\u001b[0m\u001b[0m\n\u001b[0;32m    339\u001b[0m     \u001b[1;32melse\u001b[0m\u001b[1;33m:\u001b[0m\u001b[1;33m\u001b[0m\u001b[1;33m\u001b[0m\u001b[0m\n\u001b[1;32m--> 340\u001b[1;33m         \u001b[1;32mreturn\u001b[0m \u001b[0m_nx\u001b[0m\u001b[1;33m.\u001b[0m\u001b[0mconcatenate\u001b[0m\u001b[1;33m(\u001b[0m\u001b[0marrs\u001b[0m\u001b[1;33m,\u001b[0m \u001b[1;36m1\u001b[0m\u001b[1;33m)\u001b[0m\u001b[1;33m\u001b[0m\u001b[1;33m\u001b[0m\u001b[0m\n\u001b[0m\u001b[0;32m    341\u001b[0m \u001b[1;33m\u001b[0m\u001b[0m\n\u001b[0;32m    342\u001b[0m \u001b[1;33m\u001b[0m\u001b[0m\n",
      "\u001b[1;31mValueError\u001b[0m: all the input arrays must have same number of dimensions"
     ]
    }
   ],
   "source": [
    "addx = np.int32(np.zeros((500,3)))\n",
    "addy = np.int32(np.zeros((3,500)))\n",
    "data1[0] = np.hstack((data1,addx))\n",
    "data1[0] = np.vstack((data1,addy))"
   ]
  },
  {
   "cell_type": "code",
   "execution_count": 179,
   "metadata": {},
   "outputs": [],
   "source": [
    "b = np.int64(np.arange(3*3*1).reshape(3,3,1))"
   ]
  },
  {
   "cell_type": "code",
   "execution_count": 188,
   "metadata": {},
   "outputs": [
    {
     "data": {
      "text/plain": [
       "array([[91, 71, 60],\n",
       "       [93, 71, 60],\n",
       "       [94, 72, 61],\n",
       "       ...,\n",
       "       [35, 23, 23],\n",
       "       [35, 23, 23],\n",
       "       [35, 23, 23]], dtype=uint8)"
      ]
     },
     "execution_count": 188,
     "metadata": {},
     "output_type": "execute_result"
    }
   ],
   "source": [
    "data1[0]"
   ]
  },
  {
   "cell_type": "code",
   "execution_count": 191,
   "metadata": {},
   "outputs": [],
   "source": [
    "c = np.arange(500*500*3).reshape(500,500,3)"
   ]
  },
  {
   "cell_type": "code",
   "execution_count": 202,
   "metadata": {},
   "outputs": [
    {
     "data": {
      "text/plain": [
       "array([[748500, 748501, 748502],\n",
       "       [748503, 748504, 748505],\n",
       "       [748506, 748507, 748508],\n",
       "       ...,\n",
       "       [749991, 749992, 749993],\n",
       "       [749994, 749995, 749996],\n",
       "       [749997, 749998, 749999]])"
      ]
     },
     "execution_count": 202,
     "metadata": {},
     "output_type": "execute_result"
    }
   ],
   "source": [
    "c[499]"
   ]
  },
  {
   "cell_type": "code",
   "execution_count": 193,
   "metadata": {},
   "outputs": [
    {
     "data": {
      "text/plain": [
       "(500, 500, 3)"
      ]
     },
     "execution_count": 193,
     "metadata": {},
     "output_type": "execute_result"
    }
   ],
   "source": [
    "c.shape"
   ]
  },
  {
   "cell_type": "code",
   "execution_count": 209,
   "metadata": {},
   "outputs": [
    {
     "data": {
      "text/plain": [
       "array([[ 0,  0,  2],\n",
       "       [-3,  0,  5],\n",
       "       [-6,  0,  8]])"
      ]
     },
     "execution_count": 209,
     "metadata": {},
     "output_type": "execute_result"
    }
   ],
   "source": [
    "c[0,:3,:3]*filter\n",
    "#c[slides,rows,colums]"
   ]
  },
  {
   "cell_type": "code",
   "execution_count": 212,
   "metadata": {},
   "outputs": [
    {
     "data": {
      "text/plain": [
       "array([[1488, 1489, 1490],\n",
       "       [1491, 1492, 1493],\n",
       "       [1494, 1495, 1496]])"
      ]
     },
     "execution_count": 212,
     "metadata": {},
     "output_type": "execute_result"
    }
   ],
   "source": [
    "o=499\n",
    "l = 499\n",
    "c[0,o-3:o,::]"
   ]
  },
  {
   "cell_type": "code",
   "execution_count": null,
   "metadata": {},
   "outputs": [],
   "source": []
  }
 ],
 "metadata": {
  "kernelspec": {
   "display_name": "Python 3",
   "language": "python",
   "name": "python3"
  },
  "language_info": {
   "codemirror_mode": {
    "name": "ipython",
    "version": 3
   },
   "file_extension": ".py",
   "mimetype": "text/x-python",
   "name": "python",
   "nbconvert_exporter": "python",
   "pygments_lexer": "ipython3",
   "version": "3.7.3"
  }
 },
 "nbformat": 4,
 "nbformat_minor": 2
}
