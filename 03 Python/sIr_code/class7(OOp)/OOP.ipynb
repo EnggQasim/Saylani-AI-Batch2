{
 "cells": [
  {
   "cell_type": "markdown",
   "metadata": {},
   "source": [
    "# Topic\n",
    "- Class\n",
    "- instance\n",
    "- Method\n",
    "- Attributes/properties\n",
    "- class variable\n",
    "- instance variable\n",
    "- inheritance\n",
    "- encupsolation\n",
    "- Abstraction\n",
    "- Ploymorphisim"
   ]
  },
  {
   "cell_type": "code",
   "execution_count": null,
   "metadata": {},
   "outputs": [],
   "source": [
    "s1name = \"An\"\n",
    "s1fname = \"Af\"\n",
    "s1age = 20\n",
    "def s1speak():pass\n",
    "def s1listing():pass\n",
    "def eating():pass\n",
    "\n",
    "s2name = \"Bn\"\n",
    "s2fname = \"Bf\"\n",
    "s2age = 20\n",
    "def s2speak():pass\n",
    "def s2listing():pass\n",
    "def e2ting():pass"
   ]
  },
  {
   "cell_type": "markdown",
   "metadata": {},
   "source": [
    "# OOP"
   ]
  },
  {
   "cell_type": "code",
   "execution_count": 1,
   "metadata": {},
   "outputs": [],
   "source": [
    "class Student(): # Class\n",
    "    pass # Class Defination\n",
    "\n",
    "s1 = Student() # s1 instance/Object calling Constructor\n",
    "s2 = Student()\n",
    "s3 = Student()"
   ]
  },
  {
   "cell_type": "code",
   "execution_count": 3,
   "metadata": {},
   "outputs": [],
   "source": [
    "class Student():#Class\n",
    "    def __init__(self, sid, name):#Constructor\n",
    "        self.sid = sid #Attributes/properties/DataMember/Field\n",
    "        self.name = name #Attributes/properties/DataMember/Field\n",
    "        self.fname = \"\"#Attributes/properties/DataMember/Field\n",
    "        self.age = 0#Attributes/properties/DataMember/Field\n",
    "        \n",
    "    def login(self, user, password):#Method\n",
    "        self.name = user\n",
    "        print(\"Welcome!\", self.name)\n",
    "        \n",
    "    def logout(self):pass #Method\n",
    "    def quiz_attempt(self):pass # Method"
   ]
  },
  {
   "cell_type": "code",
   "execution_count": 4,
   "metadata": {},
   "outputs": [],
   "source": [
    "s1 = Student(1, \"Ali\")\n",
    "s2 = Student(20, \"Hamza\")\n",
    "s3 = Student(2, \"Kashif\")"
   ]
  },
  {
   "cell_type": "code",
   "execution_count": 8,
   "metadata": {},
   "outputs": [
    {
     "data": {
      "text/plain": [
       "'Kashif'"
      ]
     },
     "execution_count": 8,
     "metadata": {},
     "output_type": "execute_result"
    }
   ],
   "source": [
    "s3.name"
   ]
  },
  {
   "cell_type": "code",
   "execution_count": 9,
   "metadata": {},
   "outputs": [
    {
     "name": "stdout",
     "output_type": "stream",
     "text": [
      "Welcome! Ali\n"
     ]
    }
   ],
   "source": [
    "s1.login(\"Ali\",\"11asdf\")"
   ]
  },
  {
   "cell_type": "code",
   "execution_count": 10,
   "metadata": {},
   "outputs": [
    {
     "name": "stdout",
     "output_type": "stream",
     "text": [
      "Welcome! Abid\n"
     ]
    }
   ],
   "source": [
    "s2.login(\"Abid\",\"3sdjf\")"
   ]
  },
  {
   "cell_type": "code",
   "execution_count": 12,
   "metadata": {},
   "outputs": [],
   "source": [
    "class Student():#Class\n",
    "    def __init__(this, sid, name):#Constructor\n",
    "        this.sid = sid #Attributes/properties/DataMember/Field\n",
    "        this.name = name #Attributes/properties/DataMember/Field\n",
    "        this.fname = \"\"#Attributes/properties/DataMember/Field\n",
    "        this.age = 0#Attributes/properties/DataMember/Field\n",
    "        \n",
    "    def login(this, user, password):#Method\n",
    "        this.name = user\n",
    "        print(\"Welcome!\", self.name)\n",
    "        \n",
    "    def logout(this):pass #Method\n",
    "    def quiz_attempt(this):pass # Method"
   ]
  },
  {
   "cell_type": "code",
   "execution_count": 13,
   "metadata": {},
   "outputs": [],
   "source": [
    "s1 = Student(1, \"Ali\")\n",
    "s2 = Student(20, \"Hamza\")\n",
    "s3 = Student(2, \"Kashif\")"
   ]
  },
  {
   "cell_type": "code",
   "execution_count": 14,
   "metadata": {},
   "outputs": [
    {
     "data": {
      "text/plain": [
       "'Ali'"
      ]
     },
     "execution_count": 14,
     "metadata": {},
     "output_type": "execute_result"
    }
   ],
   "source": [
    "s1.name"
   ]
  },
  {
   "cell_type": "markdown",
   "metadata": {},
   "source": [
    "# Class Variable"
   ]
  },
  {
   "cell_type": "code",
   "execution_count": 18,
   "metadata": {},
   "outputs": [
    {
     "data": {
      "text/plain": [
       "3"
      ]
     },
     "execution_count": 18,
     "metadata": {},
     "output_type": "execute_result"
    }
   ],
   "source": [
    "class A():\n",
    "    counter = 0 # Class Variable\n",
    "    \n",
    "    def __init__(self):\n",
    "        self.id = A.counter + 1\n",
    "        self.name = \"\"\n",
    "        self.fname = \"\"\n",
    "        #A is Class name\n",
    "        A.counter += 1 # update class variable         \n",
    "        \n",
    "obj1 = A() \n",
    "obj3 = A() \n",
    "obj2 = A() \n",
    "\n",
    "\n",
    "obj1.counter #calling Class Variable with obj ref\n",
    "A.counter # Calling class variable with Class Ref"
   ]
  },
  {
   "cell_type": "code",
   "execution_count": 21,
   "metadata": {},
   "outputs": [
    {
     "name": "stdout",
     "output_type": "stream",
     "text": [
      "1\n",
      "3\n",
      "2\n"
     ]
    }
   ],
   "source": [
    "print(obj1.id, obj2.id, obj3.id, sep=\"\\n\")"
   ]
  },
  {
   "cell_type": "markdown",
   "metadata": {},
   "source": [
    "# Inheritance "
   ]
  },
  {
   "cell_type": "code",
   "execution_count": 22,
   "metadata": {},
   "outputs": [],
   "source": [
    "class Parent():\n",
    "    def __init__(self):\n",
    "        self.id = 0\n",
    "        self.name = \"\"\n",
    "        self.dob = 0\n",
    "    \n",
    "    def speak(self, words):\n",
    "        print(words, \"!\")\n",
    "        \n",
    "    def eat(self, food):\n",
    "        print(\"havig \",food)\n",
    "        \n",
    "    def listing(self):\n",
    "        print(\"Listing...\")\n",
    "        \n",
    "class Child(Parent):\n",
    "    pass\n",
    "\n",
    "obj_p = Parent()\n",
    "\n",
    "obj_c = Child()"
   ]
  },
  {
   "cell_type": "code",
   "execution_count": 23,
   "metadata": {},
   "outputs": [],
   "source": [
    "class Father():\n",
    "    def __init__(self):\n",
    "        self.name = \"\"\n",
    "        self.relation = \"\"\n",
    "        \n",
    "    def lookafter(self):\n",
    "        print(\"Father look after their child\")\n",
    "        \n",
    "    def earnsfor(self):\n",
    "        print(\"Father earns childern\")\n",
    "        \n",
    "class Mother():\n",
    "    def __init__(self):\n",
    "        self.name = \"\"\n",
    "        self.relation = \"\"\n",
    "        \n",
    "    def lookafter(self):\n",
    "        print(\"Mother look after their child\")\n",
    "        \n",
    "    def earndandfeed(self):\n",
    "        print(\"Mother loves childern\")\n",
    "        \n",
    "class Childern(Father, Mother):\n",
    "    pass\n",
    "\n",
    "obj_c = Childern()"
   ]
  },
  {
   "cell_type": "code",
   "execution_count": 24,
   "metadata": {},
   "outputs": [
    {
     "name": "stdout",
     "output_type": "stream",
     "text": [
      "Father look after their child\n"
     ]
    }
   ],
   "source": [
    "obj_c.lookafter()"
   ]
  },
  {
   "cell_type": "markdown",
   "metadata": {},
   "source": [
    "# Ploymorphism"
   ]
  },
  {
   "cell_type": "markdown",
   "metadata": {},
   "source": [
    "## Overloading"
   ]
  },
  {
   "cell_type": "code",
   "execution_count": 25,
   "metadata": {},
   "outputs": [
    {
     "name": "stdout",
     "output_type": "stream",
     "text": [
      "3\n",
      "4.8\n",
      "2.2\n",
      "5.3\n",
      "50\n"
     ]
    }
   ],
   "source": [
    "class Abc():\n",
    "    def pl(self, *n):\n",
    "        print(sum(n))\n",
    "        \n",
    "o1 = Abc()\n",
    "o1.pl(1,2)\n",
    "o1.pl(2.3, 2.5)\n",
    "o1.pl(1,1.2)\n",
    "o1.pl(3.3, 2)\n",
    "o1.pl(33,3,2,5,7)"
   ]
  },
  {
   "cell_type": "code",
   "execution_count": 26,
   "metadata": {},
   "outputs": [
    {
     "name": "stdout",
     "output_type": "stream",
     "text": [
      "5\n",
      "9\n"
     ]
    }
   ],
   "source": [
    "class ABC():\n",
    "    def __init__(self, x, y):\n",
    "        self.x = x\n",
    "        self.y = y\n",
    "        \n",
    "    def __add__(self, other):\n",
    "        print(self.x + other.x)\n",
    "        print(self.y + other.y)\n",
    "        \n",
    "o1 = ABC(2,4)        \n",
    "o2 = ABC(3,5)\n",
    "\n",
    "o1 + o2\n",
    "    "
   ]
  },
  {
   "cell_type": "markdown",
   "metadata": {},
   "source": [
    "# Over Riding"
   ]
  },
  {
   "cell_type": "code",
   "execution_count": 37,
   "metadata": {},
   "outputs": [
    {
     "name": "stdout",
     "output_type": "stream",
     "text": [
      "Parent a..\n",
      "Child b..\n",
      "Parent c..\n"
     ]
    }
   ],
   "source": [
    "class Parent():\n",
    "    def a(self):print(\"Parent a..\")\n",
    "    def b(self):print(\"Parent b..\")\n",
    "    def c(self):print(\"Parent c..\")\n",
    "        \n",
    "class Child(Parent):\n",
    "    def b(self):print(\"Child b..\")\n",
    "        \n",
    "obj1 = Child()    \n",
    "obj1.a()\n",
    "obj1.b()\n",
    "obj1.c()\n"
   ]
  },
  {
   "cell_type": "code",
   "execution_count": null,
   "metadata": {},
   "outputs": [],
   "source": []
  }
 ],
 "metadata": {
  "kernelspec": {
   "display_name": "Python 3",
   "language": "python",
   "name": "python3"
  },
  "language_info": {
   "codemirror_mode": {
    "name": "ipython",
    "version": 3
   },
   "file_extension": ".py",
   "mimetype": "text/x-python",
   "name": "python",
   "nbconvert_exporter": "python",
   "pygments_lexer": "ipython3",
   "version": "3.7.1"
  }
 },
 "nbformat": 4,
 "nbformat_minor": 2
}
