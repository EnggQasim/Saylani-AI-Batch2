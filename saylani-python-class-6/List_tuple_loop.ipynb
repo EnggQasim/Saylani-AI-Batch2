{
 "cells": [
  {
   "cell_type": "code",
   "execution_count": null,
   "metadata": {},
   "outputs": [],
   "source": [
    "name = \"Qasim\"\n",
    "name"
   ]
  },
  {
   "cell_type": "code",
   "execution_count": null,
   "metadata": {},
   "outputs": [],
   "source": []
  },
  {
   "cell_type": "code",
   "execution_count": null,
   "metadata": {},
   "outputs": [],
   "source": [
    "name1 = \"A\"\n",
    "name2 = \"B\"\n",
    "name3 = \"C\"\n",
    "print(name1,name2,name3)"
   ]
  },
  {
   "cell_type": "code",
   "execution_count": null,
   "metadata": {},
   "outputs": [],
   "source": [
    "#        0    1   2\n",
    "names = [\"A\",\"B\",\"C\"]\n",
    "#        -3   -2  -1\n",
    "\n",
    "print(names[1])\n",
    "print(names[-2])"
   ]
  },
  {
   "cell_type": "code",
   "execution_count": null,
   "metadata": {},
   "outputs": [],
   "source": [
    "print(type(names))\n",
    "print(type(name1))"
   ]
  },
  {
   "cell_type": "code",
   "execution_count": null,
   "metadata": {},
   "outputs": [],
   "source": [
    "a = print('pakistan') #Non Return\n",
    "print(a)"
   ]
  },
  {
   "cell_type": "code",
   "execution_count": null,
   "metadata": {},
   "outputs": [],
   "source": [
    "a = len('kasdjflasjdfjalk') # Return Function\n",
    "print(a)"
   ]
  },
  {
   "cell_type": "code",
   "execution_count": null,
   "metadata": {},
   "outputs": [],
   "source": [
    "l1 = [] #empty list\n",
    "l1.append(\"A\") # [\"A\"]\n",
    "l1.append(\"B\") # [\"A\",\"B\"]\n",
    "l1.append(\"C\") # [\"A\",\"B\",\"C\"]\n",
    "\n",
    "print(l1)"
   ]
  },
  {
   "cell_type": "code",
   "execution_count": null,
   "metadata": {},
   "outputs": [],
   "source": [
    "print(l1)\n",
    "l1.clear()\n",
    "print(l1)"
   ]
  },
  {
   "cell_type": "code",
   "execution_count": null,
   "metadata": {},
   "outputs": [],
   "source": [
    "l1 = [\"a\",\"b\",\"c\"]\n",
    "print(l1)\n",
    "del l1\n",
    "print(l1)"
   ]
  },
  {
   "cell_type": "code",
   "execution_count": null,
   "metadata": {},
   "outputs": [],
   "source": [
    "l1 = ['A','B','C']\n",
    "l2 = l1 # Shallow Copy\n",
    "print(l1)\n",
    "print(l2)\n",
    "\n",
    "l2[0] = \"Pakistan\"\n",
    "print(l1)\n",
    "print(l2)\n"
   ]
  },
  {
   "cell_type": "code",
   "execution_count": null,
   "metadata": {},
   "outputs": [],
   "source": [
    "l1 = ['A','B','C']\n",
    "l2 = l1.copy() # Deep Copy\n",
    "print(l1)\n",
    "print(l2)\n",
    "\n",
    "l2[0] = \"Pakistan\"\n",
    "print(l1)\n",
    "print(l2)\n"
   ]
  },
  {
   "cell_type": "code",
   "execution_count": null,
   "metadata": {},
   "outputs": [],
   "source": [
    "l1 = ['A',\"B\",\"A\",\"C\",\"C\"]\n",
    "l1.count(\"C\")"
   ]
  },
  {
   "cell_type": "code",
   "execution_count": null,
   "metadata": {},
   "outputs": [],
   "source": [
    "l1 = ['A',\"B\",\"A\",\"C\",\"C\"]\n",
    "l1.count(\"D\")"
   ]
  },
  {
   "cell_type": "code",
   "execution_count": null,
   "metadata": {},
   "outputs": [],
   "source": [
    "l1 = ['A',\"B\",\"C\"]\n",
    "l2 = [\"Y\",\"X\",\"Z\"]\n",
    "\n",
    "print(l1 + l2) # Inline Operation\n",
    "print(l1,l2)"
   ]
  },
  {
   "cell_type": "code",
   "execution_count": null,
   "metadata": {},
   "outputs": [],
   "source": [
    "l1 = ['A',\"B\",\"C\"]\n",
    "l2 = [\"Y\",\"X\",\"Z\"]\n",
    "\n",
    "print(l1.__add__(l2)) # Inline Operation\n",
    "print(l1,l2)"
   ]
  },
  {
   "cell_type": "code",
   "execution_count": null,
   "metadata": {},
   "outputs": [],
   "source": [
    "l1 = ['A',\"B\",\"C\"]\n",
    "l2 = [\"Y\",\"X\",\"Z\"]\n",
    "\n",
    "l1.extend(l2) # In Memory Operation\n",
    "\n",
    "print(l1)\n",
    "print(l2)"
   ]
  },
  {
   "cell_type": "code",
   "execution_count": null,
   "metadata": {},
   "outputs": [],
   "source": [
    "print(l1)"
   ]
  },
  {
   "cell_type": "code",
   "execution_count": null,
   "metadata": {
    "scrolled": true
   },
   "outputs": [],
   "source": [
    "print(l1)\n",
    "print(l1.index(\"Y\"))"
   ]
  },
  {
   "cell_type": "code",
   "execution_count": null,
   "metadata": {},
   "outputs": [],
   "source": [
    "l1 = [\"A\",\"B\",\"C\",\"B\",\"A\"]\n",
    "print(l1.index(\"B\"))\n",
    "print(l1.index(\"B\", 2))"
   ]
  },
  {
   "cell_type": "code",
   "execution_count": null,
   "metadata": {},
   "outputs": [],
   "source": [
    "l1 = [\"A\",\"B\",\"C\",\"B\",\"A\",\"B\"]\n",
    "print(l1[l1.index(\"B\")])"
   ]
  },
  {
   "cell_type": "code",
   "execution_count": null,
   "metadata": {},
   "outputs": [],
   "source": [
    "l1 = [\"A\",\"B\",\"C\",\"B\",\"A\"]\n",
    "index = l1.index(\"B\")\n",
    "print(l1.index(\"B\",index ))"
   ]
  },
  {
   "cell_type": "code",
   "execution_count": null,
   "metadata": {},
   "outputs": [],
   "source": [
    "l1 = []\n",
    "l1.insert(0, \"A\")#[A]\n",
    "l1.insert(0, \"B\")#[B,A]\n",
    "l1.insert(0, \"C\")#[C,B,A]\n",
    "print(l1)\n",
    "l1.insert(1,\"D\")\n",
    "print(l1)"
   ]
  },
  {
   "cell_type": "code",
   "execution_count": null,
   "metadata": {},
   "outputs": [],
   "source": [
    "l1 = [\"A\",\"B\",\"C\"]\n",
    "\n",
    "del l1[-1] # [\"A\",\"B\"]\n",
    "del l1[-1] #[\"A\"]\n",
    "l1"
   ]
  },
  {
   "cell_type": "code",
   "execution_count": null,
   "metadata": {},
   "outputs": [],
   "source": [
    "l2 = []\n",
    "l1 = [\"A\",\"B\",\"C\",\"D\",\"E\"]\n",
    "\n",
    "a = l1.pop() # E\n",
    "l2.append(a) # [E]\n",
    "\n",
    "a = l1.pop() # D\n",
    "l2.append(a) # [E,D]\n",
    "\n",
    "a = l1.pop() # C\n",
    "l2.append(a)# [E,D,C]\n",
    "\n",
    "print(l1) # [A,B]\n",
    "print(l2) # [E,D,C]\n"
   ]
  },
  {
   "cell_type": "code",
   "execution_count": null,
   "metadata": {},
   "outputs": [],
   "source": [
    "l2 = []\n",
    "l1 = [\"A\",\"B\",\"C\",\"D\",\"E\"]\n",
    "\n",
    "a = l1.pop(1) # B\n",
    "l2.append(a) # [B]\n",
    "\n",
    "a = l1.pop(1) # C\n",
    "l2.append(a) # [B,C]\n",
    "\n",
    "a = l1.pop(1) # D\n",
    "l2.append(a)# [B,C,D]\n",
    "\n",
    "print(l1) \n",
    "print(l2) \n",
    "#.index(\"B\")"
   ]
  },
  {
   "cell_type": "code",
   "execution_count": null,
   "metadata": {},
   "outputs": [],
   "source": [
    "l1 = [\"A\",\"B\",\"C\",\"B\",\"E\"]\n",
    "print(l1.remove(\"B\"))\n",
    "print(l1)\n",
    "l1.remove(\"B\")\n",
    "print(l1)"
   ]
  },
  {
   "cell_type": "code",
   "execution_count": null,
   "metadata": {},
   "outputs": [],
   "source": [
    "l1 = [\"A\",\"B\",\"X\",\"C\",\"Y\",\"Z\"]\n",
    "print(l1)\n",
    "l1.reverse()\n",
    "print(l1)"
   ]
  },
  {
   "cell_type": "code",
   "execution_count": null,
   "metadata": {},
   "outputs": [],
   "source": [
    "l1 = [\"A\",\"B\",\"X\",\"C\",\"Y\",\"Z\"]\n",
    "print(l1)\n",
    "l1.sort()\n",
    "print(l1)"
   ]
  },
  {
   "cell_type": "code",
   "execution_count": null,
   "metadata": {},
   "outputs": [],
   "source": [
    "l1 = [\"A\",\"B\",\"X\",\"C\",\"Y\",\"Z\"]\n",
    "print(l1)\n",
    "l1.sort()\n",
    "l1.reverse()\n",
    "print(l1)"
   ]
  },
  {
   "cell_type": "code",
   "execution_count": null,
   "metadata": {},
   "outputs": [],
   "source": [
    "l1 = [\"A\",\"B\",\"X\",\"C\",\"Y\",\"Z\"]\n",
    "print(l1)\n",
    "l1.sort(reverse=True)\n",
    "print(l1)"
   ]
  },
  {
   "cell_type": "code",
   "execution_count": null,
   "metadata": {},
   "outputs": [],
   "source": [
    "l1 = [\"A\",\"B\",\"C\"]\n",
    "l2 = [\"X\",\"Z\"]\n",
    "\n",
    "print(l1,l2)\n",
    "print(l1.__add__(l2)) # Inline Operation\n",
    "print(l1,l2)"
   ]
  },
  {
   "cell_type": "code",
   "execution_count": null,
   "metadata": {},
   "outputs": [],
   "source": [
    "print(l1)\n",
    "l1.__class__"
   ]
  },
  {
   "cell_type": "code",
   "execution_count": null,
   "metadata": {},
   "outputs": [],
   "source": [
    "print(l1)\n",
    "l1.__contains__(\"A\")"
   ]
  },
  {
   "cell_type": "code",
   "execution_count": null,
   "metadata": {},
   "outputs": [],
   "source": [
    "l1 = [\"A\",\"B\",\"C\"]\n",
    "l1.__delitem__(1)\n",
    "l1"
   ]
  },
  {
   "cell_type": "code",
   "execution_count": null,
   "metadata": {},
   "outputs": [],
   "source": [
    "l1.__doc__"
   ]
  },
  {
   "cell_type": "code",
   "execution_count": null,
   "metadata": {},
   "outputs": [],
   "source": [
    "#[1,2,3]\n",
    "#[1,2,3]\n",
    "# True\n",
    "[1,2,3].__eq__([3,2,1])\n",
    "\n"
   ]
  },
  {
   "cell_type": "code",
   "execution_count": null,
   "metadata": {},
   "outputs": [],
   "source": [
    "#5,7,9\n",
    "#1,2,4\n",
    "[5,7,9].__ge__([1,2,3])"
   ]
  },
  {
   "cell_type": "code",
   "execution_count": null,
   "metadata": {},
   "outputs": [],
   "source": [
    "['A'].__mul__(2)"
   ]
  },
  {
   "cell_type": "code",
   "execution_count": null,
   "metadata": {},
   "outputs": [],
   "source": [
    "['A'] * 2"
   ]
  },
  {
   "cell_type": "code",
   "execution_count": null,
   "metadata": {},
   "outputs": [],
   "source": [
    "['A'].__sizeof__()"
   ]
  },
  {
   "cell_type": "code",
   "execution_count": null,
   "metadata": {},
   "outputs": [],
   "source": [
    "['A'].__sizeof__"
   ]
  },
  {
   "cell_type": "markdown",
   "metadata": {},
   "source": [
    "# Tuple"
   ]
  },
  {
   "cell_type": "code",
   "execution_count": 1,
   "metadata": {},
   "outputs": [
    {
     "name": "stdout",
     "output_type": "stream",
     "text": [
      "['A', 'ZZ', 'C']\n"
     ]
    }
   ],
   "source": [
    "l1 = [\"A\",\"B\",\"C\"]\n",
    "l1[1]=\"ZZ\"\n",
    "print(l1)"
   ]
  },
  {
   "cell_type": "code",
   "execution_count": 2,
   "metadata": {},
   "outputs": [
    {
     "ename": "TypeError",
     "evalue": "'tuple' object does not support item assignment",
     "output_type": "error",
     "traceback": [
      "\u001b[1;31m---------------------------------------------------------------------------\u001b[0m",
      "\u001b[1;31mTypeError\u001b[0m                                 Traceback (most recent call last)",
      "\u001b[1;32m<ipython-input-2-daea9c302d42>\u001b[0m in \u001b[0;36m<module>\u001b[1;34m\u001b[0m\n\u001b[0;32m      1\u001b[0m \u001b[0ml1\u001b[0m \u001b[1;33m=\u001b[0m \u001b[1;33m(\u001b[0m\u001b[1;34m\"A\"\u001b[0m\u001b[1;33m,\u001b[0m\u001b[1;34m\"B\"\u001b[0m\u001b[1;33m,\u001b[0m\u001b[1;34m\"C\"\u001b[0m\u001b[1;33m)\u001b[0m\u001b[1;33m\u001b[0m\u001b[1;33m\u001b[0m\u001b[0m\n\u001b[1;32m----> 2\u001b[1;33m \u001b[0ml1\u001b[0m\u001b[1;33m[\u001b[0m\u001b[1;36m1\u001b[0m\u001b[1;33m]\u001b[0m \u001b[1;33m=\u001b[0m \u001b[1;36m5\u001b[0m\u001b[1;33m\u001b[0m\u001b[1;33m\u001b[0m\u001b[0m\n\u001b[0m\u001b[0;32m      3\u001b[0m \u001b[0mprint\u001b[0m\u001b[1;33m(\u001b[0m\u001b[0ml1\u001b[0m\u001b[1;33m)\u001b[0m\u001b[1;33m\u001b[0m\u001b[1;33m\u001b[0m\u001b[0m\n",
      "\u001b[1;31mTypeError\u001b[0m: 'tuple' object does not support item assignment"
     ]
    }
   ],
   "source": [
    "l1 = (\"A\",\"B\",\"C\")\n",
    "l1[1] = 5\n",
    "print(l1)\n"
   ]
  },
  {
   "cell_type": "code",
   "execution_count": 3,
   "metadata": {},
   "outputs": [
    {
     "name": "stdout",
     "output_type": "stream",
     "text": [
      "('A', 5, 'C')\n"
     ]
    }
   ],
   "source": [
    "l1 = (\"A\",\"B\",\"C\")\n",
    "l1 = (\"A\",5,\"C\")\n",
    "print(l1)"
   ]
  },
  {
   "cell_type": "code",
   "execution_count": null,
   "metadata": {},
   "outputs": [],
   "source": []
  },
  {
   "cell_type": "code",
   "execution_count": null,
   "metadata": {},
   "outputs": [],
   "source": []
  },
  {
   "cell_type": "code",
   "execution_count": null,
   "metadata": {},
   "outputs": [],
   "source": []
  },
  {
   "cell_type": "code",
   "execution_count": null,
   "metadata": {},
   "outputs": [],
   "source": []
  },
  {
   "cell_type": "code",
   "execution_count": null,
   "metadata": {},
   "outputs": [],
   "source": []
  },
  {
   "cell_type": "code",
   "execution_count": null,
   "metadata": {},
   "outputs": [],
   "source": [
    "help(list)"
   ]
  },
  {
   "cell_type": "code",
   "execution_count": null,
   "metadata": {},
   "outputs": [],
   "source": [
    "print(len(dir(list)))\n",
    "dir(list)"
   ]
  },
  {
   "cell_type": "markdown",
   "metadata": {},
   "source": [
    "# Loop"
   ]
  },
  {
   "cell_type": "code",
   "execution_count": 4,
   "metadata": {},
   "outputs": [
    {
     "data": {
      "text/plain": [
       "'A A A A A A A A A A '"
      ]
     },
     "execution_count": 4,
     "metadata": {},
     "output_type": "execute_result"
    }
   ],
   "source": [
    "\"A \" * 10"
   ]
  },
  {
   "cell_type": "raw",
   "metadata": {},
   "source": [
    "# Counter\n",
    "# Logic\n",
    "# Increment / Decrement"
   ]
  },
  {
   "cell_type": "code",
   "execution_count": 5,
   "metadata": {},
   "outputs": [
    {
     "name": "stdout",
     "output_type": "stream",
     "text": [
      "line no 1\n",
      "line no 2\n",
      "line no 3\n",
      "line no 4\n",
      "line no 5\n",
      "line no 6\n",
      "line no 7\n",
      "line no 8\n",
      "line no 9\n",
      "line no 10\n"
     ]
    }
   ],
   "source": [
    "counter = 1 # Counter\n",
    "\n",
    "while counter <= 10: #Logic\n",
    "    print(\"line no\",counter)\n",
    "    counter += 1 # Increment"
   ]
  },
  {
   "cell_type": "code",
   "execution_count": 6,
   "metadata": {},
   "outputs": [
    {
     "name": "stdout",
     "output_type": "stream",
     "text": [
      "line no 1000\n",
      "line no 999\n",
      "line no 998\n",
      "line no 997\n",
      "line no 996\n",
      "line no 995\n",
      "line no 994\n",
      "line no 993\n",
      "line no 992\n",
      "line no 991\n",
      "line no 990\n"
     ]
    }
   ],
   "source": [
    "counter = 1000# Counter\n",
    "\n",
    "while counter >= 990: #Logic\n",
    "    print(\"line no\",counter)\n",
    "    counter -= 1 # Decrement"
   ]
  },
  {
   "cell_type": "raw",
   "metadata": {},
   "source": [
    "for(counter; logic; increment){\n",
    "    statment;\n",
    "}"
   ]
  },
  {
   "cell_type": "code",
   "execution_count": 8,
   "metadata": {},
   "outputs": [
    {
     "data": {
      "text/plain": [
       "range(1, 11)"
      ]
     },
     "execution_count": 8,
     "metadata": {},
     "output_type": "execute_result"
    }
   ],
   "source": [
    "x = range(1,11)\n",
    "x"
   ]
  },
  {
   "cell_type": "code",
   "execution_count": 9,
   "metadata": {},
   "outputs": [
    {
     "name": "stdout",
     "output_type": "stream",
     "text": [
      "1\n",
      "2\n",
      "3\n",
      "4\n",
      "5\n",
      "6\n",
      "7\n",
      "8\n",
      "9\n",
      "10\n"
     ]
    }
   ],
   "source": [
    "for i in range(1,11):\n",
    "    print(i)"
   ]
  },
  {
   "cell_type": "code",
   "execution_count": 10,
   "metadata": {},
   "outputs": [
    {
     "name": "stdout",
     "output_type": "stream",
     "text": [
      "1000\n",
      "999\n",
      "998\n",
      "997\n",
      "996\n",
      "995\n",
      "994\n",
      "993\n",
      "992\n",
      "991\n"
     ]
    }
   ],
   "source": [
    "for i in range(1000,990,-1):\n",
    "    print(i)"
   ]
  },
  {
   "cell_type": "code",
   "execution_count": 13,
   "metadata": {},
   "outputs": [
    {
     "name": "stdout",
     "output_type": "stream",
     "text": [
      "2 X 1 = 2\n",
      "2 X 2 = 4\n",
      "2 X 3 = 6\n",
      "2 X 4 = 8\n",
      "2 X 5 = 10\n",
      "2 X 6 = 12\n",
      "2 X 7 = 14\n",
      "2 X 8 = 16\n",
      "2 X 9 = 18\n",
      "2 X 10 = 20\n"
     ]
    }
   ],
   "source": [
    "for i in range(1,11):\n",
    "    #print(2,\"X\",i,\"=\",i*2)\n",
    "    #print(\"2 X \"+str(i)+\" = \"+str(i*2))\n",
    "    print(f\"2 X {i} = {i*2}\")"
   ]
  },
  {
   "cell_type": "code",
   "execution_count": 14,
   "metadata": {},
   "outputs": [
    {
     "name": "stdout",
     "output_type": "stream",
     "text": [
      "2 X 10 = 20\n",
      "2 X 9 = 18\n",
      "2 X 8 = 16\n",
      "2 X 7 = 14\n",
      "2 X 6 = 12\n",
      "2 X 5 = 10\n",
      "2 X 4 = 8\n",
      "2 X 3 = 6\n",
      "2 X 2 = 4\n",
      "2 X 1 = 2\n"
     ]
    }
   ],
   "source": [
    "for i in range(10,0,-1):\n",
    "    #print(2,\"X\",i,\"=\",i*2)\n",
    "    #print(\"2 X \"+str(i)+\" = \"+str(i*2))\n",
    "    print(f\"2 X {i} = {i*2}\")"
   ]
  },
  {
   "cell_type": "code",
   "execution_count": 15,
   "metadata": {},
   "outputs": [
    {
     "name": "stdout",
     "output_type": "stream",
     "text": [
      "Enter no5\n",
      "1 X 1 = 1\n",
      "1 X 2 = 2\n",
      "1 X 3 = 3\n",
      "1 X 4 = 4\n",
      "1 X 5 = 5\n",
      "1 X 6 = 6\n",
      "1 X 7 = 7\n",
      "1 X 8 = 8\n",
      "1 X 9 = 9\n",
      "1 X 10 = 10\n",
      "2 X 1 = 2\n",
      "2 X 2 = 4\n",
      "2 X 3 = 6\n",
      "2 X 4 = 8\n",
      "2 X 5 = 10\n",
      "2 X 6 = 12\n",
      "2 X 7 = 14\n",
      "2 X 8 = 16\n",
      "2 X 9 = 18\n",
      "2 X 10 = 20\n",
      "3 X 1 = 3\n",
      "3 X 2 = 6\n",
      "3 X 3 = 9\n",
      "3 X 4 = 12\n",
      "3 X 5 = 15\n",
      "3 X 6 = 18\n",
      "3 X 7 = 21\n",
      "3 X 8 = 24\n",
      "3 X 9 = 27\n",
      "3 X 10 = 30\n",
      "4 X 1 = 4\n",
      "4 X 2 = 8\n",
      "4 X 3 = 12\n",
      "4 X 4 = 16\n",
      "4 X 5 = 20\n",
      "4 X 6 = 24\n",
      "4 X 7 = 28\n",
      "4 X 8 = 32\n",
      "4 X 9 = 36\n",
      "4 X 10 = 40\n",
      "5 X 1 = 5\n",
      "5 X 2 = 10\n",
      "5 X 3 = 15\n",
      "5 X 4 = 20\n",
      "5 X 5 = 25\n",
      "5 X 6 = 30\n",
      "5 X 7 = 35\n",
      "5 X 8 = 40\n",
      "5 X 9 = 45\n",
      "5 X 10 = 50\n"
     ]
    }
   ],
   "source": [
    "#user = int(input(\"Enter no\"))\n",
    "user = input(\"Enter no\")\n",
    "user = int(user)\n",
    "for t in range(1, user+1): #4+1 =5\n",
    "    for n in range(1,11):\n",
    "        print(f\"{t} X {n} = {t*n}\")"
   ]
  },
  {
   "cell_type": "code",
   "execution_count": null,
   "metadata": {},
   "outputs": [],
   "source": [
    "1 X 1 = 1   2 X 1 = 2\n",
    "1 X 2 = 2   2 X 2 = 4\n",
    "1 X 3 = 3   2 X 3 = 1\n",
    "1 X 4 = 4   2 X 4 = 1\n",
    "1 X 5 = 5   2 X 5 = 1\n",
    "1 X 6 = 6   2 X 6 = 1\n",
    "1 X 7 = 7   2 X 7 = 1\n",
    "1 X 8 = 8   2 X 8 = 1\n",
    "1 X 9 = 9   2 X 8 = 1\n",
    "1 X 10 = 10 2 X 10 = 20"
   ]
  },
  {
   "cell_type": "code",
   "execution_count": 16,
   "metadata": {},
   "outputs": [
    {
     "name": "stdout",
     "output_type": "stream",
     "text": [
      "Enter no5\n",
      "1 X 1 = 1\t2 X 1 = 2\t3 X 1 = 3\t4 X 1 = 4\t5 X 1 = 5\t\n",
      "1 X 2 = 2\t2 X 2 = 4\t3 X 2 = 6\t4 X 2 = 8\t5 X 2 = 10\t\n",
      "1 X 3 = 3\t2 X 3 = 6\t3 X 3 = 9\t4 X 3 = 12\t5 X 3 = 15\t\n",
      "1 X 4 = 4\t2 X 4 = 8\t3 X 4 = 12\t4 X 4 = 16\t5 X 4 = 20\t\n",
      "1 X 5 = 5\t2 X 5 = 10\t3 X 5 = 15\t4 X 5 = 20\t5 X 5 = 25\t\n",
      "1 X 6 = 6\t2 X 6 = 12\t3 X 6 = 18\t4 X 6 = 24\t5 X 6 = 30\t\n",
      "1 X 7 = 7\t2 X 7 = 14\t3 X 7 = 21\t4 X 7 = 28\t5 X 7 = 35\t\n",
      "1 X 8 = 8\t2 X 8 = 16\t3 X 8 = 24\t4 X 8 = 32\t5 X 8 = 40\t\n",
      "1 X 9 = 9\t2 X 9 = 18\t3 X 9 = 27\t4 X 9 = 36\t5 X 9 = 45\t\n",
      "1 X 10 = 10\t2 X 10 = 20\t3 X 10 = 30\t4 X 10 = 40\t5 X 10 = 50\t\n"
     ]
    }
   ],
   "source": [
    "u = int(input(\"Enter no\"))\n",
    "\n",
    "for r in range(1,11):\n",
    "    for c in range(1, u+1):\n",
    "        print(f\"{c} X {r} = {c*r}\", end=\"\\t\")\n",
    "    print()"
   ]
  },
  {
   "cell_type": "code",
   "execution_count": 4,
   "metadata": {},
   "outputs": [
    {
     "data": {
      "text/plain": [
       "[[1, 'Qasim', '1545454523!!'],\n",
       " [2, 'Ali', '1454545453!!'],\n",
       " [3, 'Ahmed', '14578787873!!'],\n",
       " [4, 'Aslam,', '1979797987878!!']]"
      ]
     },
     "execution_count": 4,
     "metadata": {},
     "output_type": "execute_result"
    }
   ],
   "source": [
    "users = [[1,'Qasim','1545454523!!'],\n",
    "        [2,'Ali','1454545453!!'],\n",
    "       [3,'Ahmed','14578787873!!'],\n",
    "       [4,'Aslam,','1979797987878!!']]\n",
    "#Task\n",
    "#Use loop to check if user exist in our list  make \n",
    "#sure name and password is same if condition is true the print valid user "
   ]
  },
  {
   "cell_type": "code",
   "execution_count": null,
   "metadata": {},
   "outputs": [],
   "source": [
    "0315-2968211"
   ]
  }
 ],
 "metadata": {
  "kernelspec": {
   "display_name": "Python 3",
   "language": "python",
   "name": "python3"
  },
  "language_info": {
   "codemirror_mode": {
    "name": "ipython",
    "version": 3
   },
   "file_extension": ".py",
   "mimetype": "text/x-python",
   "name": "python",
   "nbconvert_exporter": "python",
   "pygments_lexer": "ipython3",
   "version": "3.7.6"
  }
 },
 "nbformat": 4,
 "nbformat_minor": 2
}
