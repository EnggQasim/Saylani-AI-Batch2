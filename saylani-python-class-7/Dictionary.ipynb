{
 "cells": [
  {
   "cell_type": "code",
   "execution_count": 1,
   "metadata": {},
   "outputs": [
    {
     "data": {
      "text/plain": [
       "[20, 'Ali', 'A.I']"
      ]
     },
     "execution_count": 1,
     "metadata": {},
     "output_type": "execute_result"
    }
   ],
   "source": [
    "#     0    1     2     Positive index\n",
    "l1 = [20,\"Ali\",'A.I']\n",
    "#     -3  -2     -1\n",
    "\n",
    "#list[element1,element2,...]\n",
    "#list[index]\n",
    "l1"
   ]
  },
  {
   "cell_type": "markdown",
   "metadata": {},
   "source": [
    "# Dictionary"
   ]
  },
  {
   "cell_type": "raw",
   "metadata": {},
   "source": [
    "#key:value = item\n",
    "\n",
    "# {key1:value1,\n",
    "# key2: value2,...}\n",
    "\n",
    "#dict[key]"
   ]
  },
  {
   "cell_type": "code",
   "execution_count": 2,
   "metadata": {},
   "outputs": [
    {
     "data": {
      "text/plain": [
       "{'id': 20, 'name': 'Ali', 'course': 'A.I'}"
      ]
     },
     "execution_count": 2,
     "metadata": {},
     "output_type": "execute_result"
    }
   ],
   "source": [
    "{'id':20,\n",
    "'name':\"Ali\",\n",
    "\"course\":\"A.I\"}"
   ]
  },
  {
   "cell_type": "code",
   "execution_count": null,
   "metadata": {},
   "outputs": [],
   "source": []
  },
  {
   "cell_type": "code",
   "execution_count": 3,
   "metadata": {},
   "outputs": [
    {
     "data": {
      "text/plain": [
       "{'id': 20, 'name': 'Ali', 'course': 'A.I'}"
      ]
     },
     "execution_count": 3,
     "metadata": {},
     "output_type": "execute_result"
    }
   ],
   "source": [
    "d1 = {'id':20,\n",
    "    'name':\"Ali\",\n",
    "    \"course\":\"A.I\"}\n",
    "d1"
   ]
  },
  {
   "cell_type": "code",
   "execution_count": 4,
   "metadata": {},
   "outputs": [
    {
     "data": {
      "text/plain": [
       "{'id': 200, 'name': 'Qasim', 'course': 'A.I'}"
      ]
     },
     "execution_count": 4,
     "metadata": {},
     "output_type": "execute_result"
    }
   ],
   "source": [
    "d1 = {} #empty dictionary\n",
    "\n",
    "d1['id'] = 200\n",
    "d1['name'] = \"Qasim\"\n",
    "d1['course']=\"A.I\"\n",
    "\n",
    "d1"
   ]
  },
  {
   "cell_type": "code",
   "execution_count": 5,
   "metadata": {},
   "outputs": [
    {
     "name": "stdout",
     "output_type": "stream",
     "text": [
      "{'id': 200, 'name': 'Qasim', 'course': 'A.I'}\n",
      "{}\n"
     ]
    }
   ],
   "source": [
    "d1 = {'id': 200, 'name': 'Qasim', 'course': 'A.I'}\n",
    "print(d1)\n",
    "d1.clear() # In Memory, Empty Dictionary\n",
    "print(d1)"
   ]
  },
  {
   "cell_type": "code",
   "execution_count": 6,
   "metadata": {},
   "outputs": [
    {
     "name": "stdout",
     "output_type": "stream",
     "text": [
      "{'id': 200, 'name': 'Qasim', 'course': 'A.I'}\n"
     ]
    },
    {
     "ename": "NameError",
     "evalue": "name 'd1' is not defined",
     "output_type": "error",
     "traceback": [
      "\u001b[1;31m---------------------------------------------------------------------------\u001b[0m",
      "\u001b[1;31mNameError\u001b[0m                                 Traceback (most recent call last)",
      "\u001b[1;32m<ipython-input-6-137c13f3293e>\u001b[0m in \u001b[0;36m<module>\u001b[1;34m\u001b[0m\n\u001b[0;32m      2\u001b[0m \u001b[0mprint\u001b[0m\u001b[1;33m(\u001b[0m\u001b[0md1\u001b[0m\u001b[1;33m)\u001b[0m\u001b[1;33m\u001b[0m\u001b[1;33m\u001b[0m\u001b[0m\n\u001b[0;32m      3\u001b[0m \u001b[1;32mdel\u001b[0m \u001b[0md1\u001b[0m\u001b[1;33m\u001b[0m\u001b[1;33m\u001b[0m\u001b[0m\n\u001b[1;32m----> 4\u001b[1;33m \u001b[0mprint\u001b[0m\u001b[1;33m(\u001b[0m\u001b[0md1\u001b[0m\u001b[1;33m)\u001b[0m\u001b[1;33m\u001b[0m\u001b[1;33m\u001b[0m\u001b[0m\n\u001b[0m",
      "\u001b[1;31mNameError\u001b[0m: name 'd1' is not defined"
     ]
    }
   ],
   "source": [
    "d1 = {'id': 200, 'name': 'Qasim', 'course': 'A.I'}\n",
    "print(d1)\n",
    "del d1\n",
    "print(d1)"
   ]
  },
  {
   "cell_type": "code",
   "execution_count": 7,
   "metadata": {},
   "outputs": [
    {
     "name": "stdout",
     "output_type": "stream",
     "text": [
      "{'id': 200, 'name': 'Qasim', 'course': 'A.I'}\n",
      "{'id': 500, 'name': 'Qasim', 'course': 'A.I'}\n",
      "{'id': 200, 'name': 'Qasim', 'course': 'A.I'}\n"
     ]
    }
   ],
   "source": [
    "d1 = {'id': 200, 'name': 'Qasim', 'course': 'A.I'}\n",
    "print(d1)\n",
    "d2 = d1.copy()\n",
    "d1['id']=500\n",
    "print(d1)\n",
    "print(d2)"
   ]
  },
  {
   "cell_type": "code",
   "execution_count": 8,
   "metadata": {},
   "outputs": [
    {
     "data": {
      "text/plain": [
       "{'name': None, 'course': None, 'timing': None, 'address': None}"
      ]
     },
     "execution_count": 8,
     "metadata": {},
     "output_type": "execute_result"
    }
   ],
   "source": [
    "l1 = ['name','course','timing','address']\n",
    "\n",
    "d1 = dict.fromkeys(l1)\n",
    "d1"
   ]
  },
  {
   "cell_type": "code",
   "execution_count": 9,
   "metadata": {},
   "outputs": [
    {
     "data": {
      "text/plain": [
       "{'name': 'NAN', 'course': 'NAN', 'timing': 'NAN', 'address': 'NAN'}"
      ]
     },
     "execution_count": 9,
     "metadata": {},
     "output_type": "execute_result"
    }
   ],
   "source": [
    "l1 = ['name','course','timing','address']\n",
    "\n",
    "d1 = dict.fromkeys(l1,'NAN')\n",
    "d1"
   ]
  },
  {
   "cell_type": "code",
   "execution_count": 11,
   "metadata": {},
   "outputs": [
    {
     "data": {
      "text/plain": [
       "dict"
      ]
     },
     "execution_count": 11,
     "metadata": {},
     "output_type": "execute_result"
    }
   ],
   "source": [
    "type(dict())"
   ]
  },
  {
   "cell_type": "raw",
   "metadata": {},
   "source": [
    "a,b,c,d\n",
    "{a:none, b:none, c:none, d:none}"
   ]
  },
  {
   "cell_type": "code",
   "execution_count": 12,
   "metadata": {},
   "outputs": [
    {
     "name": "stdout",
     "output_type": "stream",
     "text": [
      "Enter Keys for Dictionaryid,name,class,age\n",
      "id,name,class,age\n",
      "['id', 'name', 'class', 'age']\n",
      "{}\n"
     ]
    },
    {
     "data": {
      "text/plain": [
       "{'id': None, 'name': None, 'class': None, 'age': None}"
      ]
     },
     "execution_count": 12,
     "metadata": {},
     "output_type": "execute_result"
    }
   ],
   "source": [
    "a = input(\"Enter Keys for Dictionary\")\n",
    "print(a)\n",
    "a = a.split(\",\")\n",
    "print(a)\n",
    "\n",
    "d1 = {}\n",
    "print(d1)\n",
    "\n",
    "for k in a:\n",
    "    d1[k] = None\n",
    "    \n",
    "d1    "
   ]
  },
  {
   "cell_type": "code",
   "execution_count": 13,
   "metadata": {},
   "outputs": [
    {
     "name": "stdout",
     "output_type": "stream",
     "text": [
      "Enter Keys: id,name,class,newColumn\n"
     ]
    },
    {
     "data": {
      "text/plain": [
       "{'id': None, 'name': None, 'class': None, 'newColumn': None}"
      ]
     },
     "execution_count": 13,
     "metadata": {},
     "output_type": "execute_result"
    }
   ],
   "source": [
    "a = input(\"Enter Keys: \").split(',')\n",
    "dict.fromkeys(a)"
   ]
  },
  {
   "cell_type": "code",
   "execution_count": null,
   "metadata": {},
   "outputs": [],
   "source": [
    "l1 = [a,b,c]\n",
    "l2 = [x,y,z]\n",
    "\n",
    "{a:x, b:y, c:z}"
   ]
  },
  {
   "cell_type": "code",
   "execution_count": 14,
   "metadata": {},
   "outputs": [
    {
     "name": "stdout",
     "output_type": "stream",
     "text": [
      "Kesyid,name\n",
      "values45,abc\n"
     ]
    },
    {
     "data": {
      "text/plain": [
       "{'id': '45', 'name': 'abc'}"
      ]
     },
     "execution_count": 14,
     "metadata": {},
     "output_type": "execute_result"
    }
   ],
   "source": [
    "a = input(\"Kesy\").split(\",\")\n",
    "b = input(\"values\").split(\",\")\n",
    "\n",
    "d1 = {}\n",
    "for i in range(len(a)):\n",
    "    d1[a[i]] = b[i]\n",
    "    \n",
    "d1    \n",
    "    "
   ]
  },
  {
   "cell_type": "code",
   "execution_count": 16,
   "metadata": {},
   "outputs": [
    {
     "data": {
      "text/plain": [
       "[(2, 'a', 'x'), (5, 'b', 'y'), (6, 'c', 'z')]"
      ]
     },
     "execution_count": 16,
     "metadata": {},
     "output_type": "execute_result"
    }
   ],
   "source": [
    "ids = [2,5,6]\n",
    "name = ['a','b','c']\n",
    "course = ['x','y','z']\n",
    "database = zip(ids,name,course)\n",
    "list(database)"
   ]
  },
  {
   "cell_type": "code",
   "execution_count": 17,
   "metadata": {},
   "outputs": [
    {
     "name": "stdout",
     "output_type": "stream",
     "text": [
      "Kesyid,name,age\n",
      "values4,isfhan,45\n"
     ]
    },
    {
     "data": {
      "text/plain": [
       "{'id': '4', 'name': 'isfhan', 'age': '45'}"
      ]
     },
     "execution_count": 17,
     "metadata": {},
     "output_type": "execute_result"
    }
   ],
   "source": [
    "a = input(\"Kesy\").split(\",\")\n",
    "b = input(\"values\").split(\",\")\n",
    "\n",
    "c = zip(a,b)\n",
    "\n",
    "d1 = dict(c)\n",
    "d1"
   ]
  },
  {
   "cell_type": "code",
   "execution_count": 18,
   "metadata": {},
   "outputs": [
    {
     "data": {
      "text/plain": [
       "[(1, 'A'), (2, 'B'), (3, 'C')]"
      ]
     },
     "execution_count": 18,
     "metadata": {},
     "output_type": "execute_result"
    }
   ],
   "source": [
    "a = [1,2,3]\n",
    "b = [\"A\",\"B\",\"C\"]\n",
    "\n",
    "list(zip(a,b))"
   ]
  },
  {
   "cell_type": "code",
   "execution_count": null,
   "metadata": {},
   "outputs": [],
   "source": []
  },
  {
   "cell_type": "code",
   "execution_count": 19,
   "metadata": {},
   "outputs": [
    {
     "name": "stdout",
     "output_type": "stream",
     "text": [
      "Enter Keysid,name,class\n",
      "Enter Values4,isfhan,ai\n",
      "{'id': '4', 'name': 'isfhan', 'class': 'ai'}\n"
     ]
    }
   ],
   "source": [
    "d2= {}\n",
    "keys = input(\"Enter Keys\").split(',')\n",
    "values = input(\"Enter Values\").split(',')\n",
    "d1 = dict.fromkeys(keys)\n",
    "ind = 0\n",
    "for ele in d1:\n",
    "    d2[ele] = values[ind]\n",
    "    ind = ind+1\n",
    "print(d2)"
   ]
  },
  {
   "cell_type": "raw",
   "metadata": {},
   "source": [
    "{\n",
    "    id:2\n",
    "    name:ajdfk\n",
    "    skills : [c,c++,python,..]\n",
    "}"
   ]
  },
  {
   "cell_type": "code",
   "execution_count": 21,
   "metadata": {},
   "outputs": [
    {
     "name": "stdout",
     "output_type": "stream",
     "text": [
      "id4\n",
      "Nameisfhan\n",
      "Skillsphp,js,react,vue,laravel,p5.js\n"
     ]
    },
    {
     "data": {
      "text/plain": [
       "{'id': '4',\n",
       " 'name': 'isfhan',\n",
       " 'skills': ['php', 'js', 'react', 'vue', 'laravel', 'p5.js']}"
      ]
     },
     "execution_count": 21,
     "metadata": {},
     "output_type": "execute_result"
    }
   ],
   "source": [
    "d1 = {\n",
    "    'id':input(\"id\"),\n",
    "    'name':input(\"Name\"),\n",
    "    'skills': input(\"Skills\").split(\",\")\n",
    "}\n",
    "d1"
   ]
  },
  {
   "cell_type": "code",
   "execution_count": 22,
   "metadata": {},
   "outputs": [
    {
     "ename": "KeyError",
     "evalue": "'CNIC'",
     "output_type": "error",
     "traceback": [
      "\u001b[1;31m---------------------------------------------------------------------------\u001b[0m",
      "\u001b[1;31mKeyError\u001b[0m                                  Traceback (most recent call last)",
      "\u001b[1;32m<ipython-input-22-78ac97ceb144>\u001b[0m in \u001b[0;36m<module>\u001b[1;34m\u001b[0m\n\u001b[0;32m      1\u001b[0m \u001b[0md1\u001b[0m \u001b[1;33m=\u001b[0m\u001b[1;33m{\u001b[0m\u001b[1;34m'id'\u001b[0m\u001b[1;33m:\u001b[0m \u001b[1;34m'200'\u001b[0m\u001b[1;33m,\u001b[0m \u001b[1;34m'name'\u001b[0m\u001b[1;33m:\u001b[0m \u001b[1;34m'Ali'\u001b[0m\u001b[1;33m,\u001b[0m \u001b[1;34m'skills'\u001b[0m\u001b[1;33m:\u001b[0m \u001b[1;33m[\u001b[0m\u001b[1;34m'a'\u001b[0m\u001b[1;33m,\u001b[0m \u001b[1;34m'b'\u001b[0m\u001b[1;33m,\u001b[0m \u001b[1;34m'c'\u001b[0m\u001b[1;33m,\u001b[0m \u001b[1;34m'd'\u001b[0m\u001b[1;33m]\u001b[0m\u001b[1;33m}\u001b[0m\u001b[1;33m\u001b[0m\u001b[1;33m\u001b[0m\u001b[0m\n\u001b[1;32m----> 2\u001b[1;33m \u001b[0md1\u001b[0m\u001b[1;33m[\u001b[0m\u001b[1;34m'CNIC'\u001b[0m\u001b[1;33m]\u001b[0m\u001b[1;33m\u001b[0m\u001b[1;33m\u001b[0m\u001b[0m\n\u001b[0m",
      "\u001b[1;31mKeyError\u001b[0m: 'CNIC'"
     ]
    }
   ],
   "source": [
    "d1 ={'id': '200', 'name': 'Ali', 'skills': ['a', 'b', 'c', 'd']}\n",
    "d1['CNIC']"
   ]
  },
  {
   "cell_type": "code",
   "execution_count": 23,
   "metadata": {},
   "outputs": [
    {
     "data": {
      "text/plain": [
       "'Ali'"
      ]
     },
     "execution_count": 23,
     "metadata": {},
     "output_type": "execute_result"
    }
   ],
   "source": [
    "d1 ={'id': '200', 'name': 'Ali', 'skills': ['a', 'b', 'c', 'd']}\n",
    "d1.get('name')"
   ]
  },
  {
   "cell_type": "code",
   "execution_count": 28,
   "metadata": {},
   "outputs": [
    {
     "name": "stdout",
     "output_type": "stream",
     "text": [
      "Not available\n",
      "{'id': '200', 'name': 'Ali', 'skills': ['a', 'b', 'c', 'd']}\n"
     ]
    }
   ],
   "source": [
    "d1 ={'id': '200', 'name': 'Ali', 'skills': ['a', 'b', 'c', 'd']}\n",
    "print(d1.get('CNIC',\"Not available\"))\n",
    "print(d1)"
   ]
  },
  {
   "cell_type": "code",
   "execution_count": 29,
   "metadata": {},
   "outputs": [
    {
     "name": "stdout",
     "output_type": "stream",
     "text": [
      "[('id', '200'), ('name', 'Ali'), ('skills', ['a', 'b', 'c', 'd'])]\n",
      "['id', 'name', 'skills']\n",
      "['200', 'Ali', ['a', 'b', 'c', 'd']]\n"
     ]
    }
   ],
   "source": [
    "print(list(d1.items()))\n",
    "print(list(d1.keys()))\n",
    "print(list(d1.values()))\n"
   ]
  },
  {
   "cell_type": "code",
   "execution_count": 30,
   "metadata": {
    "scrolled": false
   },
   "outputs": [
    {
     "name": "stdout",
     "output_type": "stream",
     "text": [
      "{'id': '200', 'name': 'Ali', 'skills': ['a', 'b', 'c', 'd']}\n",
      "200\n",
      "{'name': 'Ali', 'skills': ['a', 'b', 'c', 'd']}\n"
     ]
    }
   ],
   "source": [
    "d1 ={'id': '200', 'name': 'Ali', 'skills': ['a', 'b', 'c', 'd']}\n",
    "\n",
    "print(d1)\n",
    "# pop will remove item \n",
    "print(d1.pop('id'))\n",
    "print(d1)"
   ]
  },
  {
   "cell_type": "code",
   "execution_count": 31,
   "metadata": {},
   "outputs": [
    {
     "name": "stdout",
     "output_type": "stream",
     "text": [
      "{'id': '200', 'name': 'Ali', 'skills': ['a', 'b', 'c', 'd']}\n",
      "('skills', ['a', 'b', 'c', 'd'])\n",
      "{'id': '200', 'name': 'Ali'}\n"
     ]
    }
   ],
   "source": [
    "d1 ={'id': '200', 'name': 'Ali', 'skills': ['a', 'b', 'c', 'd']}\n",
    "\n",
    "print(d1)\n",
    "print(d1.popitem())\n",
    "print(d1)"
   ]
  },
  {
   "cell_type": "code",
   "execution_count": 32,
   "metadata": {},
   "outputs": [
    {
     "name": "stdout",
     "output_type": "stream",
     "text": [
      "{'id': '200', 'name': 'Ali', 'skills': ['a', 'b', 'c', 'd']}\n"
     ]
    },
    {
     "ename": "TypeError",
     "evalue": "popitem() takes no arguments (1 given)",
     "output_type": "error",
     "traceback": [
      "\u001b[1;31m---------------------------------------------------------------------------\u001b[0m",
      "\u001b[1;31mTypeError\u001b[0m                                 Traceback (most recent call last)",
      "\u001b[1;32m<ipython-input-32-75497258028b>\u001b[0m in \u001b[0;36m<module>\u001b[1;34m\u001b[0m\n\u001b[0;32m      2\u001b[0m \u001b[1;33m\u001b[0m\u001b[0m\n\u001b[0;32m      3\u001b[0m \u001b[0mprint\u001b[0m\u001b[1;33m(\u001b[0m\u001b[0md1\u001b[0m\u001b[1;33m)\u001b[0m\u001b[1;33m\u001b[0m\u001b[1;33m\u001b[0m\u001b[0m\n\u001b[1;32m----> 4\u001b[1;33m \u001b[0mprint\u001b[0m\u001b[1;33m(\u001b[0m\u001b[0md1\u001b[0m\u001b[1;33m.\u001b[0m\u001b[0mpopitem\u001b[0m\u001b[1;33m(\u001b[0m\u001b[1;34m'id'\u001b[0m\u001b[1;33m)\u001b[0m\u001b[1;33m)\u001b[0m\u001b[1;33m\u001b[0m\u001b[1;33m\u001b[0m\u001b[0m\n\u001b[0m\u001b[0;32m      5\u001b[0m \u001b[0mprint\u001b[0m\u001b[1;33m(\u001b[0m\u001b[0md1\u001b[0m\u001b[1;33m)\u001b[0m\u001b[1;33m\u001b[0m\u001b[1;33m\u001b[0m\u001b[0m\n",
      "\u001b[1;31mTypeError\u001b[0m: popitem() takes no arguments (1 given)"
     ]
    }
   ],
   "source": [
    "d1 ={'id': '200', 'name': 'Ali', 'skills': ['a', 'b', 'c', 'd']}\n",
    "\n",
    "print(d1)\n",
    "print(d1.popitem('id'))\n",
    "print(d1)"
   ]
  },
  {
   "cell_type": "code",
   "execution_count": 34,
   "metadata": {},
   "outputs": [
    {
     "name": "stdout",
     "output_type": "stream",
     "text": [
      "{'id': '200', 'name': 'Ali', 'skills': ['a', 'b', 'c', 'd']}\n",
      "200\n",
      "203\n",
      "{'id': '200', 'name': 'Ali', 'skills': ['a', 'b', 'c', 'd'], 'class': '203'}\n"
     ]
    }
   ],
   "source": [
    "d1 ={'id': '200', 'name': 'Ali', 'skills': ['a', 'b', 'c', 'd']}\n",
    "\n",
    "print(d1)\n",
    "print(d1.setdefault('id', 'ABC'))\n",
    "print(d1.setdefault('class', '203'))\n",
    "print(d1)"
   ]
  },
  {
   "cell_type": "code",
   "execution_count": 35,
   "metadata": {},
   "outputs": [
    {
     "data": {
      "text/plain": [
       "{'a': 125, 'b': 200, 'c': 100, 'x': 200}"
      ]
     },
     "execution_count": 35,
     "metadata": {},
     "output_type": "execute_result"
    }
   ],
   "source": [
    "dic1 = {'a':1, 'b':2, 'c':100}\n",
    "dic2 = {\"x\":200,'b':200,'a':125}\n",
    "\n",
    "dic1.update(dic2)\n",
    "dic1"
   ]
  },
  {
   "cell_type": "raw",
   "metadata": {},
   "source": [
    "d1 = {\n",
    "    'a':200,\n",
    "    'c':300,\n",
    "    'b':600,\n",
    "    'd':400\n",
    "}\n",
    "d1\n",
    "\n",
    "sorted by keys\n",
    "d1 = {\n",
    "    'a':200,\n",
    "    'b':600,\n",
    "    'c':300,    \n",
    "    'd':400\n",
    "}\n",
    "sorted by values"
   ]
  },
  {
   "cell_type": "code",
   "execution_count": 36,
   "metadata": {},
   "outputs": [
    {
     "data": {
      "text/plain": [
       "{'a': 200, 'b': 600, 'c': 300, 'd': 400}"
      ]
     },
     "execution_count": 36,
     "metadata": {},
     "output_type": "execute_result"
    }
   ],
   "source": [
    "d1 = {\n",
    "    'a':200,\n",
    "    'c':300,\n",
    "    'b':600,\n",
    "    'd':400\n",
    "}\n",
    "d2={}\n",
    "                #a,b,c,d\n",
    "for i in sorted(d1.keys()):\n",
    "    d2[i]=d1[i]\n",
    "d2"
   ]
  },
  {
   "cell_type": "code",
   "execution_count": 37,
   "metadata": {},
   "outputs": [
    {
     "name": "stdout",
     "output_type": "stream",
     "text": [
      "{'a': 200, 'c': 300, 'd': 400, 'b': 600}\n"
     ]
    }
   ],
   "source": [
    "moon = {}\n",
    "scores = {'a':200,'c':300,'b':600,'d':400}\n",
    "for key,value in sorted(scores.items(),key = lambda kv:kv[1]):\n",
    "    moon[key] = value\n",
    "print(moon)\n"
   ]
  },
  {
   "cell_type": "code",
   "execution_count": 38,
   "metadata": {},
   "outputs": [
    {
     "name": "stdout",
     "output_type": "stream",
     "text": [
      "{'a': 200, 'b': 600, 'c': 300, 'd': 400}\n"
     ]
    }
   ],
   "source": [
    "moon = {}\n",
    "scores = {'a':200,'c':300,'b':600,'d':400}\n",
    "for key,value in sorted(scores.items(),key = lambda kv:kv[0]):\n",
    "    moon[key] = value\n",
    "print(moon)"
   ]
  },
  {
   "cell_type": "code",
   "execution_count": 40,
   "metadata": {},
   "outputs": [
    {
     "data": {
      "text/plain": [
       "{'b': 600, 'd': 400, 'c': 300, 'a': 200}"
      ]
     },
     "execution_count": 40,
     "metadata": {},
     "output_type": "execute_result"
    }
   ],
   "source": [
    "scores = {'a':200,'c':300,'b':600,'d':400}\n",
    "{k:v for k, v in sorted(scores.items(), key=lambda x:x[1], reverse=True)}"
   ]
  },
  {
   "cell_type": "code",
   "execution_count": 41,
   "metadata": {},
   "outputs": [
    {
     "name": "stdout",
     "output_type": "stream",
     "text": [
      "Press n/N to stop: 4\n",
      "Id: 4\n",
      "Name: jop\n",
      "Skills: pjp\n",
      "Press n/N to stop: 5\n",
      "Id: yu\n",
      "Name: iop\n",
      "Skills: oisiosad,asdsdsa\n",
      "Press n/N to stop: N\n",
      "[{'id': '4', 'name': 'jop', 'Skills': ['pjp']}, {'id': 'yu', 'name': 'iop', 'Skills': ['oisiosad,asdsdsa']}]\n"
     ]
    }
   ],
   "source": [
    "l1 = []\n",
    "run = True\n",
    "while run:\n",
    "    choice = input(\"Press n/N to stop: \")\n",
    "    if choice == \"n\" or choice == \"N\":\n",
    "        run = False\n",
    "    else:\n",
    "        d1 = {\n",
    "            \"id\":input(\"Id: \"),\n",
    "            \"name\":input(\"Name: \"),\n",
    "            \"Skills\":input(\"Skills: \").split(\", \")\n",
    "        }\n",
    "        l1.append(d1)\n",
    "print(l1, sep=\"\\n\")"
   ]
  },
  {
   "cell_type": "code",
   "execution_count": 3,
   "metadata": {},
   "outputs": [
    {
     "data": {
      "text/plain": [
       "[('A', 'z', 20), ('C', 'x', 100), ('B', 'y', 50)]"
      ]
     },
     "execution_count": 3,
     "metadata": {},
     "output_type": "execute_result"
    }
   ],
   "source": [
    "a=[(\"A\",'z',20),\n",
    "  (\"C\",'x',100),\n",
    "  (\"B\",'y',50)]\n",
    "a"
   ]
  },
  {
   "cell_type": "code",
   "execution_count": 4,
   "metadata": {},
   "outputs": [],
   "source": [
    "def abc(x):\n",
    "    return x[-1]\n",
    "   "
   ]
  },
  {
   "cell_type": "code",
   "execution_count": 5,
   "metadata": {},
   "outputs": [
    {
     "data": {
      "text/plain": [
       "[('C', 'x', 100), ('B', 'y', 50), ('A', 'z', 20)]"
      ]
     },
     "execution_count": 5,
     "metadata": {},
     "output_type": "execute_result"
    }
   ],
   "source": [
    "sorted(a, key=abc, reverse=True)"
   ]
  },
  {
   "cell_type": "code",
   "execution_count": 6,
   "metadata": {},
   "outputs": [
    {
     "data": {
      "text/plain": [
       "[('A', 'z', 20), ('B', 'y', 50), ('C', 'x', 100)]"
      ]
     },
     "execution_count": 6,
     "metadata": {},
     "output_type": "execute_result"
    }
   ],
   "source": [
    "def abc(x):\n",
    "    return x[1]\n",
    "\n",
    "sorted(a, key=abc, reverse=True)"
   ]
  },
  {
   "cell_type": "code",
   "execution_count": 7,
   "metadata": {},
   "outputs": [
    {
     "data": {
      "text/plain": [
       "[('C', 'x', 100), ('B', 'y', 50), ('A', 'z', 20)]"
      ]
     },
     "execution_count": 7,
     "metadata": {},
     "output_type": "execute_result"
    }
   ],
   "source": [
    "a=[(\"A\",'z',20),\n",
    "  (\"C\",'x',100),\n",
    "  (\"B\",'y',50)]\n",
    "sorted(a, key=lambda x:x[-1], reverse=True)"
   ]
  },
  {
   "cell_type": "raw",
   "metadata": {},
   "source": [
    "Task : sort by \n",
    "id,\n",
    "name,\n",
    "skills len  "
   ]
  },
  {
   "cell_type": "code",
   "execution_count": 10,
   "metadata": {},
   "outputs": [
    {
     "ename": "NameError",
     "evalue": "name 'name' is not defined",
     "output_type": "error",
     "traceback": [
      "\u001b[1;31m---------------------------------------------------------------------------\u001b[0m",
      "\u001b[1;31mNameError\u001b[0m                                 Traceback (most recent call last)",
      "\u001b[1;32m<ipython-input-10-6c092dd6b1ff>\u001b[0m in \u001b[0;36m<module>\u001b[1;34m\u001b[0m\n\u001b[1;32m----> 1\u001b[1;33m [{id:2, name:'alex',skills:[1,2,6]},\n\u001b[0m\u001b[0;32m      2\u001b[0m \u001b[1;33m{\u001b[0m\u001b[0mid\u001b[0m\u001b[1;33m:\u001b[0m\u001b[1;36m5\u001b[0m\u001b[1;33m,\u001b[0m \u001b[0mname\u001b[0m\u001b[1;33m:\u001b[0m\u001b[1;34m'betaa'\u001b[0m\u001b[1;33m,\u001b[0m\u001b[0mskills\u001b[0m\u001b[1;33m:\u001b[0m\u001b[1;33m[\u001b[0m\u001b[1;36m1\u001b[0m\u001b[1;33m,\u001b[0m\u001b[1;36m2\u001b[0m\u001b[1;33m,\u001b[0m\u001b[1;36m8\u001b[0m\u001b[1;33m]\u001b[0m\u001b[1;33m}\u001b[0m\u001b[1;33m,\u001b[0m\u001b[1;33m\u001b[0m\u001b[1;33m\u001b[0m\u001b[0m\n\u001b[0;32m      3\u001b[0m {id:8, name:'ninja',skills:[1,2,4]}]\n",
      "\u001b[1;31mNameError\u001b[0m: name 'name' is not defined"
     ]
    }
   ],
   "source": [
    "[{id:2, name:'alex',skills:[1,2,6]},\n",
    "{id:5, name:'betaa',skills:[1,2,8]},\n",
    "{id:8, name:'ninja',skills:[1,2,4]}]"
   ]
  },
  {
   "cell_type": "code",
   "execution_count": null,
   "metadata": {},
   "outputs": [],
   "source": []
  }
 ],
 "metadata": {
  "kernelspec": {
   "display_name": "Python 3",
   "language": "python",
   "name": "python3"
  },
  "language_info": {
   "codemirror_mode": {
    "name": "ipython",
    "version": 3
   },
   "file_extension": ".py",
   "mimetype": "text/x-python",
   "name": "python",
   "nbconvert_exporter": "python",
   "pygments_lexer": "ipython3",
   "version": "3.7.6"
  }
 },
 "nbformat": 4,
 "nbformat_minor": 2
}
