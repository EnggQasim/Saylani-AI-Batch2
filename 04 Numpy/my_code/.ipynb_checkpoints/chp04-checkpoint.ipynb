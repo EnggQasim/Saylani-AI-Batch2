{
 "cells": [
  {
   "cell_type": "markdown",
   "id": "wrong-agency",
   "metadata": {},
   "source": [
    "# NumPy Basics: Arrays and Vectorized Computation\n"
   ]
  },
  {
   "cell_type": "code",
   "execution_count": 1,
   "id": "complimentary-angle",
   "metadata": {},
   "outputs": [],
   "source": [
    "import numpy as np"
   ]
  },
  {
   "cell_type": "code",
   "execution_count": 2,
   "id": "annoying-running",
   "metadata": {},
   "outputs": [],
   "source": [
    "my_arr = np.arange(10000)"
   ]
  },
  {
   "cell_type": "code",
   "execution_count": 3,
   "id": "basic-knowing",
   "metadata": {},
   "outputs": [],
   "source": [
    "my_list = list(my_arr)"
   ]
  },
  {
   "cell_type": "code",
   "execution_count": 5,
   "id": "tough-trance",
   "metadata": {},
   "outputs": [
    {
     "data": {
      "text/plain": [
       "10000"
      ]
     },
     "execution_count": 5,
     "metadata": {},
     "output_type": "execute_result"
    }
   ],
   "source": [
    "len(my_arr)"
   ]
  },
  {
   "cell_type": "code",
   "execution_count": 6,
   "id": "changing-commercial",
   "metadata": {},
   "outputs": [
    {
     "name": "stdout",
     "output_type": "stream",
     "text": [
      "Wall time: 108 ms\n"
     ]
    }
   ],
   "source": [
    "%time for _ in range(len(my_arr)): my_arr2 = my_arr*2 # _ used to dump values simultaneously"
   ]
  },
  {
   "cell_type": "code",
   "execution_count": 7,
   "id": "challenging-narrative",
   "metadata": {},
   "outputs": [
    {
     "name": "stdout",
     "output_type": "stream",
     "text": [
      "Wall time: 20.4 s\n"
     ]
    }
   ],
   "source": [
    "%time for _ in range(len(my_list)): my_list2 = [x*2 for x in my_list]"
   ]
  },
  {
   "cell_type": "code",
   "execution_count": 236,
   "id": "mexican-programmer",
   "metadata": {},
   "outputs": [
    {
     "data": {
      "text/plain": [
       "[[[1, 2, 3], [4, 5, 6], [7, 8, 9]]]"
      ]
     },
     "execution_count": 236,
     "metadata": {},
     "output_type": "execute_result"
    }
   ],
   "source": [
    "arr3d = [[[1,2,3],[4,5,6], [7,8,9]]]\n",
    "arr3d"
   ]
  },
  {
   "cell_type": "code",
   "execution_count": 238,
   "id": "subjective-eleven",
   "metadata": {},
   "outputs": [
    {
     "data": {
      "text/plain": [
       "array([[[1, 2, 3],\n",
       "        [4, 5, 6],\n",
       "        [7, 8, 9]]])"
      ]
     },
     "execution_count": 238,
     "metadata": {},
     "output_type": "execute_result"
    }
   ],
   "source": [
    "arr3d = np.array([[[1,2,3],[4,5,6], [7,8,9]]]) # easily read able\n",
    "arr3d"
   ]
  },
  {
   "cell_type": "markdown",
   "id": "everyday-gibraltar",
   "metadata": {},
   "source": [
    "## 4.1 The NumPy ndarray: A Multidimensional Array Object"
   ]
  },
  {
   "cell_type": "code",
   "execution_count": 9,
   "id": "possible-consumption",
   "metadata": {},
   "outputs": [
    {
     "data": {
      "text/plain": [
       "array([[-1.05326287, -1.50804973,  0.338743  , -0.44637613],\n",
       "       [-0.88305073,  0.52613114,  0.38241769, -0.18925526],\n",
       "       [ 0.47519143, -1.76139084, -0.93411783,  1.13009715],\n",
       "       [-0.51050933, -1.65777952, -1.67164831, -0.07173899],\n",
       "       [-0.1589957 ,  0.76146578, -0.67376621,  0.55708402],\n",
       "       [ 0.67493314,  0.8284396 ,  0.29092702, -1.86411572],\n",
       "       [-0.68922621,  1.07680425,  1.52343985,  0.5825978 ],\n",
       "       [-1.09166948,  0.54627204,  0.70391858, -0.587512  ]])"
      ]
     },
     "execution_count": 9,
     "metadata": {},
     "output_type": "execute_result"
    }
   ],
   "source": [
    "import numpy as np\n",
    "# generate some randon=m numbers\n",
    "data = np.random.randn(8,4)\n",
    "data"
   ]
  },
  {
   "cell_type": "code",
   "execution_count": 10,
   "id": "widespread-madonna",
   "metadata": {},
   "outputs": [
    {
     "data": {
      "text/plain": [
       "array([[-2.10652575, -3.01609946,  0.67748599, -0.89275225],\n",
       "       [-1.76610145,  1.05226228,  0.76483539, -0.37851053],\n",
       "       [ 0.95038286, -3.52278169, -1.86823567,  2.2601943 ],\n",
       "       [-1.02101867, -3.31555904, -3.34329661, -0.14347798],\n",
       "       [-0.31799141,  1.52293157, -1.34753242,  1.11416804],\n",
       "       [ 1.34986629,  1.65687919,  0.58185404, -3.72823143],\n",
       "       [-1.37845242,  2.15360849,  3.0468797 ,  1.1651956 ],\n",
       "       [-2.18333896,  1.09254409,  1.40783716, -1.17502401]])"
      ]
     },
     "execution_count": 10,
     "metadata": {},
     "output_type": "execute_result"
    }
   ],
   "source": [
    "data*2"
   ]
  },
  {
   "cell_type": "code",
   "execution_count": 11,
   "id": "demanding-conversation",
   "metadata": {},
   "outputs": [
    {
     "data": {
      "text/plain": [
       "array([[0.94673713, 0.49195027, 2.338743  , 1.55362387],\n",
       "       [1.11694927, 2.52613114, 2.38241769, 1.81074474],\n",
       "       [2.47519143, 0.23860916, 1.06588217, 3.13009715],\n",
       "       [1.48949067, 0.34222048, 0.32835169, 1.92826101],\n",
       "       [1.8410043 , 2.76146578, 1.32623379, 2.55708402],\n",
       "       [2.67493314, 2.8284396 , 2.29092702, 0.13588428],\n",
       "       [1.31077379, 3.07680425, 3.52343985, 2.5825978 ],\n",
       "       [0.90833052, 2.54627204, 2.70391858, 1.412488  ]])"
      ]
     },
     "execution_count": 11,
     "metadata": {},
     "output_type": "execute_result"
    }
   ],
   "source": [
    "data+2"
   ]
  },
  {
   "cell_type": "code",
   "execution_count": 13,
   "id": "prostate-overhead",
   "metadata": {},
   "outputs": [
    {
     "data": {
      "text/plain": [
       "(8, 4)"
      ]
     },
     "execution_count": 13,
     "metadata": {},
     "output_type": "execute_result"
    }
   ],
   "source": [
    "data.shape"
   ]
  },
  {
   "cell_type": "code",
   "execution_count": 14,
   "id": "sweet-burden",
   "metadata": {},
   "outputs": [
    {
     "data": {
      "text/plain": [
       "dtype('float64')"
      ]
     },
     "execution_count": 14,
     "metadata": {},
     "output_type": "execute_result"
    }
   ],
   "source": [
    "data.dtype"
   ]
  },
  {
   "cell_type": "raw",
   "id": "micro-wings",
   "metadata": {},
   "source": [
    "Whenever you see “array,” “NumPy array,” or “ndarray” in the text,\n",
    "with few exceptions they all refer to the same thing: the ndarray\n",
    "object."
   ]
  },
  {
   "cell_type": "markdown",
   "id": "recognized-bridal",
   "metadata": {},
   "source": [
    "### Creating ndarrays"
   ]
  },
  {
   "cell_type": "code",
   "execution_count": 16,
   "id": "deadly-framing",
   "metadata": {},
   "outputs": [
    {
     "data": {
      "text/plain": [
       "array([1, 2, 3, 4, 5])"
      ]
     },
     "execution_count": 16,
     "metadata": {},
     "output_type": "execute_result"
    }
   ],
   "source": [
    "data1 = [1,2,3,4,5]\n",
    "\n",
    "my_arr1 = np.array(data1)\n",
    "my_arr1"
   ]
  },
  {
   "cell_type": "code",
   "execution_count": 17,
   "id": "described-economics",
   "metadata": {},
   "outputs": [
    {
     "data": {
      "text/plain": [
       "array([[1, 2, 3, 4],\n",
       "       [5, 6, 7, 8]])"
      ]
     },
     "execution_count": 17,
     "metadata": {},
     "output_type": "execute_result"
    }
   ],
   "source": [
    "data2 = [[1,2,3,4], [5,6,7,8]]\n",
    "\n",
    "my_arr2 = np.array(data2)\n",
    "my_arr2"
   ]
  },
  {
   "cell_type": "code",
   "execution_count": 22,
   "id": "governing-tuition",
   "metadata": {},
   "outputs": [
    {
     "name": "stdout",
     "output_type": "stream",
     "text": [
      "2\n",
      "int32\n"
     ]
    }
   ],
   "source": [
    "print(my_arr2.ndim, my_arr2.dtype, sep = '\\n')"
   ]
  },
  {
   "cell_type": "code",
   "execution_count": 23,
   "id": "consistent-annex",
   "metadata": {},
   "outputs": [
    {
     "name": "stdout",
     "output_type": "stream",
     "text": [
      "1\n",
      "int32\n"
     ]
    }
   ],
   "source": [
    "print(my_arr1.ndim, my_arr.dtype, sep = '\\n')"
   ]
  },
  {
   "cell_type": "code",
   "execution_count": 25,
   "id": "flexible-fellow",
   "metadata": {},
   "outputs": [
    {
     "data": {
      "text/plain": [
       "array([0., 0., 0., 0., 0., 0., 0., 0., 0., 0.])"
      ]
     },
     "execution_count": 25,
     "metadata": {},
     "output_type": "execute_result"
    }
   ],
   "source": [
    "np.zeros(10)"
   ]
  },
  {
   "cell_type": "code",
   "execution_count": 26,
   "id": "internal-measure",
   "metadata": {},
   "outputs": [
    {
     "data": {
      "text/plain": [
       "array([[0., 0., 0.],\n",
       "       [0., 0., 0.]])"
      ]
     },
     "execution_count": 26,
     "metadata": {},
     "output_type": "execute_result"
    }
   ],
   "source": [
    "np.zeros((2,3))"
   ]
  },
  {
   "cell_type": "code",
   "execution_count": 30,
   "id": "early-privacy",
   "metadata": {},
   "outputs": [
    {
     "data": {
      "text/plain": [
       "array([[[1.40665568e-311, 2.81617418e-322],\n",
       "        [0.00000000e+000, 0.00000000e+000],\n",
       "        [7.56587583e-307, 1.31370903e-076]],\n",
       "\n",
       "       [[4.22679051e-090, 2.36053168e+180],\n",
       "        [1.26931306e-076, 6.75821393e+170],\n",
       "        [6.48224659e+170, 4.93432906e+257]]])"
      ]
     },
     "execution_count": 30,
     "metadata": {},
     "output_type": "execute_result"
    }
   ],
   "source": [
    "np.empty((2,3,2)) #took random numbers in memorry"
   ]
  },
  {
   "cell_type": "code",
   "execution_count": 67,
   "id": "headed-twins",
   "metadata": {},
   "outputs": [
    {
     "data": {
      "text/plain": [
       "array([ 0,  1,  2,  3,  4,  5,  6,  7,  8,  9, 10, 11, 12, 13, 14])"
      ]
     },
     "execution_count": 67,
     "metadata": {},
     "output_type": "execute_result"
    }
   ],
   "source": [
    "np.arange(15)"
   ]
  },
  {
   "cell_type": "code",
   "execution_count": 53,
   "id": "adequate-bench",
   "metadata": {},
   "outputs": [
    {
     "data": {
      "text/plain": [
       "(325, 612, 3)"
      ]
     },
     "execution_count": 53,
     "metadata": {},
     "output_type": "execute_result"
    }
   ],
   "source": [
    "import cv2\n",
    "img = cv2.imread('media/array_creation_functions.png',1)\n",
    "img.shape"
   ]
  },
  {
   "cell_type": "code",
   "execution_count": 57,
   "id": "indonesian-visitor",
   "metadata": {},
   "outputs": [
    {
     "data": {
      "application/javascript": [
       "/* Put everything inside the global mpl namespace */\n",
       "/* global mpl */\n",
       "window.mpl = {};\n",
       "\n",
       "mpl.get_websocket_type = function () {\n",
       "    if (typeof WebSocket !== 'undefined') {\n",
       "        return WebSocket;\n",
       "    } else if (typeof MozWebSocket !== 'undefined') {\n",
       "        return MozWebSocket;\n",
       "    } else {\n",
       "        alert(\n",
       "            'Your browser does not have WebSocket support. ' +\n",
       "                'Please try Chrome, Safari or Firefox ≥ 6. ' +\n",
       "                'Firefox 4 and 5 are also supported but you ' +\n",
       "                'have to enable WebSockets in about:config.'\n",
       "        );\n",
       "    }\n",
       "};\n",
       "\n",
       "mpl.figure = function (figure_id, websocket, ondownload, parent_element) {\n",
       "    this.id = figure_id;\n",
       "\n",
       "    this.ws = websocket;\n",
       "\n",
       "    this.supports_binary = this.ws.binaryType !== undefined;\n",
       "\n",
       "    if (!this.supports_binary) {\n",
       "        var warnings = document.getElementById('mpl-warnings');\n",
       "        if (warnings) {\n",
       "            warnings.style.display = 'block';\n",
       "            warnings.textContent =\n",
       "                'This browser does not support binary websocket messages. ' +\n",
       "                'Performance may be slow.';\n",
       "        }\n",
       "    }\n",
       "\n",
       "    this.imageObj = new Image();\n",
       "\n",
       "    this.context = undefined;\n",
       "    this.message = undefined;\n",
       "    this.canvas = undefined;\n",
       "    this.rubberband_canvas = undefined;\n",
       "    this.rubberband_context = undefined;\n",
       "    this.format_dropdown = undefined;\n",
       "\n",
       "    this.image_mode = 'full';\n",
       "\n",
       "    this.root = document.createElement('div');\n",
       "    this.root.setAttribute('style', 'display: inline-block');\n",
       "    this._root_extra_style(this.root);\n",
       "\n",
       "    parent_element.appendChild(this.root);\n",
       "\n",
       "    this._init_header(this);\n",
       "    this._init_canvas(this);\n",
       "    this._init_toolbar(this);\n",
       "\n",
       "    var fig = this;\n",
       "\n",
       "    this.waiting = false;\n",
       "\n",
       "    this.ws.onopen = function () {\n",
       "        fig.send_message('supports_binary', { value: fig.supports_binary });\n",
       "        fig.send_message('send_image_mode', {});\n",
       "        if (fig.ratio !== 1) {\n",
       "            fig.send_message('set_dpi_ratio', { dpi_ratio: fig.ratio });\n",
       "        }\n",
       "        fig.send_message('refresh', {});\n",
       "    };\n",
       "\n",
       "    this.imageObj.onload = function () {\n",
       "        if (fig.image_mode === 'full') {\n",
       "            // Full images could contain transparency (where diff images\n",
       "            // almost always do), so we need to clear the canvas so that\n",
       "            // there is no ghosting.\n",
       "            fig.context.clearRect(0, 0, fig.canvas.width, fig.canvas.height);\n",
       "        }\n",
       "        fig.context.drawImage(fig.imageObj, 0, 0);\n",
       "    };\n",
       "\n",
       "    this.imageObj.onunload = function () {\n",
       "        fig.ws.close();\n",
       "    };\n",
       "\n",
       "    this.ws.onmessage = this._make_on_message_function(this);\n",
       "\n",
       "    this.ondownload = ondownload;\n",
       "};\n",
       "\n",
       "mpl.figure.prototype._init_header = function () {\n",
       "    var titlebar = document.createElement('div');\n",
       "    titlebar.classList =\n",
       "        'ui-dialog-titlebar ui-widget-header ui-corner-all ui-helper-clearfix';\n",
       "    var titletext = document.createElement('div');\n",
       "    titletext.classList = 'ui-dialog-title';\n",
       "    titletext.setAttribute(\n",
       "        'style',\n",
       "        'width: 100%; text-align: center; padding: 3px;'\n",
       "    );\n",
       "    titlebar.appendChild(titletext);\n",
       "    this.root.appendChild(titlebar);\n",
       "    this.header = titletext;\n",
       "};\n",
       "\n",
       "mpl.figure.prototype._canvas_extra_style = function (_canvas_div) {};\n",
       "\n",
       "mpl.figure.prototype._root_extra_style = function (_canvas_div) {};\n",
       "\n",
       "mpl.figure.prototype._init_canvas = function () {\n",
       "    var fig = this;\n",
       "\n",
       "    var canvas_div = (this.canvas_div = document.createElement('div'));\n",
       "    canvas_div.setAttribute(\n",
       "        'style',\n",
       "        'border: 1px solid #ddd;' +\n",
       "            'box-sizing: content-box;' +\n",
       "            'clear: both;' +\n",
       "            'min-height: 1px;' +\n",
       "            'min-width: 1px;' +\n",
       "            'outline: 0;' +\n",
       "            'overflow: hidden;' +\n",
       "            'position: relative;' +\n",
       "            'resize: both;'\n",
       "    );\n",
       "\n",
       "    function on_keyboard_event_closure(name) {\n",
       "        return function (event) {\n",
       "            return fig.key_event(event, name);\n",
       "        };\n",
       "    }\n",
       "\n",
       "    canvas_div.addEventListener(\n",
       "        'keydown',\n",
       "        on_keyboard_event_closure('key_press')\n",
       "    );\n",
       "    canvas_div.addEventListener(\n",
       "        'keyup',\n",
       "        on_keyboard_event_closure('key_release')\n",
       "    );\n",
       "\n",
       "    this._canvas_extra_style(canvas_div);\n",
       "    this.root.appendChild(canvas_div);\n",
       "\n",
       "    var canvas = (this.canvas = document.createElement('canvas'));\n",
       "    canvas.classList.add('mpl-canvas');\n",
       "    canvas.setAttribute('style', 'box-sizing: content-box;');\n",
       "\n",
       "    this.context = canvas.getContext('2d');\n",
       "\n",
       "    var backingStore =\n",
       "        this.context.backingStorePixelRatio ||\n",
       "        this.context.webkitBackingStorePixelRatio ||\n",
       "        this.context.mozBackingStorePixelRatio ||\n",
       "        this.context.msBackingStorePixelRatio ||\n",
       "        this.context.oBackingStorePixelRatio ||\n",
       "        this.context.backingStorePixelRatio ||\n",
       "        1;\n",
       "\n",
       "    this.ratio = (window.devicePixelRatio || 1) / backingStore;\n",
       "\n",
       "    var rubberband_canvas = (this.rubberband_canvas = document.createElement(\n",
       "        'canvas'\n",
       "    ));\n",
       "    rubberband_canvas.setAttribute(\n",
       "        'style',\n",
       "        'box-sizing: content-box; position: absolute; left: 0; top: 0; z-index: 1;'\n",
       "    );\n",
       "\n",
       "    // Apply a ponyfill if ResizeObserver is not implemented by browser.\n",
       "    if (this.ResizeObserver === undefined) {\n",
       "        if (window.ResizeObserver !== undefined) {\n",
       "            this.ResizeObserver = window.ResizeObserver;\n",
       "        } else {\n",
       "            var obs = _JSXTOOLS_RESIZE_OBSERVER({});\n",
       "            this.ResizeObserver = obs.ResizeObserver;\n",
       "        }\n",
       "    }\n",
       "\n",
       "    this.resizeObserverInstance = new this.ResizeObserver(function (entries) {\n",
       "        var nentries = entries.length;\n",
       "        for (var i = 0; i < nentries; i++) {\n",
       "            var entry = entries[i];\n",
       "            var width, height;\n",
       "            if (entry.contentBoxSize) {\n",
       "                if (entry.contentBoxSize instanceof Array) {\n",
       "                    // Chrome 84 implements new version of spec.\n",
       "                    width = entry.contentBoxSize[0].inlineSize;\n",
       "                    height = entry.contentBoxSize[0].blockSize;\n",
       "                } else {\n",
       "                    // Firefox implements old version of spec.\n",
       "                    width = entry.contentBoxSize.inlineSize;\n",
       "                    height = entry.contentBoxSize.blockSize;\n",
       "                }\n",
       "            } else {\n",
       "                // Chrome <84 implements even older version of spec.\n",
       "                width = entry.contentRect.width;\n",
       "                height = entry.contentRect.height;\n",
       "            }\n",
       "\n",
       "            // Keep the size of the canvas and rubber band canvas in sync with\n",
       "            // the canvas container.\n",
       "            if (entry.devicePixelContentBoxSize) {\n",
       "                // Chrome 84 implements new version of spec.\n",
       "                canvas.setAttribute(\n",
       "                    'width',\n",
       "                    entry.devicePixelContentBoxSize[0].inlineSize\n",
       "                );\n",
       "                canvas.setAttribute(\n",
       "                    'height',\n",
       "                    entry.devicePixelContentBoxSize[0].blockSize\n",
       "                );\n",
       "            } else {\n",
       "                canvas.setAttribute('width', width * fig.ratio);\n",
       "                canvas.setAttribute('height', height * fig.ratio);\n",
       "            }\n",
       "            canvas.setAttribute(\n",
       "                'style',\n",
       "                'width: ' + width + 'px; height: ' + height + 'px;'\n",
       "            );\n",
       "\n",
       "            rubberband_canvas.setAttribute('width', width);\n",
       "            rubberband_canvas.setAttribute('height', height);\n",
       "\n",
       "            // And update the size in Python. We ignore the initial 0/0 size\n",
       "            // that occurs as the element is placed into the DOM, which should\n",
       "            // otherwise not happen due to the minimum size styling.\n",
       "            if (fig.ws.readyState == 1 && width != 0 && height != 0) {\n",
       "                fig.request_resize(width, height);\n",
       "            }\n",
       "        }\n",
       "    });\n",
       "    this.resizeObserverInstance.observe(canvas_div);\n",
       "\n",
       "    function on_mouse_event_closure(name) {\n",
       "        return function (event) {\n",
       "            return fig.mouse_event(event, name);\n",
       "        };\n",
       "    }\n",
       "\n",
       "    rubberband_canvas.addEventListener(\n",
       "        'mousedown',\n",
       "        on_mouse_event_closure('button_press')\n",
       "    );\n",
       "    rubberband_canvas.addEventListener(\n",
       "        'mouseup',\n",
       "        on_mouse_event_closure('button_release')\n",
       "    );\n",
       "    // Throttle sequential mouse events to 1 every 20ms.\n",
       "    rubberband_canvas.addEventListener(\n",
       "        'mousemove',\n",
       "        on_mouse_event_closure('motion_notify')\n",
       "    );\n",
       "\n",
       "    rubberband_canvas.addEventListener(\n",
       "        'mouseenter',\n",
       "        on_mouse_event_closure('figure_enter')\n",
       "    );\n",
       "    rubberband_canvas.addEventListener(\n",
       "        'mouseleave',\n",
       "        on_mouse_event_closure('figure_leave')\n",
       "    );\n",
       "\n",
       "    canvas_div.addEventListener('wheel', function (event) {\n",
       "        if (event.deltaY < 0) {\n",
       "            event.step = 1;\n",
       "        } else {\n",
       "            event.step = -1;\n",
       "        }\n",
       "        on_mouse_event_closure('scroll')(event);\n",
       "    });\n",
       "\n",
       "    canvas_div.appendChild(canvas);\n",
       "    canvas_div.appendChild(rubberband_canvas);\n",
       "\n",
       "    this.rubberband_context = rubberband_canvas.getContext('2d');\n",
       "    this.rubberband_context.strokeStyle = '#000000';\n",
       "\n",
       "    this._resize_canvas = function (width, height, forward) {\n",
       "        if (forward) {\n",
       "            canvas_div.style.width = width + 'px';\n",
       "            canvas_div.style.height = height + 'px';\n",
       "        }\n",
       "    };\n",
       "\n",
       "    // Disable right mouse context menu.\n",
       "    this.rubberband_canvas.addEventListener('contextmenu', function (_e) {\n",
       "        event.preventDefault();\n",
       "        return false;\n",
       "    });\n",
       "\n",
       "    function set_focus() {\n",
       "        canvas.focus();\n",
       "        canvas_div.focus();\n",
       "    }\n",
       "\n",
       "    window.setTimeout(set_focus, 100);\n",
       "};\n",
       "\n",
       "mpl.figure.prototype._init_toolbar = function () {\n",
       "    var fig = this;\n",
       "\n",
       "    var toolbar = document.createElement('div');\n",
       "    toolbar.classList = 'mpl-toolbar';\n",
       "    this.root.appendChild(toolbar);\n",
       "\n",
       "    function on_click_closure(name) {\n",
       "        return function (_event) {\n",
       "            return fig.toolbar_button_onclick(name);\n",
       "        };\n",
       "    }\n",
       "\n",
       "    function on_mouseover_closure(tooltip) {\n",
       "        return function (event) {\n",
       "            if (!event.currentTarget.disabled) {\n",
       "                return fig.toolbar_button_onmouseover(tooltip);\n",
       "            }\n",
       "        };\n",
       "    }\n",
       "\n",
       "    fig.buttons = {};\n",
       "    var buttonGroup = document.createElement('div');\n",
       "    buttonGroup.classList = 'mpl-button-group';\n",
       "    for (var toolbar_ind in mpl.toolbar_items) {\n",
       "        var name = mpl.toolbar_items[toolbar_ind][0];\n",
       "        var tooltip = mpl.toolbar_items[toolbar_ind][1];\n",
       "        var image = mpl.toolbar_items[toolbar_ind][2];\n",
       "        var method_name = mpl.toolbar_items[toolbar_ind][3];\n",
       "\n",
       "        if (!name) {\n",
       "            /* Instead of a spacer, we start a new button group. */\n",
       "            if (buttonGroup.hasChildNodes()) {\n",
       "                toolbar.appendChild(buttonGroup);\n",
       "            }\n",
       "            buttonGroup = document.createElement('div');\n",
       "            buttonGroup.classList = 'mpl-button-group';\n",
       "            continue;\n",
       "        }\n",
       "\n",
       "        var button = (fig.buttons[name] = document.createElement('button'));\n",
       "        button.classList = 'mpl-widget';\n",
       "        button.setAttribute('role', 'button');\n",
       "        button.setAttribute('aria-disabled', 'false');\n",
       "        button.addEventListener('click', on_click_closure(method_name));\n",
       "        button.addEventListener('mouseover', on_mouseover_closure(tooltip));\n",
       "\n",
       "        var icon_img = document.createElement('img');\n",
       "        icon_img.src = '_images/' + image + '.png';\n",
       "        icon_img.srcset = '_images/' + image + '_large.png 2x';\n",
       "        icon_img.alt = tooltip;\n",
       "        button.appendChild(icon_img);\n",
       "\n",
       "        buttonGroup.appendChild(button);\n",
       "    }\n",
       "\n",
       "    if (buttonGroup.hasChildNodes()) {\n",
       "        toolbar.appendChild(buttonGroup);\n",
       "    }\n",
       "\n",
       "    var fmt_picker = document.createElement('select');\n",
       "    fmt_picker.classList = 'mpl-widget';\n",
       "    toolbar.appendChild(fmt_picker);\n",
       "    this.format_dropdown = fmt_picker;\n",
       "\n",
       "    for (var ind in mpl.extensions) {\n",
       "        var fmt = mpl.extensions[ind];\n",
       "        var option = document.createElement('option');\n",
       "        option.selected = fmt === mpl.default_extension;\n",
       "        option.innerHTML = fmt;\n",
       "        fmt_picker.appendChild(option);\n",
       "    }\n",
       "\n",
       "    var status_bar = document.createElement('span');\n",
       "    status_bar.classList = 'mpl-message';\n",
       "    toolbar.appendChild(status_bar);\n",
       "    this.message = status_bar;\n",
       "};\n",
       "\n",
       "mpl.figure.prototype.request_resize = function (x_pixels, y_pixels) {\n",
       "    // Request matplotlib to resize the figure. Matplotlib will then trigger a resize in the client,\n",
       "    // which will in turn request a refresh of the image.\n",
       "    this.send_message('resize', { width: x_pixels, height: y_pixels });\n",
       "};\n",
       "\n",
       "mpl.figure.prototype.send_message = function (type, properties) {\n",
       "    properties['type'] = type;\n",
       "    properties['figure_id'] = this.id;\n",
       "    this.ws.send(JSON.stringify(properties));\n",
       "};\n",
       "\n",
       "mpl.figure.prototype.send_draw_message = function () {\n",
       "    if (!this.waiting) {\n",
       "        this.waiting = true;\n",
       "        this.ws.send(JSON.stringify({ type: 'draw', figure_id: this.id }));\n",
       "    }\n",
       "};\n",
       "\n",
       "mpl.figure.prototype.handle_save = function (fig, _msg) {\n",
       "    var format_dropdown = fig.format_dropdown;\n",
       "    var format = format_dropdown.options[format_dropdown.selectedIndex].value;\n",
       "    fig.ondownload(fig, format);\n",
       "};\n",
       "\n",
       "mpl.figure.prototype.handle_resize = function (fig, msg) {\n",
       "    var size = msg['size'];\n",
       "    if (size[0] !== fig.canvas.width || size[1] !== fig.canvas.height) {\n",
       "        fig._resize_canvas(size[0], size[1], msg['forward']);\n",
       "        fig.send_message('refresh', {});\n",
       "    }\n",
       "};\n",
       "\n",
       "mpl.figure.prototype.handle_rubberband = function (fig, msg) {\n",
       "    var x0 = msg['x0'] / fig.ratio;\n",
       "    var y0 = (fig.canvas.height - msg['y0']) / fig.ratio;\n",
       "    var x1 = msg['x1'] / fig.ratio;\n",
       "    var y1 = (fig.canvas.height - msg['y1']) / fig.ratio;\n",
       "    x0 = Math.floor(x0) + 0.5;\n",
       "    y0 = Math.floor(y0) + 0.5;\n",
       "    x1 = Math.floor(x1) + 0.5;\n",
       "    y1 = Math.floor(y1) + 0.5;\n",
       "    var min_x = Math.min(x0, x1);\n",
       "    var min_y = Math.min(y0, y1);\n",
       "    var width = Math.abs(x1 - x0);\n",
       "    var height = Math.abs(y1 - y0);\n",
       "\n",
       "    fig.rubberband_context.clearRect(\n",
       "        0,\n",
       "        0,\n",
       "        fig.canvas.width / fig.ratio,\n",
       "        fig.canvas.height / fig.ratio\n",
       "    );\n",
       "\n",
       "    fig.rubberband_context.strokeRect(min_x, min_y, width, height);\n",
       "};\n",
       "\n",
       "mpl.figure.prototype.handle_figure_label = function (fig, msg) {\n",
       "    // Updates the figure title.\n",
       "    fig.header.textContent = msg['label'];\n",
       "};\n",
       "\n",
       "mpl.figure.prototype.handle_cursor = function (fig, msg) {\n",
       "    var cursor = msg['cursor'];\n",
       "    switch (cursor) {\n",
       "        case 0:\n",
       "            cursor = 'pointer';\n",
       "            break;\n",
       "        case 1:\n",
       "            cursor = 'default';\n",
       "            break;\n",
       "        case 2:\n",
       "            cursor = 'crosshair';\n",
       "            break;\n",
       "        case 3:\n",
       "            cursor = 'move';\n",
       "            break;\n",
       "    }\n",
       "    fig.rubberband_canvas.style.cursor = cursor;\n",
       "};\n",
       "\n",
       "mpl.figure.prototype.handle_message = function (fig, msg) {\n",
       "    fig.message.textContent = msg['message'];\n",
       "};\n",
       "\n",
       "mpl.figure.prototype.handle_draw = function (fig, _msg) {\n",
       "    // Request the server to send over a new figure.\n",
       "    fig.send_draw_message();\n",
       "};\n",
       "\n",
       "mpl.figure.prototype.handle_image_mode = function (fig, msg) {\n",
       "    fig.image_mode = msg['mode'];\n",
       "};\n",
       "\n",
       "mpl.figure.prototype.handle_history_buttons = function (fig, msg) {\n",
       "    for (var key in msg) {\n",
       "        if (!(key in fig.buttons)) {\n",
       "            continue;\n",
       "        }\n",
       "        fig.buttons[key].disabled = !msg[key];\n",
       "        fig.buttons[key].setAttribute('aria-disabled', !msg[key]);\n",
       "    }\n",
       "};\n",
       "\n",
       "mpl.figure.prototype.handle_navigate_mode = function (fig, msg) {\n",
       "    if (msg['mode'] === 'PAN') {\n",
       "        fig.buttons['Pan'].classList.add('active');\n",
       "        fig.buttons['Zoom'].classList.remove('active');\n",
       "    } else if (msg['mode'] === 'ZOOM') {\n",
       "        fig.buttons['Pan'].classList.remove('active');\n",
       "        fig.buttons['Zoom'].classList.add('active');\n",
       "    } else {\n",
       "        fig.buttons['Pan'].classList.remove('active');\n",
       "        fig.buttons['Zoom'].classList.remove('active');\n",
       "    }\n",
       "};\n",
       "\n",
       "mpl.figure.prototype.updated_canvas_event = function () {\n",
       "    // Called whenever the canvas gets updated.\n",
       "    this.send_message('ack', {});\n",
       "};\n",
       "\n",
       "// A function to construct a web socket function for onmessage handling.\n",
       "// Called in the figure constructor.\n",
       "mpl.figure.prototype._make_on_message_function = function (fig) {\n",
       "    return function socket_on_message(evt) {\n",
       "        if (evt.data instanceof Blob) {\n",
       "            /* FIXME: We get \"Resource interpreted as Image but\n",
       "             * transferred with MIME type text/plain:\" errors on\n",
       "             * Chrome.  But how to set the MIME type?  It doesn't seem\n",
       "             * to be part of the websocket stream */\n",
       "            evt.data.type = 'image/png';\n",
       "\n",
       "            /* Free the memory for the previous frames */\n",
       "            if (fig.imageObj.src) {\n",
       "                (window.URL || window.webkitURL).revokeObjectURL(\n",
       "                    fig.imageObj.src\n",
       "                );\n",
       "            }\n",
       "\n",
       "            fig.imageObj.src = (window.URL || window.webkitURL).createObjectURL(\n",
       "                evt.data\n",
       "            );\n",
       "            fig.updated_canvas_event();\n",
       "            fig.waiting = false;\n",
       "            return;\n",
       "        } else if (\n",
       "            typeof evt.data === 'string' &&\n",
       "            evt.data.slice(0, 21) === 'data:image/png;base64'\n",
       "        ) {\n",
       "            fig.imageObj.src = evt.data;\n",
       "            fig.updated_canvas_event();\n",
       "            fig.waiting = false;\n",
       "            return;\n",
       "        }\n",
       "\n",
       "        var msg = JSON.parse(evt.data);\n",
       "        var msg_type = msg['type'];\n",
       "\n",
       "        // Call the  \"handle_{type}\" callback, which takes\n",
       "        // the figure and JSON message as its only arguments.\n",
       "        try {\n",
       "            var callback = fig['handle_' + msg_type];\n",
       "        } catch (e) {\n",
       "            console.log(\n",
       "                \"No handler for the '\" + msg_type + \"' message type: \",\n",
       "                msg\n",
       "            );\n",
       "            return;\n",
       "        }\n",
       "\n",
       "        if (callback) {\n",
       "            try {\n",
       "                // console.log(\"Handling '\" + msg_type + \"' message: \", msg);\n",
       "                callback(fig, msg);\n",
       "            } catch (e) {\n",
       "                console.log(\n",
       "                    \"Exception inside the 'handler_\" + msg_type + \"' callback:\",\n",
       "                    e,\n",
       "                    e.stack,\n",
       "                    msg\n",
       "                );\n",
       "            }\n",
       "        }\n",
       "    };\n",
       "};\n",
       "\n",
       "// from http://stackoverflow.com/questions/1114465/getting-mouse-location-in-canvas\n",
       "mpl.findpos = function (e) {\n",
       "    //this section is from http://www.quirksmode.org/js/events_properties.html\n",
       "    var targ;\n",
       "    if (!e) {\n",
       "        e = window.event;\n",
       "    }\n",
       "    if (e.target) {\n",
       "        targ = e.target;\n",
       "    } else if (e.srcElement) {\n",
       "        targ = e.srcElement;\n",
       "    }\n",
       "    if (targ.nodeType === 3) {\n",
       "        // defeat Safari bug\n",
       "        targ = targ.parentNode;\n",
       "    }\n",
       "\n",
       "    // pageX,Y are the mouse positions relative to the document\n",
       "    var boundingRect = targ.getBoundingClientRect();\n",
       "    var x = e.pageX - (boundingRect.left + document.body.scrollLeft);\n",
       "    var y = e.pageY - (boundingRect.top + document.body.scrollTop);\n",
       "\n",
       "    return { x: x, y: y };\n",
       "};\n",
       "\n",
       "/*\n",
       " * return a copy of an object with only non-object keys\n",
       " * we need this to avoid circular references\n",
       " * http://stackoverflow.com/a/24161582/3208463\n",
       " */\n",
       "function simpleKeys(original) {\n",
       "    return Object.keys(original).reduce(function (obj, key) {\n",
       "        if (typeof original[key] !== 'object') {\n",
       "            obj[key] = original[key];\n",
       "        }\n",
       "        return obj;\n",
       "    }, {});\n",
       "}\n",
       "\n",
       "mpl.figure.prototype.mouse_event = function (event, name) {\n",
       "    var canvas_pos = mpl.findpos(event);\n",
       "\n",
       "    if (name === 'button_press') {\n",
       "        this.canvas.focus();\n",
       "        this.canvas_div.focus();\n",
       "    }\n",
       "\n",
       "    var x = canvas_pos.x * this.ratio;\n",
       "    var y = canvas_pos.y * this.ratio;\n",
       "\n",
       "    this.send_message(name, {\n",
       "        x: x,\n",
       "        y: y,\n",
       "        button: event.button,\n",
       "        step: event.step,\n",
       "        guiEvent: simpleKeys(event),\n",
       "    });\n",
       "\n",
       "    /* This prevents the web browser from automatically changing to\n",
       "     * the text insertion cursor when the button is pressed.  We want\n",
       "     * to control all of the cursor setting manually through the\n",
       "     * 'cursor' event from matplotlib */\n",
       "    event.preventDefault();\n",
       "    return false;\n",
       "};\n",
       "\n",
       "mpl.figure.prototype._key_event_extra = function (_event, _name) {\n",
       "    // Handle any extra behaviour associated with a key event\n",
       "};\n",
       "\n",
       "mpl.figure.prototype.key_event = function (event, name) {\n",
       "    // Prevent repeat events\n",
       "    if (name === 'key_press') {\n",
       "        if (event.which === this._key) {\n",
       "            return;\n",
       "        } else {\n",
       "            this._key = event.which;\n",
       "        }\n",
       "    }\n",
       "    if (name === 'key_release') {\n",
       "        this._key = null;\n",
       "    }\n",
       "\n",
       "    var value = '';\n",
       "    if (event.ctrlKey && event.which !== 17) {\n",
       "        value += 'ctrl+';\n",
       "    }\n",
       "    if (event.altKey && event.which !== 18) {\n",
       "        value += 'alt+';\n",
       "    }\n",
       "    if (event.shiftKey && event.which !== 16) {\n",
       "        value += 'shift+';\n",
       "    }\n",
       "\n",
       "    value += 'k';\n",
       "    value += event.which.toString();\n",
       "\n",
       "    this._key_event_extra(event, name);\n",
       "\n",
       "    this.send_message(name, { key: value, guiEvent: simpleKeys(event) });\n",
       "    return false;\n",
       "};\n",
       "\n",
       "mpl.figure.prototype.toolbar_button_onclick = function (name) {\n",
       "    if (name === 'download') {\n",
       "        this.handle_save(this, null);\n",
       "    } else {\n",
       "        this.send_message('toolbar_button', { name: name });\n",
       "    }\n",
       "};\n",
       "\n",
       "mpl.figure.prototype.toolbar_button_onmouseover = function (tooltip) {\n",
       "    this.message.textContent = tooltip;\n",
       "};\n",
       "\n",
       "///////////////// REMAINING CONTENT GENERATED BY embed_js.py /////////////////\n",
       "// prettier-ignore\n",
       "var _JSXTOOLS_RESIZE_OBSERVER=function(A){var t,i=new WeakMap,n=new WeakMap,a=new WeakMap,r=new WeakMap,o=new Set;function s(e){if(!(this instanceof s))throw new TypeError(\"Constructor requires 'new' operator\");i.set(this,e)}function h(){throw new TypeError(\"Function is not a constructor\")}function c(e,t,i,n){e=0 in arguments?Number(arguments[0]):0,t=1 in arguments?Number(arguments[1]):0,i=2 in arguments?Number(arguments[2]):0,n=3 in arguments?Number(arguments[3]):0,this.right=(this.x=this.left=e)+(this.width=i),this.bottom=(this.y=this.top=t)+(this.height=n),Object.freeze(this)}function d(){t=requestAnimationFrame(d);var s=new WeakMap,p=new Set;o.forEach((function(t){r.get(t).forEach((function(i){var r=t instanceof window.SVGElement,o=a.get(t),d=r?0:parseFloat(o.paddingTop),f=r?0:parseFloat(o.paddingRight),l=r?0:parseFloat(o.paddingBottom),u=r?0:parseFloat(o.paddingLeft),g=r?0:parseFloat(o.borderTopWidth),m=r?0:parseFloat(o.borderRightWidth),w=r?0:parseFloat(o.borderBottomWidth),b=u+f,F=d+l,v=(r?0:parseFloat(o.borderLeftWidth))+m,W=g+w,y=r?0:t.offsetHeight-W-t.clientHeight,E=r?0:t.offsetWidth-v-t.clientWidth,R=b+v,z=F+W,M=r?t.width:parseFloat(o.width)-R-E,O=r?t.height:parseFloat(o.height)-z-y;if(n.has(t)){var k=n.get(t);if(k[0]===M&&k[1]===O)return}n.set(t,[M,O]);var S=Object.create(h.prototype);S.target=t,S.contentRect=new c(u,d,M,O),s.has(i)||(s.set(i,[]),p.add(i)),s.get(i).push(S)}))})),p.forEach((function(e){i.get(e).call(e,s.get(e),e)}))}return s.prototype.observe=function(i){if(i instanceof window.Element){r.has(i)||(r.set(i,new Set),o.add(i),a.set(i,window.getComputedStyle(i)));var n=r.get(i);n.has(this)||n.add(this),cancelAnimationFrame(t),t=requestAnimationFrame(d)}},s.prototype.unobserve=function(i){if(i instanceof window.Element&&r.has(i)){var n=r.get(i);n.has(this)&&(n.delete(this),n.size||(r.delete(i),o.delete(i))),n.size||r.delete(i),o.size||cancelAnimationFrame(t)}},A.DOMRectReadOnly=c,A.ResizeObserver=s,A.ResizeObserverEntry=h,A}; // eslint-disable-line\n",
       "mpl.toolbar_items = [[\"Home\", \"Reset original view\", \"fa fa-home icon-home\", \"home\"], [\"Back\", \"Back to previous view\", \"fa fa-arrow-left icon-arrow-left\", \"back\"], [\"Forward\", \"Forward to next view\", \"fa fa-arrow-right icon-arrow-right\", \"forward\"], [\"\", \"\", \"\", \"\"], [\"Pan\", \"Left button pans, Right button zooms\\nx/y fixes axis, CTRL fixes aspect\", \"fa fa-arrows icon-move\", \"pan\"], [\"Zoom\", \"Zoom to rectangle\\nx/y fixes axis, CTRL fixes aspect\", \"fa fa-square-o icon-check-empty\", \"zoom\"], [\"\", \"\", \"\", \"\"], [\"Download\", \"Download plot\", \"fa fa-floppy-o icon-save\", \"download\"]];\n",
       "\n",
       "mpl.extensions = [\"eps\", \"jpeg\", \"pdf\", \"png\", \"ps\", \"raw\", \"svg\", \"tif\"];\n",
       "\n",
       "mpl.default_extension = \"png\";/* global mpl */\n",
       "\n",
       "var comm_websocket_adapter = function (comm) {\n",
       "    // Create a \"websocket\"-like object which calls the given IPython comm\n",
       "    // object with the appropriate methods. Currently this is a non binary\n",
       "    // socket, so there is still some room for performance tuning.\n",
       "    var ws = {};\n",
       "\n",
       "    ws.close = function () {\n",
       "        comm.close();\n",
       "    };\n",
       "    ws.send = function (m) {\n",
       "        //console.log('sending', m);\n",
       "        comm.send(m);\n",
       "    };\n",
       "    // Register the callback with on_msg.\n",
       "    comm.on_msg(function (msg) {\n",
       "        //console.log('receiving', msg['content']['data'], msg);\n",
       "        // Pass the mpl event to the overridden (by mpl) onmessage function.\n",
       "        ws.onmessage(msg['content']['data']);\n",
       "    });\n",
       "    return ws;\n",
       "};\n",
       "\n",
       "mpl.mpl_figure_comm = function (comm, msg) {\n",
       "    // This is the function which gets called when the mpl process\n",
       "    // starts-up an IPython Comm through the \"matplotlib\" channel.\n",
       "\n",
       "    var id = msg.content.data.id;\n",
       "    // Get hold of the div created by the display call when the Comm\n",
       "    // socket was opened in Python.\n",
       "    var element = document.getElementById(id);\n",
       "    var ws_proxy = comm_websocket_adapter(comm);\n",
       "\n",
       "    function ondownload(figure, _format) {\n",
       "        window.open(figure.canvas.toDataURL());\n",
       "    }\n",
       "\n",
       "    var fig = new mpl.figure(id, ws_proxy, ondownload, element);\n",
       "\n",
       "    // Call onopen now - mpl needs it, as it is assuming we've passed it a real\n",
       "    // web socket which is closed, not our websocket->open comm proxy.\n",
       "    ws_proxy.onopen();\n",
       "\n",
       "    fig.parent_element = element;\n",
       "    fig.cell_info = mpl.find_output_cell(\"<div id='\" + id + \"'></div>\");\n",
       "    if (!fig.cell_info) {\n",
       "        console.error('Failed to find cell for figure', id, fig);\n",
       "        return;\n",
       "    }\n",
       "    fig.cell_info[0].output_area.element.on(\n",
       "        'cleared',\n",
       "        { fig: fig },\n",
       "        fig._remove_fig_handler\n",
       "    );\n",
       "};\n",
       "\n",
       "mpl.figure.prototype.handle_close = function (fig, msg) {\n",
       "    var width = fig.canvas.width / fig.ratio;\n",
       "    fig.cell_info[0].output_area.element.off(\n",
       "        'cleared',\n",
       "        fig._remove_fig_handler\n",
       "    );\n",
       "    fig.resizeObserverInstance.unobserve(fig.canvas_div);\n",
       "\n",
       "    // Update the output cell to use the data from the current canvas.\n",
       "    fig.push_to_output();\n",
       "    var dataURL = fig.canvas.toDataURL();\n",
       "    // Re-enable the keyboard manager in IPython - without this line, in FF,\n",
       "    // the notebook keyboard shortcuts fail.\n",
       "    IPython.keyboard_manager.enable();\n",
       "    fig.parent_element.innerHTML =\n",
       "        '<img src=\"' + dataURL + '\" width=\"' + width + '\">';\n",
       "    fig.close_ws(fig, msg);\n",
       "};\n",
       "\n",
       "mpl.figure.prototype.close_ws = function (fig, msg) {\n",
       "    fig.send_message('closing', msg);\n",
       "    // fig.ws.close()\n",
       "};\n",
       "\n",
       "mpl.figure.prototype.push_to_output = function (_remove_interactive) {\n",
       "    // Turn the data on the canvas into data in the output cell.\n",
       "    var width = this.canvas.width / this.ratio;\n",
       "    var dataURL = this.canvas.toDataURL();\n",
       "    this.cell_info[1]['text/html'] =\n",
       "        '<img src=\"' + dataURL + '\" width=\"' + width + '\">';\n",
       "};\n",
       "\n",
       "mpl.figure.prototype.updated_canvas_event = function () {\n",
       "    // Tell IPython that the notebook contents must change.\n",
       "    IPython.notebook.set_dirty(true);\n",
       "    this.send_message('ack', {});\n",
       "    var fig = this;\n",
       "    // Wait a second, then push the new image to the DOM so\n",
       "    // that it is saved nicely (might be nice to debounce this).\n",
       "    setTimeout(function () {\n",
       "        fig.push_to_output();\n",
       "    }, 1000);\n",
       "};\n",
       "\n",
       "mpl.figure.prototype._init_toolbar = function () {\n",
       "    var fig = this;\n",
       "\n",
       "    var toolbar = document.createElement('div');\n",
       "    toolbar.classList = 'btn-toolbar';\n",
       "    this.root.appendChild(toolbar);\n",
       "\n",
       "    function on_click_closure(name) {\n",
       "        return function (_event) {\n",
       "            return fig.toolbar_button_onclick(name);\n",
       "        };\n",
       "    }\n",
       "\n",
       "    function on_mouseover_closure(tooltip) {\n",
       "        return function (event) {\n",
       "            if (!event.currentTarget.disabled) {\n",
       "                return fig.toolbar_button_onmouseover(tooltip);\n",
       "            }\n",
       "        };\n",
       "    }\n",
       "\n",
       "    fig.buttons = {};\n",
       "    var buttonGroup = document.createElement('div');\n",
       "    buttonGroup.classList = 'btn-group';\n",
       "    var button;\n",
       "    for (var toolbar_ind in mpl.toolbar_items) {\n",
       "        var name = mpl.toolbar_items[toolbar_ind][0];\n",
       "        var tooltip = mpl.toolbar_items[toolbar_ind][1];\n",
       "        var image = mpl.toolbar_items[toolbar_ind][2];\n",
       "        var method_name = mpl.toolbar_items[toolbar_ind][3];\n",
       "\n",
       "        if (!name) {\n",
       "            /* Instead of a spacer, we start a new button group. */\n",
       "            if (buttonGroup.hasChildNodes()) {\n",
       "                toolbar.appendChild(buttonGroup);\n",
       "            }\n",
       "            buttonGroup = document.createElement('div');\n",
       "            buttonGroup.classList = 'btn-group';\n",
       "            continue;\n",
       "        }\n",
       "\n",
       "        button = fig.buttons[name] = document.createElement('button');\n",
       "        button.classList = 'btn btn-default';\n",
       "        button.href = '#';\n",
       "        button.title = name;\n",
       "        button.innerHTML = '<i class=\"fa ' + image + ' fa-lg\"></i>';\n",
       "        button.addEventListener('click', on_click_closure(method_name));\n",
       "        button.addEventListener('mouseover', on_mouseover_closure(tooltip));\n",
       "        buttonGroup.appendChild(button);\n",
       "    }\n",
       "\n",
       "    if (buttonGroup.hasChildNodes()) {\n",
       "        toolbar.appendChild(buttonGroup);\n",
       "    }\n",
       "\n",
       "    // Add the status bar.\n",
       "    var status_bar = document.createElement('span');\n",
       "    status_bar.classList = 'mpl-message pull-right';\n",
       "    toolbar.appendChild(status_bar);\n",
       "    this.message = status_bar;\n",
       "\n",
       "    // Add the close button to the window.\n",
       "    var buttongrp = document.createElement('div');\n",
       "    buttongrp.classList = 'btn-group inline pull-right';\n",
       "    button = document.createElement('button');\n",
       "    button.classList = 'btn btn-mini btn-primary';\n",
       "    button.href = '#';\n",
       "    button.title = 'Stop Interaction';\n",
       "    button.innerHTML = '<i class=\"fa fa-power-off icon-remove icon-large\"></i>';\n",
       "    button.addEventListener('click', function (_evt) {\n",
       "        fig.handle_close(fig, {});\n",
       "    });\n",
       "    button.addEventListener(\n",
       "        'mouseover',\n",
       "        on_mouseover_closure('Stop Interaction')\n",
       "    );\n",
       "    buttongrp.appendChild(button);\n",
       "    var titlebar = this.root.querySelector('.ui-dialog-titlebar');\n",
       "    titlebar.insertBefore(buttongrp, titlebar.firstChild);\n",
       "};\n",
       "\n",
       "mpl.figure.prototype._remove_fig_handler = function (event) {\n",
       "    var fig = event.data.fig;\n",
       "    if (event.target !== this) {\n",
       "        // Ignore bubbled events from children.\n",
       "        return;\n",
       "    }\n",
       "    fig.close_ws(fig, {});\n",
       "};\n",
       "\n",
       "mpl.figure.prototype._root_extra_style = function (el) {\n",
       "    el.style.boxSizing = 'content-box'; // override notebook setting of border-box.\n",
       "};\n",
       "\n",
       "mpl.figure.prototype._canvas_extra_style = function (el) {\n",
       "    // this is important to make the div 'focusable\n",
       "    el.setAttribute('tabindex', 0);\n",
       "    // reach out to IPython and tell the keyboard manager to turn it's self\n",
       "    // off when our div gets focus\n",
       "\n",
       "    // location in version 3\n",
       "    if (IPython.notebook.keyboard_manager) {\n",
       "        IPython.notebook.keyboard_manager.register_events(el);\n",
       "    } else {\n",
       "        // location in version 2\n",
       "        IPython.keyboard_manager.register_events(el);\n",
       "    }\n",
       "};\n",
       "\n",
       "mpl.figure.prototype._key_event_extra = function (event, _name) {\n",
       "    var manager = IPython.notebook.keyboard_manager;\n",
       "    if (!manager) {\n",
       "        manager = IPython.keyboard_manager;\n",
       "    }\n",
       "\n",
       "    // Check for shift+enter\n",
       "    if (event.shiftKey && event.which === 13) {\n",
       "        this.canvas_div.blur();\n",
       "        // select the cell after this one\n",
       "        var index = IPython.notebook.find_cell_index(this.cell_info[0]);\n",
       "        IPython.notebook.select(index + 1);\n",
       "    }\n",
       "};\n",
       "\n",
       "mpl.figure.prototype.handle_save = function (fig, _msg) {\n",
       "    fig.ondownload(fig, null);\n",
       "};\n",
       "\n",
       "mpl.find_output_cell = function (html_output) {\n",
       "    // Return the cell and output element which can be found *uniquely* in the notebook.\n",
       "    // Note - this is a bit hacky, but it is done because the \"notebook_saving.Notebook\"\n",
       "    // IPython event is triggered only after the cells have been serialised, which for\n",
       "    // our purposes (turning an active figure into a static one), is too late.\n",
       "    var cells = IPython.notebook.get_cells();\n",
       "    var ncells = cells.length;\n",
       "    for (var i = 0; i < ncells; i++) {\n",
       "        var cell = cells[i];\n",
       "        if (cell.cell_type === 'code') {\n",
       "            for (var j = 0; j < cell.output_area.outputs.length; j++) {\n",
       "                var data = cell.output_area.outputs[j];\n",
       "                if (data.data) {\n",
       "                    // IPython >= 3 moved mimebundle to data attribute of output\n",
       "                    data = data.data;\n",
       "                }\n",
       "                if (data['text/html'] === html_output) {\n",
       "                    return [cell, data, j];\n",
       "                }\n",
       "            }\n",
       "        }\n",
       "    }\n",
       "};\n",
       "\n",
       "// Register the function which deals with the matplotlib target/channel.\n",
       "// The kernel may be null if the page has been refreshed.\n",
       "if (IPython.notebook.kernel !== null) {\n",
       "    IPython.notebook.kernel.comm_manager.register_target(\n",
       "        'matplotlib',\n",
       "        mpl.mpl_figure_comm\n",
       "    );\n",
       "}\n"
      ],
      "text/plain": [
       "<IPython.core.display.Javascript object>"
      ]
     },
     "metadata": {},
     "output_type": "display_data"
    },
    {
     "data": {
      "text/html": [
       "<img src=\"data:image/png;base64,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\" width=\"432\">"
      ],
      "text/plain": [
       "<IPython.core.display.HTML object>"
      ]
     },
     "metadata": {},
     "output_type": "display_data"
    },
    {
     "data": {
      "text/plain": [
       "<matplotlib.image.AxesImage at 0x296f155eee0>"
      ]
     },
     "execution_count": 57,
     "metadata": {},
     "output_type": "execute_result"
    }
   ],
   "source": [
    "import matplotlib.pyplot as plt\n",
    "%matplotlib notebook\n",
    "plt.imshow(img)"
   ]
  },
  {
   "cell_type": "markdown",
   "id": "instructional-kennedy",
   "metadata": {},
   "source": [
    "<img src ='media/array_creation_functions.png'>"
   ]
  },
  {
   "cell_type": "code",
   "execution_count": 68,
   "id": "apart-toyota",
   "metadata": {},
   "outputs": [
    {
     "data": {
      "text/plain": [
       "array([1, 2, 3, 4, 5])"
      ]
     },
     "execution_count": 68,
     "metadata": {},
     "output_type": "execute_result"
    }
   ],
   "source": [
    "arr0 = np.array(my_arr1)\n",
    "arr0"
   ]
  },
  {
   "cell_type": "code",
   "execution_count": 69,
   "id": "favorite-chapter",
   "metadata": {},
   "outputs": [],
   "source": [
    "arr0[0] = 0"
   ]
  },
  {
   "cell_type": "code",
   "execution_count": 70,
   "id": "limiting-official",
   "metadata": {},
   "outputs": [
    {
     "data": {
      "text/plain": [
       "array([0, 2, 3, 4, 5])"
      ]
     },
     "execution_count": 70,
     "metadata": {},
     "output_type": "execute_result"
    }
   ],
   "source": [
    "arr0"
   ]
  },
  {
   "cell_type": "code",
   "execution_count": 71,
   "id": "compatible-reset",
   "metadata": {},
   "outputs": [
    {
     "data": {
      "text/plain": [
       "array([1, 2, 3, 4, 5])"
      ]
     },
     "execution_count": 71,
     "metadata": {},
     "output_type": "execute_result"
    }
   ],
   "source": [
    "my_arr1 #Deep_copy"
   ]
  },
  {
   "cell_type": "code",
   "execution_count": 62,
   "id": "classified-wages",
   "metadata": {},
   "outputs": [
    {
     "data": {
      "text/plain": [
       "array([[1, 2, 3, 4],\n",
       "       [5, 6, 7, 8]])"
      ]
     },
     "execution_count": 62,
     "metadata": {},
     "output_type": "execute_result"
    }
   ],
   "source": [
    "arr = np.asarray(my_arr2)\n",
    "arr"
   ]
  },
  {
   "cell_type": "code",
   "execution_count": 63,
   "id": "little-belly",
   "metadata": {},
   "outputs": [],
   "source": [
    "arr[0][0] = 0"
   ]
  },
  {
   "cell_type": "code",
   "execution_count": 64,
   "id": "allied-diesel",
   "metadata": {},
   "outputs": [
    {
     "data": {
      "text/plain": [
       "array([[0, 2, 3, 4],\n",
       "       [5, 6, 7, 8]])"
      ]
     },
     "execution_count": 64,
     "metadata": {},
     "output_type": "execute_result"
    }
   ],
   "source": [
    "arr"
   ]
  },
  {
   "cell_type": "code",
   "execution_count": 65,
   "id": "conventional-brake",
   "metadata": {},
   "outputs": [
    {
     "data": {
      "text/plain": [
       "array([[0, 2, 3, 4],\n",
       "       [5, 6, 7, 8]])"
      ]
     },
     "execution_count": 65,
     "metadata": {},
     "output_type": "execute_result"
    }
   ],
   "source": [
    "my_arr2  #shallow_copy"
   ]
  },
  {
   "cell_type": "code",
   "execution_count": 73,
   "id": "seasonal-zoning",
   "metadata": {},
   "outputs": [
    {
     "data": {
      "text/plain": [
       "array([ 0,  1,  2,  3,  4,  5,  6,  7,  8,  9, 10, 11, 12, 13, 14])"
      ]
     },
     "execution_count": 73,
     "metadata": {},
     "output_type": "execute_result"
    }
   ],
   "source": [
    "np.arange(15)"
   ]
  },
  {
   "cell_type": "code",
   "execution_count": 75,
   "id": "modified-surveillance",
   "metadata": {},
   "outputs": [
    {
     "data": {
      "text/plain": [
       "array([0, 0, 0, 0, 0])"
      ]
     },
     "execution_count": 75,
     "metadata": {},
     "output_type": "execute_result"
    }
   ],
   "source": [
    "np.zeros_like(my_arr1)"
   ]
  },
  {
   "cell_type": "code",
   "execution_count": 78,
   "id": "legislative-fleece",
   "metadata": {},
   "outputs": [
    {
     "data": {
      "text/plain": [
       "array([1., 1., 1., 1., 1.])"
      ]
     },
     "execution_count": 78,
     "metadata": {},
     "output_type": "execute_result"
    }
   ],
   "source": [
    "np.ones(5)"
   ]
  },
  {
   "cell_type": "code",
   "execution_count": 76,
   "id": "informed-cinema",
   "metadata": {},
   "outputs": [
    {
     "data": {
      "text/plain": [
       "array([1, 1, 1, 1, 1])"
      ]
     },
     "execution_count": 76,
     "metadata": {},
     "output_type": "execute_result"
    }
   ],
   "source": [
    "np.ones_like(my_arr1)"
   ]
  },
  {
   "cell_type": "code",
   "execution_count": 79,
   "id": "robust-walnut",
   "metadata": {},
   "outputs": [
    {
     "data": {
      "text/plain": [
       "array([-462078592,        662,          0,          0,          1])"
      ]
     },
     "execution_count": 79,
     "metadata": {},
     "output_type": "execute_result"
    }
   ],
   "source": [
    "np.empty_like(my_arr1)"
   ]
  },
  {
   "cell_type": "code",
   "execution_count": 80,
   "id": "round-undergraduate",
   "metadata": {},
   "outputs": [
    {
     "data": {
      "text/plain": [
       "array([[2, 2],\n",
       "       [2, 2]])"
      ]
     },
     "execution_count": 80,
     "metadata": {},
     "output_type": "execute_result"
    }
   ],
   "source": [
    "np.full((2,2), 2)"
   ]
  },
  {
   "cell_type": "code",
   "execution_count": 81,
   "id": "stunning-month",
   "metadata": {},
   "outputs": [
    {
     "data": {
      "text/plain": [
       "array([3, 3, 3, 3, 3])"
      ]
     },
     "execution_count": 81,
     "metadata": {},
     "output_type": "execute_result"
    }
   ],
   "source": [
    "np.full_like(my_arr1, 3)"
   ]
  },
  {
   "cell_type": "code",
   "execution_count": 85,
   "id": "improved-division",
   "metadata": {},
   "outputs": [
    {
     "data": {
      "text/plain": [
       "array([[1., 0., 0., 0.],\n",
       "       [0., 1., 0., 0.],\n",
       "       [0., 0., 1., 0.],\n",
       "       [0., 0., 0., 1.]])"
      ]
     },
     "execution_count": 85,
     "metadata": {},
     "output_type": "execute_result"
    }
   ],
   "source": [
    "np.eye(4) # can't give give argument as tuple"
   ]
  },
  {
   "cell_type": "code",
   "execution_count": 87,
   "id": "stainless-exclusion",
   "metadata": {},
   "outputs": [
    {
     "data": {
      "text/plain": [
       "array([[1., 0., 0., 0.],\n",
       "       [0., 1., 0., 0.],\n",
       "       [0., 0., 1., 0.],\n",
       "       [0., 0., 0., 1.]])"
      ]
     },
     "execution_count": 87,
     "metadata": {},
     "output_type": "execute_result"
    }
   ],
   "source": [
    "np.identity(4) #eyegin & identy work same"
   ]
  },
  {
   "cell_type": "markdown",
   "id": "ethical-horizon",
   "metadata": {},
   "source": [
    "### Data Types for ndarrays"
   ]
  },
  {
   "cell_type": "code",
   "execution_count": 94,
   "id": "great-swing",
   "metadata": {},
   "outputs": [],
   "source": [
    "arr1 = np.array([1,-2,-3,4], dtype = 'i4') # 'i4' or 'np.int32' are same"
   ]
  },
  {
   "cell_type": "code",
   "execution_count": 95,
   "id": "hispanic-minneapolis",
   "metadata": {},
   "outputs": [],
   "source": [
    "arr2 = np.array([5,6,7,8], dtype = 'f4') # 'f4' or 'np.float32' are same"
   ]
  },
  {
   "cell_type": "code",
   "execution_count": 96,
   "id": "printable-password",
   "metadata": {},
   "outputs": [
    {
     "name": "stdout",
     "output_type": "stream",
     "text": [
      "int32\n",
      "float32\n"
     ]
    }
   ],
   "source": [
    "print(arr1.dtype, arr2.dtype , sep = '\\n')"
   ]
  },
  {
   "cell_type": "markdown",
   "id": "uniform-maryland",
   "metadata": {},
   "source": [
    "<img src = 'media/numpy_datatypes.png'>"
   ]
  },
  {
   "cell_type": "code",
   "execution_count": 98,
   "id": "exact-banking",
   "metadata": {},
   "outputs": [
    {
     "data": {
      "text/plain": [
       "array([         1, 4294967294, 4294967293,          4], dtype=uint32)"
      ]
     },
     "execution_count": 98,
     "metadata": {},
     "output_type": "execute_result"
    }
   ],
   "source": [
    "arr1.astype('u4') # always took number as +ve"
   ]
  },
  {
   "cell_type": "code",
   "execution_count": 101,
   "id": "considerable-height",
   "metadata": {},
   "outputs": [],
   "source": [
    "c = [(2+3j), (3,4j)]"
   ]
  },
  {
   "cell_type": "code",
   "execution_count": 108,
   "id": "partial-hygiene",
   "metadata": {},
   "outputs": [
    {
     "data": {
      "text/plain": [
       "2.0"
      ]
     },
     "execution_count": 108,
     "metadata": {},
     "output_type": "execute_result"
    }
   ],
   "source": [
    "c[0].real"
   ]
  },
  {
   "cell_type": "code",
   "execution_count": 102,
   "id": "convenient-light",
   "metadata": {},
   "outputs": [
    {
     "data": {
      "text/plain": [
       "3.0"
      ]
     },
     "execution_count": 102,
     "metadata": {},
     "output_type": "execute_result"
    }
   ],
   "source": [
    "c[0].imag"
   ]
  },
  {
   "cell_type": "code",
   "execution_count": 109,
   "id": "thousand-resistance",
   "metadata": {},
   "outputs": [
    {
     "data": {
      "text/plain": [
       "(2-3j)"
      ]
     },
     "execution_count": 109,
     "metadata": {},
     "output_type": "execute_result"
    }
   ],
   "source": [
    "c[0].conjugate()"
   ]
  },
  {
   "cell_type": "code",
   "execution_count": 117,
   "id": "civilian-trading",
   "metadata": {},
   "outputs": [
    {
     "data": {
      "text/plain": [
       "bool"
      ]
     },
     "execution_count": 117,
     "metadata": {},
     "output_type": "execute_result"
    }
   ],
   "source": [
    "type(c[0] == (2+3j))"
   ]
  },
  {
   "cell_type": "code",
   "execution_count": 128,
   "id": "common-joseph",
   "metadata": {},
   "outputs": [
    {
     "data": {
      "text/plain": [
       "array(['A', 'B', 'C', 'D'], dtype='<U1')"
      ]
     },
     "execution_count": 128,
     "metadata": {},
     "output_type": "execute_result"
    }
   ],
   "source": [
    " np.array(['A','B', 'C', 'D'], dtype = 'U')"
   ]
  },
  {
   "cell_type": "markdown",
   "id": "metropolitan-marketplace",
   "metadata": {},
   "source": [
    "You can **explicitly** convert or cast an array from one dtype to another using ndarray’s\n",
    "astype method:"
   ]
  },
  {
   "cell_type": "code",
   "execution_count": 137,
   "id": "prostate-slovakia",
   "metadata": {},
   "outputs": [
    {
     "data": {
      "text/plain": [
       "dtype('int32')"
      ]
     },
     "execution_count": 137,
     "metadata": {},
     "output_type": "execute_result"
    }
   ],
   "source": [
    "int_arr = np.array([1,2,3,4,5]) # datatype implicity defined by Numpy or dynamic datatype\n",
    "int_arr.dtype"
   ]
  },
  {
   "cell_type": "code",
   "execution_count": 141,
   "id": "valid-evaluation",
   "metadata": {},
   "outputs": [
    {
     "data": {
      "text/plain": [
       "array([1., 2., 3., 4., 5.], dtype=float32)"
      ]
     },
     "execution_count": 141,
     "metadata": {},
     "output_type": "execute_result"
    }
   ],
   "source": [
    "int_arr.astype('f4') # datatype explicity define ys user or static data type"
   ]
  },
  {
   "cell_type": "code",
   "execution_count": 142,
   "id": "alone-studio",
   "metadata": {},
   "outputs": [
    {
     "data": {
      "text/plain": [
       "dtype('float64')"
      ]
     },
     "execution_count": 142,
     "metadata": {},
     "output_type": "execute_result"
    }
   ],
   "source": [
    "float_arr = np.array([1.2, 3.2, 4.5, 5.6, 8.9, 10.0])\n",
    "float_arr.dtype"
   ]
  },
  {
   "cell_type": "code",
   "execution_count": 143,
   "id": "realistic-warning",
   "metadata": {},
   "outputs": [
    {
     "data": {
      "text/plain": [
       "array([ 1,  3,  4,  5,  8, 10], dtype=int64)"
      ]
     },
     "execution_count": 143,
     "metadata": {},
     "output_type": "execute_result"
    }
   ],
   "source": [
    "float_arr.astype('i8')"
   ]
  },
  {
   "cell_type": "code",
   "execution_count": 146,
   "id": "fuzzy-trademark",
   "metadata": {},
   "outputs": [
    {
     "data": {
      "text/plain": [
       "dtype('<U3')"
      ]
     },
     "execution_count": 146,
     "metadata": {},
     "output_type": "execute_result"
    }
   ],
   "source": [
    "numeric_string = np.array(['1.2', '3.4', '5.6'])\n",
    "numeric_string.dtype"
   ]
  },
  {
   "cell_type": "code",
   "execution_count": 147,
   "id": "dental-repeat",
   "metadata": {},
   "outputs": [
    {
     "data": {
      "text/plain": [
       "dtype('S3')"
      ]
     },
     "execution_count": 147,
     "metadata": {},
     "output_type": "execute_result"
    }
   ],
   "source": [
    "numeric_string = np.array(['1.2', '3.4', '5.6'], dtype = 'S')\n",
    "numeric_string.dtype"
   ]
  },
  {
   "cell_type": "code",
   "execution_count": 155,
   "id": "second-hebrew",
   "metadata": {},
   "outputs": [
    {
     "data": {
      "text/plain": [
       "array([1.2, 3.4, 5.6], dtype=float32)"
      ]
     },
     "execution_count": 155,
     "metadata": {},
     "output_type": "execute_result"
    }
   ],
   "source": [
    "num = numeric_string.astype('f4')\n",
    "numeric_string.astype('f4')"
   ]
  },
  {
   "cell_type": "code",
   "execution_count": 156,
   "id": "authentic-powder",
   "metadata": {},
   "outputs": [
    {
     "data": {
      "text/plain": [
       "1.2"
      ]
     },
     "execution_count": 156,
     "metadata": {},
     "output_type": "execute_result"
    }
   ],
   "source": [
    "num[0]"
   ]
  },
  {
   "cell_type": "code",
   "execution_count": 165,
   "id": "regular-labor",
   "metadata": {},
   "outputs": [
    {
     "name": "stdout",
     "output_type": "stream",
     "text": [
      "int32\n"
     ]
    },
    {
     "data": {
      "text/plain": [
       "array([0, 1, 2, 3, 4, 5, 6, 7, 8, 9], dtype=int64)"
      ]
     },
     "execution_count": 165,
     "metadata": {},
     "output_type": "execute_result"
    }
   ],
   "source": [
    "int_arr = np.arange(10)\n",
    "print(int_arr.dtype)\n",
    "int_arr.astype('i8')"
   ]
  },
  {
   "cell_type": "code",
   "execution_count": 166,
   "id": "classified-coordinate",
   "metadata": {},
   "outputs": [
    {
     "data": {
      "text/plain": [
       "array([0., 1., 2., 3., 4., 5., 6., 7., 8., 9.])"
      ]
     },
     "execution_count": 166,
     "metadata": {},
     "output_type": "execute_result"
    }
   ],
   "source": [
    "int_arr.astype(float_arr.dtype)"
   ]
  },
  {
   "cell_type": "code",
   "execution_count": 169,
   "id": "afraid-virginia",
   "metadata": {},
   "outputs": [
    {
     "data": {
      "text/plain": [
       "array([[ 828676045, 1080929022, 3860417665, 1080704946],\n",
       "       [2597191990, 1080480871, 1333966314, 1080256796],\n",
       "       [ 141481277, 1080032162, 1909997222, 1079584011],\n",
       "       [3678513166, 1079135860, 1862691910, 1080290065]], dtype=uint32)"
      ]
     },
     "execution_count": 169,
     "metadata": {},
     "output_type": "execute_result"
    }
   ],
   "source": [
    "empty_unit32 = np.empty((4,4), dtype = 'u4')\n",
    "empty_unit32"
   ]
  },
  {
   "cell_type": "raw",
   "id": "certified-treasury",
   "metadata": {},
   "source": [
    "Summary: <br>\n",
    "  - datatype can be defined by us **explicity** or by **implicity** by numpy itself <br>\n",
    "  - explicity we can define by passing argument **dtype = 'anytype'**<br>\n",
    "  - we can also define data type by using method **<array_aname>.astype('anytype')** or **<array_aname>.astype(<arr>.dtype)**"
   ]
  },
  {
   "cell_type": "markdown",
   "id": "incorrect-toolbox",
   "metadata": {},
   "source": [
    "### Arithmetic with NumPy Arrays"
   ]
  },
  {
   "cell_type": "code",
   "execution_count": 171,
   "id": "brutal-anthropology",
   "metadata": {},
   "outputs": [
    {
     "data": {
      "text/plain": [
       "array([[[ 0,  1,  2],\n",
       "        [ 3,  4,  5]],\n",
       "\n",
       "       [[ 6,  7,  8],\n",
       "        [ 9, 10, 11]]])"
      ]
     },
     "execution_count": 171,
     "metadata": {},
     "output_type": "execute_result"
    }
   ],
   "source": [
    "arr1 = np.arange(2*2*3).reshape(2,2,3)\n",
    "arr1"
   ]
  },
  {
   "cell_type": "code",
   "execution_count": 172,
   "id": "informative-arthur",
   "metadata": {},
   "outputs": [
    {
     "data": {
      "text/plain": [
       "array([[[ 0,  2,  4],\n",
       "        [ 6,  8, 10]],\n",
       "\n",
       "       [[12, 14, 16],\n",
       "        [18, 20, 22]]])"
      ]
     },
     "execution_count": 172,
     "metadata": {},
     "output_type": "execute_result"
    }
   ],
   "source": [
    "arr1 + arr1"
   ]
  },
  {
   "cell_type": "code",
   "execution_count": 173,
   "id": "driving-catering",
   "metadata": {},
   "outputs": [
    {
     "data": {
      "text/plain": [
       "array([[[0, 0, 0],\n",
       "        [0, 0, 0]],\n",
       "\n",
       "       [[0, 0, 0],\n",
       "        [0, 0, 0]]])"
      ]
     },
     "execution_count": 173,
     "metadata": {},
     "output_type": "execute_result"
    }
   ],
   "source": [
    "arr1 - arr1"
   ]
  },
  {
   "cell_type": "code",
   "execution_count": 174,
   "id": "utility-advancement",
   "metadata": {},
   "outputs": [
    {
     "data": {
      "text/plain": [
       "array([[[  0,   1,   4],\n",
       "        [  9,  16,  25]],\n",
       "\n",
       "       [[ 36,  49,  64],\n",
       "        [ 81, 100, 121]]])"
      ]
     },
     "execution_count": 174,
     "metadata": {},
     "output_type": "execute_result"
    }
   ],
   "source": [
    "arr1 * arr1"
   ]
  },
  {
   "cell_type": "code",
   "execution_count": 175,
   "id": "common-joshua",
   "metadata": {},
   "outputs": [
    {
     "name": "stderr",
     "output_type": "stream",
     "text": [
      "<ipython-input-175-bd5cb739dc42>:1: RuntimeWarning: invalid value encountered in true_divide\n",
      "  arr1 /arr1\n"
     ]
    },
    {
     "data": {
      "text/plain": [
       "array([[[nan,  1.,  1.],\n",
       "        [ 1.,  1.,  1.]],\n",
       "\n",
       "       [[ 1.,  1.,  1.],\n",
       "        [ 1.,  1.,  1.]]])"
      ]
     },
     "execution_count": 175,
     "metadata": {},
     "output_type": "execute_result"
    }
   ],
   "source": [
    "arr1 /arr1"
   ]
  },
  {
   "cell_type": "code",
   "execution_count": 177,
   "id": "invalid-insurance",
   "metadata": {},
   "outputs": [
    {
     "data": {
      "text/plain": [
       "array([[[  0,   1,   4],\n",
       "        [  9,  16,  25]],\n",
       "\n",
       "       [[ 36,  49,  64],\n",
       "        [ 81, 100, 121]]], dtype=int32)"
      ]
     },
     "execution_count": 177,
     "metadata": {},
     "output_type": "execute_result"
    }
   ],
   "source": [
    "arr1 ** 2"
   ]
  },
  {
   "cell_type": "code",
   "execution_count": 191,
   "id": "dying-banner",
   "metadata": {},
   "outputs": [],
   "source": [
    "arr2 = np.array([2,1,3,2,5,3,7,5,2,7,8,2])\n",
    "a = arr2.reshape(2,2,3)"
   ]
  },
  {
   "cell_type": "code",
   "execution_count": 192,
   "id": "ranking-ancient",
   "metadata": {},
   "outputs": [
    {
     "data": {
      "text/plain": [
       "(2, 2, 3)"
      ]
     },
     "execution_count": 192,
     "metadata": {},
     "output_type": "execute_result"
    }
   ],
   "source": [
    "arr1.shape"
   ]
  },
  {
   "cell_type": "code",
   "execution_count": 194,
   "id": "enabling-shannon",
   "metadata": {},
   "outputs": [
    {
     "data": {
      "text/plain": [
       "(12,)"
      ]
     },
     "execution_count": 194,
     "metadata": {},
     "output_type": "execute_result"
    }
   ],
   "source": [
    "arr2.shape"
   ]
  },
  {
   "cell_type": "code",
   "execution_count": 195,
   "id": "geographic-pursuit",
   "metadata": {},
   "outputs": [
    {
     "data": {
      "text/plain": [
       "(2, 2, 3)"
      ]
     },
     "execution_count": 195,
     "metadata": {},
     "output_type": "execute_result"
    }
   ],
   "source": [
    "a.shape"
   ]
  },
  {
   "cell_type": "code",
   "execution_count": 196,
   "id": "stretch-sandwich",
   "metadata": {},
   "outputs": [
    {
     "ename": "ValueError",
     "evalue": "operands could not be broadcast together with shapes (2,2,3) (12,) ",
     "output_type": "error",
     "traceback": [
      "\u001b[1;31m---------------------------------------------------------------------------\u001b[0m",
      "\u001b[1;31mValueError\u001b[0m                                Traceback (most recent call last)",
      "\u001b[1;32m<ipython-input-196-bc5c6f31cad1>\u001b[0m in \u001b[0;36m<module>\u001b[1;34m\u001b[0m\n\u001b[1;32m----> 1\u001b[1;33m \u001b[0marr1\u001b[0m \u001b[1;33m>\u001b[0m\u001b[0marr2\u001b[0m\u001b[1;33m\u001b[0m\u001b[1;33m\u001b[0m\u001b[0m\n\u001b[0m",
      "\u001b[1;31mValueError\u001b[0m: operands could not be broadcast together with shapes (2,2,3) (12,) "
     ]
    }
   ],
   "source": [
    "arr1 >arr2"
   ]
  },
  {
   "cell_type": "code",
   "execution_count": 197,
   "id": "clean-baghdad",
   "metadata": {},
   "outputs": [
    {
     "data": {
      "text/plain": [
       "array([[[False, False, False],\n",
       "        [ True, False,  True]],\n",
       "\n",
       "       [[False,  True,  True],\n",
       "        [ True,  True,  True]]])"
      ]
     },
     "execution_count": 197,
     "metadata": {},
     "output_type": "execute_result"
    }
   ],
   "source": [
    "arr1 > a"
   ]
  },
  {
   "cell_type": "markdown",
   "id": "chubby-project",
   "metadata": {},
   "source": [
    "### Basic Indexing and Slicing\n"
   ]
  },
  {
   "cell_type": "code",
   "execution_count": 200,
   "id": "automotive-examination",
   "metadata": {},
   "outputs": [
    {
     "data": {
      "text/plain": [
       "array([ 0,  1,  2,  3,  4,  5,  6,  7,  8,  9, 10, 11, 12, 13, 14])"
      ]
     },
     "execution_count": 200,
     "metadata": {},
     "output_type": "execute_result"
    }
   ],
   "source": [
    "arr = np.arange(15)\n",
    "arr"
   ]
  },
  {
   "cell_type": "code",
   "execution_count": 201,
   "id": "skilled-advisory",
   "metadata": {},
   "outputs": [
    {
     "data": {
      "text/plain": [
       "5"
      ]
     },
     "execution_count": 201,
     "metadata": {},
     "output_type": "execute_result"
    }
   ],
   "source": [
    "arr[5]"
   ]
  },
  {
   "cell_type": "code",
   "execution_count": 202,
   "id": "stainless-cargo",
   "metadata": {},
   "outputs": [
    {
     "data": {
      "text/plain": [
       "array([5, 6, 7])"
      ]
     },
     "execution_count": 202,
     "metadata": {},
     "output_type": "execute_result"
    }
   ],
   "source": [
    "arr[5:8]"
   ]
  },
  {
   "cell_type": "code",
   "execution_count": 204,
   "id": "flying-concord",
   "metadata": {},
   "outputs": [
    {
     "data": {
      "text/plain": [
       "array([ 0,  1,  2,  3,  4, 12, 12, 12,  8,  9, 10, 11, 12, 13, 14])"
      ]
     },
     "execution_count": 204,
     "metadata": {},
     "output_type": "execute_result"
    }
   ],
   "source": [
    "arr[5:8] = 12 #this type to assignment is not avaliable in python lists\n",
    "arr"
   ]
  },
  {
   "cell_type": "code",
   "execution_count": 212,
   "id": "bound-hospital",
   "metadata": {},
   "outputs": [],
   "source": [
    "arr_slice = arr[1:8]"
   ]
  },
  {
   "cell_type": "code",
   "execution_count": 213,
   "id": "engaging-quality",
   "metadata": {},
   "outputs": [
    {
     "data": {
      "text/plain": [
       "array([ 1,  2,  3,  4, 12, 12, 12])"
      ]
     },
     "execution_count": 213,
     "metadata": {},
     "output_type": "execute_result"
    }
   ],
   "source": [
    "arr_slice"
   ]
  },
  {
   "cell_type": "code",
   "execution_count": 214,
   "id": "impossible-saturn",
   "metadata": {},
   "outputs": [],
   "source": [
    "arr_slice[0] = 123"
   ]
  },
  {
   "cell_type": "code",
   "execution_count": 215,
   "id": "wrapped-scottish",
   "metadata": {},
   "outputs": [
    {
     "data": {
      "text/plain": [
       "array([123,   2,   3,   4,  12,  12,  12])"
      ]
     },
     "execution_count": 215,
     "metadata": {},
     "output_type": "execute_result"
    }
   ],
   "source": [
    "arr_slice"
   ]
  },
  {
   "cell_type": "code",
   "execution_count": 216,
   "id": "prescription-credit",
   "metadata": {},
   "outputs": [
    {
     "data": {
      "text/plain": [
       "array([  0, 123,   2,   3,   4,  12,  12,  12,   8,   9,  10,  11,  12,\n",
       "        13,  14])"
      ]
     },
     "execution_count": 216,
     "metadata": {},
     "output_type": "execute_result"
    }
   ],
   "source": [
    "arr #shallow_copy"
   ]
  },
  {
   "cell_type": "code",
   "execution_count": 218,
   "id": "federal-waste",
   "metadata": {},
   "outputs": [],
   "source": [
    "arr_slice[:] = 64 #“bare” slice [:] "
   ]
  },
  {
   "cell_type": "code",
   "execution_count": 219,
   "id": "loving-immigration",
   "metadata": {},
   "outputs": [
    {
     "data": {
      "text/plain": [
       "array([ 0, 64, 64, 64, 64, 64, 64, 64,  8,  9, 10, 11, 12, 13, 14])"
      ]
     },
     "execution_count": 219,
     "metadata": {},
     "output_type": "execute_result"
    }
   ],
   "source": [
    "arr"
   ]
  },
  {
   "cell_type": "markdown",
   "id": "julian-circular",
   "metadata": {},
   "source": [
    "If you want a copy of a slice of an ndarray instead of a view, \n",
    "you will need to explicitly copy the array—for example, **arr[5:8].copy()**"
   ]
  },
  {
   "cell_type": "code",
   "execution_count": 220,
   "id": "neither-consumer",
   "metadata": {},
   "outputs": [
    {
     "data": {
      "text/plain": [
       "array([[1, 2, 3],\n",
       "       [4, 5, 6],\n",
       "       [7, 8, 9]])"
      ]
     },
     "execution_count": 220,
     "metadata": {},
     "output_type": "execute_result"
    }
   ],
   "source": [
    "arr2d = np.array([[1,2,3], [4,5,6], [7,8,9]])\n",
    "arr2d"
   ]
  },
  {
   "cell_type": "code",
   "execution_count": 222,
   "id": "diverse-telescope",
   "metadata": {},
   "outputs": [
    {
     "data": {
      "text/plain": [
       "array([4, 5, 6])"
      ]
     },
     "execution_count": 222,
     "metadata": {},
     "output_type": "execute_result"
    }
   ],
   "source": [
    "row2 = arr2d[1].copy() #Deep_copy\n",
    "row2"
   ]
  },
  {
   "cell_type": "code",
   "execution_count": 226,
   "id": "stainless-engineer",
   "metadata": {},
   "outputs": [
    {
     "data": {
      "text/plain": [
       "array([8, 5, 6])"
      ]
     },
     "execution_count": 226,
     "metadata": {},
     "output_type": "execute_result"
    }
   ],
   "source": [
    "row2[0] = 8\n",
    "row2"
   ]
  },
  {
   "cell_type": "code",
   "execution_count": 227,
   "id": "everyday-gasoline",
   "metadata": {},
   "outputs": [
    {
     "data": {
      "text/plain": [
       "array([[1, 2, 3],\n",
       "       [4, 5, 6],\n",
       "       [7, 8, 9]])"
      ]
     },
     "execution_count": 227,
     "metadata": {},
     "output_type": "execute_result"
    }
   ],
   "source": [
    "arr2d"
   ]
  },
  {
   "cell_type": "code",
   "execution_count": 228,
   "id": "removed-israel",
   "metadata": {},
   "outputs": [
    {
     "data": {
      "text/plain": [
       "array([1, 2, 3])"
      ]
     },
     "execution_count": 228,
     "metadata": {},
     "output_type": "execute_result"
    }
   ],
   "source": [
    "arr2d[0]"
   ]
  },
  {
   "cell_type": "code",
   "execution_count": 229,
   "id": "recorded-stack",
   "metadata": {},
   "outputs": [
    {
     "data": {
      "text/plain": [
       "2"
      ]
     },
     "execution_count": 229,
     "metadata": {},
     "output_type": "execute_result"
    }
   ],
   "source": [
    "arr2d[0][1]"
   ]
  },
  {
   "cell_type": "code",
   "execution_count": 230,
   "id": "electoral-geology",
   "metadata": {},
   "outputs": [
    {
     "data": {
      "text/plain": [
       "array([1, 2])"
      ]
     },
     "execution_count": 230,
     "metadata": {},
     "output_type": "execute_result"
    }
   ],
   "source": [
    "arr2d[0][:2]"
   ]
  },
  {
   "cell_type": "code",
   "execution_count": 272,
   "id": "partial-series",
   "metadata": {},
   "outputs": [
    {
     "data": {
      "text/plain": [
       "array([[1, 2, 3],\n",
       "       [4, 5, 6],\n",
       "       [7, 8, 9]])"
      ]
     },
     "execution_count": 272,
     "metadata": {},
     "output_type": "execute_result"
    }
   ],
   "source": [
    "arr2d"
   ]
  },
  {
   "cell_type": "code",
   "execution_count": 277,
   "id": "medieval-apartment",
   "metadata": {},
   "outputs": [
    {
     "data": {
      "text/plain": [
       "array([[1, 2],\n",
       "       [4, 5],\n",
       "       [7, 8]])"
      ]
     },
     "execution_count": 277,
     "metadata": {},
     "output_type": "execute_result"
    }
   ],
   "source": [
    "arr2d[:,:2]"
   ]
  },
  {
   "cell_type": "code",
   "execution_count": 278,
   "id": "instrumental-tournament",
   "metadata": {},
   "outputs": [
    {
     "data": {
      "text/plain": [
       "array([[1, 2]])"
      ]
     },
     "execution_count": 278,
     "metadata": {},
     "output_type": "execute_result"
    }
   ],
   "source": [
    "arr2d[:1,:2]"
   ]
  },
  {
   "cell_type": "code",
   "execution_count": 286,
   "id": "private-permission",
   "metadata": {},
   "outputs": [
    {
     "data": {
      "text/plain": [
       "array([[2, 3],\n",
       "       [5, 6]])"
      ]
     },
     "execution_count": 286,
     "metadata": {},
     "output_type": "execute_result"
    }
   ],
   "source": [
    "arr2d[:2,1:]"
   ]
  },
  {
   "cell_type": "markdown",
   "id": "bulgarian-vietnamese",
   "metadata": {},
   "source": [
    "for an illustration of indexing on a two-dimensional array. I find it\n",
    "helpful to think of **axis 0** as the **“rows”** of the array and **axis 1** as the **“columns.”**\n"
   ]
  },
  {
   "cell_type": "markdown",
   "id": "exterior-bulletin",
   "metadata": {},
   "source": [
    "<img src = 'media/index_element.png'>"
   ]
  },
  {
   "cell_type": "markdown",
   "id": "accomplished-sunrise",
   "metadata": {},
   "source": [
    "<img src = 'media/2d_slicing.png'>"
   ]
  },
  {
   "cell_type": "code",
   "execution_count": 244,
   "id": "pediatric-family",
   "metadata": {},
   "outputs": [
    {
     "data": {
      "text/plain": [
       "array([[[1, 2, 3],\n",
       "        [4, 5, 6],\n",
       "        [7, 8, 9]]])"
      ]
     },
     "execution_count": 244,
     "metadata": {},
     "output_type": "execute_result"
    }
   ],
   "source": [
    "arr3d = np.array([[[1,2,3],[4,5,6], [7,8,9]]])\n",
    "arr3d"
   ]
  },
  {
   "cell_type": "code",
   "execution_count": 245,
   "id": "excited-citizenship",
   "metadata": {},
   "outputs": [
    {
     "data": {
      "text/plain": [
       "array([[1, 2, 3],\n",
       "       [4, 5, 6],\n",
       "       [7, 8, 9]])"
      ]
     },
     "execution_count": 245,
     "metadata": {},
     "output_type": "execute_result"
    }
   ],
   "source": [
    "arr3d[0]"
   ]
  },
  {
   "cell_type": "code",
   "execution_count": 246,
   "id": "rough-jordan",
   "metadata": {},
   "outputs": [
    {
     "data": {
      "text/plain": [
       "array([1, 2, 3])"
      ]
     },
     "execution_count": 246,
     "metadata": {},
     "output_type": "execute_result"
    }
   ],
   "source": [
    "arr3d[0][0]"
   ]
  },
  {
   "cell_type": "code",
   "execution_count": 247,
   "id": "static-front",
   "metadata": {},
   "outputs": [
    {
     "data": {
      "text/plain": [
       "1"
      ]
     },
     "execution_count": 247,
     "metadata": {},
     "output_type": "execute_result"
    }
   ],
   "source": [
    "arr3d[0][0][0]"
   ]
  },
  {
   "cell_type": "code",
   "execution_count": 259,
   "id": "attached-damage",
   "metadata": {},
   "outputs": [
    {
     "data": {
      "text/plain": [
       "array([[[1, 2, 3],\n",
       "        [4, 5, 6],\n",
       "        [7, 8, 9]],\n",
       "\n",
       "       [[9, 8, 7],\n",
       "        [6, 5, 4],\n",
       "        [4, 3, 2]]])"
      ]
     },
     "execution_count": 259,
     "metadata": {},
     "output_type": "execute_result"
    }
   ],
   "source": [
    "arr3d = np.array([[[1,2,3],[4,5,6], [7,8,9]],[[9,8,7],[6,5,4], [4,3,2]]])\n",
    "arr3d"
   ]
  },
  {
   "cell_type": "code",
   "execution_count": 260,
   "id": "vietnamese-communist",
   "metadata": {},
   "outputs": [
    {
     "data": {
      "text/plain": [
       "array([[9, 8, 7],\n",
       "       [6, 5, 4],\n",
       "       [4, 3, 2]])"
      ]
     },
     "execution_count": 260,
     "metadata": {},
     "output_type": "execute_result"
    }
   ],
   "source": [
    "arr3d[1]"
   ]
  },
  {
   "cell_type": "code",
   "execution_count": 261,
   "id": "worst-ordinary",
   "metadata": {},
   "outputs": [
    {
     "data": {
      "text/plain": [
       "array([4, 3, 2])"
      ]
     },
     "execution_count": 261,
     "metadata": {},
     "output_type": "execute_result"
    }
   ],
   "source": [
    "arr3d[1][2]"
   ]
  },
  {
   "cell_type": "code",
   "execution_count": 262,
   "id": "prospective-harrison",
   "metadata": {},
   "outputs": [
    {
     "data": {
      "text/plain": [
       "4"
      ]
     },
     "execution_count": 262,
     "metadata": {},
     "output_type": "execute_result"
    }
   ],
   "source": [
    "arr3d[1][2][0]"
   ]
  },
  {
   "cell_type": "code",
   "execution_count": 263,
   "id": "negative-sender",
   "metadata": {},
   "outputs": [
    {
     "data": {
      "text/plain": [
       "array([[1, 2, 3],\n",
       "       [4, 5, 6],\n",
       "       [7, 8, 9]])"
      ]
     },
     "execution_count": 263,
     "metadata": {},
     "output_type": "execute_result"
    }
   ],
   "source": [
    "my_slice = arr3d[0].copy() #shallow_copy\n",
    "my_slice"
   ]
  },
  {
   "cell_type": "code",
   "execution_count": 264,
   "id": "advised-renewal",
   "metadata": {},
   "outputs": [],
   "source": [
    "my_slice[0] = 20"
   ]
  },
  {
   "cell_type": "code",
   "execution_count": 265,
   "id": "solid-graph",
   "metadata": {},
   "outputs": [
    {
     "data": {
      "text/plain": [
       "array([[20, 20, 20],\n",
       "       [ 4,  5,  6],\n",
       "       [ 7,  8,  9]])"
      ]
     },
     "execution_count": 265,
     "metadata": {},
     "output_type": "execute_result"
    }
   ],
   "source": [
    "my_slice"
   ]
  },
  {
   "cell_type": "code",
   "execution_count": 266,
   "id": "brief-astronomy",
   "metadata": {},
   "outputs": [
    {
     "data": {
      "text/plain": [
       "array([[[1, 2, 3],\n",
       "        [4, 5, 6],\n",
       "        [7, 8, 9]],\n",
       "\n",
       "       [[9, 8, 7],\n",
       "        [6, 5, 4],\n",
       "        [4, 3, 2]]])"
      ]
     },
     "execution_count": 266,
     "metadata": {},
     "output_type": "execute_result"
    }
   ],
   "source": [
    "arr3d"
   ]
  },
  {
   "cell_type": "code",
   "execution_count": 271,
   "id": "weekly-insider",
   "metadata": {},
   "outputs": [
    {
     "data": {
      "text/plain": [
       "3"
      ]
     },
     "execution_count": 271,
     "metadata": {},
     "output_type": "execute_result"
    }
   ],
   "source": [
    "arr3d[1,2,1]"
   ]
  },
  {
   "cell_type": "markdown",
   "id": "annoying-pontiac",
   "metadata": {},
   "source": [
    "### Boolean Indexing"
   ]
  },
  {
   "cell_type": "code",
   "execution_count": 290,
   "id": "sophisticated-gardening",
   "metadata": {},
   "outputs": [
    {
     "data": {
      "text/plain": [
       "array(['Hassan', 'Qasim', 'Muneeb', 'Mehmood', 'Hassan', 'ali', 'Hassan'],\n",
       "      dtype='<U7')"
      ]
     },
     "execution_count": 290,
     "metadata": {},
     "output_type": "execute_result"
    }
   ],
   "source": [
    "names = np.array(['Hassan', 'Qasim', 'Muneeb', 'Mehmood', 'Hassan', 'ali', 'Hassan'])\n",
    "names"
   ]
  },
  {
   "cell_type": "code",
   "execution_count": 292,
   "id": "persistent-watts",
   "metadata": {},
   "outputs": [
    {
     "data": {
      "text/plain": [
       "array([[ 0.00867968,  0.66265378,  1.64639849, -0.70284968],\n",
       "       [-2.59840317, -1.25756594, -1.57233337, -1.72016783],\n",
       "       [-0.07537113,  1.20681034, -0.18263905,  0.20155457],\n",
       "       [ 0.11010959, -0.18962136,  1.90073563, -0.13034739],\n",
       "       [ 1.6195543 , -1.48695066, -0.59288423,  0.28799762],\n",
       "       [ 0.010986  , -1.40825973, -0.9763893 , -0.6747131 ],\n",
       "       [ 1.09247887, -0.11260554,  1.70056177,  1.16405945]])"
      ]
     },
     "execution_count": 292,
     "metadata": {},
     "output_type": "execute_result"
    }
   ],
   "source": [
    "data = np.random.randn(7,4)\n",
    "data"
   ]
  },
  {
   "cell_type": "code",
   "execution_count": 293,
   "id": "changed-diploma",
   "metadata": {},
   "outputs": [
    {
     "data": {
      "text/plain": [
       "array([ True, False, False, False,  True, False,  True])"
      ]
     },
     "execution_count": 293,
     "metadata": {},
     "output_type": "execute_result"
    }
   ],
   "source": [
    "names == 'Hassan'"
   ]
  },
  {
   "cell_type": "code",
   "execution_count": 295,
   "id": "choice-projection",
   "metadata": {},
   "outputs": [
    {
     "data": {
      "text/plain": [
       "array([[ 0.00867968,  0.66265378,  1.64639849, -0.70284968],\n",
       "       [ 1.6195543 , -1.48695066, -0.59288423,  0.28799762],\n",
       "       [ 1.09247887, -0.11260554,  1.70056177,  1.16405945]])"
      ]
     },
     "execution_count": 295,
     "metadata": {},
     "output_type": "execute_result"
    }
   ],
   "source": [
    "data[names == 'Hassan']"
   ]
  },
  {
   "cell_type": "code",
   "execution_count": 296,
   "id": "major-qatar",
   "metadata": {},
   "outputs": [
    {
     "data": {
      "text/plain": [
       "array([[ 1.64639849, -0.70284968],\n",
       "       [-0.59288423,  0.28799762],\n",
       "       [ 1.70056177,  1.16405945]])"
      ]
     },
     "execution_count": 296,
     "metadata": {},
     "output_type": "execute_result"
    }
   ],
   "source": [
    "data[names == 'Hassan', 2:]"
   ]
  },
  {
   "cell_type": "code",
   "execution_count": 297,
   "id": "prospective-universal",
   "metadata": {},
   "outputs": [
    {
     "data": {
      "text/plain": [
       "array([False,  True,  True,  True, False,  True, False])"
      ]
     },
     "execution_count": 297,
     "metadata": {},
     "output_type": "execute_result"
    }
   ],
   "source": [
    "names != 'Hassan'"
   ]
  },
  {
   "cell_type": "code",
   "execution_count": 299,
   "id": "enhanced-gambling",
   "metadata": {},
   "outputs": [
    {
     "data": {
      "text/plain": [
       "array([[-1.57233337, -1.72016783],\n",
       "       [-0.18263905,  0.20155457],\n",
       "       [ 1.90073563, -0.13034739],\n",
       "       [-0.9763893 , -0.6747131 ]])"
      ]
     },
     "execution_count": 299,
     "metadata": {},
     "output_type": "execute_result"
    }
   ],
   "source": [
    "data[(names!='Hassan'), 2:] # using != operator "
   ]
  },
  {
   "cell_type": "code",
   "execution_count": 300,
   "id": "preceding-sheriff",
   "metadata": {},
   "outputs": [
    {
     "data": {
      "text/plain": [
       "array([[-1.57233337, -1.72016783],\n",
       "       [-0.18263905,  0.20155457],\n",
       "       [ 1.90073563, -0.13034739],\n",
       "       [-0.9763893 , -0.6747131 ]])"
      ]
     },
     "execution_count": 300,
     "metadata": {},
     "output_type": "execute_result"
    }
   ],
   "source": [
    "data[ ~(names=='Hassan'), 2:] #using ~ sign"
   ]
  },
  {
   "cell_type": "code",
   "execution_count": 302,
   "id": "amazing-indicator",
   "metadata": {},
   "outputs": [],
   "source": [
    "condition = names=='Qasim'"
   ]
  },
  {
   "cell_type": "code",
   "execution_count": 304,
   "id": "veterinary-addiction",
   "metadata": {},
   "outputs": [
    {
     "data": {
      "text/plain": [
       "array([[-2.59840317, -1.25756594, -1.57233337, -1.72016783]])"
      ]
     },
     "execution_count": 304,
     "metadata": {},
     "output_type": "execute_result"
    }
   ],
   "source": [
    "data[condition]"
   ]
  },
  {
   "cell_type": "code",
   "execution_count": 307,
   "id": "economic-creature",
   "metadata": {},
   "outputs": [],
   "source": [
    "condition1 = (names == \"Hassan\") | (names== 'Qasim')"
   ]
  },
  {
   "cell_type": "code",
   "execution_count": 308,
   "id": "promising-central",
   "metadata": {},
   "outputs": [
    {
     "data": {
      "text/plain": [
       "array([[ 0.00867968,  0.66265378,  1.64639849, -0.70284968],\n",
       "       [-2.59840317, -1.25756594, -1.57233337, -1.72016783],\n",
       "       [ 1.6195543 , -1.48695066, -0.59288423,  0.28799762],\n",
       "       [ 1.09247887, -0.11260554,  1.70056177,  1.16405945]])"
      ]
     },
     "execution_count": 308,
     "metadata": {},
     "output_type": "execute_result"
    }
   ],
   "source": [
    "data[condition1]"
   ]
  },
  {
   "cell_type": "code",
   "execution_count": 311,
   "id": "harmful-dominant",
   "metadata": {},
   "outputs": [
    {
     "data": {
      "text/plain": [
       "array([[0.00867968, 0.66265378, 1.64639849, 0.        ],\n",
       "       [0.        , 0.        , 0.        , 0.        ],\n",
       "       [0.        , 1.20681034, 0.        , 0.20155457],\n",
       "       [0.11010959, 0.        , 1.90073563, 0.        ],\n",
       "       [1.6195543 , 0.        , 0.        , 0.28799762],\n",
       "       [0.010986  , 0.        , 0.        , 0.        ],\n",
       "       [1.09247887, 0.        , 1.70056177, 1.16405945]])"
      ]
     },
     "execution_count": 311,
     "metadata": {},
     "output_type": "execute_result"
    }
   ],
   "source": [
    "data [data<0] =0  #eg: relu function\n",
    "data"
   ]
  },
  {
   "cell_type": "code",
   "execution_count": 312,
   "id": "convertible-stephen",
   "metadata": {},
   "outputs": [],
   "source": [
    "data [names != \"Hassan\"] = 0"
   ]
  },
  {
   "cell_type": "code",
   "execution_count": 313,
   "id": "offshore-michigan",
   "metadata": {},
   "outputs": [
    {
     "data": {
      "text/plain": [
       "array([[0.00867968, 0.66265378, 1.64639849, 0.        ],\n",
       "       [0.        , 0.        , 0.        , 0.        ],\n",
       "       [0.        , 0.        , 0.        , 0.        ],\n",
       "       [0.        , 0.        , 0.        , 0.        ],\n",
       "       [1.6195543 , 0.        , 0.        , 0.28799762],\n",
       "       [0.        , 0.        , 0.        , 0.        ],\n",
       "       [1.09247887, 0.        , 1.70056177, 1.16405945]])"
      ]
     },
     "execution_count": 313,
     "metadata": {},
     "output_type": "execute_result"
    }
   ],
   "source": [
    "data"
   ]
  },
  {
   "cell_type": "markdown",
   "id": "convertible-vaccine",
   "metadata": {},
   "source": [
    "### Fancy Indexing\n",
    "Fancy indexing is a term adopted by NumPy to describe indexing using **integer arrays**."
   ]
  },
  {
   "cell_type": "code",
   "execution_count": 316,
   "id": "received-style",
   "metadata": {},
   "outputs": [
    {
     "data": {
      "text/plain": [
       "array([[0.94673713, 0.49195027, 2.338743  , 1.55362387],\n",
       "       [1.11694927, 2.52613114, 2.38241769, 1.81074474],\n",
       "       [2.47519143, 0.23860916, 1.06588217, 3.13009715],\n",
       "       [1.48949067, 0.34222048, 0.32835169, 1.92826101],\n",
       "       [1.8410043 , 2.76146578, 1.32623379, 2.55708402],\n",
       "       [2.67493314, 2.8284396 , 2.29092702, 0.13588428],\n",
       "       [1.31077379, 3.07680425, 3.52343985, 2.5825978 ],\n",
       "       [0.90833052, 2.54627204, 2.70391858, 1.412488  ]])"
      ]
     },
     "execution_count": 316,
     "metadata": {},
     "output_type": "execute_result"
    }
   ],
   "source": [
    "arr = np.empty((8,4))\n",
    "arr"
   ]
  },
  {
   "cell_type": "code",
   "execution_count": 320,
   "id": "directed-anderson",
   "metadata": {},
   "outputs": [
    {
     "data": {
      "text/plain": [
       "array([[0., 0., 0., 0.],\n",
       "       [1., 1., 1., 1.],\n",
       "       [2., 2., 2., 2.],\n",
       "       [3., 3., 3., 3.],\n",
       "       [4., 4., 4., 4.],\n",
       "       [5., 5., 5., 5.],\n",
       "       [6., 6., 6., 6.],\n",
       "       [7., 7., 7., 7.]])"
      ]
     },
     "execution_count": 320,
     "metadata": {},
     "output_type": "execute_result"
    }
   ],
   "source": [
    "for i in range(8):\n",
    "    arr[i] = i\n",
    "arr"
   ]
  },
  {
   "cell_type": "code",
   "execution_count": 323,
   "id": "medical-reproduction",
   "metadata": {},
   "outputs": [
    {
     "data": {
      "text/plain": [
       "array([[4., 4., 4., 4.],\n",
       "       [3., 3., 3., 3.],\n",
       "       [1., 1., 1., 1.],\n",
       "       [7., 7., 7., 7.]])"
      ]
     },
     "execution_count": 323,
     "metadata": {},
     "output_type": "execute_result"
    }
   ],
   "source": [
    "arr[[4,3,1,7]]"
   ]
  },
  {
   "cell_type": "code",
   "execution_count": 324,
   "id": "digital-norman",
   "metadata": {},
   "outputs": [
    {
     "data": {
      "text/plain": [
       "array([[7., 7., 7., 7.],\n",
       "       [6., 6., 6., 6.],\n",
       "       [5., 5., 5., 5.],\n",
       "       [4., 4., 4., 4.]])"
      ]
     },
     "execution_count": 324,
     "metadata": {},
     "output_type": "execute_result"
    }
   ],
   "source": [
    "arr[[-1,-2,-3,-4]]  # regative slicing"
   ]
  },
  {
   "cell_type": "code",
   "execution_count": 327,
   "id": "concrete-karaoke",
   "metadata": {},
   "outputs": [
    {
     "data": {
      "text/plain": [
       "array([[ 0,  1,  2,  3],\n",
       "       [ 4,  5,  6,  7],\n",
       "       [ 8,  9, 10, 11],\n",
       "       [12, 13, 14, 15],\n",
       "       [16, 17, 18, 19],\n",
       "       [20, 21, 22, 23],\n",
       "       [24, 25, 26, 27],\n",
       "       [28, 29, 30, 31]])"
      ]
     },
     "execution_count": 327,
     "metadata": {},
     "output_type": "execute_result"
    }
   ],
   "source": [
    "arr1 = np.arange(32). reshape((8,4))\n",
    "arr1"
   ]
  },
  {
   "cell_type": "code",
   "execution_count": 330,
   "id": "early-columbus",
   "metadata": {},
   "outputs": [
    {
     "data": {
      "text/plain": [
       "array([ 5, 10, 15, 16])"
      ]
     },
     "execution_count": 330,
     "metadata": {},
     "output_type": "execute_result"
    }
   ],
   "source": [
    "arr1[[1,2,3,4],[1,2,3,0]]"
   ]
  },
  {
   "cell_type": "code",
   "execution_count": 332,
   "id": "solved-basic",
   "metadata": {},
   "outputs": [
    {
     "data": {
      "text/plain": [
       "array([[ 4,  7,  5,  6],\n",
       "       [20, 23, 21, 22],\n",
       "       [28, 31, 29, 30],\n",
       "       [ 8, 11,  9, 10]])"
      ]
     },
     "execution_count": 332,
     "metadata": {},
     "output_type": "execute_result"
    }
   ],
   "source": [
    "arr1[[1, 5, 7, 2]][:, [0, 3, 1, 2]]"
   ]
  },
  {
   "cell_type": "markdown",
   "id": "dated-exposure",
   "metadata": {},
   "source": [
    "Keep in mind that fancy indexing, unlike slicing, always copies the data into a new\n",
    "array"
   ]
  },
  {
   "cell_type": "markdown",
   "id": "raising-stone",
   "metadata": {},
   "source": [
    "### Transposing Arrays and Swapping Axes"
   ]
  },
  {
   "cell_type": "code",
   "execution_count": 344,
   "id": "presidential-shooting",
   "metadata": {},
   "outputs": [
    {
     "data": {
      "text/plain": [
       "array([[ 0,  1,  2,  3,  4],\n",
       "       [ 5,  6,  7,  8,  9],\n",
       "       [10, 11, 12, 13, 14]])"
      ]
     },
     "execution_count": 344,
     "metadata": {},
     "output_type": "execute_result"
    }
   ],
   "source": [
    "arrd2 = np.arange(15).reshape(3,5)\n",
    "arrd2"
   ]
  },
  {
   "cell_type": "code",
   "execution_count": 345,
   "id": "eleven-essence",
   "metadata": {},
   "outputs": [
    {
     "data": {
      "text/plain": [
       "array([[ 0,  5, 10],\n",
       "       [ 1,  6, 11],\n",
       "       [ 2,  7, 12],\n",
       "       [ 3,  8, 13],\n",
       "       [ 4,  9, 14]])"
      ]
     },
     "execution_count": 345,
     "metadata": {},
     "output_type": "execute_result"
    }
   ],
   "source": [
    "arrd2.T"
   ]
  },
  {
   "cell_type": "code",
   "execution_count": 346,
   "id": "african-conditions",
   "metadata": {},
   "outputs": [
    {
     "data": {
      "text/plain": [
       "array([[ 0,  5, 10],\n",
       "       [ 1,  6, 11],\n",
       "       [ 2,  7, 12],\n",
       "       [ 3,  8, 13],\n",
       "       [ 4,  9, 14]])"
      ]
     },
     "execution_count": 346,
     "metadata": {},
     "output_type": "execute_result"
    }
   ],
   "source": [
    "arrd2.transpose()"
   ]
  },
  {
   "cell_type": "code",
   "execution_count": 348,
   "id": "expected-monster",
   "metadata": {},
   "outputs": [
    {
     "data": {
      "text/plain": [
       "array([[125, 140, 155, 170, 185],\n",
       "       [140, 158, 176, 194, 212],\n",
       "       [155, 176, 197, 218, 239],\n",
       "       [170, 194, 218, 242, 266],\n",
       "       [185, 212, 239, 266, 293]])"
      ]
     },
     "execution_count": 348,
     "metadata": {},
     "output_type": "execute_result"
    }
   ],
   "source": [
    "np.dot(arrd2.T, arrd2) # row * column --> 0*0 + 5*6 + 10*10  = 125 --> 0*1 + 5*6 + 11*10 = 140"
   ]
  },
  {
   "cell_type": "code",
   "execution_count": 350,
   "id": "general-greece",
   "metadata": {},
   "outputs": [
    {
     "data": {
      "text/plain": [
       "array([[ 0,  1,  2,  3],\n",
       "       [ 4,  5,  6,  7],\n",
       "       [ 8,  9, 10, 11],\n",
       "       [12, 13, 14, 15]])"
      ]
     },
     "execution_count": 350,
     "metadata": {},
     "output_type": "execute_result"
    }
   ],
   "source": [
    "arr  = np.arange(16).reshape(4,4)\n",
    "arr"
   ]
  },
  {
   "cell_type": "code",
   "execution_count": 360,
   "id": "optical-provision",
   "metadata": {},
   "outputs": [
    {
     "data": {
      "text/plain": [
       "array([[ 0,  4,  8, 12],\n",
       "       [ 1,  5,  9, 13],\n",
       "       [ 2,  6, 10, 14],\n",
       "       [ 3,  7, 11, 15]])"
      ]
     },
     "execution_count": 360,
     "metadata": {},
     "output_type": "execute_result"
    }
   ],
   "source": [
    "arr.transpose((1,0))"
   ]
  },
  {
   "cell_type": "code",
   "execution_count": 365,
   "id": "limiting-adelaide",
   "metadata": {},
   "outputs": [
    {
     "data": {
      "text/plain": [
       "array([[[ 0,  1,  2,  3],\n",
       "        [ 4,  5,  6,  7]],\n",
       "\n",
       "       [[ 8,  9, 10, 11],\n",
       "        [12, 13, 14, 15]]])"
      ]
     },
     "execution_count": 365,
     "metadata": {},
     "output_type": "execute_result"
    }
   ],
   "source": [
    "a = arr.reshape(2,2,4)\n",
    "a"
   ]
  },
  {
   "cell_type": "code",
   "execution_count": 374,
   "id": "intense-norway",
   "metadata": {},
   "outputs": [
    {
     "data": {
      "text/plain": [
       "array([[[ 0,  8],\n",
       "        [ 1,  9],\n",
       "        [ 2, 10],\n",
       "        [ 3, 11]],\n",
       "\n",
       "       [[ 4, 12],\n",
       "        [ 5, 13],\n",
       "        [ 6, 14],\n",
       "        [ 7, 15]]])"
      ]
     },
     "execution_count": 374,
     "metadata": {},
     "output_type": "execute_result"
    }
   ],
   "source": [
    "a.transpose((1,2,0))"
   ]
  },
  {
   "cell_type": "code",
   "execution_count": null,
   "id": "sorted-belfast",
   "metadata": {},
   "outputs": [],
   "source": []
  }
 ],
 "metadata": {
  "kernelspec": {
   "display_name": "Python 3",
   "language": "python",
   "name": "python3"
  },
  "language_info": {
   "codemirror_mode": {
    "name": "ipython",
    "version": 3
   },
   "file_extension": ".py",
   "mimetype": "text/x-python",
   "name": "python",
   "nbconvert_exporter": "python",
   "pygments_lexer": "ipython3",
   "version": "3.8.8"
  }
 },
 "nbformat": 4,
 "nbformat_minor": 5
}
