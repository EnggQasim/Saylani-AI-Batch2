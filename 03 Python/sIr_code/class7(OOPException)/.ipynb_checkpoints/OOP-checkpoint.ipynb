{
 "cells": [
  {
   "cell_type": "markdown",
   "metadata": {},
   "source": [
    "# Topic\n",
    "- Class\n",
    "- instance\n",
    "- Method\n",
    "- Attributes/properties\n",
    "- class variable\n",
    "- instance variable\n",
    "- inheritance\n",
    "- encupsolation\n",
    "- Abstraction\n",
    "- Ploymorphisim"
   ]
  },
  {
   "cell_type": "code",
   "execution_count": null,
   "metadata": {},
   "outputs": [],
   "source": [
    "s1name = \"An\"\n",
    "s1fname = \"Af\"\n",
    "s1age = 20\n",
    "def s1speak():pass\n",
    "def s1listing():pass\n",
    "def eating():pass\n",
    "\n",
    "s2name = \"Bn\"\n",
    "s2fname = \"Bf\"\n",
    "s2age = 20\n",
    "def s2speak():pass\n",
    "def s2listing():pass\n",
    "def e2ting():pass"
   ]
  },
  {
   "cell_type": "markdown",
   "metadata": {},
   "source": [
    "# OOP"
   ]
  },
  {
   "cell_type": "code",
   "execution_count": 1,
   "metadata": {},
   "outputs": [],
   "source": [
    "class Student(): # Class\n",
    "    pass # Class Defination\n",
    "\n",
    "s1 = Student() # s1 instance/Object calling Constructor\n",
    "s2 = Student()\n",
    "s3 = Student()"
   ]
  },
  {
   "cell_type": "code",
   "execution_count": 2,
   "metadata": {},
   "outputs": [],
   "source": [
    "class Student():#Class\n",
    "    def __init__(self, sid, name):#Constructor\n",
    "        self.sid = sid #Attributes/properties/DataMember/Field\n",
    "        self.name = name #Attributes/properties/DataMember/Field\n",
    "        self.fname = \"\"#Attributes/properties/DataMember/Field\n",
    "        self.age = 0#Attributes/properties/DataMember/Field\n",
    "        \n",
    "    def login(self, user, password):#Method\n",
    "        self.name = user\n",
    "        print(\"Welcome!\", self.name)\n",
    "        \n",
    "    def logout(self):pass #Method\n",
    "    def quiz_attempt(self):pass # Method"
   ]
  },
  {
   "cell_type": "code",
   "execution_count": null,
   "metadata": {},
   "outputs": [],
   "source": [
    "s1 = Student(1)"
   ]
  }
 ],
 "metadata": {
  "kernelspec": {
   "display_name": "Python 3",
   "language": "python",
   "name": "python3"
  },
  "language_info": {
   "codemirror_mode": {
    "name": "ipython",
    "version": 3
   },
   "file_extension": ".py",
   "mimetype": "text/x-python",
   "name": "python",
   "nbconvert_exporter": "python",
   "pygments_lexer": "ipython3",
   "version": "3.7.1"
  }
 },
 "nbformat": 4,
 "nbformat_minor": 2
}
