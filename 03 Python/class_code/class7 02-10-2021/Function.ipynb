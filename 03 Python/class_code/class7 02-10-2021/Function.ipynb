{
 "cells": [
  {
   "cell_type": "markdown",
   "metadata": {},
   "source": [
    "## Functions\n",
    "* Pre define functions\n",
    "* User Define Functions\n",
    "* Recursive Functions\n",
    "* Lambda Functions\n",
    "\n",
    "\n",
    "- Required Arguments\n",
    "- Optional Arguments\n",
    "- Return\n",
    "- Non Return\n",
    "- Defualt Arguments\n",
    "- postional Arguments\n",
    "- KeyWord Arguments\n",
    "- Argument with List\n",
    "- Argument with Dictionary\n",
    "- pre defineFunctions\n",
    "- User defineFunctions"
   ]
  },
  {
   "cell_type": "code",
   "execution_count": 1,
   "metadata": {},
   "outputs": [
    {
     "name": "stdout",
     "output_type": "stream",
     "text": [
      "Pakistan zinda bad\n",
      "We are Pakistani\n",
      "We love our country!\n",
      "Pakistan zinda bad\n",
      "We are Pakistani\n",
      "We love our country!\n",
      "Pakistan zinda bad\n",
      "We are Pakistani\n",
      "We love our country!\n"
     ]
    }
   ],
   "source": [
    "print(\"Pakistan zinda bad\")\n",
    "print(\"We are Pakistani\")\n",
    "print(\"We love our country!\")\n",
    "\n",
    "print(\"Pakistan zinda bad\")\n",
    "print(\"We are Pakstani\")\n",
    "print(\"We love our country!\")\n",
    "\n",
    "print(\"Pakistan zinda bad\")\n",
    "print(\"We are Pakstani\")\n",
    "print(\"We love our country!\")\n",
    "\n"
   ]
  },
  {
   "cell_type": "markdown",
   "metadata": {},
   "source": [
    "# Pre define Functions"
   ]
  },
  {
   "cell_type": "code",
   "execution_count": 2,
   "metadata": {},
   "outputs": [
    {
     "name": "stdout",
     "output_type": "stream",
     "text": [
      "Pre Define Fucntions\n",
      "abcaa\n",
      "<class 'int'>\n",
      "2\n",
      "139692188486208\n"
     ]
    }
   ],
   "source": [
    "print(\"Pre Define Fucntions\")\n",
    "input(\"abc\")\n",
    "print(type(22))\n",
    "print(len('ad'))\n",
    "print(id('aa'))"
   ]
  },
  {
   "cell_type": "markdown",
   "metadata": {},
   "source": [
    "# User Define Functions"
   ]
  },
  {
   "cell_type": "code",
   "execution_count": 4,
   "metadata": {},
   "outputs": [
    {
     "name": "stdout",
     "output_type": "stream",
     "text": [
      "Pakistan zinda bad\n",
      "We are ABC\n",
      "We love our country!\n",
      "----------------------\n",
      "Pakistan zinda bad\n",
      "We are ABC\n",
      "We love our country!\n",
      "----------------------\n",
      "Pakistan zinda bad\n",
      "We are ABC\n",
      "We love our country!\n",
      "----------------------\n",
      "Pakistan zinda bad\n",
      "We are ABC\n",
      "We love our country!\n",
      "----------------------\n",
      "Pakistan zinda bad\n",
      "We are ABC\n",
      "We love our country!\n",
      "----------------------\n",
      "Pakistan zinda bad\n",
      "We are ABC\n",
      "We love our country!\n",
      "----------------------\n"
     ]
    }
   ],
   "source": [
    "def abc(): # Function Dec\n",
    "    #Body Start indentation block\n",
    "    print(\"Pakistan zinda bad\") # Statment1\n",
    "    print(\"We are ABC\")#statment2\n",
    "    print(\"We love our country!\")#Statment3\n",
    "    print(\"----------------------\")\n",
    "    #Body End indentation block\n",
    "    \n",
    "    \n",
    "abc()    # Defualt Function\n",
    "abc()    \n",
    "abc()    \n",
    "abc()    \n",
    "abc()    \n",
    "abc()    "
   ]
  },
  {
   "cell_type": "markdown",
   "metadata": {},
   "source": [
    "# Required Arguments Functions"
   ]
  },
  {
   "cell_type": "code",
   "execution_count": 8,
   "metadata": {},
   "outputs": [
    {
     "ename": "TypeError",
     "evalue": "len() takes exactly one argument (0 given)",
     "output_type": "error",
     "traceback": [
      "\u001b[1;31m---------------------------------------------------------------------------\u001b[0m",
      "\u001b[1;31mTypeError\u001b[0m                                 Traceback (most recent call last)",
      "\u001b[1;32m<ipython-input-8-2afbcd4796dd>\u001b[0m in \u001b[0;36m<module>\u001b[1;34m\u001b[0m\n\u001b[1;32m----> 1\u001b[1;33m \u001b[0mlen\u001b[0m\u001b[1;33m(\u001b[0m\u001b[1;33m)\u001b[0m \u001b[1;31m#len() takes exactly one argument (0 given)\u001b[0m\u001b[1;33m\u001b[0m\u001b[1;33m\u001b[0m\u001b[0m\n\u001b[0m",
      "\u001b[1;31mTypeError\u001b[0m: len() takes exactly one argument (0 given)"
     ]
    }
   ],
   "source": [
    "len() #len() takes exactly one argument (0 given)"
   ]
  },
  {
   "cell_type": "code",
   "execution_count": 9,
   "metadata": {},
   "outputs": [
    {
     "name": "stdout",
     "output_type": "stream",
     "text": [
      "\n",
      "    PIAIC Islamabad\n",
      "    Student id: SMIT04588\n",
      "    Student Name: Qasim\n",
      "    Father's Name: Hassan\n",
      "    Course: A.I\n",
      "    Timing: 09 to 11\n",
      "    \n",
      "\n",
      "    PIAIC Islamabad\n",
      "    Student id: SMIT0659\n",
      "    Student Name: Haseeb\n",
      "    Father's Name: Aslam\n",
      "    Course: DS\n",
      "    Timing: 11 to 2:30\n",
      "    \n"
     ]
    }
   ],
   "source": [
    "def id_card(sid, sname, fname, course, timing):\n",
    "    print(\n",
    "    f\"\"\"\n",
    "    PIAIC Islamabad\n",
    "    Student id: {sid}\n",
    "    Student Name: {sname}\n",
    "    Father's Name: {fname}\n",
    "    Course: {course}\n",
    "    Timing: {timing}\n",
    "    \"\"\"\n",
    "    )\n",
    "    \n",
    "id_card('SMIT04588','Qasim','Hassan','A.I','09 to 11')    \n",
    "id_card('SMIT0659', 'Haseeb', 'Aslam', 'DS', '11 to 2:30')"
   ]
  },
  {
   "cell_type": "code",
   "execution_count": null,
   "metadata": {},
   "outputs": [],
   "source": [
    "id_card() # Shift+TAB to check number of argumnet"
   ]
  },
  {
   "cell_type": "code",
   "execution_count": 9,
   "metadata": {},
   "outputs": [
    {
     "ename": "TypeError",
     "evalue": "id_card() missing 2 required positional arguments: 'course' and 'timing'",
     "output_type": "error",
     "traceback": [
      "\u001b[0;31m---------------------------------------------------------------------------\u001b[0m",
      "\u001b[0;31mTypeError\u001b[0m                                 Traceback (most recent call last)",
      "\u001b[0;32m<ipython-input-9-c9ed5af47391>\u001b[0m in \u001b[0;36m<module>\u001b[0;34m\u001b[0m\n\u001b[0;32m----> 1\u001b[0;31m \u001b[0mid_card\u001b[0m\u001b[0;34m(\u001b[0m\u001b[0;36m1\u001b[0m\u001b[0;34m,\u001b[0m\u001b[0;34m'Qasim'\u001b[0m\u001b[0;34m,\u001b[0m\u001b[0;34m'Aslam'\u001b[0m\u001b[0;34m)\u001b[0m\u001b[0;34m\u001b[0m\u001b[0;34m\u001b[0m\u001b[0m\n\u001b[0m",
      "\u001b[0;31mTypeError\u001b[0m: id_card() missing 2 required positional arguments: 'course' and 'timing'"
     ]
    }
   ],
   "source": [
    "id_card(1,'Qasim','Aslam') "
   ]
  },
  {
   "cell_type": "code",
   "execution_count": 10,
   "metadata": {},
   "outputs": [
    {
     "ename": "TypeError",
     "evalue": "id_card() takes 5 positional arguments but 6 were given",
     "output_type": "error",
     "traceback": [
      "\u001b[1;31m---------------------------------------------------------------------------\u001b[0m",
      "\u001b[1;31mTypeError\u001b[0m                                 Traceback (most recent call last)",
      "\u001b[1;32m<ipython-input-10-7c4300bd721d>\u001b[0m in \u001b[0;36m<module>\u001b[1;34m\u001b[0m\n\u001b[1;32m----> 1\u001b[1;33m \u001b[0mid_card\u001b[0m\u001b[1;33m(\u001b[0m\u001b[1;36m1\u001b[0m\u001b[1;33m,\u001b[0m\u001b[1;34m'ali'\u001b[0m\u001b[1;33m,\u001b[0m \u001b[1;34m'khan'\u001b[0m\u001b[1;33m,\u001b[0m \u001b[1;34m'AI'\u001b[0m\u001b[1;33m,\u001b[0m \u001b[1;34m'9:00'\u001b[0m\u001b[1;33m,\u001b[0m \u001b[1;34m'1'\u001b[0m\u001b[1;33m)\u001b[0m\u001b[1;33m\u001b[0m\u001b[1;33m\u001b[0m\u001b[0m\n\u001b[0m",
      "\u001b[1;31mTypeError\u001b[0m: id_card() takes 5 positional arguments but 6 were given"
     ]
    }
   ],
   "source": [
    "id_card(1,'ali', 'khan', 'AI', '9:00', '1')"
   ]
  },
  {
   "cell_type": "code",
   "execution_count": 13,
   "metadata": {},
   "outputs": [
    {
     "name": "stdout",
     "output_type": "stream",
     "text": [
      "\n",
      "    PIAIC Islamabad\n",
      "    Student id: 1\n",
      "    Student Name: a\n",
      "    Father's Name: a\n",
      "    Course: b\n",
      "    Timing: a\n",
      "    \n",
      "\n",
      "    PIAIC Islamabad\n",
      "    Student id: 2\n",
      "    Student Name: 2\n",
      "    Father's Name: 2\n",
      "    Course: 2\n",
      "    Timing: 2\n",
      "    \n",
      "\n",
      "    PIAIC Islamabad\n",
      "    Student id: 3\n",
      "    Student Name: 3\n",
      "    Father's Name: 3\n",
      "    Course: 3\n",
      "    Timing: 3\n",
      "    \n"
     ]
    }
   ],
   "source": [
    "data = [[1,'a','a','b','a'],\n",
    "       [2,2,2,2,2],\n",
    "       [3,3,3,3,3]]\n",
    "\n",
    "for i in data:\n",
    "    id_card(*i)# real values from list one by one \n",
    "#     id_card(i[0],i[1],i[2],i[3],i[4])"
   ]
  },
  {
   "cell_type": "code",
   "execution_count": 11,
   "metadata": {},
   "outputs": [
    {
     "name": "stdout",
     "output_type": "stream",
     "text": [
      "9 3 2\n",
      "14\n"
     ]
    }
   ],
   "source": [
    "def pl(x,y,z):\n",
    "    print(x,y,z)\n",
    "    print(x+y+z)\n",
    "    \n",
    "pl(9,3,2)    "
   ]
  },
  {
   "cell_type": "code",
   "execution_count": 12,
   "metadata": {},
   "outputs": [
    {
     "ename": "TypeError",
     "evalue": "pl() missing 1 required positional argument: 'z'",
     "output_type": "error",
     "traceback": [
      "\u001b[1;31m---------------------------------------------------------------------------\u001b[0m",
      "\u001b[1;31mTypeError\u001b[0m                                 Traceback (most recent call last)",
      "\u001b[1;32m<ipython-input-12-d63f0b3d8418>\u001b[0m in \u001b[0;36m<module>\u001b[1;34m\u001b[0m\n\u001b[0;32m      3\u001b[0m     \u001b[0mprint\u001b[0m\u001b[1;33m(\u001b[0m\u001b[0mx\u001b[0m\u001b[1;33m+\u001b[0m\u001b[0my\u001b[0m\u001b[1;33m+\u001b[0m\u001b[0mz\u001b[0m\u001b[1;33m)\u001b[0m\u001b[1;33m\u001b[0m\u001b[1;33m\u001b[0m\u001b[0m\n\u001b[0;32m      4\u001b[0m \u001b[1;33m\u001b[0m\u001b[0m\n\u001b[1;32m----> 5\u001b[1;33m \u001b[0mpl\u001b[0m\u001b[1;33m(\u001b[0m\u001b[1;36m9\u001b[0m\u001b[1;33m,\u001b[0m\u001b[1;36m3\u001b[0m\u001b[1;33m)\u001b[0m\u001b[1;33m\u001b[0m\u001b[1;33m\u001b[0m\u001b[0m\n\u001b[0m",
      "\u001b[1;31mTypeError\u001b[0m: pl() missing 1 required positional argument: 'z'"
     ]
    }
   ],
   "source": [
    "def pl(x,y,z):\n",
    "    print(x,y,z)\n",
    "    print(x+y+z)\n",
    "    \n",
    "pl(9,3)"
   ]
  },
  {
   "cell_type": "markdown",
   "metadata": {},
   "source": [
    "# Optional Argument | Defualt Argument"
   ]
  },
  {
   "cell_type": "code",
   "execution_count": 14,
   "metadata": {},
   "outputs": [],
   "source": [
    "def pl(x, y=0, z=0):\n",
    "    print(x,y,z)\n",
    "    print(x+y+z)"
   ]
  },
  {
   "cell_type": "code",
   "execution_count": 15,
   "metadata": {},
   "outputs": [
    {
     "name": "stdout",
     "output_type": "stream",
     "text": [
      "9 3 0\n",
      "12\n"
     ]
    }
   ],
   "source": [
    "pl(9,3) "
   ]
  },
  {
   "cell_type": "code",
   "execution_count": 16,
   "metadata": {},
   "outputs": [
    {
     "name": "stdout",
     "output_type": "stream",
     "text": [
      "2 0 0\n",
      "2\n"
     ]
    }
   ],
   "source": [
    "pl(2)"
   ]
  },
  {
   "cell_type": "code",
   "execution_count": 17,
   "metadata": {},
   "outputs": [
    {
     "name": "stdout",
     "output_type": "stream",
     "text": [
      "2 3 4\n",
      "9\n"
     ]
    }
   ],
   "source": [
    "pl(2,3,4)"
   ]
  },
  {
   "cell_type": "code",
   "execution_count": 18,
   "metadata": {},
   "outputs": [
    {
     "ename": "TypeError",
     "evalue": "pl() missing 1 required positional argument: 'x'",
     "output_type": "error",
     "traceback": [
      "\u001b[0;31m---------------------------------------------------------------------------\u001b[0m",
      "\u001b[0;31mTypeError\u001b[0m                                 Traceback (most recent call last)",
      "\u001b[0;32m<ipython-input-18-891770326044>\u001b[0m in \u001b[0;36m<module>\u001b[0;34m\u001b[0m\n\u001b[0;32m----> 1\u001b[0;31m \u001b[0mpl\u001b[0m\u001b[0;34m(\u001b[0m\u001b[0;34m)\u001b[0m\u001b[0;34m\u001b[0m\u001b[0;34m\u001b[0m\u001b[0m\n\u001b[0m",
      "\u001b[0;31mTypeError\u001b[0m: pl() missing 1 required positional argument: 'x'"
     ]
    }
   ],
   "source": [
    "pl()"
   ]
  },
  {
   "cell_type": "code",
   "execution_count": 20,
   "metadata": {},
   "outputs": [
    {
     "name": "stdout",
     "output_type": "stream",
     "text": [
      "5 0 6\n",
      "11\n"
     ]
    }
   ],
   "source": [
    "def pl(x,z, y=0):\n",
    "    print(x,y,z)\n",
    "    print(x+y+z)\n",
    "\n",
    "pl(5,6)    "
   ]
  },
  {
   "cell_type": "code",
   "execution_count": 21,
   "metadata": {},
   "outputs": [
    {
     "name": "stdout",
     "output_type": "stream",
     "text": [
      "0 0 0\n",
      "0\n"
     ]
    }
   ],
   "source": [
    "def pl(x=0, y=0, z=0):\n",
    "    print(x,y,z)\n",
    "    print(x+y+z)\n",
    "    \n",
    "pl()    "
   ]
  },
  {
   "cell_type": "markdown",
   "metadata": {},
   "source": [
    "# Non Return Functions"
   ]
  },
  {
   "cell_type": "code",
   "execution_count": 18,
   "metadata": {},
   "outputs": [
    {
     "name": "stdout",
     "output_type": "stream",
     "text": [
      "Pakistan\n",
      "None\n"
     ]
    }
   ],
   "source": [
    "a = print('Pakistan')\n",
    "print(a) #print did'nt assign value in a that's why it give 'None' when call 'a'"
   ]
  },
  {
   "cell_type": "code",
   "execution_count": 21,
   "metadata": {},
   "outputs": [
    {
     "name": "stdout",
     "output_type": "stream",
     "text": [
      "Qasim\n",
      "None\n",
      "None\n"
     ]
    }
   ],
   "source": [
    "print(print(print('Qasim')))"
   ]
  },
  {
   "cell_type": "code",
   "execution_count": 22,
   "metadata": {},
   "outputs": [
    {
     "name": "stdout",
     "output_type": "stream",
     "text": [
      "\n",
      "    PIAIC Islamabad\n",
      "    Student id: 1\n",
      "    Student Name: Qasim\n",
      "    Father's Name: Aslam\n",
      "    Course: A.I\n",
      "    Timing: 9 to 12\n",
      "    \n",
      "None\n"
     ]
    }
   ],
   "source": [
    "b=id_card(1,'Qasim','Aslam','A.I','9 to 12')   \n",
    "print(b)"
   ]
  },
  {
   "cell_type": "code",
   "execution_count": 23,
   "metadata": {},
   "outputs": [
    {
     "name": "stdout",
     "output_type": "stream",
     "text": [
      "17\n",
      "None\n"
     ]
    }
   ],
   "source": [
    "def pl(x=0, y=0, z=0):\n",
    "    print(x+y+z)\n",
    "    \n",
    "a=pl(3,5,9) \n",
    "print(a)"
   ]
  },
  {
   "cell_type": "markdown",
   "metadata": {},
   "source": [
    "# Return Functions"
   ]
  },
  {
   "cell_type": "code",
   "execution_count": 24,
   "metadata": {
    "scrolled": true
   },
   "outputs": [
    {
     "name": "stdout",
     "output_type": "stream",
     "text": [
      "11\n"
     ]
    }
   ],
   "source": [
    "def abc(x,y,z):\n",
    "    return x+y+z\n",
    "\n",
    "a = abc(3,3,5) #Return Fucntion\n",
    "print(a)"
   ]
  },
  {
   "cell_type": "code",
   "execution_count": 31,
   "metadata": {},
   "outputs": [
    {
     "name": "stdout",
     "output_type": "stream",
     "text": [
      "a\n",
      "b\n"
     ]
    },
    {
     "data": {
      "text/plain": [
       "9"
      ]
     },
     "execution_count": 31,
     "metadata": {},
     "output_type": "execute_result"
    }
   ],
   "source": [
    "def abc(x,y,z):\n",
    "    print('a')\n",
    "    print('b')\n",
    "    return(x+y+z)\n",
    "    print('c')\n",
    "abc(2,3,4)"
   ]
  },
  {
   "cell_type": "code",
   "execution_count": 32,
   "metadata": {},
   "outputs": [
    {
     "name": "stdout",
     "output_type": "stream",
     "text": [
      "\n",
      "    PIAIC Islamabad\n",
      "    Student id: 1\n",
      "    Student Name: Qasim\n",
      "    Father's Name: Aslam\n",
      "    Course: A.I\n",
      "    Timing: 9 to 12\n",
      "    \n"
     ]
    }
   ],
   "source": [
    "def id_card(sid, sname, fname, course, timing):\n",
    "    return f\"\"\"\n",
    "    PIAIC Islamabad\n",
    "    Student id: {sid}\n",
    "    Student Name: {sname}\n",
    "    Father's Name: {fname}\n",
    "    Course: {course}\n",
    "    Timing: {timing}\n",
    "    \"\"\"\n",
    "    \n",
    "    \n",
    "a=id_card(1,'Qasim','Aslam','A.I','9 to 12')    \n",
    "print(a)"
   ]
  },
  {
   "cell_type": "code",
   "execution_count": 33,
   "metadata": {},
   "outputs": [
    {
     "data": {
      "text/plain": [
       "'A'"
      ]
     },
     "execution_count": 33,
     "metadata": {},
     "output_type": "execute_result"
    }
   ],
   "source": [
    "def abc():\n",
    "    return \"A\" # Always return first return statment\n",
    "    return \"B\"\n",
    "    return \"C\"\n",
    "\n",
    "abc()"
   ]
  },
  {
   "cell_type": "code",
   "execution_count": 35,
   "metadata": {},
   "outputs": [
    {
     "name": "stdout",
     "output_type": "stream",
     "text": [
      "16\n"
     ]
    },
    {
     "data": {
      "text/plain": [
       "int"
      ]
     },
     "execution_count": 35,
     "metadata": {},
     "output_type": "execute_result"
    }
   ],
   "source": [
    "def abc(x,y,z):\n",
    "    return x+y+z\n",
    "    return x*y*z\n",
    "    return x*y+z\n",
    "\n",
    "print(abc(5,5,6))\n",
    "type(abc(5,5,6))"
   ]
  },
  {
   "cell_type": "code",
   "execution_count": 36,
   "metadata": {},
   "outputs": [
    {
     "name": "stdout",
     "output_type": "stream",
     "text": [
      "(16, 150, 31)\n"
     ]
    },
    {
     "data": {
      "text/plain": [
       "tuple"
      ]
     },
     "execution_count": 36,
     "metadata": {},
     "output_type": "execute_result"
    }
   ],
   "source": [
    "def abc(x,y,z):\n",
    "    return x+y+z, x*y*z, x*y+z\n",
    "\n",
    "print(abc(5,5,6))\n",
    "type(abc(5,5,6))"
   ]
  },
  {
   "cell_type": "markdown",
   "metadata": {},
   "source": [
    "# Positional Arguments"
   ]
  },
  {
   "cell_type": "code",
   "execution_count": 37,
   "metadata": {},
   "outputs": [
    {
     "name": "stdout",
     "output_type": "stream",
     "text": [
      "\n",
      "    PIAIC Islamabad\n",
      "    Student id: 1\n",
      "    Student Name: A.I\n",
      "    Father's Name: 9 to 12\n",
      "    Course: Qasim\n",
      "    Timing: Hassan\n",
      "    \n"
     ]
    }
   ],
   "source": [
    "def id_card(sid, sname, fname, course, timing):\n",
    "    print(f\"\"\"\n",
    "    PIAIC Islamabad\n",
    "    Student id: {sid}\n",
    "    Student Name: {sname}\n",
    "    Father's Name: {fname}\n",
    "    Course: {course}\n",
    "    Timing: {timing}\n",
    "    \"\"\")\n",
    "    \n",
    "    \n",
    "#id_card(1,'Qasim','Hassan','A.I','9 to 11')    \n",
    "id_card(1,'A.I','9 to 12','Qasim','Hassan')  # incorrect argumens"
   ]
  },
  {
   "cell_type": "code",
   "execution_count": 38,
   "metadata": {},
   "outputs": [
    {
     "name": "stdout",
     "output_type": "stream",
     "text": [
      "\n",
      "    PIAIC Islamabad\n",
      "    Student id: 1\n",
      "    Student Name: Qasim\n",
      "    Father's Name: Hassan\n",
      "    Course: A.I\n",
      "    Timing: 9 to 11\n",
      "    \n"
     ]
    }
   ],
   "source": [
    "id_card(1,'Qasim','Hassan','A.I','9 to 11')  #correct argument"
   ]
  },
  {
   "cell_type": "markdown",
   "metadata": {},
   "source": [
    "# Keyword Arguments"
   ]
  },
  {
   "cell_type": "code",
   "execution_count": 39,
   "metadata": {},
   "outputs": [
    {
     "name": "stdout",
     "output_type": "stream",
     "text": [
      "\n",
      "    PIAIC Islamabad\n",
      "    Student id: 1\n",
      "    Student Name: Qasim\n",
      "    Father's Name: Hassan\n",
      "    Course: A.I\n",
      "    Timing: 9 to 12\n",
      "    \n"
     ]
    }
   ],
   "source": [
    "def id_card(sid, sname, fname, course, timing):\n",
    "    print(f\"\"\"\n",
    "    PIAIC Islamabad\n",
    "    Student id: {sid}\n",
    "    Student Name: {sname}\n",
    "    Father's Name: {fname}\n",
    "    Course: {course}\n",
    "    Timing: {timing}\n",
    "    \"\"\")\n",
    "    \n",
    "    \n",
    "id_card(sid=1, course='A.I',timing='9 to 12',sname='Qasim',fname='Hassan')"
   ]
  },
  {
   "cell_type": "markdown",
   "metadata": {},
   "source": [
    "# Pass Argument with List"
   ]
  },
  {
   "cell_type": "code",
   "execution_count": 40,
   "metadata": {},
   "outputs": [
    {
     "name": "stdout",
     "output_type": "stream",
     "text": [
      "[1, 'ABC', 'XYZ', 'A.I', 'AAA']\n"
     ]
    }
   ],
   "source": [
    "l1 = [1,\"ABC\",\"XYZ\",'A.I',\"AAA\"]\n",
    "print(l1)"
   ]
  },
  {
   "cell_type": "code",
   "execution_count": 41,
   "metadata": {},
   "outputs": [
    {
     "name": "stdout",
     "output_type": "stream",
     "text": [
      "1 ABC XYZ A.I AAA\n"
     ]
    }
   ],
   "source": [
    "l1 = [1,\"ABC\",\"XYZ\",'A.I',\"AAA\"]\n",
    "print(l1[0], l1[1], l1[2],l1[3], l1[4]) # lengthy way"
   ]
  },
  {
   "cell_type": "code",
   "execution_count": 42,
   "metadata": {},
   "outputs": [
    {
     "name": "stdout",
     "output_type": "stream",
     "text": [
      "1 ABC XYZ A.I AAA\n"
     ]
    }
   ],
   "source": [
    "l1 = [1,\"ABC\",\"XYZ\",'A.I',\"AAA\"]\n",
    "print(*l1) #pythonic way"
   ]
  },
  {
   "cell_type": "code",
   "execution_count": 48,
   "metadata": {},
   "outputs": [
    {
     "name": "stdout",
     "output_type": "stream",
     "text": [
      "\n",
      "    PIAIC Islamabad\n",
      "    Student id: 1\n",
      "    Student Name: ABC\n",
      "    Father's Name: XYZ\n",
      "    Course: A.I\n",
      "    Timing: AAA\n",
      "    \n"
     ]
    }
   ],
   "source": [
    "def id_card(sid, sname, fname, course, timing):\n",
    "    print(f\"\"\"\n",
    "    PIAIC Islamabad\n",
    "    Student id: {sid}\n",
    "    Student Name: {sname}\n",
    "    Father's Name: {fname}\n",
    "    Course: {course}\n",
    "    Timing: {timing}\n",
    "    \"\"\")\n",
    "    \n",
    "    \n",
    "l1 = [1,\"ABC\",\"XYZ\",'A.I',\"AAA\"]    \n",
    "#id_card(l1[0], l1[1], l1[2],l1[3], l1[4])    \n",
    "id_card(*l1) # same as above second last line"
   ]
  },
  {
   "cell_type": "code",
   "execution_count": 8,
   "metadata": {},
   "outputs": [
    {
     "name": "stdout",
     "output_type": "stream",
     "text": [
      "\n",
      "    PIAIC Islamabad\n",
      "    Student id: 1\n",
      "    Student Name: ABC\n",
      "    Father's Name: XYZ\n",
      "    Course: A.I\n",
      "    Timing: AAA\n",
      "    \n",
      "Qasim\n",
      "(4, 6, 2)\n",
      "12\n"
     ]
    }
   ],
   "source": [
    "def id_card(sid, sname, fname, course, timing):\n",
    "    print(f\"\"\"\n",
    "    PIAIC Islamabad\n",
    "    Student id: {sid}\n",
    "    Student Name: {sname}\n",
    "    Father's Name: {fname}\n",
    "    Course: {course}\n",
    "    Timing: {timing}\n",
    "    \"\"\")\n",
    "l1 = [1,\"ABC\",\"XYZ\",'A.I',\"AAA\"]       \n",
    "id_card(*l1) # Straik out the values one by one we call the list in function.\n",
    "# =============================================================================================\n",
    "def abc(name, abc, *number): \n",
    "    print(name)\n",
    "    print(number)\n",
    "    print(sum(number))\n",
    "    \n",
    "abc('Qasim',5,4,6,2) #starik get all or remaining values when define the funvtion."
   ]
  },
  {
   "cell_type": "markdown",
   "metadata": {},
   "source": [
    "# Passing Argument with Dictionary"
   ]
  },
  {
   "cell_type": "code",
   "execution_count": 46,
   "metadata": {},
   "outputs": [
    {
     "name": "stdout",
     "output_type": "stream",
     "text": [
      "\n",
      "    PIAIC Islamabad\n",
      "    Student id: 200\n",
      "    Student Name: Qasim\n",
      "    Father's Name: Hassan\n",
      "    Course: A.I\n",
      "    Timing: 5 to 9\n",
      "    \n"
     ]
    }
   ],
   "source": [
    "def id_card(sid, sname, fname, course, timing):\n",
    "    print(f\"\"\"\n",
    "    PIAIC Islamabad\n",
    "    Student id: {sid}\n",
    "    Student Name: {sname}\n",
    "    Father's Name: {fname}\n",
    "    Course: {course}\n",
    "    Timing: {timing}\n",
    "    \"\"\")\n",
    "    \n",
    "\n",
    "\n",
    "\n",
    "d1 = {\n",
    "    'sname':'Qasim',\n",
    "    'sid':200,\n",
    "    'fname':'Hassan',\n",
    "    'timing':'5 to 9',\n",
    "    'course': 'A.I'\n",
    "    \n",
    "}\n",
    "# id_card(d1[\"sid\"], d1[\"course\"],d1[\"timing\"],d1[\"sname\"],d1[\"fname\"])\n",
    "id_card(**d1)"
   ]
  },
  {
   "cell_type": "code",
   "execution_count": 9,
   "metadata": {},
   "outputs": [
    {
     "name": "stdout",
     "output_type": "stream",
     "text": [
      "Qasim\n",
      "(5, 4, 6, 2)\n",
      "17\n"
     ]
    }
   ],
   "source": [
    "def abc(name, *number):\n",
    "    print(name)\n",
    "    print(number)\n",
    "    print(sum(number))\n",
    "    \n",
    "abc('Qasim',5,4,6,2)    "
   ]
  },
  {
   "cell_type": "code",
   "execution_count": 10,
   "metadata": {},
   "outputs": [
    {
     "name": "stdout",
     "output_type": "stream",
     "text": [
      "Qasim\n",
      "ABBB\n",
      "(5, 4, 6, 2)\n",
      "17\n"
     ]
    }
   ],
   "source": [
    "def abc(name, abc, *number):\n",
    "    print(name)\n",
    "    print(abc)\n",
    "    print(number)\n",
    "    print(sum(number))\n",
    "    \n",
    "abc('Qasim','ABBB',5,4,6,2)"
   ]
  },
  {
   "cell_type": "code",
   "execution_count": 11,
   "metadata": {},
   "outputs": [
    {
     "name": "stdout",
     "output_type": "stream",
     "text": [
      "Qasim\n",
      "(5, 4, 6, 2)\n",
      "17\n"
     ]
    }
   ],
   "source": [
    "def abc(*number, name):\n",
    "    print(name)\n",
    "    print(number)\n",
    "    print(sum(number))\n",
    "    \n",
    "abc(5,4,6,2, name='Qasim')"
   ]
  },
  {
   "cell_type": "code",
   "execution_count": 13,
   "metadata": {},
   "outputs": [
    {
     "ename": "TypeError",
     "evalue": "abc() missing 1 required keyword-only argument: 'name'",
     "output_type": "error",
     "traceback": [
      "\u001b[1;31m---------------------------------------------------------------------------\u001b[0m",
      "\u001b[1;31mTypeError\u001b[0m                                 Traceback (most recent call last)",
      "\u001b[1;32m<ipython-input-13-80bcdd9f4840>\u001b[0m in \u001b[0;36m<module>\u001b[1;34m\u001b[0m\n\u001b[0;32m      4\u001b[0m     \u001b[0mprint\u001b[0m\u001b[1;33m(\u001b[0m\u001b[0msum\u001b[0m\u001b[1;33m(\u001b[0m\u001b[0mnumber\u001b[0m\u001b[1;33m)\u001b[0m\u001b[1;33m)\u001b[0m\u001b[1;33m\u001b[0m\u001b[1;33m\u001b[0m\u001b[0m\n\u001b[0;32m      5\u001b[0m \u001b[1;33m\u001b[0m\u001b[0m\n\u001b[1;32m----> 6\u001b[1;33m \u001b[0mabc\u001b[0m\u001b[1;33m(\u001b[0m\u001b[1;36m5\u001b[0m\u001b[1;33m,\u001b[0m\u001b[1;36m4\u001b[0m\u001b[1;33m,\u001b[0m\u001b[1;36m6\u001b[0m\u001b[1;33m,\u001b[0m\u001b[1;36m2\u001b[0m\u001b[1;33m,\u001b[0m \u001b[1;34m'Qasim'\u001b[0m\u001b[1;33m)\u001b[0m\u001b[1;33m\u001b[0m\u001b[1;33m\u001b[0m\u001b[0m\n\u001b[0m",
      "\u001b[1;31mTypeError\u001b[0m: abc() missing 1 required keyword-only argument: 'name'"
     ]
    }
   ],
   "source": [
    "def abc(*number, name):\n",
    "    print(name)\n",
    "    print(number)\n",
    "    print(sum(number))\n",
    "    \n",
    "abc(5,4,6,2, 'Qasim')"
   ]
  },
  {
   "cell_type": "code",
   "execution_count": 16,
   "metadata": {},
   "outputs": [
    {
     "ename": "TypeError",
     "evalue": "abc() got an unexpected keyword argument 'number'",
     "output_type": "error",
     "traceback": [
      "\u001b[1;31m---------------------------------------------------------------------------\u001b[0m",
      "\u001b[1;31mTypeError\u001b[0m                                 Traceback (most recent call last)",
      "\u001b[1;32m<ipython-input-16-ecbae5839cb4>\u001b[0m in \u001b[0;36m<module>\u001b[1;34m\u001b[0m\n\u001b[0;32m      4\u001b[0m     \u001b[0mprint\u001b[0m\u001b[1;33m(\u001b[0m\u001b[0msum\u001b[0m\u001b[1;33m(\u001b[0m\u001b[0mnumber\u001b[0m\u001b[1;33m)\u001b[0m\u001b[1;33m)\u001b[0m\u001b[1;33m\u001b[0m\u001b[1;33m\u001b[0m\u001b[0m\n\u001b[0;32m      5\u001b[0m \u001b[1;33m\u001b[0m\u001b[0m\n\u001b[1;32m----> 6\u001b[1;33m \u001b[0mabc\u001b[0m\u001b[1;33m(\u001b[0m\u001b[0mname\u001b[0m\u001b[1;33m=\u001b[0m\u001b[1;34m'Qasim'\u001b[0m\u001b[1;33m,\u001b[0m\u001b[0mnumber\u001b[0m\u001b[1;33m=\u001b[0m\u001b[1;33m[\u001b[0m\u001b[1;36m5\u001b[0m\u001b[1;33m,\u001b[0m\u001b[1;36m4\u001b[0m\u001b[1;33m,\u001b[0m\u001b[1;36m6\u001b[0m\u001b[1;33m,\u001b[0m\u001b[1;36m2\u001b[0m\u001b[1;33m]\u001b[0m\u001b[1;33m,\u001b[0m \u001b[0mabc\u001b[0m\u001b[1;33m=\u001b[0m\u001b[1;34m'aaa'\u001b[0m\u001b[1;33m)\u001b[0m\u001b[1;33m\u001b[0m\u001b[1;33m\u001b[0m\u001b[0m\n\u001b[0m",
      "\u001b[1;31mTypeError\u001b[0m: abc() got an unexpected keyword argument 'number'"
     ]
    }
   ],
   "source": [
    "def abc(abc, *number, name):\n",
    "    print(name)\n",
    "    print(number)\n",
    "    print(sum(number))\n",
    "    \n",
    "abc(name='Qasim',number=[5,4,6,2], abc='aaa')"
   ]
  },
  {
   "cell_type": "code",
   "execution_count": 12,
   "metadata": {},
   "outputs": [
    {
     "ename": "TypeError",
     "evalue": "abc() got an unexpected keyword argument 'number'",
     "output_type": "error",
     "traceback": [
      "\u001b[1;31m---------------------------------------------------------------------------\u001b[0m",
      "\u001b[1;31mTypeError\u001b[0m                                 Traceback (most recent call last)",
      "\u001b[1;32m<ipython-input-12-14c6e11084a3>\u001b[0m in \u001b[0;36m<module>\u001b[1;34m\u001b[0m\n\u001b[0;32m      4\u001b[0m     \u001b[0mprint\u001b[0m\u001b[1;33m(\u001b[0m\u001b[0msum\u001b[0m\u001b[1;33m(\u001b[0m\u001b[0mnumber\u001b[0m\u001b[1;33m)\u001b[0m\u001b[1;33m)\u001b[0m\u001b[1;33m\u001b[0m\u001b[1;33m\u001b[0m\u001b[0m\n\u001b[0;32m      5\u001b[0m \u001b[1;33m\u001b[0m\u001b[0m\n\u001b[1;32m----> 6\u001b[1;33m \u001b[0mabc\u001b[0m\u001b[1;33m(\u001b[0m\u001b[0mnumber\u001b[0m\u001b[1;33m=\u001b[0m\u001b[1;33m[\u001b[0m\u001b[1;36m5\u001b[0m\u001b[1;33m,\u001b[0m\u001b[1;36m4\u001b[0m\u001b[1;33m,\u001b[0m\u001b[1;36m6\u001b[0m\u001b[1;33m,\u001b[0m\u001b[1;36m2\u001b[0m\u001b[1;33m]\u001b[0m\u001b[1;33m,\u001b[0m \u001b[0mname\u001b[0m\u001b[1;33m=\u001b[0m\u001b[1;34m'Qasim'\u001b[0m\u001b[1;33m,\u001b[0m \u001b[0mabc\u001b[0m\u001b[1;33m=\u001b[0m\u001b[1;34m'aaa'\u001b[0m\u001b[1;33m)\u001b[0m\u001b[1;33m\u001b[0m\u001b[1;33m\u001b[0m\u001b[0m\n\u001b[0m",
      "\u001b[1;31mTypeError\u001b[0m: abc() got an unexpected keyword argument 'number'"
     ]
    }
   ],
   "source": [
    "def abc(abc, *number, name): #This wil generate  Error because *number will take all values and the parameter after the i:e name is missing\n",
    "    print(name)\n",
    "    print(number)\n",
    "    print(sum(number))\n",
    "    \n",
    "abc(number=[5,4,6,2], name='Qasim', abc='aaa')"
   ]
  },
  {
   "cell_type": "code",
   "execution_count": 14,
   "metadata": {},
   "outputs": [
    {
     "ename": "TypeError",
     "evalue": "abc() got an unexpected keyword argument 'number'",
     "output_type": "error",
     "traceback": [
      "\u001b[1;31m---------------------------------------------------------------------------\u001b[0m",
      "\u001b[1;31mTypeError\u001b[0m                                 Traceback (most recent call last)",
      "\u001b[1;32m<ipython-input-14-78afaa3dcade>\u001b[0m in \u001b[0;36m<module>\u001b[1;34m\u001b[0m\n\u001b[0;32m      4\u001b[0m     \u001b[0mprint\u001b[0m\u001b[1;33m(\u001b[0m\u001b[0msum\u001b[0m\u001b[1;33m(\u001b[0m\u001b[0mnumber\u001b[0m\u001b[1;33m)\u001b[0m\u001b[1;33m)\u001b[0m\u001b[1;33m\u001b[0m\u001b[1;33m\u001b[0m\u001b[0m\n\u001b[0;32m      5\u001b[0m \u001b[1;33m\u001b[0m\u001b[0m\n\u001b[1;32m----> 6\u001b[1;33m \u001b[0mabc\u001b[0m\u001b[1;33m(\u001b[0m\u001b[0mnumber\u001b[0m\u001b[1;33m=\u001b[0m\u001b[1;33m(\u001b[0m\u001b[1;36m5\u001b[0m\u001b[1;33m,\u001b[0m\u001b[1;36m4\u001b[0m\u001b[1;33m,\u001b[0m\u001b[1;36m6\u001b[0m\u001b[1;33m,\u001b[0m\u001b[1;36m20\u001b[0m\u001b[1;33m)\u001b[0m\u001b[1;33m,\u001b[0m \u001b[0mname\u001b[0m\u001b[1;33m=\u001b[0m\u001b[1;34m'Qasim'\u001b[0m\u001b[1;33m,\u001b[0m \u001b[0mabc\u001b[0m\u001b[1;33m=\u001b[0m\u001b[1;34m'aaa'\u001b[0m\u001b[1;33m)\u001b[0m\u001b[1;33m\u001b[0m\u001b[1;33m\u001b[0m\u001b[0m\n\u001b[0m",
      "\u001b[1;31mTypeError\u001b[0m: abc() got an unexpected keyword argument 'number'"
     ]
    }
   ],
   "source": [
    "def abc(abc, *number, name):\n",
    "    print(name)\n",
    "    print(number)\n",
    "    print(sum(number))\n",
    "    \n",
    "abc(number=(5,4,6,20), name='Qasim', abc='aaa')"
   ]
  },
  {
   "cell_type": "code",
   "execution_count": 17,
   "metadata": {},
   "outputs": [
    {
     "name": "stdout",
     "output_type": "stream",
     "text": [
      "QASim\n",
      "{'a': 'bb', 'b': 'aa', 'c': 'ccc'}\n"
     ]
    }
   ],
   "source": [
    "def abc(name, **kv): #** shows now user will give key word argument\n",
    "    print(name)\n",
    "    print(kv)\n",
    "    \n",
    "    \n",
    "abc('QASim', a='bb',b='aa',c='ccc')    "
   ]
  },
  {
   "cell_type": "markdown",
   "metadata": {},
   "source": [
    "# Recursive Function"
   ]
  },
  {
   "cell_type": "code",
   "execution_count": null,
   "metadata": {},
   "outputs": [],
   "source": [
    "# 3 point of difference between recursive & work with loop"
   ]
  },
  {
   "cell_type": "markdown",
   "metadata": {},
   "source": [
    "<img src = \"https://s3.ap-south-1.amazonaws.com/afteracademy-server-uploads/what-is-the-difference-between-iteration-and-recursion-banner-b9507914affcc7de.png\">"
   ]
  },
  {
   "cell_type": "code",
   "execution_count": 21,
   "metadata": {},
   "outputs": [
    {
     "name": "stdout",
     "output_type": "stream",
     "text": [
      "5\n",
      "4\n",
      "3\n",
      "2\n"
     ]
    },
    {
     "data": {
      "text/plain": [
       "120"
      ]
     },
     "execution_count": 21,
     "metadata": {},
     "output_type": "execute_result"
    }
   ],
   "source": [
    "def factorial(n):\n",
    "    if n==1:\n",
    "        return 1\n",
    "    return n * factorial(n-1)\n",
    "\n",
    "factorial(5)\n",
    "#1*2*3*4*5"
   ]
  },
  {
   "cell_type": "code",
   "execution_count": 22,
   "metadata": {},
   "outputs": [
    {
     "name": "stdout",
     "output_type": "stream",
     "text": [
      "5\n",
      "4\n",
      "3\n",
      "2\n"
     ]
    },
    {
     "data": {
      "text/plain": [
       "120"
      ]
     },
     "execution_count": 22,
     "metadata": {},
     "output_type": "execute_result"
    }
   ],
   "source": [
    "def factorial(n):\n",
    "    if n==1:\n",
    "        return 1\n",
    "    print(n)\n",
    "    return n * factorial(n-1)\n",
    "\n",
    "factorial(5)\n",
    "#1*2*3*4*5"
   ]
  },
  {
   "cell_type": "code",
   "execution_count": 20,
   "metadata": {},
   "outputs": [
    {
     "data": {
      "text/plain": [
       "15"
      ]
     },
     "execution_count": 20,
     "metadata": {},
     "output_type": "execute_result"
    }
   ],
   "source": [
    "def abc(n):\n",
    "    if n==1:\n",
    "        return 1\n",
    "    return n + abc(n-1)\n",
    "\n",
    "abc(5)\n",
    "#1+2+3+4+5"
   ]
  },
  {
   "cell_type": "markdown",
   "metadata": {},
   "source": [
    "# Generator Function"
   ]
  },
  {
   "cell_type": "raw",
   "metadata": {},
   "source": [
    "AC generate current\n",
    "Generator Function have two qualities:\n",
    "1 - ak sath value ni generate ni karta\n",
    "2 - last k value yad rakhta ha.\n",
    "eg: we have 200000\n",
    "---> 1-5000\n",
    "---> 5001-1000\n",
    "similarly take chunks "
   ]
  },
  {
   "cell_type": "code",
   "execution_count": 23,
   "metadata": {},
   "outputs": [
    {
     "data": {
      "text/plain": [
       "range(1, 2000000)"
      ]
     },
     "execution_count": 23,
     "metadata": {},
     "output_type": "execute_result"
    }
   ],
   "source": [
    "range(1,2000000) # didn't consume memory directly give number to show us that values are from 1 to 200000"
   ]
  },
  {
   "cell_type": "code",
   "execution_count": 68,
   "metadata": {},
   "outputs": [
    {
     "name": "stdout",
     "output_type": "stream",
     "text": [
      "1\n",
      "2\n",
      "3\n",
      "4\n",
      "5\n",
      "6\n",
      "7\n",
      "8\n",
      "9\n",
      "10\n"
     ]
    }
   ],
   "source": [
    "def my_range(n):\n",
    "    for i in range(1, n+1):\n",
    "        print(i)\n",
    "        \n",
    "my_range(10)        "
   ]
  },
  {
   "cell_type": "code",
   "execution_count": 69,
   "metadata": {},
   "outputs": [
    {
     "name": "stdout",
     "output_type": "stream",
     "text": [
      "1\n",
      "2\n",
      "3\n"
     ]
    }
   ],
   "source": [
    "def my_range(n): # ====> PURE generator Function\n",
    "    for i in range(1, n+1):\n",
    "        yield i\n",
    "        \n",
    "a = my_range(10)\n",
    "\n",
    "print(next(a))\n",
    "print(next(a))\n",
    "print(next(a))\n"
   ]
  },
  {
   "cell_type": "code",
   "execution_count": 70,
   "metadata": {},
   "outputs": [
    {
     "name": "stdout",
     "output_type": "stream",
     "text": [
      "4\n"
     ]
    }
   ],
   "source": [
    "print(next(a))"
   ]
  },
  {
   "cell_type": "code",
   "execution_count": 71,
   "metadata": {},
   "outputs": [
    {
     "data": {
      "text/plain": [
       "[5, 6, 7, 8, 9, 10]"
      ]
     },
     "execution_count": 71,
     "metadata": {},
     "output_type": "execute_result"
    }
   ],
   "source": [
    "list(a) #list will automatically take these things"
   ]
  },
  {
   "cell_type": "code",
   "execution_count": 74,
   "metadata": {},
   "outputs": [
    {
     "name": "stdout",
     "output_type": "stream",
     "text": [
      "105\n",
      "210\n",
      "315\n"
     ]
    },
    {
     "data": {
      "text/plain": [
       "[420, 525, 630, 735, 840, 945]"
      ]
     },
     "execution_count": 74,
     "metadata": {},
     "output_type": "execute_result"
    }
   ],
   "source": [
    "def abc(n):\n",
    "    for i in range(1,n+1):\n",
    "        if (i%5==0 and i%7==0 and i%15==0):\n",
    "            yield i\n",
    "            \n",
    "a = abc(1000)\n",
    "print(next(a))\n",
    "print(next(a))\n",
    "print(next(a))\n",
    "list(a)"
   ]
  },
  {
   "cell_type": "markdown",
   "metadata": {},
   "source": [
    "# Lambda Function"
   ]
  },
  {
   "cell_type": "code",
   "execution_count": 24,
   "metadata": {},
   "outputs": [
    {
     "data": {
      "text/plain": [
       "12"
      ]
     },
     "execution_count": 24,
     "metadata": {},
     "output_type": "execute_result"
    }
   ],
   "source": [
    "def abc(x,y): return x+y  # not lambda function\n",
    "\n",
    "abc(5,7)"
   ]
  },
  {
   "cell_type": "code",
   "execution_count": 26,
   "metadata": {},
   "outputs": [
    {
     "name": "stdout",
     "output_type": "stream",
     "text": [
      "17\n"
     ]
    },
    {
     "data": {
      "text/plain": [
       "function"
      ]
     },
     "execution_count": 26,
     "metadata": {},
     "output_type": "execute_result"
    }
   ],
   "source": [
    "abc = lambda x,y,z : x+y+z  # calling delaration : body # abc ak variable ha or usky ansdar humne ak function dia to type function ha\n",
    "\n",
    "print(abc(4,6,7))\n",
    "type(abc)"
   ]
  },
  {
   "cell_type": "code",
   "execution_count": 27,
   "metadata": {},
   "outputs": [
    {
     "ename": "TypeError",
     "evalue": "<lambda>() missing 1 required positional argument: 'z'",
     "output_type": "error",
     "traceback": [
      "\u001b[1;31m---------------------------------------------------------------------------\u001b[0m",
      "\u001b[1;31mTypeError\u001b[0m                                 Traceback (most recent call last)",
      "\u001b[1;32m<ipython-input-27-f53849583476>\u001b[0m in \u001b[0;36m<module>\u001b[1;34m\u001b[0m\n\u001b[1;32m----> 1\u001b[1;33m \u001b[0mabc\u001b[0m\u001b[1;33m(\u001b[0m\u001b[1;36m7\u001b[0m\u001b[1;33m,\u001b[0m\u001b[1;36m9\u001b[0m\u001b[1;33m)\u001b[0m\u001b[1;33m\u001b[0m\u001b[1;33m\u001b[0m\u001b[0m\n\u001b[0m\u001b[0;32m      2\u001b[0m \u001b[1;31m#9\u001b[0m\u001b[1;33m\u001b[0m\u001b[1;33m\u001b[0m\u001b[1;33m\u001b[0m\u001b[0m\n\u001b[0;32m      3\u001b[0m \u001b[1;33m\u001b[0m\u001b[0m\n\u001b[0;32m      4\u001b[0m \u001b[0mabc\u001b[0m\u001b[1;33m(\u001b[0m\u001b[1;36m6\u001b[0m\u001b[1;33m,\u001b[0m\u001b[1;36m3\u001b[0m\u001b[1;33m)\u001b[0m\u001b[1;33m\u001b[0m\u001b[1;33m\u001b[0m\u001b[0m\n\u001b[0;32m      5\u001b[0m \u001b[1;31m#6\u001b[0m\u001b[1;33m\u001b[0m\u001b[1;33m\u001b[0m\u001b[1;33m\u001b[0m\u001b[0m\n",
      "\u001b[1;31mTypeError\u001b[0m: <lambda>() missing 1 required positional argument: 'z'"
     ]
    }
   ],
   "source": [
    "abc(7,9)\n",
    "#9\n",
    "\n",
    "abc(6,3)\n",
    "#6"
   ]
  },
  {
   "cell_type": "markdown",
   "metadata": {},
   "source": [
    "# Notes"
   ]
  },
  {
   "cell_type": "raw",
   "metadata": {},
   "source": [
    "Pre-define---> those functions which are made already\n",
    "User-defined--->those functionwhich we made for some environment\n",
    "                User defined not means we're making from scretech we can re create\n",
    "Default-fucntion ---> some function didn't took functions are called default Functions.\n",
    "lamba-Function----> ak line ka function, bna name ka function, jo na is se pehly use howa na isky bad use hoga to lammba hoga.\n",
    "Recursive-Fuction--->Repeatation of function itself is knnows is Recursive Function.\n",
    "                     khud apny ap ko call karta ha or usy kisi jaga py roky hain \n",
    "\n",
    "Required argument---> those function which require argumenr & are necessary are called required argument eg:Hubby/Wife marriage\n",
    "Optional argument---> those argument which are not required are called optionnal reuirement eg: relative,walima, hall.\n",
    "return ---> store in variabble & answer can be inpute for another Function.\n",
    "Non return ---> Which Perform its funtion without return any value.\n",
    "default-argument---> sef by programmer\n",
    "positional-argument ---> which we def postion \n",
    "keyword-Arrgument--->with the help of key value we can give any function value.\n",
    "argument with list ---> *unzip one value one by one in Funtion \n",
    "argument with Dictionary---> **unzip the value one by \n",
    "\n",
    "Every Function have:\n",
    "Fuction Deleration\n",
    "Function Body\n",
    "Function Calling"
   ]
  },
  {
   "cell_type": "raw",
   "metadata": {},
   "source": [
    "parameter vs Argument\n",
    "\n",
    "A parameter is the variable listed inside the parentheses in the function definition. \n",
    "An argument is the value that are sent to the function when it is called."
   ]
  },
  {
   "cell_type": "code",
   "execution_count": 5,
   "metadata": {},
   "outputs": [],
   "source": [
    "def abc():\n",
    "    if True:\n",
    "        for i in range(11):\n",
    "            if i == 0:\n",
    "                return 20\n",
    "            print('For body Qasim')\n",
    "    print(\"This if body\")"
   ]
  },
  {
   "cell_type": "code",
   "execution_count": 7,
   "metadata": {},
   "outputs": [
    {
     "data": {
      "text/plain": [
       "20"
      ]
     },
     "execution_count": 7,
     "metadata": {},
     "output_type": "execute_result"
    }
   ],
   "source": [
    "abc() # this shows when return function is applied it will give the value of return like 20 in this case"
   ]
  },
  {
   "cell_type": "code",
   "execution_count": null,
   "metadata": {},
   "outputs": [],
   "source": []
  }
 ],
 "metadata": {
  "kernelspec": {
   "display_name": "Python 3",
   "language": "python",
   "name": "python3"
  },
  "language_info": {
   "codemirror_mode": {
    "name": "ipython",
    "version": 3
   },
   "file_extension": ".py",
   "mimetype": "text/x-python",
   "name": "python",
   "nbconvert_exporter": "python",
   "pygments_lexer": "ipython3",
   "version": "3.8.3"
  }
 },
 "nbformat": 4,
 "nbformat_minor": 2
}
