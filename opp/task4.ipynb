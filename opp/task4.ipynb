{
 "cells": [
  {
   "cell_type": "code",
   "execution_count": 135,
   "metadata": {},
   "outputs": [
    {
     "name": "stdout",
     "output_type": "stream",
     "text": [
      "JPEG\n",
      "(5472, 3648)\n"
     ]
    }
   ],
   "source": [
    "import numpy as np\n",
    "from PIL import Image\n",
    "image1 = Image.open('3.jpg')\n",
    "print(image1.format)\n",
    "print(image1.size)"
   ]
  },
  {
   "cell_type": "code",
   "execution_count": 136,
   "metadata": {},
   "outputs": [
    {
     "data": {
      "text/plain": [
       "(3648, 5472, 3)"
      ]
     },
     "execution_count": 136,
     "metadata": {},
     "output_type": "execute_result"
    }
   ],
   "source": [
    "data = np.asarray(image1)/255.0\n",
    "data.shape"
   ]
  },
  {
   "cell_type": "code",
   "execution_count": 137,
   "metadata": {},
   "outputs": [],
   "source": [
    "filter = np.array([\n",
    "    [-1, 0, 1],\n",
    "    [-1, 0, 1],\n",
    "    [-1, 0, 1]\n",
    "], dtype=np.float32)/9.0\n",
    "\n",
    "def convolve(image, filter, padding = (1, 1)):\n",
    "    # For this to work neatly, filter and image should have the same number of channels\n",
    "    # Alternatively, filter could have just 1 channel or 2 dimensions\n",
    "    \n",
    "    if(image.ndim == 2):\n",
    "        image = np.expand_dims(image, axis=-1) # Convert 2D grayscale images to 3D\n",
    "    if(filter.ndim == 2):\n",
    "        filter = np.repeat(np.expand_dims(filter, axis=-1), image.shape[-1], axis=-1) # Same with filters\n",
    "    if(filter.shape[-1] == 1):\n",
    "        filter = np.repeat(filter, image.shape[-1], axis=-1) # Give filter the same channel count as the image\n",
    "    \n",
    "    #print(filter.shape, image.shape)\n",
    "    assert image.shape[-1] == filter.shape[-1]\n",
    "    size_x, size_y = filter.shape[:2]\n",
    "    width, height = image.shape[:2]\n",
    "    \n",
    "    output_array = np.zeros(((width - size_x + 2*padding[0]) + 1, \n",
    "                             (height - size_y + 2*padding[1]) + 1,\n",
    "                             image.shape[-1])) # Convolution Output: [(W−K+2P)/S]+1\n",
    "    \n",
    "    padded_image = np.pad(image, [\n",
    "        (padding[0], padding[0]),\n",
    "        (padding[1], padding[1]),\n",
    "        (0, 0)\n",
    "    ],'mean')\n",
    "    \n",
    "    for x in range(padded_image.shape[0] - size_x + 1): # -size_x + 1 is to keep the window within the bounds of the image\n",
    "        for y in range(padded_image.shape[1] - size_y + 1):\n",
    "\n",
    "            # Creates the window with the same size as the filter\n",
    "            window = padded_image[x:x + size_x, y:y + size_y]\n",
    "\n",
    "            # Sums over the product of the filter and the window\n",
    "            output_values = np.sum(filter * window, axis=(0, 1)) \n",
    "\n",
    "            # Places the calculated value into the output_array\n",
    "            output_array[x, y] = output_values\n",
    "            \n",
    "    return output_array"
   ]
  },
  {
   "cell_type": "code",
   "execution_count": 128,
   "metadata": {},
   "outputs": [],
   "source": [
    "result = convolve(data, filter, padding=(1, 1))"
   ]
  },
  {
   "cell_type": "code",
   "execution_count": 129,
   "metadata": {},
   "outputs": [],
   "source": [
    "result = Image.fromarray(np.uint8(255 * result), 'RGB')"
   ]
  },
  {
   "cell_type": "code",
   "execution_count": 130,
   "metadata": {},
   "outputs": [],
   "source": [
    "result.save('task4.png')\n"
   ]
  },
  {
   "cell_type": "code",
   "execution_count": null,
   "metadata": {},
   "outputs": [],
   "source": []
  }
 ],
 "metadata": {
  "kernelspec": {
   "display_name": "Python 3",
   "language": "python",
   "name": "python3"
  },
  "language_info": {
   "codemirror_mode": {
    "name": "ipython",
    "version": 3
   },
   "file_extension": ".py",
   "mimetype": "text/x-python",
   "name": "python",
   "nbconvert_exporter": "python",
   "pygments_lexer": "ipython3",
   "version": "3.7.3"
  }
 },
 "nbformat": 4,
 "nbformat_minor": 2
}
