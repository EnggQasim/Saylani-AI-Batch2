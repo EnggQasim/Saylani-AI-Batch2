{
 "cells": [
  {
   "cell_type": "raw",
   "metadata": {},
   "source": [
    "# Data Wargling (Join)\n",
    "# => # => (inner, outer, left, right)\n",
    "# => df.join()\n",
    "# => df.merge()\n",
    "# => pd.concat()\n",
    "\n",
    "# Group by\n",
    "# => df.groupby(by)\n",
    "# => unstact\n",
    "# => pivot_Table\n",
    "\n",
    "# Handling Missing Values"
   ]
  },
  {
   "cell_type": "code",
   "execution_count": null,
   "metadata": {},
   "outputs": [],
   "source": [
    "import numpy as np\n",
    "import pandas as pd"
   ]
  },
  {
   "cell_type": "code",
   "execution_count": null,
   "metadata": {},
   "outputs": [],
   "source": [
    "df1 = pd.DataFrame({\"CNIC\": np.random.randint(1,20, size=20),\n",
    "                   \"Account No\":np.random.randint(1,5, size=(20))})\n",
    "\n",
    "df1\n",
    "#12345-1234567-3\n",
    "#1234512345673"
   ]
  },
  {
   "cell_type": "code",
   "execution_count": null,
   "metadata": {},
   "outputs": [],
   "source": [
    "df2 = pd.DataFrame({\"CNIC\": np.random.randint(1,20, size=(20)),\n",
    "                   \"Account No\":np.random.randint(1,5, size=(20)),\n",
    "                   \"Mobile No\":np.random.randint(2001,3000, size=(20)),\n",
    "                  \"DOB\":pd.date_range('1990-01-01', periods=20, freq=\"M\"),\n",
    "                  \"CustomerName\":[chr(x) for x in np.random.randint(65,91, size=(20))],\n",
    "                   \"Gender\":np.random.choice([\"M\",\"F\"], size=(20))})\n",
    "df2"
   ]
  },
  {
   "cell_type": "code",
   "execution_count": null,
   "metadata": {},
   "outputs": [],
   "source": [
    "print(df1.dtypes, df2.dtypes, sep=\"\\n\\n\\n\")"
   ]
  },
  {
   "cell_type": "raw",
   "metadata": {},
   "source": [
    "columnNameSameInBothDataframes\n",
    "Name(optional), datatype, data_pattern\n",
    "\n",
    "#data_frame_left.merge(dataframe_right, on=\"columnNameSameInBothDataframes\", how=\"typeofJoin\")\n",
    "#typeofJoin=inner,outer,left,right\n",
    "\n",
    "#data_frame_left.merge(dataframe_right, on=[col1,col2,col3], how=\"typeofJoin\")\n",
    "\n",
    "#data_frame_left.merge(dataframe_right, on=[col1,col2,col3], how=\"typeofJoin\")\n",
    "\n",
    "#if columns name differents in both table \n",
    "\n",
    "#data_frame_left.merge(dataframe_right, left_on=\"col\", right_on=\"col\", how=\"typeofJoin\")\n",
    "\n",
    "#data_frame_left.merge(dataframe_right, left_index=True, right_index=True, how='outer')\n",
    "\n"
   ]
  },
  {
   "cell_type": "markdown",
   "metadata": {},
   "source": [
    "#### data_frame_left.merge(dataframe_right, on=\"columnNameSameInBothDataframes\", how=\"typeofJoin\")"
   ]
  },
  {
   "cell_type": "code",
   "execution_count": null,
   "metadata": {},
   "outputs": [],
   "source": [
    "a = df1.merge(df2, on=\"CNIC\", how='inner')\n",
    "a"
   ]
  },
  {
   "cell_type": "markdown",
   "metadata": {},
   "source": [
    "### data_frame_left.merge(dataframe_right, on=[col1,col2,col3], how=\"typeofJoin\")"
   ]
  },
  {
   "cell_type": "code",
   "execution_count": null,
   "metadata": {},
   "outputs": [],
   "source": [
    "a = df1.merge(df2, on=[\"CNIC\",\"Account No\"], how=\"inner\") #Join with multiples columns\n",
    "a"
   ]
  },
  {
   "cell_type": "markdown",
   "metadata": {},
   "source": [
    "##### data_frame_left.merge(dataframe_right, left_on=\"col\", right_on=\"col\", how=\"typeofJoin\")"
   ]
  },
  {
   "cell_type": "code",
   "execution_count": null,
   "metadata": {},
   "outputs": [],
   "source": [
    "df1.columns"
   ]
  },
  {
   "cell_type": "code",
   "execution_count": null,
   "metadata": {},
   "outputs": [],
   "source": [
    "df1.columns = ['Customer CNIC', 'Customer Account No']\n",
    "df1.head(2)"
   ]
  },
  {
   "cell_type": "code",
   "execution_count": null,
   "metadata": {},
   "outputs": [],
   "source": [
    "df2.head(2)"
   ]
  },
  {
   "cell_type": "code",
   "execution_count": null,
   "metadata": {},
   "outputs": [],
   "source": [
    "a = df1.merge(df2, left_on=\"Customer CNIC\", right_on=\"CNIC\")\n",
    "a"
   ]
  },
  {
   "cell_type": "code",
   "execution_count": null,
   "metadata": {},
   "outputs": [],
   "source": [
    "a = df1.merge(df2, left_on=[\"Customer CNIC\",\"Customer Account No\"], right_on=[\"CNIC\",\"Account No\"])\n",
    "a"
   ]
  },
  {
   "cell_type": "markdown",
   "metadata": {},
   "source": [
    "##### data_frame_left.merge(dataframe_right, left_index=True, right_index=True, how='outer')\n"
   ]
  },
  {
   "cell_type": "code",
   "execution_count": null,
   "metadata": {},
   "outputs": [],
   "source": [
    "customers = pd.DataFrame({\"Customers NIC\": [14,6,19,22],\"Customer Name\":[\"A\",\"B\",\"C\",\"D\"]})\n",
    "\n",
    "\n",
    "transactions = pd.DataFrame({\"CNIC\": np.random.choice([14,6,19,21], size=(20)),\n",
    "                   \"TransactionID\":np.random.randint(1,2, size=(20)),\n",
    "                  \"Transaction Date\":pd.date_range('1990-01-01', periods=20, freq=\"M\"),\n",
    "                   \"Description\":np.random.choice([\"TopUP\",\"IBFT\",\"FT\"], size=(20)),\n",
    "                            \"Amount\":np.random.randint(1,1000000, size=(20))})\n",
    "\n",
    "\n",
    "customers"
   ]
  },
  {
   "cell_type": "code",
   "execution_count": null,
   "metadata": {},
   "outputs": [],
   "source": [
    "transactions"
   ]
  },
  {
   "cell_type": "code",
   "execution_count": null,
   "metadata": {},
   "outputs": [],
   "source": [
    "c = transactions.CNIC.value_counts()\n",
    "print(c.index)\n",
    "print(c.values)\n",
    "print()\n",
    "print(c)"
   ]
  },
  {
   "cell_type": "code",
   "execution_count": null,
   "metadata": {},
   "outputs": [],
   "source": [
    "a = customers.merge(c, left_on=\"Customers NIC\", right_index=True, how='left')\n",
    "a.columns = ['Customers NIC', 'Customer Name', 'Transaction counts']\n",
    "a"
   ]
  },
  {
   "cell_type": "code",
   "execution_count": null,
   "metadata": {},
   "outputs": [],
   "source": [
    "a = customers.merge(c, left_on=\"Customers NIC\", right_index=True, how='right')\n",
    "a.columns = ['Customers NIC', 'Customer Name', 'Transaction counts']\n",
    "a"
   ]
  },
  {
   "cell_type": "code",
   "execution_count": null,
   "metadata": {},
   "outputs": [],
   "source": [
    "a = customers.merge(c, left_on=\"Customers NIC\", right_index=True, how='inner')\n",
    "a.columns = ['Customers NIC', 'Customer Name', 'Transaction counts']\n",
    "a"
   ]
  },
  {
   "cell_type": "code",
   "execution_count": null,
   "metadata": {},
   "outputs": [],
   "source": [
    "a = customers.merge(c, left_on=\"Customers NIC\", right_index=True, how='outer')\n",
    "a.columns = ['Customers NIC', 'Customer Name', 'Transaction counts']\n",
    "a"
   ]
  },
  {
   "cell_type": "markdown",
   "metadata": {},
   "source": [
    "# Slabs\n",
    "* pd.cut(series)\n",
    "* pd.qcut(series)"
   ]
  },
  {
   "cell_type": "code",
   "execution_count": null,
   "metadata": {},
   "outputs": [],
   "source": [
    "transactions.head(2)"
   ]
  },
  {
   "cell_type": "code",
   "execution_count": null,
   "metadata": {},
   "outputs": [],
   "source": [
    "slabs = [1,10000,50000,100000,500000,99000000]\n",
    "pd.cut(transactions.Amount,slabs).value_counts()"
   ]
  },
  {
   "cell_type": "code",
   "execution_count": null,
   "metadata": {},
   "outputs": [],
   "source": [
    "slabs = [0, 0.6, 0.8, .95, 1]\n",
    "pd.qcut(transactions.Amount,slabs).value_counts()"
   ]
  },
  {
   "cell_type": "markdown",
   "metadata": {},
   "source": [
    "# Group by"
   ]
  },
  {
   "cell_type": "code",
   "execution_count": null,
   "metadata": {},
   "outputs": [],
   "source": [
    "#dataframeName.groupby(\"Col\").agg([count])             optional(min,max,avg,sum, std)(int,float)\n",
    "#dataframeName.groupby(by=\"Col\")[[\"colname\"]].agg([count]) \n",
    "#dataframeName.groupby(by=[col1,col2,..]).agg([count]) "
   ]
  },
  {
   "cell_type": "code",
   "execution_count": null,
   "metadata": {},
   "outputs": [],
   "source": [
    "transactions = pd.DataFrame({\"CNIC\": np.random.choice([14,6,19,21], size=(20)),\n",
    "                   \"TransactionID\":np.random.randint(1,2, size=(20)),\n",
    "                  \"Transaction Date\":pd.date_range('1990-01-01', periods=20, freq=\"M\"),\n",
    "                   \"Description\":np.random.choice([\"TopUP\",\"IBFT\",\"FT\"], size=(20)),\n",
    "                            \"Amount\":np.random.randint(1,1000000, size=(20)),\n",
    "                            \"City\":np.random.choice([\"Karachi\",\"Islamabad\",\"Lahore\"], size=(20))})\n",
    "\n",
    "\n",
    "\n",
    "transactions"
   ]
  },
  {
   "cell_type": "code",
   "execution_count": null,
   "metadata": {},
   "outputs": [],
   "source": [
    "a = transactions.groupby(\"City\").agg(['count'])\n",
    "a"
   ]
  },
  {
   "cell_type": "code",
   "execution_count": null,
   "metadata": {},
   "outputs": [],
   "source": [
    "a = transactions.groupby(\"City\")[[\"CNIC\"]].agg(['count'])\n",
    "a"
   ]
  },
  {
   "cell_type": "code",
   "execution_count": null,
   "metadata": {},
   "outputs": [],
   "source": [
    "a = transactions.groupby(\"City\")[[\"City\"]].agg(['count'])\n",
    "a"
   ]
  },
  {
   "cell_type": "code",
   "execution_count": null,
   "metadata": {},
   "outputs": [],
   "source": [
    "a = transactions.groupby([\"City\",\"Description\"]).Amount.agg(['count',min,max, np.mean, np.std])\n",
    "a"
   ]
  },
  {
   "cell_type": "raw",
   "metadata": {},
   "source": [
    "Categorical data/nominal data\n",
    "'orange','mango'\n",
    "\n",
    "\n",
    "ordinal data\n",
    "1,3,2,4 (discreate/countinues)\n",
    "A,B,C\n",
    "a,b,c\n",
    "i,ii,iii"
   ]
  },
  {
   "cell_type": "code",
   "execution_count": null,
   "metadata": {},
   "outputs": [],
   "source": [
    "a = input(\"Enter no\")\n",
    "a.split(\"\")\n",
    "\n"
   ]
  },
  {
   "cell_type": "code",
   "execution_count": null,
   "metadata": {},
   "outputs": [],
   "source": [
    "list(str(232))"
   ]
  },
  {
   "cell_type": "code",
   "execution_count": null,
   "metadata": {},
   "outputs": [],
   "source": [
    "transactions.groupby([transactions['Transaction Date'].dt.year, \"City\",\"CNIC\"]).agg(['count'])"
   ]
  },
  {
   "cell_type": "code",
   "execution_count": null,
   "metadata": {},
   "outputs": [],
   "source": []
  }
 ],
 "metadata": {
  "kernelspec": {
   "display_name": "Python 3",
   "language": "python",
   "name": "python3"
  },
  "language_info": {
   "codemirror_mode": {
    "name": "ipython",
    "version": 3
   },
   "file_extension": ".py",
   "mimetype": "text/x-python",
   "name": "python",
   "nbconvert_exporter": "python",
   "pygments_lexer": "ipython3",
   "version": "3.7.5"
  }
 },
 "nbformat": 4,
 "nbformat_minor": 2
}
