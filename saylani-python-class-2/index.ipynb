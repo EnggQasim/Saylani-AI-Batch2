{
 "cells": [
  {
   "cell_type": "code",
   "execution_count": 4,
   "metadata": {},
   "outputs": [],
   "source": [
    "mesage = \"Hello Python Crash Course reader!\""
   ]
  },
  {
   "cell_type": "code",
   "execution_count": 6,
   "metadata": {},
   "outputs": [
    {
     "data": {
      "text/plain": [
       "str"
      ]
     },
     "execution_count": 6,
     "metadata": {},
     "output_type": "execute_result"
    }
   ],
   "source": [
    "type(mesage)"
   ]
  },
  {
   "cell_type": "code",
   "execution_count": 13,
   "metadata": {},
   "outputs": [
    {
     "name": "stdout",
     "output_type": "stream",
     "text": [
      "Help on built-in function count:\n",
      "\n",
      "count(...) method of builtins.str instance\n",
      "    S.count(sub[, start[, end]]) -> int\n",
      "    \n",
      "    Return the number of non-overlapping occurrences of substring sub in\n",
      "    string S[start:end].  Optional arguments start and end are\n",
      "    interpreted as in slice notation.\n",
      "\n"
     ]
    }
   ],
   "source": [
    "help(mesage.count)"
   ]
  },
  {
   "cell_type": "code",
   "execution_count": 14,
   "metadata": {},
   "outputs": [],
   "source": [
    "?mesage.count"
   ]
  },
  {
   "cell_type": "code",
   "execution_count": null,
   "metadata": {},
   "outputs": [],
   "source": [
    "??mesage.count"
   ]
  },
  {
   "cell_type": "code",
   "execution_count": null,
   "metadata": {},
   "outputs": [],
   "source": [
    "?mesage.count?"
   ]
  },
  {
   "cell_type": "code",
   "execution_count": 15,
   "metadata": {},
   "outputs": [],
   "source": [
    "mesage.count?"
   ]
  },
  {
   "cell_type": "code",
   "execution_count": null,
   "metadata": {},
   "outputs": [],
   "source": [
    "mesage.count??"
   ]
  },
  {
   "cell_type": "code",
   "execution_count": 2,
   "metadata": {},
   "outputs": [
    {
     "name": "stdout",
     "output_type": "stream",
     "text": [
      "Hello Python Crash Course reader!\n"
     ]
    }
   ],
   "source": [
    "print(mesage)"
   ]
  },
  {
   "cell_type": "markdown",
   "metadata": {},
   "source": [
    "### Combining or Concatenating Strings"
   ]
  },
  {
   "cell_type": "code",
   "execution_count": 17,
   "metadata": {},
   "outputs": [],
   "source": [
    "first_name = \"Isfhan\""
   ]
  },
  {
   "cell_type": "code",
   "execution_count": 18,
   "metadata": {},
   "outputs": [],
   "source": [
    "last_name = \"Ahmed\""
   ]
  },
  {
   "cell_type": "code",
   "execution_count": 22,
   "metadata": {},
   "outputs": [
    {
     "name": "stdout",
     "output_type": "stream",
     "text": [
      "Isfhan Ahmed\n"
     ]
    },
    {
     "data": {
      "text/plain": [
       "'Isfhan Ahmed'"
      ]
     },
     "execution_count": 22,
     "metadata": {},
     "output_type": "execute_result"
    }
   ],
   "source": [
    "full_name = first_name + \" \" + last_name\n",
    "print(full_name)\n",
    "full_name"
   ]
  },
  {
   "cell_type": "code",
   "execution_count": 32,
   "metadata": {},
   "outputs": [
    {
     "data": {
      "text/plain": [
       "'ac'"
      ]
     },
     "execution_count": 32,
     "metadata": {},
     "output_type": "execute_result"
    }
   ],
   "source": [
    "# + - / * % > < != == === is opreator \n",
    "'a'+'c'"
   ]
  },
  {
   "cell_type": "code",
   "execution_count": 26,
   "metadata": {},
   "outputs": [
    {
     "name": "stdout",
     "output_type": "stream",
     "text": [
      "isfhan\n"
     ]
    },
    {
     "data": {
      "text/plain": [
       "'isfhan'"
      ]
     },
     "execution_count": 26,
     "metadata": {},
     "output_type": "execute_result"
    }
   ],
   "source": [
    "name = 'isfhan'\n",
    "print(name)\n",
    "name"
   ]
  },
  {
   "cell_type": "code",
   "execution_count": 27,
   "metadata": {},
   "outputs": [
    {
     "name": "stdout",
     "output_type": "stream",
     "text": [
      "isfhan\n"
     ]
    },
    {
     "data": {
      "text/plain": [
       "'isfhan'"
      ]
     },
     "execution_count": 27,
     "metadata": {},
     "output_type": "execute_result"
    }
   ],
   "source": [
    "name = \"isfhan\"\n",
    "print(name)\n",
    "name"
   ]
  },
  {
   "cell_type": "code",
   "execution_count": 28,
   "metadata": {},
   "outputs": [
    {
     "name": "stdout",
     "output_type": "stream",
     "text": [
      "isfhan\n"
     ]
    },
    {
     "data": {
      "text/plain": [
       "'isfhan'"
      ]
     },
     "execution_count": 28,
     "metadata": {},
     "output_type": "execute_result"
    }
   ],
   "source": [
    "name = '''isfhan'''\n",
    "print(name)\n",
    "name"
   ]
  },
  {
   "cell_type": "code",
   "execution_count": 31,
   "metadata": {},
   "outputs": [
    {
     "name": "stdout",
     "output_type": "stream",
     "text": [
      "\n",
      "name :- Isfhan ahmed\n",
      "fatherName :- Dildar ahmed\n",
      "\n"
     ]
    },
    {
     "data": {
      "text/plain": [
       "'\\nname :- Isfhan ahmed\\nfatherName :- Dildar ahmed\\n'"
      ]
     },
     "execution_count": 31,
     "metadata": {},
     "output_type": "execute_result"
    }
   ],
   "source": [
    "detail = \"\"\"\n",
    "name :- Isfhan ahmed\n",
    "fatherName :- Dildar ahmed\n",
    "\"\"\"\n",
    "print(detail)\n",
    "detail"
   ]
  },
  {
   "cell_type": "code",
   "execution_count": 33,
   "metadata": {},
   "outputs": [
    {
     "name": "stdout",
     "output_type": "stream",
     "text": [
      "\n",
      "saylani mass IT traing program\n",
      "Course : Saylani Ai batch-2\n",
      "name :- Isfhan ahmed\n",
      "fatherName :- Dildar ahmed\n",
      "rollNumber : 12546 batch : 2\n",
      "\n"
     ]
    }
   ],
   "source": [
    "detail = \"\"\"\n",
    "Saylani mass IT traing program\n",
    "Course : Saylani Ai batch-2\n",
    "name :- Isfhan ahmed\n",
    "fatherName :- Dildar ahmed\n",
    "rollNumber : 12546 batch : 2\n",
    "\"\"\"\n",
    "print(detail)"
   ]
  },
  {
   "cell_type": "code",
   "execution_count": 34,
   "metadata": {},
   "outputs": [
    {
     "name": "stdout",
     "output_type": "stream",
     "text": [
      "\n",
      "Saylani mass IT traing program\n",
      "Course : Saylani Ai batch-2\n",
      "Name : {name} \n",
      "FatherName : {father_name}\n",
      "RollNumber : {roll_number} batch : 2\n",
      "\n"
     ]
    }
   ],
   "source": [
    "name = 'JohnDoe' \n",
    "father_name = 'johnCena'\n",
    "roll_number = 45678\n",
    "\n",
    "detail = \"\"\"\n",
    "Saylani mass IT traing program\n",
    "Course : Saylani Ai batch-2\n",
    "Name : {name} \n",
    "FatherName : {father_name}\n",
    "RollNumber : {roll_number} batch : 2\n",
    "\"\"\"\n",
    "print(detail)"
   ]
  },
  {
   "cell_type": "code",
   "execution_count": 35,
   "metadata": {},
   "outputs": [
    {
     "name": "stdout",
     "output_type": "stream",
     "text": [
      "\n",
      "Saylani mass IT traing program\n",
      "Course : Saylani Ai batch-2\n",
      "Name : JohnDoe \n",
      "FatherName : johnCena\n",
      "RollNumber : 45678 batch : 2\n",
      "\n"
     ]
    }
   ],
   "source": [
    "name = 'JohnDoe' \n",
    "father_name = 'johnCena'\n",
    "roll_number = 45678\n",
    "\n",
    "detail = f\"\"\"\n",
    "Saylani mass IT traing program\n",
    "Course : Saylani Ai batch-2\n",
    "Name : {name} \n",
    "FatherName : {father_name}\n",
    "RollNumber : {roll_number} batch : 2\n",
    "\"\"\"\n",
    "print(detail)"
   ]
  },
  {
   "cell_type": "code",
   "execution_count": 36,
   "metadata": {},
   "outputs": [
    {
     "name": "stdout",
     "output_type": "stream",
     "text": [
      "\n",
      "Saylani mass IT traing program\n",
      "Course : Saylani Ai batch-2\n",
      "Name : JohnDoe \n",
      "FatherName : Obama\n",
      "RollNumber : 45678 batch : 2\n",
      "\n"
     ]
    }
   ],
   "source": [
    "name = 'JohnDoe' \n",
    "father_name = 'Obama'\n",
    "roll_number = 45678\n",
    "\n",
    "detail = f\"\"\"\n",
    "Saylani mass IT traing program\n",
    "Course : Saylani Ai batch-2\n",
    "Name : {name} \n",
    "FatherName : {father_name}\n",
    "RollNumber : {roll_number} batch : 2\n",
    "\"\"\"\n",
    "print(detail)"
   ]
  },
  {
   "cell_type": "code",
   "execution_count": null,
   "metadata": {},
   "outputs": [],
   "source": []
  }
 ],
 "metadata": {
  "kernelspec": {
   "display_name": "Python 3",
   "language": "python",
   "name": "python3"
  },
  "language_info": {
   "codemirror_mode": {
    "name": "ipython",
    "version": 3
   },
   "file_extension": ".py",
   "mimetype": "text/x-python",
   "name": "python",
   "nbconvert_exporter": "python",
   "pygments_lexer": "ipython3",
   "version": "3.7.6"
  }
 },
 "nbformat": 4,
 "nbformat_minor": 4
}
