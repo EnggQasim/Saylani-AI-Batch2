{
 "cells": [
  {
   "cell_type": "markdown",
   "metadata": {},
   "source": [
    "# Topic\n",
    "- Class\n",
    "- instance\n",
    "- Method\n",
    "- Attributes/properties\n",
    "- class variable\n",
    "- instance variable\n",
    "- inheritance\n",
    "- encupsolation\n",
    "- Abstraction\n",
    "- Ploymorphisim"
   ]
  },
  {
   "cell_type": "code",
   "execution_count": null,
   "metadata": {},
   "outputs": [],
   "source": [
    "s1name = \"An\"\n",
    "s1fname = \"Af\"\n",
    "s1age = 20\n",
    "def s1speak():pass\n",
    "def s1listing():pass\n",
    "def eating():pass\n",
    "\n",
    "s2name = \"Bn\"\n",
    "s2fname = \"Bf\"\n",
    "s2age = 20\n",
    "def s2speak():pass\n",
    "def s2listing():pass\n",
    "def e2ting():pass"
   ]
  },
  {
   "cell_type": "markdown",
   "metadata": {},
   "source": [
    "# OOP"
   ]
  },
  {
   "cell_type": "code",
   "execution_count": 1,
   "metadata": {},
   "outputs": [],
   "source": [
    "class Student(): # Class\n",
    "    pass # Class Defination\n",
    "\n",
    "s1 = Student() # s1 instance/Object calling Constructor\n",
    "s2 = Student()\n",
    "s3 = Student()"
   ]
  },
  {
   "cell_type": "code",
   "execution_count": 3,
   "metadata": {},
   "outputs": [],
   "source": [
    "class Student():#Class\n",
    "    def __init__(self, sid, name):#Constructor\n",
    "        self.sid = sid #Attributes/properties/DataMember/Field\n",
    "        self.name = name #Attributes/properties/DataMember/Field\n",
    "        self.fname = \"\"#Attributes/properties/DataMember/Field\n",
    "        self.age = 0#Attributes/properties/DataMember/Field\n",
    "        \n",
    "    def login(self, user, password):#Method\n",
    "        self.name = user\n",
    "        print(\"Welcome!\", self.name)\n",
    "        \n",
    "    def logout(self):pass #Method\n",
    "    def quiz_attempt(self):pass # Method"
   ]
  },
  {
   "cell_type": "code",
   "execution_count": 4,
   "metadata": {},
   "outputs": [],
   "source": [
    "s1 = Student(1, \"Ali\")\n",
    "s2 = Student(20, \"Hamza\")\n",
    "s3 = Student(2, \"Kashif\")"
   ]
  },
  {
   "cell_type": "code",
   "execution_count": 8,
   "metadata": {},
   "outputs": [
    {
     "data": {
      "text/plain": [
       "'Kashif'"
      ]
     },
     "execution_count": 8,
     "metadata": {},
     "output_type": "execute_result"
    }
   ],
   "source": [
    "s3.name"
   ]
  },
  {
   "cell_type": "code",
   "execution_count": 9,
   "metadata": {},
   "outputs": [
    {
     "name": "stdout",
     "output_type": "stream",
     "text": [
      "Welcome! Ali\n"
     ]
    }
   ],
   "source": [
    "s1.login(\"Ali\",\"11asdf\")"
   ]
  },
  {
   "cell_type": "code",
   "execution_count": 10,
   "metadata": {},
   "outputs": [
    {
     "name": "stdout",
     "output_type": "stream",
     "text": [
      "Welcome! Abid\n"
     ]
    }
   ],
   "source": [
    "s2.login(\"Abid\",\"3sdjf\")"
   ]
  },
  {
   "cell_type": "code",
   "execution_count": 12,
   "metadata": {},
   "outputs": [],
   "source": [
    "class Student():#Class\n",
    "    def __init__(this, sid, name):#Constructor\n",
    "        this.sid = sid #Attributes/properties/DataMember/Field\n",
    "        this.name = name #Attributes/properties/DataMember/Field\n",
    "        this.fname = \"\"#Attributes/properties/DataMember/Field\n",
    "        this.age = 0#Attributes/properties/DataMember/Field\n",
    "        \n",
    "    def login(this, user, password):#Method\n",
    "        this.name = user\n",
    "        print(\"Welcome!\", self.name)\n",
    "        \n",
    "    def logout(this):pass #Method\n",
    "    def quiz_attempt(this):pass # Method"
   ]
  },
  {
   "cell_type": "code",
   "execution_count": 13,
   "metadata": {},
   "outputs": [],
   "source": [
    "s1 = Student(1, \"Ali\")\n",
    "s2 = Student(20, \"Hamza\")\n",
    "s3 = Student(2, \"Kashif\")"
   ]
  },
  {
   "cell_type": "code",
   "execution_count": 14,
   "metadata": {},
   "outputs": [
    {
     "data": {
      "text/plain": [
       "'Ali'"
      ]
     },
     "execution_count": 14,
     "metadata": {},
     "output_type": "execute_result"
    }
   ],
   "source": [
    "s1.name"
   ]
  },
  {
   "cell_type": "markdown",
   "metadata": {},
   "source": [
    "# Class Variable"
   ]
  },
  {
   "cell_type": "code",
   "execution_count": 18,
   "metadata": {},
   "outputs": [
    {
     "data": {
      "text/plain": [
       "3"
      ]
     },
     "execution_count": 18,
     "metadata": {},
     "output_type": "execute_result"
    }
   ],
   "source": [
    "class A():\n",
    "    counter = 0 # Class Variable\n",
    "    \n",
    "    def __init__(self):\n",
    "        self.id = A.counter + 1\n",
    "        self.name = \"\"\n",
    "        self.fname = \"\"\n",
    "        #A is Class name\n",
    "        A.counter += 1 # update class variable         \n",
    "        \n",
    "obj1 = A() \n",
    "obj3 = A() \n",
    "obj2 = A() \n",
    "\n",
    "\n",
    "obj1.counter #calling Class Variable with obj ref\n",
    "A.counter # Calling class variable with Class Ref"
   ]
  },
  {
   "cell_type": "code",
   "execution_count": 21,
   "metadata": {},
   "outputs": [
    {
     "name": "stdout",
     "output_type": "stream",
     "text": [
      "1\n",
      "3\n",
      "2\n"
     ]
    }
   ],
   "source": [
    "print(obj1.id, obj2.id, obj3.id, sep=\"\\n\")"
   ]
  },
  {
   "cell_type": "markdown",
   "metadata": {},
   "source": [
    "# Inheritance "
   ]
  },
  {
   "cell_type": "code",
   "execution_count": 22,
   "metadata": {},
   "outputs": [],
   "source": [
    "class Parent():\n",
    "    def __init__(self):\n",
    "        self.id = 0\n",
    "        self.name = \"\"\n",
    "        self.dob = 0\n",
    "    \n",
    "    def speak(self, words):\n",
    "        print(words, \"!\")\n",
    "        \n",
    "    def eat(self, food):\n",
    "        print(\"havig \",food)\n",
    "        \n",
    "    def listing(self):\n",
    "        print(\"Listing...\")\n",
    "        \n",
    "class Child(Parent):\n",
    "    pass\n",
    "\n",
    "obj_p = Parent()\n",
    "\n",
    "obj_c = Child()"
   ]
  },
  {
   "cell_type": "code",
   "execution_count": 23,
   "metadata": {},
   "outputs": [],
   "source": [
    "class Father():\n",
    "    def __init__(self):\n",
    "        self.name = \"\"\n",
    "        self.relation = \"\"\n",
    "        \n",
    "    def lookafter(self):\n",
    "        print(\"Father look after their child\")\n",
    "        \n",
    "    def earnsfor(self):\n",
    "        print(\"Father earns childern\")\n",
    "        \n",
    "class Mother():\n",
    "    def __init__(self):\n",
    "        self.name = \"\"\n",
    "        self.relation = \"\"\n",
    "        \n",
    "    def lookafter(self):\n",
    "        print(\"Mother look after their child\")\n",
    "        \n",
    "    def earndandfeed(self):\n",
    "        print(\"Mother loves childern\")\n",
    "        \n",
    "class Childern(Father, Mother):\n",
    "    pass\n",
    "\n",
    "obj_c = Childern()"
   ]
  },
  {
   "cell_type": "code",
   "execution_count": 24,
   "metadata": {},
   "outputs": [
    {
     "name": "stdout",
     "output_type": "stream",
     "text": [
      "Father look after their child\n"
     ]
    }
   ],
   "source": [
    "obj_c.lookafter()"
   ]
  },
  {
   "cell_type": "markdown",
   "metadata": {},
   "source": [
    "# Ploymorphism"
   ]
  },
  {
   "cell_type": "markdown",
   "metadata": {},
   "source": [
    "## Overloading"
   ]
  },
  {
   "cell_type": "code",
   "execution_count": 25,
   "metadata": {},
   "outputs": [
    {
     "name": "stdout",
     "output_type": "stream",
     "text": [
      "3\n",
      "4.8\n",
      "2.2\n",
      "5.3\n",
      "50\n"
     ]
    }
   ],
   "source": [
    "class Abc():\n",
    "    def pl(self, *n):\n",
    "        print(sum(n))\n",
    "        \n",
    "o1 = Abc()\n",
    "o1.pl(1,2)\n",
    "o1.pl(2.3, 2.5)\n",
    "o1.pl(1,1.2)\n",
    "o1.pl(3.3, 2)\n",
    "o1.pl(33,3,2,5,7)"
   ]
  },
  {
   "cell_type": "code",
   "execution_count": 26,
   "metadata": {},
   "outputs": [
    {
     "name": "stdout",
     "output_type": "stream",
     "text": [
      "5\n",
      "9\n"
     ]
    }
   ],
   "source": [
    "class ABC():\n",
    "    def __init__(self, x, y):\n",
    "        self.x = x\n",
    "        self.y = y\n",
    "        \n",
    "    def __add__(self, other):\n",
    "        print(self.x + other.x)\n",
    "        print(self.y + other.y)\n",
    "        \n",
    "o1 = ABC(2,4)        \n",
    "o2 = ABC(3,5)\n",
    "\n",
    "o1 + o2\n",
    "    "
   ]
  },
  {
   "cell_type": "markdown",
   "metadata": {},
   "source": [
    "# Over Riding"
   ]
  },
  {
   "cell_type": "code",
   "execution_count": 37,
   "metadata": {},
   "outputs": [
    {
     "name": "stdout",
     "output_type": "stream",
     "text": [
      "Parent a..\n",
      "Child b..\n",
      "Parent c..\n"
     ]
    }
   ],
   "source": [
    "class Parent():\n",
    "    def a(self):print(\"Parent a..\")\n",
    "    def b(self):print(\"Parent b..\")\n",
    "    def c(self):print(\"Parent c..\")\n",
    "        \n",
    "class Child(Parent):\n",
    "    def b(self):print(\"Child b..\")\n",
    "        \n",
    "obj1 = Child()    \n",
    "obj1.a()\n",
    "obj1.b()\n",
    "obj1.c()\n"
   ]
  },
  {
   "cell_type": "markdown",
   "metadata": {},
   "source": [
    "# Encopsoluation"
   ]
  },
  {
   "cell_type": "code",
   "execution_count": 1,
   "metadata": {},
   "outputs": [],
   "source": [
    "class A():\n",
    "    def __init__(self, name, age):\n",
    "        self.__sname = name\n",
    "        self.__age = age\n",
    "        \n",
    "s1 = A(\"Ali\",20)  \n"
   ]
  },
  {
   "cell_type": "code",
   "execution_count": 2,
   "metadata": {},
   "outputs": [
    {
     "ename": "AttributeError",
     "evalue": "'A' object has no attribute 'sname'",
     "output_type": "error",
     "traceback": [
      "\u001b[0;31m---------------------------------------------------------------------------\u001b[0m",
      "\u001b[0;31mAttributeError\u001b[0m                            Traceback (most recent call last)",
      "\u001b[0;32m<ipython-input-2-a371708e03a9>\u001b[0m in \u001b[0;36m<module>\u001b[0;34m\u001b[0m\n\u001b[0;32m----> 1\u001b[0;31m \u001b[0ms1\u001b[0m\u001b[0;34m.\u001b[0m\u001b[0msname\u001b[0m\u001b[0;34m\u001b[0m\u001b[0;34m\u001b[0m\u001b[0m\n\u001b[0m",
      "\u001b[0;31mAttributeError\u001b[0m: 'A' object has no attribute 'sname'"
     ]
    }
   ],
   "source": [
    "s1.sname"
   ]
  },
  {
   "cell_type": "code",
   "execution_count": 3,
   "metadata": {},
   "outputs": [
    {
     "ename": "AttributeError",
     "evalue": "'A' object has no attribute '__sname'",
     "output_type": "error",
     "traceback": [
      "\u001b[0;31m---------------------------------------------------------------------------\u001b[0m",
      "\u001b[0;31mAttributeError\u001b[0m                            Traceback (most recent call last)",
      "\u001b[0;32m<ipython-input-3-2244f3c12d00>\u001b[0m in \u001b[0;36m<module>\u001b[0;34m\u001b[0m\n\u001b[0;32m----> 1\u001b[0;31m \u001b[0ms1\u001b[0m\u001b[0;34m.\u001b[0m\u001b[0m__sname\u001b[0m\u001b[0;34m\u001b[0m\u001b[0;34m\u001b[0m\u001b[0m\n\u001b[0m",
      "\u001b[0;31mAttributeError\u001b[0m: 'A' object has no attribute '__sname'"
     ]
    }
   ],
   "source": [
    "s1.__sname"
   ]
  },
  {
   "cell_type": "code",
   "execution_count": 4,
   "metadata": {},
   "outputs": [
    {
     "data": {
      "text/plain": [
       "'Ali'"
      ]
     },
     "execution_count": 4,
     "metadata": {},
     "output_type": "execute_result"
    }
   ],
   "source": [
    "s1._A__sname"
   ]
  },
  {
   "cell_type": "code",
   "execution_count": 6,
   "metadata": {},
   "outputs": [
    {
     "name": "stdout",
     "output_type": "stream",
     "text": [
      "Name: Ali\n",
      "Age: 20\n"
     ]
    }
   ],
   "source": [
    "class A():\n",
    "    def __init__(self, name, age):\n",
    "        self.__sname = name\n",
    "        self.__age = age\n",
    "        \n",
    "        \n",
    "    def dis(self):\n",
    "        print(\"Name:\", self.__sname)\n",
    "        print(\"Age:\", self.__age)\n",
    "        \n",
    "    def change(self, a, b):\n",
    "        self.__sname = a\n",
    "        self.__age = b\n",
    "        \n",
    "        \n",
    "s1 = A(\"Ali\",20)  \n",
    "#s1.sname\n",
    "s1.dis()"
   ]
  },
  {
   "cell_type": "code",
   "execution_count": 7,
   "metadata": {},
   "outputs": [
    {
     "name": "stdout",
     "output_type": "stream",
     "text": [
      "Name: Asif\n",
      "Age: 25\n"
     ]
    }
   ],
   "source": [
    "s1.change(\"Asif\", 25)\n",
    "s1.dis()"
   ]
  },
  {
   "cell_type": "code",
   "execution_count": 10,
   "metadata": {},
   "outputs": [
    {
     "name": "stdout",
     "output_type": "stream",
     "text": [
      "Name: Ali\n",
      "Age: 20\n",
      "This is private method\n"
     ]
    }
   ],
   "source": [
    "class A():\n",
    "    def __init__(self, name, age):\n",
    "        self.__sname = name\n",
    "        self.__age = age\n",
    "        \n",
    "        \n",
    "    def dis(self):\n",
    "        print(\"Name:\", self.__sname)\n",
    "        print(\"Age:\", self.__age)\n",
    "        self.__info() #calling private method\n",
    "        \n",
    "    def change(self, a, b):\n",
    "        self.__sname = a\n",
    "        self.__age = b\n",
    "        \n",
    "    def __info(self):\n",
    "        print(\"This is private method\")\n",
    "        \n",
    "        \n",
    "s1 = A(\"Ali\",20)  \n",
    "s1.dis()"
   ]
  },
  {
   "cell_type": "markdown",
   "metadata": {},
   "source": [
    "# Abstractions Class"
   ]
  },
  {
   "cell_type": "code",
   "execution_count": 11,
   "metadata": {},
   "outputs": [
    {
     "name": "stdout",
     "output_type": "stream",
     "text": [
      "Asif\n",
      "Hamza\n"
     ]
    }
   ],
   "source": [
    "class A:\n",
    "    def __init__(self, name, age):\n",
    "        self.name = name\n",
    "        self.age = age\n",
    "\n",
    "class B(A):\n",
    "    pass\n",
    "\n",
    "\n",
    "obj1 = A('Asif',20)\n",
    "obj2 = B('Hamza',26)\n",
    "\n",
    "print(obj1.name)\n",
    "print(obj2.name)"
   ]
  },
  {
   "cell_type": "code",
   "execution_count": 12,
   "metadata": {},
   "outputs": [],
   "source": [
    "import xyz"
   ]
  },
  {
   "cell_type": "code",
   "execution_count": 14,
   "metadata": {},
   "outputs": [
    {
     "name": "stdout",
     "output_type": "stream",
     "text": [
      "A\n"
     ]
    }
   ],
   "source": [
    "xyz.a()"
   ]
  },
  {
   "cell_type": "code",
   "execution_count": 15,
   "metadata": {},
   "outputs": [],
   "source": [
    "from xyz import b"
   ]
  },
  {
   "cell_type": "code",
   "execution_count": 16,
   "metadata": {},
   "outputs": [
    {
     "name": "stdout",
     "output_type": "stream",
     "text": [
      "B\n"
     ]
    }
   ],
   "source": [
    "b()"
   ]
  },
  {
   "cell_type": "code",
   "execution_count": 17,
   "metadata": {},
   "outputs": [],
   "source": [
    "import numpy as np"
   ]
  },
  {
   "cell_type": "code",
   "execution_count": 18,
   "metadata": {},
   "outputs": [
    {
     "ename": "TypeError",
     "evalue": "Can't instantiate abstract class Human with abstract methods __init__",
     "output_type": "error",
     "traceback": [
      "\u001b[0;31m---------------------------------------------------------------------------\u001b[0m",
      "\u001b[0;31mTypeError\u001b[0m                                 Traceback (most recent call last)",
      "\u001b[0;32m<ipython-input-18-35dd5817fe3d>\u001b[0m in \u001b[0;36m<module>\u001b[0;34m\u001b[0m\n\u001b[1;32m     13\u001b[0m         \u001b[0mself\u001b[0m\u001b[0;34m.\u001b[0m\u001b[0mage\u001b[0m \u001b[0;34m=\u001b[0m \u001b[0mage\u001b[0m\u001b[0;34m\u001b[0m\u001b[0;34m\u001b[0m\u001b[0m\n\u001b[1;32m     14\u001b[0m \u001b[0;34m\u001b[0m\u001b[0m\n\u001b[0;32m---> 15\u001b[0;31m \u001b[0mp\u001b[0m \u001b[0;34m=\u001b[0m \u001b[0mHuman\u001b[0m\u001b[0;34m(\u001b[0m\u001b[0;34m\"Ali\"\u001b[0m\u001b[0;34m,\u001b[0m\u001b[0;36m20\u001b[0m\u001b[0;34m)\u001b[0m\u001b[0;34m\u001b[0m\u001b[0;34m\u001b[0m\u001b[0m\n\u001b[0m",
      "\u001b[0;31mTypeError\u001b[0m: Can't instantiate abstract class Human with abstract methods __init__"
     ]
    }
   ],
   "source": [
    "from abc import ABC, abstractmethod\n",
    "\n",
    "class Human(ABC):# Abstract Class\n",
    "    @abstractmethod\n",
    "    def __init__(self, name, age):\n",
    "        self.name = name\n",
    "        self.age = age\n",
    "        \n",
    "        \n",
    "class Male(Human):#Child Class\n",
    "    def __init__(self, name, age):\n",
    "        self.name = name\n",
    "        self.age = age\n",
    "        \n",
    "p = Human(\"Ali\",20)        "
   ]
  },
  {
   "cell_type": "code",
   "execution_count": 19,
   "metadata": {},
   "outputs": [],
   "source": [
    "c = Male(\"Kashif\",30)"
   ]
  },
  {
   "cell_type": "code",
   "execution_count": null,
   "metadata": {},
   "outputs": [],
   "source": []
  }
 ],
 "metadata": {
  "kernelspec": {
   "display_name": "Python 3",
   "language": "python",
   "name": "python3"
  },
  "language_info": {
   "codemirror_mode": {
    "name": "ipython",
    "version": 3
   },
   "file_extension": ".py",
   "mimetype": "text/x-python",
   "name": "python",
   "nbconvert_exporter": "python",
   "pygments_lexer": "ipython3",
   "version": "3.7.5"
  }
 },
 "nbformat": 4,
 "nbformat_minor": 2
}
