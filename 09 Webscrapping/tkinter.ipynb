{
 "cells": [
  {
   "cell_type": "code",
   "execution_count": 2,
   "metadata": {},
   "outputs": [],
   "source": [
    "import tkinter as tk\n",
    "\n",
    "class Application(tk.Frame):\n",
    "    def __init__(self, master=None):\n",
    "        super().__init__(master)\n",
    "        self.master = master\n",
    "        self.pack()\n",
    "        self.create_widgets()\n",
    "\n",
    "    def create_widgets(self):\n",
    "        self.hi_there = tk.Button(self)\n",
    "        self.hi_there[\"text\"] = \"Hello World\\n(click me)\"\n",
    "        self.hi_there[\"command\"] = self.say_hi\n",
    "        self.hi_there.pack(side=\"top\")\n",
    "\n",
    "        self.quit = tk.Button(self, text=\"QUIT\", fg=\"red\",\n",
    "                              command=self.master.destroy)\n",
    "        self.quit.pack(side=\"bottom\")\n",
    "\n",
    "    def say_hi(self):\n",
    "        print(\"hi there, everyone!\")\n",
    "\n",
    "root = tk.Tk()\n",
    "app = Application(master=root)\n",
    "app.mainloop()"
   ]
  },
  {
   "cell_type": "code",
   "execution_count": null,
   "metadata": {},
   "outputs": [
    {
     "name": "stderr",
     "output_type": "stream",
     "text": [
      "Exception in Tkinter callback\n",
      "Traceback (most recent call last):\n",
      "  File \"C:\\ProgramData\\Anaconda3\\lib\\tkinter\\__init__.py\", line 1705, in __call__\n",
      "    return self.func(*args)\n",
      "  File \"<ipython-input-17-b7491c09d9e5>\", line 19, in get_link\n",
      "    print(tage['onclick'])\n",
      "  File \"C:\\ProgramData\\Anaconda3\\lib\\site-packages\\bs4\\element.py\", line 1321, in __getitem__\n",
      "    return self.attrs[key]\n",
      "KeyError: 'onclick'\n"
     ]
    }
   ],
   "source": [
    "import tkinter as tk\n",
    "import requests\n",
    "from bs4 import BeautifulSoup\n",
    "\n",
    "root= tk.Tk()\n",
    "\n",
    "canvas1 = tk.Canvas(root, width = 400, height = 300)\n",
    "canvas1.pack()\n",
    "\n",
    "entry1 = tk.Entry (root) \n",
    "canvas1.create_window(200, 140, window=entry1)\n",
    "\n",
    "def get_link ():\n",
    "    \n",
    "    url = requests.get('https://www.w3schools.com/')\n",
    "    soup = BeautifulSoup(url.content, 'html.parser')\n",
    "    #print(soup.prettify())\n",
    "    for tage in soup.find_all('a'):\n",
    "        print(tage['onclick'])\n",
    "    \n",
    "\n",
    "\n",
    "    \n",
    "button1 = tk.Button(text='Login', command=get_link)\n",
    "canvas1.create_window(200, 180, window=button1)\n",
    "\n",
    "root.mainloop()"
   ]
  },
  {
   "cell_type": "code",
   "execution_count": null,
   "metadata": {},
   "outputs": [],
   "source": []
  },
  {
   "cell_type": "code",
   "execution_count": null,
   "metadata": {},
   "outputs": [],
   "source": []
  },
  {
   "cell_type": "code",
   "execution_count": 13,
   "metadata": {},
   "outputs": [],
   "source": [
    "import tkinter as tk\n",
    "\n",
    "root= tk.Tk()\n",
    "\n",
    "#Canvas is your display where you can place items\n",
    "canvas1 = tk.Canvas(root, width = 400, height = 300)\n",
    "canvas1.pack()\n",
    "\n",
    "#entry box can be used to get the user’s input\n",
    "entry1 = tk.Entry (root) \n",
    "canvas1.create_window(200, 140, window=entry1)\n",
    "\n",
    "#button can be used to execute the function\n",
    "\n",
    "\n",
    "root.mainloop()"
   ]
  },
  {
   "cell_type": "code",
   "execution_count": null,
   "metadata": {},
   "outputs": [],
   "source": []
  }
 ],
 "metadata": {
  "kernelspec": {
   "display_name": "Python 3",
   "language": "python",
   "name": "python3"
  },
  "language_info": {
   "codemirror_mode": {
    "name": "ipython",
    "version": 3
   },
   "file_extension": ".py",
   "mimetype": "text/x-python",
   "name": "python",
   "nbconvert_exporter": "python",
   "pygments_lexer": "ipython3",
   "version": "3.7.6"
  }
 },
 "nbformat": 4,
 "nbformat_minor": 4
}
