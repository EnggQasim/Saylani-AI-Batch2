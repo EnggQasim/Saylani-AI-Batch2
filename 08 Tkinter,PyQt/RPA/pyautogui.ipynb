{
 "cells": [
  {
   "cell_type": "code",
   "execution_count": 1,
   "metadata": {},
   "outputs": [],
   "source": [
    "import pyautogui"
   ]
  },
  {
   "cell_type": "code",
   "execution_count": 2,
   "metadata": {
    "scrolled": true
   },
   "outputs": [
    {
     "name": "stdout",
     "output_type": "stream",
     "text": [
      "1280 720\n"
     ]
    }
   ],
   "source": [
    "screenWidth, screenHeight = pyautogui.size() # Get the size of the primary monitor.\n",
    "print(screenWidth, screenHeight)"
   ]
  },
  {
   "cell_type": "code",
   "execution_count": 3,
   "metadata": {},
   "outputs": [
    {
     "name": "stdout",
     "output_type": "stream",
     "text": [
      "637 302\n"
     ]
    }
   ],
   "source": [
    "currentMouseX, currentMouseY = pyautogui.position() # Get the XY position of the mouse.\n",
    "print(currentMouseX, currentMouseY)"
   ]
  },
  {
   "cell_type": "code",
   "execution_count": 19,
   "metadata": {},
   "outputs": [],
   "source": [
    "pyautogui.moveTo(0, screenHeight-1) # Move the mouse to XY coordinates.\n",
    "utogui\n",
    "(unsaved changes)\n",
    "Current Kernel Logo\n",
    "Python 3 \n",
    "File\n",
    "Edit\n",
    "View\n",
    "Insert\n",
    "Cell\n",
    "Kernel\n",
    "Widgets\n",
    "Help\n",
    "\n",
    "Code\n",
    "1\n",
    "import pyautogui\n",
    "screenWidth, screenHeight = pyautogui.size() # Get the size of the primary monitor.\n",
    "\n",
    "1\n",
    "screenWidth, screenHeight = pyautogui.size() # Get the size of the primary monitor.\n",
    "2\n",
    "print(screenWidth, screenHeight)\n",
    "1280 720\n",
    ", \n",
    "1\n",
    "currentMouseX, currentMouseY = pyautogui.position() # Get the XY position of the mouse.\n",
    "2\n",
    "print(currentMouseX, currentMouseY)\n",
    "637 302\n",
    "pyautogui.moveTo(0, screenHeight-1) # Move the mouse to XY coordinates.\n",
    "1\n",
    "pyautogui.moveTo(0, screenHeight-1) # Move the mouse to XY coordinates.\n",
    "2\n",
    "​\n",
    "1\n",
    "pyautogui.moveTo(1280/2, 720/2) # Move the mouse to XY coordinates.\n",
    "2\n",
    "​\n",
    "1\n",
    "pyautogui.moveTo(screenWidth/2, screenHeight/2) # Move the mouse to XY coordinates.\n",
    "2\n",
    "​\n",
    "Click on Window button\n",
    "screenWidth, screenHeight = pyautogui.size() # Get the size of the primary monitor.\n",
    "pyautogui.moveTo(0, screenHeight-10)\n",
    "pyautogui.click()\n",
    "1\n",
    "screenWidth, screenHeight = pyautogui.size() # Get the size of the primary monitor.\n",
    "2\n",
    "pyautogui.moveTo(0, screenHeight-10)\n",
    "3\n",
    "pyautogui.click()\n",
    "screenWidth, screenHeight = pyautogui.size() # Get the size of the primary monitor.\n",
    "\n",
    "1\n",
    "screenWidth, screenHeight = pyautogui.size() # Get the size of the primary monitor.\n",
    "2\n",
    "pyautogui.click(0, screenHeight-10)\n",
    "1\n",
    "x,_ = pyautogui.position()\n",
    "2\n",
    "while x<1200:\n",
    "3\n",
    "    x += 150\n",
    "4\n",
    "    pyautogui.move(x,0)\n",
    "5\n",
    "    pyautogui.sleep(1)\n",
    "1\n",
    "_, screenHeight = pyautogui.size() # Get the size of the primary monitor.\n",
    "2\n",
    "​\n",
    "3\n",
    "pyautogui.click(0,screenHeight-10)\n",
    "4\n",
    "pyautogui.moveTo(135, 336, duration=2, tween=pyautogui.easeInOutQuad)  # Use tweening/easing function to move mouse over 2 seconds.\n",
    "5\n",
    "pyautogui.click()\n",
    "pyautogui.hotkey(\"enter\")\n",
    "1\n",
    "pyautogui.moveTo(63, 755, duration=2, tween=pyautogui.easeInOutQuad)  # Use tweening/easing function to move mouse over 2 seconds.\n",
    "2\n",
    "pyautogui.click()\n",
    "3\n",
    "pyautogui.write('winword', interval=0.25)  # type with quarter-second pause in between each key\n",
    "4\n",
    "pyautogui.hotkey(\"enter\")\n",
    "5\n",
    "​\n",
    "6\n",
    "​\n",
    "pyautogui.position()\n",
    "1\n",
    "pyautogui.position()\n",
    "Point(x=63, y=755)\n"
   ]
  },
  {
   "cell_type": "code",
   "execution_count": 15,
   "metadata": {},
   "outputs": [],
   "source": [
    "pyautogui.moveTo(1280/2, 720/2) # Move the mouse to XY coordinates.\n"
   ]
  },
  {
   "cell_type": "code",
   "execution_count": 16,
   "metadata": {},
   "outputs": [],
   "source": [
    "pyautogui.moveTo(screenWidth/2, screenHeight/2) # Move the mouse to XY coordinates.\n"
   ]
  },
  {
   "cell_type": "markdown",
   "metadata": {},
   "source": [
    "### Click on Window button"
   ]
  },
  {
   "cell_type": "code",
   "execution_count": 26,
   "metadata": {},
   "outputs": [],
   "source": [
    "screenWidth, screenHeight = pyautogui.size() # Get the size of the primary monitor.\n",
    "pyautogui.moveTo(0, screenHeight-10)\n",
    "pyautogui.click()"
   ]
  },
  {
   "cell_type": "code",
   "execution_count": 27,
   "metadata": {},
   "outputs": [],
   "source": [
    "screenWidth, screenHeight = pyautogui.size() # Get the size of the primary monitor.\n",
    "pyautogui.click(0, screenHeight-10)"
   ]
  },
  {
   "cell_type": "code",
   "execution_count": 34,
   "metadata": {},
   "outputs": [],
   "source": [
    "x,_ = pyautogui.position()\n",
    "while x<1200:\n",
    "    x += 150\n",
    "    pyautogui.move(x,0)\n",
    "    pyautogui.sleep(1)"
   ]
  },
  {
   "cell_type": "code",
   "execution_count": 48,
   "metadata": {},
   "outputs": [],
   "source": [
    "_, screenHeight = pyautogui.size() # Get the size of the primary monitor.\n",
    "\n",
    "pyautogui.click(0,screenHeight-10)\n",
    "pyautogui.moveTo(135, 336, duration=2, tween=pyautogui.easeInOutQuad)  # Use tweening/easing function to move mouse over 2 seconds.\n",
    "pyautogui.click()"
   ]
  },
  {
   "cell_type": "code",
   "execution_count": 52,
   "metadata": {},
   "outputs": [],
   "source": [
    "pyautogui.moveTo(63, 755, duration=2, tween=pyautogui.easeInOutQuad)  # Use tweening/easing function to move mouse over 2 seconds.\n",
    "pyautogui.click()\n",
    "pyautogui.write('winword', interval=0.25)  # type with quarter-second pause in between each key\n",
    "pyautogui.hotkey(\"enter\")\n",
    "\n"
   ]
  },
  {
   "cell_type": "code",
   "execution_count": 49,
   "metadata": {},
   "outputs": [
    {
     "data": {
      "text/plain": [
       "Point(x=63, y=755)"
      ]
     },
     "execution_count": 49,
     "metadata": {},
     "output_type": "execute_result"
    }
   ],
   "source": [
    "pyautogui.position()"
   ]
  },
  {
   "cell_type": "code",
   "execution_count": 64,
   "metadata": {},
   "outputs": [],
   "source": [
    "pyautogui.hotkey(\"winright\")\n",
    "Current Kernel Logo\n",
    "Python 3 \n",
    "File\n",
    "Edit\n",
    "View\n",
    "Insert\n",
    "Cell\n",
    "Kernel\n",
    "Widgets\n",
    "Help\n",
    "\n",
    "Code\n",
    "1\n",
    "import pyautogui\n",
    "screenWidth, screenHeight = pyautogui.size() # Get the size of the primary monitor.\n",
    "\n",
    "1\n",
    "screenWidth, screenHeight = pyautogui.size() # Get the size of the primary monitor.\n",
    "2\n",
    "print(screenWidth, screenHeight)\n",
    "1280 720\n",
    ", \n",
    "1\n",
    "currentMouseX, currentMouseY = pyautogui.position() # Get the XY position of the mouse.\n",
    "2\n",
    "print(currentMouseX, currentMouseY)\n",
    "637 302\n",
    "pyautogui.moveTo(0, screenHeight-1) # Move the mouse to XY coordinates.\n",
    "1\n",
    "pyautogui.moveTo(0, screenHeight-1) # Move the mouse to XY coordinates.\n",
    "2\n",
    "​\n",
    "1\n",
    "pyautogui.moveTo(1280/2, 720/2) # Move the mouse to XY coordinates.\n",
    "2\n",
    "​\n",
    "1\n",
    "pyautogui.moveTo(screenWidth/2, screenHeight/2) # Move the mouse to XY coordinates.\n",
    "2\n",
    "​\n",
    "Click on Window button\n",
    "screenWidth, screenHeight = pyautogui.size() # Get the size of the primary monitor.\n",
    "pyautogui.moveTo(0, screenHeight-10)\n",
    "pyautogui.click()\n",
    "1\n",
    "screenWidth, screenHeight = pyautogui.size() # Get the size of the primary monitor.\n",
    "2\n",
    "pyautogui.moveTo(0, screenHeight-10)\n",
    "3\n",
    "pyautogui.click()\n",
    "screenWidth, screenHeight = pyautogui.size() # Get the size of the primary monitor.\n",
    "\n",
    "1\n",
    "screenWidth, screenHeight = pyautogui.size() # Get the size of the primary monitor.\n",
    "2\n",
    "pyautogui.click(0, screenHeight-10)\n",
    "1\n",
    "x,_ = pyautogui.position()\n",
    "2\n",
    "while x<1200:\n",
    "3\n",
    "    x += 150\n",
    "4\n",
    "    pyautogui.move(x,0)\n",
    "5\n",
    "    pyautogui.sleep(1)\n",
    "1\n",
    "_, screenHeight = pyautogui.size() # Get the size of the primary monitor.\n",
    "2\n",
    "​\n",
    "3\n",
    "pyautogui.click(0,screenHeight-10)\n",
    "4\n",
    "pyautogui.moveTo(135, 336, duration=2, tween=pyautogui.easeInOutQuad)  # Use tweening/easing function to move mouse over 2 seconds.\n",
    "5\n",
    "pyautogui.click()\n",
    "pyautogui.hotkey(\"enter\")\n",
    "1\n",
    "pyautogui.moveTo(63, 755, duration=2, tween=pyautogui.easeInOutQuad)  # Use tweening/easing function to move mouse over 2 seconds.\n",
    "2\n",
    "pyautogui.click()\n",
    "3\n",
    "pyautogui.write('winword', interval=0.25)  # type with quarter-second pause in between each key\n",
    "4\n",
    "pyautogui.hotkey(\"enter\")\n",
    "5\n",
    "​\n",
    "6\n",
    "​\n",
    "pyautogui.position()\n",
    "1\n",
    "pyautogui.position()\n",
    "Point(x=63, y=755)\n",
    "otkey(\"winright\")\n",
    "1\n",
    "pyautogui.hotkey(\"winright\")\n"
   ]
  },
  {
   "cell_type": "code",
   "execution_count": null,
   "metadata": {},
   "outputs": [],
   "source": [
    "distance = 400\n",
    "while distance > 0:\n",
    "    pyautogui.drag(distance, 0, duration=0.5)   # move right\n",
    "    distance -= 5\n",
    "    pyautogui.drag(0, distance, duration=0.5)   # move down\n",
    "    pyautogui.drag(-distance, 0, duration=0.5)  # move left\n",
    "    distance -= 5\n",
    "    pyautogui.drag(0, -distance, duration=0.5)  # move up"
   ]
  },
  {
   "cell_type": "code",
   "execution_count": null,
   "metadata": {},
   "outputs": [],
   "source": []
  }
 ],
 "metadata": {
  "kernelspec": {
   "display_name": "Python 3",
   "language": "python",
   "name": "python3"
  },
  "language_info": {
   "codemirror_mode": {
    "name": "ipython",
    "version": 3
   },
   "file_extension": ".py",
   "mimetype": "text/x-python",
   "name": "python",
   "nbconvert_exporter": "python",
   "pygments_lexer": "ipython3",
   "version": "3.7.6"
  }
 },
 "nbformat": 4,
 "nbformat_minor": 4
}
