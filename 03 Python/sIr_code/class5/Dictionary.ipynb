{
 "cells": [
  {
   "cell_type": "code",
   "execution_count": 1,
   "metadata": {},
   "outputs": [
    {
     "data": {
      "text/plain": [
       "[20, 'Ali', 'A.I']"
      ]
     },
     "execution_count": 1,
     "metadata": {},
     "output_type": "execute_result"
    }
   ],
   "source": [
    "#     0    1     2     Positive index\n",
    "l1 = [20,\"Ali\",'A.I']\n",
    "#     -3  -2     -1\n",
    "\n",
    "#list[element1,element2,...]\n",
    "#list[index]\n",
    "l1"
   ]
  },
  {
   "cell_type": "markdown",
   "metadata": {},
   "source": [
    "# Dictionary"
   ]
  },
  {
   "cell_type": "raw",
   "metadata": {},
   "source": [
    "#key:value = item\n",
    "\n",
    "# {key1:value1,\n",
    "# key2: value2,...}\n",
    "\n",
    "#dict[key]"
   ]
  },
  {
   "cell_type": "code",
   "execution_count": 2,
   "metadata": {},
   "outputs": [
    {
     "data": {
      "text/plain": [
       "{'id': 20, 'name': 'Ali', 'course': 'A.I'}"
      ]
     },
     "execution_count": 2,
     "metadata": {},
     "output_type": "execute_result"
    }
   ],
   "source": [
    "{'id':20,\n",
    "'name':\"Ali\",\n",
    "\"course\":\"A.I\"}"
   ]
  },
  {
   "cell_type": "code",
   "execution_count": 3,
   "metadata": {},
   "outputs": [
    {
     "data": {
      "text/plain": [
       "{'id': 20, 'name': 'Ali', 'course': 'A.I'}"
      ]
     },
     "execution_count": 3,
     "metadata": {},
     "output_type": "execute_result"
    }
   ],
   "source": [
    "d1 = {'id':20,\n",
    "    'name':\"Ali\",\n",
    "    \"course\":\"A.I\"}\n",
    "d1"
   ]
  },
  {
   "cell_type": "code",
   "execution_count": 4,
   "metadata": {},
   "outputs": [
    {
     "data": {
      "text/plain": [
       "{'id': 200, 'name': 'Qasim', 'course': 'A.I'}"
      ]
     },
     "execution_count": 4,
     "metadata": {},
     "output_type": "execute_result"
    }
   ],
   "source": [
    "d1 = {} #empty dictionary\n",
    "\n",
    "d1['id'] = 200\n",
    "d1['name'] = \"Qasim\"\n",
    "d1['course']=\"A.I\"\n",
    "\n",
    "d1"
   ]
  },
  {
   "cell_type": "code",
   "execution_count": 6,
   "metadata": {},
   "outputs": [
    {
     "name": "stdout",
     "output_type": "stream",
     "text": [
      "{'id': 200, 'name': 'Qasim', 'course': 'A.I'}\n",
      "{}\n"
     ]
    }
   ],
   "source": [
    "d1 = {'id': 200, 'name': 'Qasim', 'course': 'A.I'}\n",
    "print(d1)\n",
    "d1.clear() # In Memory, Empty Dictionary\n",
    "print(d1)"
   ]
  },
  {
   "cell_type": "code",
   "execution_count": 7,
   "metadata": {},
   "outputs": [
    {
     "name": "stdout",
     "output_type": "stream",
     "text": [
      "{'id': 200, 'name': 'Qasim', 'course': 'A.I'}\n"
     ]
    },
    {
     "ename": "NameError",
     "evalue": "name 'd1' is not defined",
     "output_type": "error",
     "traceback": [
      "\u001b[0;31m---------------------------------------------------------------------------\u001b[0m",
      "\u001b[0;31mNameError\u001b[0m                                 Traceback (most recent call last)",
      "\u001b[0;32m<ipython-input-7-137c13f3293e>\u001b[0m in \u001b[0;36m<module>\u001b[0;34m\u001b[0m\n\u001b[1;32m      2\u001b[0m \u001b[0mprint\u001b[0m\u001b[0;34m(\u001b[0m\u001b[0md1\u001b[0m\u001b[0;34m)\u001b[0m\u001b[0;34m\u001b[0m\u001b[0;34m\u001b[0m\u001b[0m\n\u001b[1;32m      3\u001b[0m \u001b[0;32mdel\u001b[0m \u001b[0md1\u001b[0m\u001b[0;34m\u001b[0m\u001b[0;34m\u001b[0m\u001b[0m\n\u001b[0;32m----> 4\u001b[0;31m \u001b[0mprint\u001b[0m\u001b[0;34m(\u001b[0m\u001b[0md1\u001b[0m\u001b[0;34m)\u001b[0m\u001b[0;34m\u001b[0m\u001b[0;34m\u001b[0m\u001b[0m\n\u001b[0m",
      "\u001b[0;31mNameError\u001b[0m: name 'd1' is not defined"
     ]
    }
   ],
   "source": [
    "d1 = {'id': 200, 'name': 'Qasim', 'course': 'A.I'}\n",
    "print(d1)\n",
    "del d1\n",
    "print(d1)"
   ]
  },
  {
   "cell_type": "code",
   "execution_count": 8,
   "metadata": {},
   "outputs": [
    {
     "name": "stdout",
     "output_type": "stream",
     "text": [
      "{'id': 200, 'name': 'Qasim', 'course': 'A.I'}\n",
      "{'id': 500, 'name': 'Qasim', 'course': 'A.I'}\n",
      "{'id': 200, 'name': 'Qasim', 'course': 'A.I'}\n"
     ]
    }
   ],
   "source": [
    "d1 = {'id': 200, 'name': 'Qasim', 'course': 'A.I'}\n",
    "print(d1)\n",
    "d2 = d1.copy()\n",
    "d1['id']=500\n",
    "print(d1)\n",
    "print(d2)"
   ]
  },
  {
   "cell_type": "code",
   "execution_count": 9,
   "metadata": {},
   "outputs": [
    {
     "data": {
      "text/plain": [
       "{'name': None, 'course': None, 'timing': None, 'address': None}"
      ]
     },
     "execution_count": 9,
     "metadata": {},
     "output_type": "execute_result"
    }
   ],
   "source": [
    "l1 = ['name','course','timing','address']\n",
    "\n",
    "d1 = dict.fromkeys(l1)\n",
    "d1"
   ]
  },
  {
   "cell_type": "code",
   "execution_count": 10,
   "metadata": {},
   "outputs": [
    {
     "data": {
      "text/plain": [
       "{'name': 'NAN', 'course': 'NAN', 'timing': 'NAN', 'address': 'NAN'}"
      ]
     },
     "execution_count": 10,
     "metadata": {},
     "output_type": "execute_result"
    }
   ],
   "source": [
    "l1 = ['name','course','timing','address']\n",
    "\n",
    "d1 = dict.fromkeys(l1,'NAN')\n",
    "d1"
   ]
  },
  {
   "cell_type": "raw",
   "metadata": {},
   "source": [
    "a,b,c,d\n",
    "{a:none, b:none, c:none, d:none}"
   ]
  },
  {
   "cell_type": "code",
   "execution_count": 15,
   "metadata": {},
   "outputs": [
    {
     "name": "stdout",
     "output_type": "stream",
     "text": [
      "Enter Keys for Dictionarya,b,c,d,e,f\n",
      "a,b,c,d,e,f\n",
      "['a', 'b', 'c', 'd', 'e', 'f']\n",
      "{}\n"
     ]
    },
    {
     "data": {
      "text/plain": [
       "{'a': None, 'b': None, 'c': None, 'd': None, 'e': None, 'f': None}"
      ]
     },
     "execution_count": 15,
     "metadata": {},
     "output_type": "execute_result"
    }
   ],
   "source": [
    "a = input(\"Enter Keys for Dictionary\")\n",
    "print(a)\n",
    "a = a.split(\",\")\n",
    "print(a)\n",
    "\n",
    "d1 = {}\n",
    "print(d1)\n",
    "\n",
    "for k in a:\n",
    "    d1[k] = None\n",
    "    \n",
    "d1    "
   ]
  },
  {
   "cell_type": "code",
   "execution_count": 17,
   "metadata": {},
   "outputs": [
    {
     "name": "stdout",
     "output_type": "stream",
     "text": [
      "Enter Keys: a,b,c,d,e,adsfsd\n"
     ]
    },
    {
     "data": {
      "text/plain": [
       "{'a': None, 'b': None, 'c': None, 'd': None, 'e': None, 'adsfsd': None}"
      ]
     },
     "execution_count": 17,
     "metadata": {},
     "output_type": "execute_result"
    }
   ],
   "source": [
    "a = input(\"Enter Keys: \").split(',')\n",
    "dict.fromkeys(a)"
   ]
  },
  {
   "cell_type": "code",
   "execution_count": null,
   "metadata": {},
   "outputs": [],
   "source": [
    "l1 = [a,b,c]\n",
    "l2 = [x,y,z]\n",
    "\n",
    "{a:x, b:y, c:z}"
   ]
  },
  {
   "cell_type": "code",
   "execution_count": 29,
   "metadata": {},
   "outputs": [
    {
     "name": "stdout",
     "output_type": "stream",
     "text": [
      "Kesya,b,c\n",
      "valuesx,y,z\n"
     ]
    },
    {
     "data": {
      "text/plain": [
       "{'a': 'x', 'b': 'y', 'c': 'z'}"
      ]
     },
     "execution_count": 29,
     "metadata": {},
     "output_type": "execute_result"
    }
   ],
   "source": [
    "a = input(\"Kesy\").split(\",\")\n",
    "b = input(\"values\").split(\",\")\n",
    "\n",
    "d1 = {}\n",
    "for i in range(len(a)):\n",
    "    d1[a[i]] = b[i]\n",
    "    \n",
    "d1    \n",
    "    "
   ]
  },
  {
   "cell_type": "code",
   "execution_count": 32,
   "metadata": {},
   "outputs": [
    {
     "name": "stdout",
     "output_type": "stream",
     "text": [
      "Kesya,b,c\n",
      "valuesx,y,z\n"
     ]
    },
    {
     "data": {
      "text/plain": [
       "{'a': 'x', 'b': 'y', 'c': 'z'}"
      ]
     },
     "execution_count": 32,
     "metadata": {},
     "output_type": "execute_result"
    }
   ],
   "source": [
    "a = input(\"Kesy\").split(\",\")\n",
    "b = input(\"values\").split(\",\")\n",
    "\n",
    "c = zip(a,b)\n",
    "\n",
    "d1 = dict(c)\n",
    "d1"
   ]
  },
  {
   "cell_type": "code",
   "execution_count": 30,
   "metadata": {},
   "outputs": [
    {
     "data": {
      "text/plain": [
       "[(1, 'A'), (2, 'B'), (3, 'C')]"
      ]
     },
     "execution_count": 30,
     "metadata": {},
     "output_type": "execute_result"
    }
   ],
   "source": [
    "a = [1,2,3]\n",
    "b = [\"A\",\"B\",\"C\"]\n",
    "\n",
    "list(zip(a,b))"
   ]
  },
  {
   "cell_type": "code",
   "execution_count": null,
   "metadata": {},
   "outputs": [],
   "source": []
  },
  {
   "cell_type": "code",
   "execution_count": 26,
   "metadata": {},
   "outputs": [
    {
     "name": "stdout",
     "output_type": "stream",
     "text": [
      "Enter Keysa,b\n",
      "Enter Valuesx,y\n",
      "{'a': 'x', 'b': 'y'}\n"
     ]
    }
   ],
   "source": [
    "d2= {}\n",
    "keys = input(\"Enter Keys\").split(',')\n",
    "values = input(\"Enter Values\").split(',')\n",
    "d1 = dict.fromkeys(keys)\n",
    "ind = 0\n",
    "for ele in d1:\n",
    "    d2[ele] = values[ind]\n",
    "    ind = ind+1\n",
    "print(d2)"
   ]
  },
  {
   "cell_type": "raw",
   "metadata": {},
   "source": [
    "{\n",
    "    id:2\n",
    "    name:ajdfk\n",
    "    skills : [c,c++,python,..]\n",
    "}"
   ]
  },
  {
   "cell_type": "code",
   "execution_count": 35,
   "metadata": {},
   "outputs": [
    {
     "name": "stdout",
     "output_type": "stream",
     "text": [
      "id200\n",
      "NameAli\n",
      "Skillsa,b,c,d\n"
     ]
    },
    {
     "data": {
      "text/plain": [
       "{'id': '200', 'name': 'Ali', 'skills': ['a', 'b', 'c', 'd']}"
      ]
     },
     "execution_count": 35,
     "metadata": {},
     "output_type": "execute_result"
    }
   ],
   "source": [
    "d1 = {\n",
    "    'id':input(\"id\"),\n",
    "    'name':input(\"Name\"),\n",
    "    'skills': input(\"Skills\").split(\",\")\n",
    "}\n",
    "d1"
   ]
  },
  {
   "cell_type": "code",
   "execution_count": 39,
   "metadata": {},
   "outputs": [
    {
     "ename": "KeyError",
     "evalue": "'CNIC'",
     "output_type": "error",
     "traceback": [
      "\u001b[0;31m---------------------------------------------------------------------------\u001b[0m",
      "\u001b[0;31mKeyError\u001b[0m                                  Traceback (most recent call last)",
      "\u001b[0;32m<ipython-input-39-78ac97ceb144>\u001b[0m in \u001b[0;36m<module>\u001b[0;34m\u001b[0m\n\u001b[1;32m      1\u001b[0m \u001b[0md1\u001b[0m \u001b[0;34m=\u001b[0m\u001b[0;34m{\u001b[0m\u001b[0;34m'id'\u001b[0m\u001b[0;34m:\u001b[0m \u001b[0;34m'200'\u001b[0m\u001b[0;34m,\u001b[0m \u001b[0;34m'name'\u001b[0m\u001b[0;34m:\u001b[0m \u001b[0;34m'Ali'\u001b[0m\u001b[0;34m,\u001b[0m \u001b[0;34m'skills'\u001b[0m\u001b[0;34m:\u001b[0m \u001b[0;34m[\u001b[0m\u001b[0;34m'a'\u001b[0m\u001b[0;34m,\u001b[0m \u001b[0;34m'b'\u001b[0m\u001b[0;34m,\u001b[0m \u001b[0;34m'c'\u001b[0m\u001b[0;34m,\u001b[0m \u001b[0;34m'd'\u001b[0m\u001b[0;34m]\u001b[0m\u001b[0;34m}\u001b[0m\u001b[0;34m\u001b[0m\u001b[0;34m\u001b[0m\u001b[0m\n\u001b[0;32m----> 2\u001b[0;31m \u001b[0md1\u001b[0m\u001b[0;34m[\u001b[0m\u001b[0;34m'CNIC'\u001b[0m\u001b[0;34m]\u001b[0m\u001b[0;34m\u001b[0m\u001b[0;34m\u001b[0m\u001b[0m\n\u001b[0m",
      "\u001b[0;31mKeyError\u001b[0m: 'CNIC'"
     ]
    }
   ],
   "source": [
    "d1 ={'id': '200', 'name': 'Ali', 'skills': ['a', 'b', 'c', 'd']}\n",
    "d1['CNIC']"
   ]
  },
  {
   "cell_type": "code",
   "execution_count": 41,
   "metadata": {},
   "outputs": [
    {
     "data": {
      "text/plain": [
       "'Ali'"
      ]
     },
     "execution_count": 41,
     "metadata": {},
     "output_type": "execute_result"
    }
   ],
   "source": [
    "d1 ={'id': '200', 'name': 'Ali', 'skills': ['a', 'b', 'c', 'd']}\n",
    "d1.get('name')"
   ]
  },
  {
   "cell_type": "code",
   "execution_count": 44,
   "metadata": {},
   "outputs": [
    {
     "name": "stdout",
     "output_type": "stream",
     "text": [
      "{'id': '200', 'name': 'Ali', 'skills': ['a', 'b', 'c', 'd']}\n"
     ]
    }
   ],
   "source": [
    "d1 ={'id': '200', 'name': 'Ali', 'skills': ['a', 'b', 'c', 'd']}\n",
    "d1.get('CNIC',\"Not available\")\n",
    "print(d1)"
   ]
  },
  {
   "cell_type": "code",
   "execution_count": 46,
   "metadata": {},
   "outputs": [
    {
     "name": "stdout",
     "output_type": "stream",
     "text": [
      "[('id', '200'), ('name', 'Ali'), ('skills', ['a', 'b', 'c', 'd'])]\n",
      "['id', 'name', 'skills']\n",
      "['200', 'Ali', ['a', 'b', 'c', 'd']]\n"
     ]
    }
   ],
   "source": [
    "print(list(d1.items()))\n",
    "print(list(d1.keys()))\n",
    "print(list(d1.values()))\n"
   ]
  },
  {
   "cell_type": "code",
   "execution_count": 48,
   "metadata": {
    "scrolled": false
   },
   "outputs": [
    {
     "name": "stdout",
     "output_type": "stream",
     "text": [
      "{'id': '200', 'name': 'Ali', 'skills': ['a', 'b', 'c', 'd']}\n",
      "200\n",
      "{'name': 'Ali', 'skills': ['a', 'b', 'c', 'd']}\n"
     ]
    }
   ],
   "source": [
    "d1 ={'id': '200', 'name': 'Ali', 'skills': ['a', 'b', 'c', 'd']}\n",
    "\n",
    "print(d1)\n",
    "print(d1.pop('id'))\n",
    "print(d1)"
   ]
  },
  {
   "cell_type": "code",
   "execution_count": 53,
   "metadata": {},
   "outputs": [
    {
     "name": "stdout",
     "output_type": "stream",
     "text": [
      "{'id': '200', 'name': 'Ali', 'skills': ['a', 'b', 'c', 'd']}\n",
      "('skills', ['a', 'b', 'c', 'd'])\n",
      "{'id': '200', 'name': 'Ali'}\n"
     ]
    }
   ],
   "source": [
    "d1 ={'id': '200', 'name': 'Ali', 'skills': ['a', 'b', 'c', 'd']}\n",
    "\n",
    "print(d1)\n",
    "print(d1.popitem())\n",
    "print(d1)"
   ]
  },
  {
   "cell_type": "code",
   "execution_count": 61,
   "metadata": {},
   "outputs": [
    {
     "name": "stdout",
     "output_type": "stream",
     "text": [
      "{'id': '200', 'name': 'Ali', 'skills': ['a', 'b', 'c', 'd']}\n",
      "200\n",
      "200\n",
      "{'id': '200', 'name': 'Ali', 'skills': ['a', 'b', 'c', 'd']}\n"
     ]
    }
   ],
   "source": [
    "d1 ={'id': '200', 'name': 'Ali', 'skills': ['a', 'b', 'c', 'd']}\n",
    "\n",
    "print(d1)\n",
    "print(d1.setdefault('id', 'ABC'))\n",
    "print(d1.setdefault('id', '203'))\n",
    "print(d1)"
   ]
  },
  {
   "cell_type": "code",
   "execution_count": 64,
   "metadata": {},
   "outputs": [
    {
     "data": {
      "text/plain": [
       "{'a': 125, 'b': 200, 'c': 100, 'x': 200}"
      ]
     },
     "execution_count": 64,
     "metadata": {},
     "output_type": "execute_result"
    }
   ],
   "source": [
    "dic1 = {'a':1, 'b':2, 'c':100}\n",
    "dic2 = {\"x\":200,'b':200,'a':125}\n",
    "\n",
    "dic1.update(dic2)\n",
    "dic1"
   ]
  },
  {
   "cell_type": "raw",
   "metadata": {},
   "source": [
    "d1 = {\n",
    "    'a':200,\n",
    "    'c':300,\n",
    "    'b':600,\n",
    "    'd':400\n",
    "}\n",
    "d1\n",
    "\n",
    "sorted by keys\n",
    "d1 = {\n",
    "    'a':200,\n",
    "    'b':600,\n",
    "    'c':300,    \n",
    "    'd':400\n",
    "}\n",
    "sorted by values"
   ]
  },
  {
   "cell_type": "code",
   "execution_count": 67,
   "metadata": {},
   "outputs": [
    {
     "data": {
      "text/plain": [
       "{'a': 200, 'b': 600, 'c': 300, 'd': 400}"
      ]
     },
     "execution_count": 67,
     "metadata": {},
     "output_type": "execute_result"
    }
   ],
   "source": [
    "d1 = {\n",
    "    'a':200,\n",
    "    'c':300,\n",
    "    'b':600,\n",
    "    'd':400\n",
    "}\n",
    "d2={}\n",
    "for i in sorted(d1.keys()):\n",
    "    d2[i]=d1[i]\n",
    "d2"
   ]
  },
  {
   "cell_type": "code",
   "execution_count": 68,
   "metadata": {},
   "outputs": [
    {
     "name": "stdout",
     "output_type": "stream",
     "text": [
      "{'a': 200, 'c': 300, 'd': 400, 'b': 600}\n"
     ]
    }
   ],
   "source": [
    "moon = {}\n",
    "scores = {'a':200,'c':300,'b':600,'d':400}\n",
    "for key,value in sorted(scores.items(),key = lambda kv:kv[1]):\n",
    "    moon[key] = value\n",
    "print(moon)\n"
   ]
  },
  {
   "cell_type": "code",
   "execution_count": 90,
   "metadata": {},
   "outputs": [
    {
     "data": {
      "text/plain": [
       "{'b': 600, 'd': 400, 'c': 300, 'a': 200}"
      ]
     },
     "execution_count": 90,
     "metadata": {},
     "output_type": "execute_result"
    }
   ],
   "source": [
    "scores = {'a':200,'c':300,'b':600,'d':400}\n",
    "{k:v for k, v in sorted(scores.items(), key=lambda x:x[1], reverse=True)}"
   ]
  },
  {
   "cell_type": "code",
   "execution_count": 85,
   "metadata": {},
   "outputs": [
    {
     "name": "stdout",
     "output_type": "stream",
     "text": [
      "Press n/N to stop: a\n",
      "Id: 1\n",
      "Name: abc\n",
      "Skills: a, b, c\n",
      "Press n/N to stop: a\n",
      "Id: 2\n",
      "Name: bcd\n",
      "Skills: b, f\n",
      "Press n/N to stop: n\n",
      "[{'id': '1', 'name': 'abc', 'Skills': ['a', 'b', 'c']}, {'id': '2', 'name': 'bcd', 'Skills': ['b', 'f']}]\n"
     ]
    }
   ],
   "source": [
    "l1 = []\n",
    "run = True\n",
    "while run:\n",
    "    choice = input(\"Press n/N to stop: \")\n",
    "    if choice == \"n\" or choice == \"N\":\n",
    "        run = False\n",
    "    else:\n",
    "        d1 = {\n",
    "            \"id\":input(\"Id: \"),\n",
    "            \"name\":input(\"Name: \"),\n",
    "            \"Skills\":input(\"Skills: \").split(\", \")\n",
    "        }\n",
    "        l1.append(d1)\n",
    "print(l1, sep=\"\\n\")"
   ]
  },
  {
   "cell_type": "code",
   "execution_count": 71,
   "metadata": {},
   "outputs": [
    {
     "data": {
      "text/plain": [
       "[('A', 'z', 20), ('C', 'x', 100), ('B', 'y', 50)]"
      ]
     },
     "execution_count": 71,
     "metadata": {},
     "output_type": "execute_result"
    }
   ],
   "source": [
    "a=[(\"A\",'z',20),\n",
    "  (\"C\",'x',100),\n",
    "  (\"B\",'y',50)]\n",
    "a"
   ]
  },
  {
   "cell_type": "code",
   "execution_count": 79,
   "metadata": {},
   "outputs": [],
   "source": [
    "def abc(x):\n",
    "    return x[-1]\n",
    "   "
   ]
  },
  {
   "cell_type": "code",
   "execution_count": 81,
   "metadata": {},
   "outputs": [
    {
     "data": {
      "text/plain": [
       "[('C', 'x', 100), ('B', 'y', 50), ('A', 'z', 20)]"
      ]
     },
     "execution_count": 81,
     "metadata": {},
     "output_type": "execute_result"
    }
   ],
   "source": [
    "sorted(a, key=abc, reverse=True)"
   ]
  },
  {
   "cell_type": "code",
   "execution_count": 84,
   "metadata": {},
   "outputs": [
    {
     "data": {
      "text/plain": [
       "[('C', 'x', 100), ('B', 'y', 50), ('A', 'z', 20)]"
      ]
     },
     "execution_count": 84,
     "metadata": {},
     "output_type": "execute_result"
    }
   ],
   "source": [
    "a=[(\"A\",'z',20),\n",
    "  (\"C\",'x',100),\n",
    "  (\"B\",'y',50)]\n",
    "sorted(a, key=lambda x:x[-1], reverse=True)"
   ]
  },
  {
   "cell_type": "code",
   "execution_count": null,
   "metadata": {},
   "outputs": [],
   "source": [
    "[{id:2, name:aa,skills:[1,2,c]},\n",
    "{id:2, name:aa,skills:[1,2,c]},\n",
    "{id:2, name:aa,skills:[1,2,c]},..]"
   ]
  }
 ],
 "metadata": {
  "kernelspec": {
   "display_name": "Python 3",
   "language": "python",
   "name": "python3"
  },
  "language_info": {
   "codemirror_mode": {
    "name": "ipython",
    "version": 3
   },
   "file_extension": ".py",
   "mimetype": "text/x-python",
   "name": "python",
   "nbconvert_exporter": "python",
   "pygments_lexer": "ipython3",
   "version": "3.7.1"
  }
 },
 "nbformat": 4,
 "nbformat_minor": 2
}
