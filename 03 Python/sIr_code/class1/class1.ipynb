{
 "cells": [
  {
   "cell_type": "markdown",
   "metadata": {},
   "source": [
    "# PAIAIC ISLAMABAD BATCH3 \n",
    "### 3:30 TO 6:30\n",
    "- PYTHON HELLO WORLD"
   ]
  },
  {
   "cell_type": "code",
   "execution_count": 1,
   "metadata": {},
   "outputs": [
    {
     "name": "stdout",
     "output_type": "stream",
     "text": [
      "Pakistan zinda bad!\n"
     ]
    }
   ],
   "source": [
    "print(\"Pakistan zinda bad!\")"
   ]
  },
  {
   "cell_type": "code",
   "execution_count": 5,
   "metadata": {},
   "outputs": [
    {
     "name": "stdout",
     "output_type": "stream",
     "text": [
      "We are pakistani\n"
     ]
    }
   ],
   "source": [
    "print('We are pakistani')"
   ]
  },
  {
   "cell_type": "code",
   "execution_count": 3,
   "metadata": {},
   "outputs": [
    {
     "name": "stdout",
     "output_type": "stream",
     "text": [
      "Hello world\n"
     ]
    }
   ],
   "source": [
    "print(\"Hello world\")"
   ]
  },
  {
   "cell_type": "raw",
   "metadata": {},
   "source": [
    "function abc(a, b){\n",
    "    return a + b;\n",
    "}"
   ]
  },
  {
   "cell_type": "markdown",
   "metadata": {},
   "source": [
    "# string method"
   ]
  },
  {
   "cell_type": "code",
   "execution_count": 6,
   "metadata": {},
   "outputs": [
    {
     "name": "stdout",
     "output_type": "stream",
     "text": [
      "pakistan piaic 27\n"
     ]
    }
   ],
   "source": [
    "a = 'pakistan'\n",
    "b = \"piaic\"\n",
    "c = 27\n",
    "\n",
    "print(a, b, c)"
   ]
  },
  {
   "cell_type": "code",
   "execution_count": 11,
   "metadata": {},
   "outputs": [
    {
     "name": "stdout",
     "output_type": "stream",
     "text": [
      "Your Timing9 to 12\n",
      "Enter your NameAli\n",
      "Enter your father nameHamza\n",
      "University NameBahria University\n",
      "\n",
      "PIAIC ISLAMABAD BATCH3\n",
      "TIMING: 9 to 12\n",
      "Name: Ali\n",
      "Father's Name: Hamza\n",
      "University: Bahria University\n",
      "\n"
     ]
    }
   ],
   "source": [
    "timing = input(\"Your Timing\")\n",
    "name = input(\"Enter your Name\")\n",
    "father_name = input(\"Enter your father name\")\n",
    "uni = input(\"University Name\")\n",
    "\n",
    "message = \"\"\"\n",
    "PIAIC ISLAMABAD BATCH3\n",
    "TIMING: {}\n",
    "Name: {}\n",
    "Father's Name: {}\n",
    "University: {}\n",
    "\"\"\"\n",
    "\n",
    "message = message.format(timing, name, father_name, uni)\n",
    "\n",
    "print(message)"
   ]
  },
  {
   "cell_type": "raw",
   "metadata": {},
   "source": [
    "Bahria university\n",
    "Fall 2019\n",
    "Name: ?\n",
    "Father's Name: ?\n",
    "phy : ?\n",
    "che : ?\n",
    "mat : ?\n",
    "eng : ?\n",
    "urd : ?\n",
    "Total: ?\n",
    "percentage: ?"
   ]
  }
 ],
 "metadata": {
  "kernelspec": {
   "display_name": "Python 3",
   "language": "python",
   "name": "python3"
  },
  "language_info": {
   "codemirror_mode": {
    "name": "ipython",
    "version": 3
   },
   "file_extension": ".py",
   "mimetype": "text/x-python",
   "name": "python",
   "nbconvert_exporter": "python",
   "pygments_lexer": "ipython3",
   "version": "3.7.1"
  }
 },
 "nbformat": 4,
 "nbformat_minor": 2
}
