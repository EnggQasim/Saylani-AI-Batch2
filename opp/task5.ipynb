{
 "cells": [
  {
   "cell_type": "code",
   "execution_count": 12,
   "metadata": {},
   "outputs": [],
   "source": [
    "import numpy as np\n",
    "import math\n",
    "from scipy import ndimage\n",
    "from PIL import Image\n",
    "\n",
    "\n",
    "#  inputs\n",
    "image1 = Image.open('2.jpg')\n",
    "img = np.asarray(image1)\n",
    "rotation_amount_degree = 45\n",
    "\n",
    "#  convert rotation amount to radian\n",
    "rotation_amount_rad = rotation_amount_degree * np.pi / 180.0\n",
    "\n",
    "\n",
    "#  get dimension info\n",
    "height, width, num_channels = img.shape\n",
    "\n",
    "\n",
    "#  create output image, for worst case size (45 degree)\n",
    "max_len = int(math.sqrt(height*height + width*width))\n",
    "rotated_image = np.zeros((max_len, max_len, num_channels))\n",
    "#rotated_image = np.zeros((img.shape))\n",
    "\n",
    "\n",
    "rotated_height, rotated_width, _ = rotated_image.shape\n",
    "mid_row = int( (rotated_height+1)/2 )\n",
    "mid_col = int( (rotated_width+1)/2 )\n",
    "\n",
    "#  for each pixel in output image, find which pixel\n",
    "#it corresponds to in the input image\n",
    "for r in range(rotated_height):\n",
    "    for c in range(rotated_width):\n",
    "        #  apply rotation matrix, the other way\n",
    "        y = (r-mid_col)*math.cos(rotation_amount_rad) + (c-mid_row)*math.sin(rotation_amount_rad)\n",
    "        x = -(r-mid_col)*math.sin(rotation_amount_rad) + (c-mid_row)*math.cos(rotation_amount_rad)\n",
    "\n",
    "        #  add offset\n",
    "        y += mid_col\n",
    "        x += mid_row\n",
    "\n",
    "        #  get nearest index\n",
    "        #a better way is linear interpolation\n",
    "        x = round(x)\n",
    "        y = round(y)\n",
    "\n",
    "        #print(r, \" \", c, \" corresponds to-> \" , y, \" \", x)\n",
    "\n",
    "        #  check if x/y corresponds to a valid pixel in input image\n",
    "        if (x >= 0 and y >= 0 and x < width and y < height):\n",
    "            rotated_image[r][c][:] = img[y][x][:]\n",
    "\n",
    "\n",
    "#  save output image\n",
    "output_image = Image.fromarray(rotated_image.astype(\"uint8\"))\n",
    "output_image.save(\"task5.jpg\")"
   ]
  },
  {
   "cell_type": "code",
   "execution_count": null,
   "metadata": {},
   "outputs": [],
   "source": []
  }
 ],
 "metadata": {
  "kernelspec": {
   "display_name": "Python 3",
   "language": "python",
   "name": "python3"
  },
  "language_info": {
   "codemirror_mode": {
    "name": "ipython",
    "version": 3
   },
   "file_extension": ".py",
   "mimetype": "text/x-python",
   "name": "python",
   "nbconvert_exporter": "python",
   "pygments_lexer": "ipython3",
   "version": "3.7.3"
  }
 },
 "nbformat": 4,
 "nbformat_minor": 2
}
