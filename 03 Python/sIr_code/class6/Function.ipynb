{
 "cells": [
  {
   "cell_type": "markdown",
   "metadata": {},
   "source": [
    "## Functions\n",
    "* Pre define functions\n",
    "* User Define Functions\n",
    "* Recursive Functions\n",
    "* Lambda Functions\n",
    "\n",
    "\n",
    "- Required Arguments\n",
    "- Optional Arguments\n",
    "- Return\n",
    "- Non Return\n",
    "- Defualt Arguments\n",
    "- postional Arguments\n",
    "- KeyWord Arguments\n",
    "- Argument with List\n",
    "- Argument with Dictionary\n",
    "- pre defineFunctions\n",
    "- User defineFunctions"
   ]
  },
  {
   "cell_type": "code",
   "execution_count": 1,
   "metadata": {},
   "outputs": [
    {
     "name": "stdout",
     "output_type": "stream",
     "text": [
      "Pakistan zinda bad\n",
      "We are Pakistani\n",
      "We love our country!\n",
      "Pakistan zinda bad\n",
      "We are Pakistani\n",
      "We love our country!\n",
      "Pakistan zinda bad\n",
      "We are Pakistani\n",
      "We love our country!\n"
     ]
    }
   ],
   "source": [
    "print(\"Pakistan zinda bad\")\n",
    "print(\"We are Pakistani\")\n",
    "print(\"We love our country!\")\n",
    "\n",
    "print(\"Pakistan zinda bad\")\n",
    "print(\"We are Pakistani\")\n",
    "print(\"We love our country!\")\n",
    "\n",
    "print(\"Pakistan zinda bad\")\n",
    "print(\"We are Pakistani\")\n",
    "print(\"We love our country!\")\n",
    "\n"
   ]
  },
  {
   "cell_type": "markdown",
   "metadata": {},
   "source": [
    "# Pre define Functions"
   ]
  },
  {
   "cell_type": "code",
   "execution_count": 2,
   "metadata": {},
   "outputs": [
    {
     "name": "stdout",
     "output_type": "stream",
     "text": [
      "Pre Define Fucntions\n",
      "abcaa\n",
      "<class 'int'>\n",
      "2\n",
      "139692188486208\n"
     ]
    }
   ],
   "source": [
    "print(\"Pre Define Fucntions\")\n",
    "input(\"abc\")\n",
    "print(type(22))\n",
    "print(len('ad'))\n",
    "print(id('aa'))"
   ]
  },
  {
   "cell_type": "markdown",
   "metadata": {},
   "source": [
    "# User Define Functions"
   ]
  },
  {
   "cell_type": "code",
   "execution_count": 4,
   "metadata": {},
   "outputs": [
    {
     "name": "stdout",
     "output_type": "stream",
     "text": [
      "Pakistan zinda bad\n",
      "We are ABC\n",
      "We love our country!\n",
      "Pakistan zinda bad\n",
      "We are ABC\n",
      "We love our country!\n",
      "Pakistan zinda bad\n",
      "We are ABC\n",
      "We love our country!\n",
      "Pakistan zinda bad\n",
      "We are ABC\n",
      "We love our country!\n",
      "Pakistan zinda bad\n",
      "We are ABC\n",
      "We love our country!\n",
      "Pakistan zinda bad\n",
      "We are ABC\n",
      "We love our country!\n"
     ]
    }
   ],
   "source": [
    "def abc(): # Function Dec\n",
    "    #Body Start indentation block\n",
    "    print(\"Pakistan zinda bad\") # Statment1\n",
    "    print(\"We are ABC\")#statment2\n",
    "    print(\"We love our country!\")#Statment3\n",
    "    #Body End indentation block\n",
    "    \n",
    "    \n",
    "abc()    # Defualt Function\n",
    "abc()    \n",
    "abc()    \n",
    "abc()    \n",
    "abc()    \n",
    "abc()    "
   ]
  },
  {
   "cell_type": "markdown",
   "metadata": {},
   "source": [
    "# Required Arguments Functions"
   ]
  },
  {
   "cell_type": "code",
   "execution_count": 31,
   "metadata": {},
   "outputs": [
    {
     "name": "stdout",
     "output_type": "stream",
     "text": [
      "\n",
      "    PIAIC Islamabad\n",
      "    Student id: 1\n",
      "    Student Name: Qasim\n",
      "    Father's Name: Aslam\n",
      "    Course: A.I\n",
      "    Timing: 9 to 12\n",
      "    \n"
     ]
    }
   ],
   "source": [
    "def id_card(sid, sname, fname, course, timing):\n",
    "    print(\n",
    "    f\"\"\"\n",
    "    PIAIC Islamabad\n",
    "    Student id: {sid}\n",
    "    Student Name: {sname}\n",
    "    Father's Name: {fname}\n",
    "    Course: {course}\n",
    "    Timing: {timing}\n",
    "    \"\"\"\n",
    "    )\n",
    "    \n",
    "id_card(1,'Qasim','Aslam','A.I','9 to 12')    "
   ]
  },
  {
   "cell_type": "code",
   "execution_count": 9,
   "metadata": {},
   "outputs": [
    {
     "ename": "TypeError",
     "evalue": "id_card() missing 2 required positional arguments: 'course' and 'timing'",
     "output_type": "error",
     "traceback": [
      "\u001b[0;31m---------------------------------------------------------------------------\u001b[0m",
      "\u001b[0;31mTypeError\u001b[0m                                 Traceback (most recent call last)",
      "\u001b[0;32m<ipython-input-9-c9ed5af47391>\u001b[0m in \u001b[0;36m<module>\u001b[0;34m\u001b[0m\n\u001b[0;32m----> 1\u001b[0;31m \u001b[0mid_card\u001b[0m\u001b[0;34m(\u001b[0m\u001b[0;36m1\u001b[0m\u001b[0;34m,\u001b[0m\u001b[0;34m'Qasim'\u001b[0m\u001b[0;34m,\u001b[0m\u001b[0;34m'Aslam'\u001b[0m\u001b[0;34m)\u001b[0m\u001b[0;34m\u001b[0m\u001b[0;34m\u001b[0m\u001b[0m\n\u001b[0m",
      "\u001b[0;31mTypeError\u001b[0m: id_card() missing 2 required positional arguments: 'course' and 'timing'"
     ]
    }
   ],
   "source": [
    "id_card(1,'Qasim','Aslam') "
   ]
  },
  {
   "cell_type": "code",
   "execution_count": 8,
   "metadata": {},
   "outputs": [
    {
     "name": "stdout",
     "output_type": "stream",
     "text": [
      "\n",
      "    PIAIC Islamabad\n",
      "    Student id: 1\n",
      "    Student Name: a\n",
      "    Father's Name: a\n",
      "    Course: b\n",
      "    Timing: a\n",
      "    \n",
      "\n",
      "    PIAIC Islamabad\n",
      "    Student id: 2\n",
      "    Student Name: 2\n",
      "    Father's Name: 2\n",
      "    Course: 2\n",
      "    Timing: 2\n",
      "    \n",
      "\n",
      "    PIAIC Islamabad\n",
      "    Student id: 3\n",
      "    Student Name: 3\n",
      "    Father's Name: 3\n",
      "    Course: 3\n",
      "    Timing: 3\n",
      "    \n"
     ]
    }
   ],
   "source": [
    "data = [[1,'a','a','b','a'],\n",
    "       [2,2,2,2,2],\n",
    "       [3,3,3,3,3]]\n",
    "\n",
    "for i in data:\n",
    "    id_card(*i)"
   ]
  },
  {
   "cell_type": "code",
   "execution_count": 12,
   "metadata": {},
   "outputs": [
    {
     "ename": "TypeError",
     "evalue": "pl() missing 1 required positional argument: 'z'",
     "output_type": "error",
     "traceback": [
      "\u001b[0;31m---------------------------------------------------------------------------\u001b[0m",
      "\u001b[0;31mTypeError\u001b[0m                                 Traceback (most recent call last)",
      "\u001b[0;32m<ipython-input-12-c102751531fe>\u001b[0m in \u001b[0;36m<module>\u001b[0;34m\u001b[0m\n\u001b[1;32m      3\u001b[0m     \u001b[0mprint\u001b[0m\u001b[0;34m(\u001b[0m\u001b[0mx\u001b[0m\u001b[0;34m+\u001b[0m\u001b[0my\u001b[0m\u001b[0;34m+\u001b[0m\u001b[0mz\u001b[0m\u001b[0;34m)\u001b[0m\u001b[0;34m\u001b[0m\u001b[0;34m\u001b[0m\u001b[0m\n\u001b[1;32m      4\u001b[0m \u001b[0;34m\u001b[0m\u001b[0m\n\u001b[0;32m----> 5\u001b[0;31m \u001b[0mpl\u001b[0m\u001b[0;34m(\u001b[0m\u001b[0;36m9\u001b[0m\u001b[0;34m,\u001b[0m\u001b[0;36m3\u001b[0m\u001b[0;34m)\u001b[0m\u001b[0;34m\u001b[0m\u001b[0;34m\u001b[0m\u001b[0m\n\u001b[0m",
      "\u001b[0;31mTypeError\u001b[0m: pl() missing 1 required positional argument: 'z'"
     ]
    }
   ],
   "source": [
    "def pl(x,y,z):\n",
    "    print(x,y,z)\n",
    "    print(x+y+z)\n",
    "    \n",
    "pl(9,3)    "
   ]
  },
  {
   "cell_type": "markdown",
   "metadata": {},
   "source": [
    "# Optional Argument | Defualt Argument"
   ]
  },
  {
   "cell_type": "code",
   "execution_count": 14,
   "metadata": {},
   "outputs": [],
   "source": [
    "def pl(x, y=0, z=0):\n",
    "    print(x,y,z)\n",
    "    print(x+y+z)"
   ]
  },
  {
   "cell_type": "code",
   "execution_count": 15,
   "metadata": {},
   "outputs": [
    {
     "name": "stdout",
     "output_type": "stream",
     "text": [
      "9 3 0\n",
      "12\n"
     ]
    }
   ],
   "source": [
    "pl(9,3) "
   ]
  },
  {
   "cell_type": "code",
   "execution_count": 16,
   "metadata": {},
   "outputs": [
    {
     "name": "stdout",
     "output_type": "stream",
     "text": [
      "2 0 0\n",
      "2\n"
     ]
    }
   ],
   "source": [
    "pl(2)"
   ]
  },
  {
   "cell_type": "code",
   "execution_count": 17,
   "metadata": {},
   "outputs": [
    {
     "name": "stdout",
     "output_type": "stream",
     "text": [
      "2 3 4\n",
      "9\n"
     ]
    }
   ],
   "source": [
    "pl(2,3,4)"
   ]
  },
  {
   "cell_type": "code",
   "execution_count": 18,
   "metadata": {},
   "outputs": [
    {
     "ename": "TypeError",
     "evalue": "pl() missing 1 required positional argument: 'x'",
     "output_type": "error",
     "traceback": [
      "\u001b[0;31m---------------------------------------------------------------------------\u001b[0m",
      "\u001b[0;31mTypeError\u001b[0m                                 Traceback (most recent call last)",
      "\u001b[0;32m<ipython-input-18-891770326044>\u001b[0m in \u001b[0;36m<module>\u001b[0;34m\u001b[0m\n\u001b[0;32m----> 1\u001b[0;31m \u001b[0mpl\u001b[0m\u001b[0;34m(\u001b[0m\u001b[0;34m)\u001b[0m\u001b[0;34m\u001b[0m\u001b[0;34m\u001b[0m\u001b[0m\n\u001b[0m",
      "\u001b[0;31mTypeError\u001b[0m: pl() missing 1 required positional argument: 'x'"
     ]
    }
   ],
   "source": [
    "pl()"
   ]
  },
  {
   "cell_type": "code",
   "execution_count": 20,
   "metadata": {},
   "outputs": [
    {
     "name": "stdout",
     "output_type": "stream",
     "text": [
      "5 0 6\n",
      "11\n"
     ]
    }
   ],
   "source": [
    "def pl(x,z, y=0):\n",
    "    print(x,y,z)\n",
    "    print(x+y+z)\n",
    "\n",
    "pl(5,6)    "
   ]
  },
  {
   "cell_type": "code",
   "execution_count": 21,
   "metadata": {},
   "outputs": [
    {
     "name": "stdout",
     "output_type": "stream",
     "text": [
      "0 0 0\n",
      "0\n"
     ]
    }
   ],
   "source": [
    "def pl(x=0, y=0, z=0):\n",
    "    print(x,y,z)\n",
    "    print(x+y+z)\n",
    "    \n",
    "pl()    "
   ]
  },
  {
   "cell_type": "markdown",
   "metadata": {},
   "source": [
    "# Non Return Functions"
   ]
  },
  {
   "cell_type": "code",
   "execution_count": 22,
   "metadata": {},
   "outputs": [
    {
     "name": "stdout",
     "output_type": "stream",
     "text": [
      "Pakistan\n",
      "None\n"
     ]
    }
   ],
   "source": [
    "a = print('Pakistan')\n",
    "print(a)"
   ]
  },
  {
   "cell_type": "code",
   "execution_count": 32,
   "metadata": {},
   "outputs": [
    {
     "name": "stdout",
     "output_type": "stream",
     "text": [
      "\n",
      "    PIAIC Islamabad\n",
      "    Student id: 1\n",
      "    Student Name: Qasim\n",
      "    Father's Name: Aslam\n",
      "    Course: A.I\n",
      "    Timing: 9 to 12\n",
      "    \n",
      "None\n"
     ]
    }
   ],
   "source": [
    "b=id_card(1,'Qasim','Aslam','A.I','9 to 12')   \n",
    "print(b)"
   ]
  },
  {
   "cell_type": "code",
   "execution_count": 24,
   "metadata": {},
   "outputs": [
    {
     "name": "stdout",
     "output_type": "stream",
     "text": [
      "17\n",
      "None\n"
     ]
    }
   ],
   "source": [
    "def pl(x=0, y=0, z=0):\n",
    "    print(x+y+z)\n",
    "    \n",
    "a=pl(3,5,9) \n",
    "print(a)"
   ]
  },
  {
   "cell_type": "markdown",
   "metadata": {},
   "source": [
    "# Return Functions"
   ]
  },
  {
   "cell_type": "code",
   "execution_count": 26,
   "metadata": {},
   "outputs": [
    {
     "name": "stdout",
     "output_type": "stream",
     "text": [
      "11\n"
     ]
    }
   ],
   "source": [
    "def abc(x,y,z):\n",
    "    return x+y+z\n",
    "\n",
    "a = abc(3,3,5) #Return Fucntion\n",
    "print(a)"
   ]
  },
  {
   "cell_type": "code",
   "execution_count": 33,
   "metadata": {},
   "outputs": [
    {
     "name": "stdout",
     "output_type": "stream",
     "text": [
      "\n",
      "    PIAIC Islamabad\n",
      "    Student id: 1\n",
      "    Student Name: Qasim\n",
      "    Father's Name: Aslam\n",
      "    Course: A.I\n",
      "    Timing: 9 to 12\n",
      "    \n"
     ]
    }
   ],
   "source": [
    "def id_card(sid, sname, fname, course, timing):\n",
    "    return f\"\"\"\n",
    "    PIAIC Islamabad\n",
    "    Student id: {sid}\n",
    "    Student Name: {sname}\n",
    "    Father's Name: {fname}\n",
    "    Course: {course}\n",
    "    Timing: {timing}\n",
    "    \"\"\"\n",
    "    \n",
    "    \n",
    "a=id_card(1,'Qasim','Aslam','A.I','9 to 12')    \n",
    "print(a)"
   ]
  },
  {
   "cell_type": "code",
   "execution_count": 35,
   "metadata": {},
   "outputs": [
    {
     "data": {
      "text/plain": [
       "'A'"
      ]
     },
     "execution_count": 35,
     "metadata": {},
     "output_type": "execute_result"
    }
   ],
   "source": [
    "def abc():\n",
    "    return \"A\" # Always return first return statment\n",
    "    return \"B\"\n",
    "    return \"C\"\n",
    "\n",
    "abc()"
   ]
  },
  {
   "cell_type": "code",
   "execution_count": 36,
   "metadata": {},
   "outputs": [
    {
     "data": {
      "text/plain": [
       "16"
      ]
     },
     "execution_count": 36,
     "metadata": {},
     "output_type": "execute_result"
    }
   ],
   "source": [
    "def abc(x,y,z):\n",
    "    return x+y+z\n",
    "    return x*y*z\n",
    "    return x*y+z\n",
    "\n",
    "abc(5,5,6)"
   ]
  },
  {
   "cell_type": "code",
   "execution_count": 37,
   "metadata": {},
   "outputs": [
    {
     "data": {
      "text/plain": [
       "(16, 150, 31)"
      ]
     },
     "execution_count": 37,
     "metadata": {},
     "output_type": "execute_result"
    }
   ],
   "source": [
    "def abc(x,y,z):\n",
    "    return x+y+z, x*y*z, x*y+z\n",
    "\n",
    "abc(5,5,6)"
   ]
  },
  {
   "cell_type": "markdown",
   "metadata": {},
   "source": [
    "# Positional Arguments"
   ]
  },
  {
   "cell_type": "code",
   "execution_count": 41,
   "metadata": {},
   "outputs": [
    {
     "name": "stdout",
     "output_type": "stream",
     "text": [
      "\n",
      "    PIAIC Islamabad\n",
      "    Student id: 1\n",
      "    Student Name: A.I\n",
      "    Father's Name: 9 to 12\n",
      "    Course: Qasim\n",
      "    Timing: Aslam\n",
      "    \n"
     ]
    }
   ],
   "source": [
    "def id_card(sid, sname, fname, course, timing):\n",
    "    print(f\"\"\"\n",
    "    PIAIC Islamabad\n",
    "    Student id: {sid}\n",
    "    Student Name: {sname}\n",
    "    Father's Name: {fname}\n",
    "    Course: {course}\n",
    "    Timing: {timing}\n",
    "    \"\"\")\n",
    "    \n",
    "    \n",
    "#id_card(1,'Qasim','Aslam','A.I','9 to 12')    \n",
    "id_card(1,'A.I','9 to 12','Qasim','Aslam')"
   ]
  },
  {
   "cell_type": "code",
   "execution_count": 42,
   "metadata": {},
   "outputs": [
    {
     "name": "stdout",
     "output_type": "stream",
     "text": [
      "\n",
      "    PIAIC Islamabad\n",
      "    Student id: 1\n",
      "    Student Name: Qasim\n",
      "    Father's Name: Aslam\n",
      "    Course: A.I\n",
      "    Timing: 9 to 12\n",
      "    \n"
     ]
    }
   ],
   "source": [
    "id_card(1,'Qasim','Aslam','A.I','9 to 12')  "
   ]
  },
  {
   "cell_type": "markdown",
   "metadata": {},
   "source": [
    "# Keyword Arguments"
   ]
  },
  {
   "cell_type": "code",
   "execution_count": 43,
   "metadata": {},
   "outputs": [
    {
     "name": "stdout",
     "output_type": "stream",
     "text": [
      "\n",
      "    PIAIC Islamabad\n",
      "    Student id: 1\n",
      "    Student Name: Qasim\n",
      "    Father's Name: Aslam\n",
      "    Course: A.I\n",
      "    Timing: 9 to 12\n",
      "    \n"
     ]
    }
   ],
   "source": [
    "def id_card(sid, sname, fname, course, timing):\n",
    "    print(f\"\"\"\n",
    "    PIAIC Islamabad\n",
    "    Student id: {sid}\n",
    "    Student Name: {sname}\n",
    "    Father's Name: {fname}\n",
    "    Course: {course}\n",
    "    Timing: {timing}\n",
    "    \"\"\")\n",
    "    \n",
    "    \n",
    "id_card(sid=1, course='A.I',timing='9 to 12',sname='Qasim',fname='Aslam')"
   ]
  },
  {
   "cell_type": "markdown",
   "metadata": {},
   "source": [
    "# Pass Argument with List"
   ]
  },
  {
   "cell_type": "code",
   "execution_count": 44,
   "metadata": {},
   "outputs": [
    {
     "name": "stdout",
     "output_type": "stream",
     "text": [
      "[1, 'ABC', 'XYZ', 'A.I', 'AAA']\n"
     ]
    }
   ],
   "source": [
    "l1 = [1,\"ABC\",\"XYZ\",'A.I',\"AAA\"]\n",
    "print(l1)"
   ]
  },
  {
   "cell_type": "code",
   "execution_count": 45,
   "metadata": {},
   "outputs": [
    {
     "name": "stdout",
     "output_type": "stream",
     "text": [
      "1 ABC XYZ A.I AAA\n"
     ]
    }
   ],
   "source": [
    "l1 = [1,\"ABC\",\"XYZ\",'A.I',\"AAA\"]\n",
    "print(l1[0], l1[1], l1[2],l1[3], l1[4])"
   ]
  },
  {
   "cell_type": "code",
   "execution_count": 46,
   "metadata": {},
   "outputs": [
    {
     "name": "stdout",
     "output_type": "stream",
     "text": [
      "1 ABC XYZ A.I AAA\n"
     ]
    }
   ],
   "source": [
    "l1 = [1,\"ABC\",\"XYZ\",'A.I',\"AAA\"]\n",
    "print(*l1)"
   ]
  },
  {
   "cell_type": "code",
   "execution_count": 48,
   "metadata": {},
   "outputs": [
    {
     "name": "stdout",
     "output_type": "stream",
     "text": [
      "\n",
      "    PIAIC Islamabad\n",
      "    Student id: 1\n",
      "    Student Name: ABC\n",
      "    Father's Name: XYZ\n",
      "    Course: A.I\n",
      "    Timing: AAA\n",
      "    \n"
     ]
    }
   ],
   "source": [
    "def id_card(sid, sname, fname, course, timing):\n",
    "    print(f\"\"\"\n",
    "    PIAIC Islamabad\n",
    "    Student id: {sid}\n",
    "    Student Name: {sname}\n",
    "    Father's Name: {fname}\n",
    "    Course: {course}\n",
    "    Timing: {timing}\n",
    "    \"\"\")\n",
    "    \n",
    "    \n",
    "l1 = [1,\"ABC\",\"XYZ\",'A.I',\"AAA\"]    \n",
    "#id_card(l1[0], l1[1], l1[2],l1[3], l1[4])    \n",
    "id_card(*l1) # same as above second last line"
   ]
  },
  {
   "cell_type": "markdown",
   "metadata": {},
   "source": [
    "# Passing Argument with Dictionary"
   ]
  },
  {
   "cell_type": "code",
   "execution_count": 50,
   "metadata": {},
   "outputs": [
    {
     "name": "stdout",
     "output_type": "stream",
     "text": [
      "\n",
      "    PIAIC Islamabad\n",
      "    Student id: 200\n",
      "    Student Name: Qasim\n",
      "    Father's Name: Aslam\n",
      "    Course: A.I\n",
      "    Timing: 5 to 9\n",
      "    \n"
     ]
    }
   ],
   "source": [
    "def id_card(sid, sname, fname, course, timing):\n",
    "    print(f\"\"\"\n",
    "    PIAIC Islamabad\n",
    "    Student id: {sid}\n",
    "    Student Name: {sname}\n",
    "    Father's Name: {fname}\n",
    "    Course: {course}\n",
    "    Timing: {timing}\n",
    "    \"\"\")\n",
    "    \n",
    "\n",
    "\n",
    "\n",
    "d1 = {\n",
    "    'sname':'Qasim',\n",
    "    'sid':200,\n",
    "    'fname':'Aslam',\n",
    "    'timing':'5 to 9',\n",
    "    'course': 'A.I'\n",
    "    \n",
    "}\n",
    "#id_card(sid=1, course='A.I',timing='9 to 12',sname='Qasim',fname='Aslam')\n",
    "id_card(**d1)"
   ]
  },
  {
   "cell_type": "code",
   "execution_count": 53,
   "metadata": {},
   "outputs": [
    {
     "name": "stdout",
     "output_type": "stream",
     "text": [
      "Qasim\n",
      "(5, 4, 6, 2)\n",
      "17\n"
     ]
    }
   ],
   "source": [
    "def abc(name, *number):\n",
    "    print(name)\n",
    "    print(number)\n",
    "    print(sum(number))\n",
    "    \n",
    "abc('Qasim',5,4,6,2)    "
   ]
  },
  {
   "cell_type": "code",
   "execution_count": 55,
   "metadata": {},
   "outputs": [
    {
     "name": "stdout",
     "output_type": "stream",
     "text": [
      "Qasim\n",
      "ABBB\n",
      "(5, 4, 6, 2)\n",
      "17\n"
     ]
    }
   ],
   "source": [
    "def abc(name, abc, *number):\n",
    "    print(name)\n",
    "    print(abc)\n",
    "    print(number)\n",
    "    print(sum(number))\n",
    "    \n",
    "abc('Qasim','ABBB',5,4,6,2)"
   ]
  },
  {
   "cell_type": "code",
   "execution_count": 57,
   "metadata": {},
   "outputs": [
    {
     "name": "stdout",
     "output_type": "stream",
     "text": [
      "Qasim\n",
      "(5, 4, 6, 2)\n",
      "17\n"
     ]
    }
   ],
   "source": [
    "def abc(*number, name):\n",
    "    print(name)\n",
    "    print(number)\n",
    "    print(sum(number))\n",
    "    \n",
    "abc(5,4,6,2, name='Qasim')"
   ]
  },
  {
   "cell_type": "code",
   "execution_count": 60,
   "metadata": {},
   "outputs": [
    {
     "ename": "TypeError",
     "evalue": "abc() got an unexpected keyword argument 'number'",
     "output_type": "error",
     "traceback": [
      "\u001b[0;31m---------------------------------------------------------------------------\u001b[0m",
      "\u001b[0;31mTypeError\u001b[0m                                 Traceback (most recent call last)",
      "\u001b[0;32m<ipython-input-60-c0c8aec79320>\u001b[0m in \u001b[0;36m<module>\u001b[0;34m\u001b[0m\n\u001b[1;32m      4\u001b[0m     \u001b[0mprint\u001b[0m\u001b[0;34m(\u001b[0m\u001b[0msum\u001b[0m\u001b[0;34m(\u001b[0m\u001b[0mnumber\u001b[0m\u001b[0;34m)\u001b[0m\u001b[0;34m)\u001b[0m\u001b[0;34m\u001b[0m\u001b[0;34m\u001b[0m\u001b[0m\n\u001b[1;32m      5\u001b[0m \u001b[0;34m\u001b[0m\u001b[0m\n\u001b[0;32m----> 6\u001b[0;31m \u001b[0mabc\u001b[0m\u001b[0;34m(\u001b[0m\u001b[0mnumber\u001b[0m\u001b[0;34m=\u001b[0m\u001b[0;34m[\u001b[0m\u001b[0;36m5\u001b[0m\u001b[0;34m,\u001b[0m\u001b[0;36m4\u001b[0m\u001b[0;34m,\u001b[0m\u001b[0;36m6\u001b[0m\u001b[0;34m,\u001b[0m\u001b[0;36m2\u001b[0m\u001b[0;34m]\u001b[0m\u001b[0;34m,\u001b[0m \u001b[0mname\u001b[0m\u001b[0;34m=\u001b[0m\u001b[0;34m'Qasim'\u001b[0m\u001b[0;34m,\u001b[0m \u001b[0mabc\u001b[0m\u001b[0;34m=\u001b[0m\u001b[0;34m'aaa'\u001b[0m\u001b[0;34m)\u001b[0m\u001b[0;34m\u001b[0m\u001b[0;34m\u001b[0m\u001b[0m\n\u001b[0m",
      "\u001b[0;31mTypeError\u001b[0m: abc() got an unexpected keyword argument 'number'"
     ]
    }
   ],
   "source": [
    "def abc(abc, *number, name):\n",
    "    print(name)\n",
    "    print(number)\n",
    "    print(sum(number))\n",
    "    \n",
    "abc(number=[5,4,6,2], name='Qasim', abc='aaa')"
   ]
  },
  {
   "cell_type": "code",
   "execution_count": 63,
   "metadata": {},
   "outputs": [
    {
     "name": "stdout",
     "output_type": "stream",
     "text": [
      "QASim\n",
      "{'a': 'bb', 'b': 'aa', 'c': 'ccc'}\n"
     ]
    }
   ],
   "source": [
    "def abc(name, **kv):\n",
    "    print(name)\n",
    "    print(kv)\n",
    "    \n",
    "    \n",
    "abc('QASim', a='bb',b='aa',c='ccc')    "
   ]
  },
  {
   "cell_type": "markdown",
   "metadata": {},
   "source": [
    "# Recursive Function"
   ]
  },
  {
   "cell_type": "code",
   "execution_count": 65,
   "metadata": {},
   "outputs": [
    {
     "data": {
      "text/plain": [
       "120"
      ]
     },
     "execution_count": 65,
     "metadata": {},
     "output_type": "execute_result"
    }
   ],
   "source": [
    "def abc(n):\n",
    "    if n==1:\n",
    "        return 1\n",
    "    return n * abc(n-1)\n",
    "\n",
    "abc(5)\n",
    "#1*2*3*4*5"
   ]
  },
  {
   "cell_type": "code",
   "execution_count": 66,
   "metadata": {},
   "outputs": [
    {
     "data": {
      "text/plain": [
       "15"
      ]
     },
     "execution_count": 66,
     "metadata": {},
     "output_type": "execute_result"
    }
   ],
   "source": [
    "def abc(n):\n",
    "    if n==1:\n",
    "        return 1\n",
    "    return n + abc(n-1)\n",
    "\n",
    "abc(5)\n",
    "#1*2*3*4*5"
   ]
  },
  {
   "cell_type": "markdown",
   "metadata": {},
   "source": [
    "# Generator Function"
   ]
  },
  {
   "cell_type": "code",
   "execution_count": 68,
   "metadata": {},
   "outputs": [
    {
     "name": "stdout",
     "output_type": "stream",
     "text": [
      "1\n",
      "2\n",
      "3\n",
      "4\n",
      "5\n",
      "6\n",
      "7\n",
      "8\n",
      "9\n",
      "10\n"
     ]
    }
   ],
   "source": [
    "def my_range(n):\n",
    "    for i in range(1, n+1):\n",
    "        print(i)\n",
    "        \n",
    "my_range(10)        "
   ]
  },
  {
   "cell_type": "code",
   "execution_count": 69,
   "metadata": {},
   "outputs": [
    {
     "name": "stdout",
     "output_type": "stream",
     "text": [
      "1\n",
      "2\n",
      "3\n"
     ]
    }
   ],
   "source": [
    "def my_range(n):\n",
    "    for i in range(1, n+1):\n",
    "        yield i\n",
    "        \n",
    "a = my_range(10)\n",
    "\n",
    "print(next(a))\n",
    "print(next(a))\n",
    "print(next(a))\n"
   ]
  },
  {
   "cell_type": "code",
   "execution_count": 70,
   "metadata": {},
   "outputs": [
    {
     "name": "stdout",
     "output_type": "stream",
     "text": [
      "4\n"
     ]
    }
   ],
   "source": [
    "print(next(a))"
   ]
  },
  {
   "cell_type": "code",
   "execution_count": 71,
   "metadata": {},
   "outputs": [
    {
     "data": {
      "text/plain": [
       "[5, 6, 7, 8, 9, 10]"
      ]
     },
     "execution_count": 71,
     "metadata": {},
     "output_type": "execute_result"
    }
   ],
   "source": [
    "list(a)"
   ]
  },
  {
   "cell_type": "code",
   "execution_count": 74,
   "metadata": {},
   "outputs": [
    {
     "name": "stdout",
     "output_type": "stream",
     "text": [
      "105\n",
      "210\n",
      "315\n"
     ]
    },
    {
     "data": {
      "text/plain": [
       "[420, 525, 630, 735, 840, 945]"
      ]
     },
     "execution_count": 74,
     "metadata": {},
     "output_type": "execute_result"
    }
   ],
   "source": [
    "def abc(n):\n",
    "    for i in range(1,n+1):\n",
    "        if (i%5==0 and i%7==0 and i%15==0):\n",
    "            yield i\n",
    "            \n",
    "a = abc(1000)\n",
    "print(next(a))\n",
    "print(next(a))\n",
    "print(next(a))\n",
    "list(a)"
   ]
  },
  {
   "cell_type": "markdown",
   "metadata": {},
   "source": [
    "# Lambda Function"
   ]
  },
  {
   "cell_type": "code",
   "execution_count": 75,
   "metadata": {},
   "outputs": [
    {
     "data": {
      "text/plain": [
       "12"
      ]
     },
     "execution_count": 75,
     "metadata": {},
     "output_type": "execute_result"
    }
   ],
   "source": [
    "def abc(x,y): return x+y\n",
    "\n",
    "abc(5,7)"
   ]
  },
  {
   "cell_type": "code",
   "execution_count": 76,
   "metadata": {},
   "outputs": [
    {
     "data": {
      "text/plain": [
       "17"
      ]
     },
     "execution_count": 76,
     "metadata": {},
     "output_type": "execute_result"
    }
   ],
   "source": [
    "abc = lambda x,y,z : x+y+z\n",
    "\n",
    "abc(4,6,7)"
   ]
  },
  {
   "cell_type": "code",
   "execution_count": null,
   "metadata": {},
   "outputs": [],
   "source": [
    "abc(7,9)\n",
    "#9\n",
    "\n",
    "abc(6,3)\n",
    "#6"
   ]
  }
 ],
 "metadata": {
  "kernelspec": {
   "display_name": "Python 3",
   "language": "python",
   "name": "python3"
  },
  "language_info": {
   "codemirror_mode": {
    "name": "ipython",
    "version": 3
   },
   "file_extension": ".py",
   "mimetype": "text/x-python",
   "name": "python",
   "nbconvert_exporter": "python",
   "pygments_lexer": "ipython3",
   "version": "3.7.1"
  }
 },
 "nbformat": 4,
 "nbformat_minor": 2
}
