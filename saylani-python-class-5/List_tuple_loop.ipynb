{
 "cells": [
  {
   "cell_type": "code",
   "execution_count": 1,
   "metadata": {},
   "outputs": [
    {
     "data": {
      "text/plain": [
       "'Qasim'"
      ]
     },
     "execution_count": 1,
     "metadata": {},
     "output_type": "execute_result"
    }
   ],
   "source": [
    "name = \"Qasim\"\n",
    "name"
   ]
  },
  {
   "cell_type": "code",
   "execution_count": null,
   "metadata": {},
   "outputs": [],
   "source": []
  },
  {
   "cell_type": "code",
   "execution_count": 2,
   "metadata": {},
   "outputs": [
    {
     "name": "stdout",
     "output_type": "stream",
     "text": [
      "A B C\n"
     ]
    }
   ],
   "source": [
    "name1 = \"A\"\n",
    "name2 = \"B\"\n",
    "name3 = \"C\"\n",
    "print(name1,name2,name3)"
   ]
  },
  {
   "cell_type": "code",
   "execution_count": 3,
   "metadata": {},
   "outputs": [
    {
     "name": "stdout",
     "output_type": "stream",
     "text": [
      "B\n",
      "B\n"
     ]
    }
   ],
   "source": [
    "#        0    1   2\n",
    "names = [\"A\",\"B\",\"C\"]\n",
    "#        -3   -2  -1\n",
    "\n",
    "print(names[1])\n",
    "print(names[-2])"
   ]
  },
  {
   "cell_type": "code",
   "execution_count": 4,
   "metadata": {},
   "outputs": [
    {
     "name": "stdout",
     "output_type": "stream",
     "text": [
      "<class 'list'>\n",
      "<class 'str'>\n"
     ]
    }
   ],
   "source": [
    "print(type(names))\n",
    "print(type(name1))"
   ]
  },
  {
   "cell_type": "code",
   "execution_count": 5,
   "metadata": {},
   "outputs": [
    {
     "name": "stdout",
     "output_type": "stream",
     "text": [
      "pakistan\n",
      "None\n"
     ]
    }
   ],
   "source": [
    "a = print('pakistan') #Non Return\n",
    "print(a)"
   ]
  },
  {
   "cell_type": "code",
   "execution_count": 6,
   "metadata": {},
   "outputs": [
    {
     "name": "stdout",
     "output_type": "stream",
     "text": [
      "16\n"
     ]
    }
   ],
   "source": [
    "a = len('kasdjflasjdfjalk') # Return Function\n",
    "print(a)"
   ]
  },
  {
   "cell_type": "code",
   "execution_count": 7,
   "metadata": {},
   "outputs": [
    {
     "name": "stdout",
     "output_type": "stream",
     "text": [
      "['A', 'B', 'C']\n"
     ]
    }
   ],
   "source": [
    "l1 = [] #empty list\n",
    "l1.append(\"A\") # [\"A\"]\n",
    "l1.append(\"B\") # [\"A\",\"B\"]\n",
    "l1.append(\"C\") # [\"A\",\"B\",\"C\"]\n",
    "\n",
    "print(l1)"
   ]
  },
  {
   "cell_type": "code",
   "execution_count": 8,
   "metadata": {},
   "outputs": [
    {
     "name": "stdout",
     "output_type": "stream",
     "text": [
      "['A', 'B', 'C']\n",
      "[]\n"
     ]
    }
   ],
   "source": [
    "print(l1)\n",
    "l1.clear()\n",
    "print(l1)"
   ]
  },
  {
   "cell_type": "code",
   "execution_count": 9,
   "metadata": {},
   "outputs": [
    {
     "name": "stdout",
     "output_type": "stream",
     "text": [
      "['a', 'b', 'c']\n"
     ]
    },
    {
     "ename": "NameError",
     "evalue": "name 'l1' is not defined",
     "output_type": "error",
     "traceback": [
      "\u001b[1;31m---------------------------------------------------------------------------\u001b[0m",
      "\u001b[1;31mNameError\u001b[0m                                 Traceback (most recent call last)",
      "\u001b[1;32m<ipython-input-9-0ca5daf68c20>\u001b[0m in \u001b[0;36m<module>\u001b[1;34m\u001b[0m\n\u001b[0;32m      2\u001b[0m \u001b[0mprint\u001b[0m\u001b[1;33m(\u001b[0m\u001b[0ml1\u001b[0m\u001b[1;33m)\u001b[0m\u001b[1;33m\u001b[0m\u001b[1;33m\u001b[0m\u001b[0m\n\u001b[0;32m      3\u001b[0m \u001b[1;32mdel\u001b[0m \u001b[0ml1\u001b[0m\u001b[1;33m\u001b[0m\u001b[1;33m\u001b[0m\u001b[0m\n\u001b[1;32m----> 4\u001b[1;33m \u001b[0mprint\u001b[0m\u001b[1;33m(\u001b[0m\u001b[0ml1\u001b[0m\u001b[1;33m)\u001b[0m\u001b[1;33m\u001b[0m\u001b[1;33m\u001b[0m\u001b[0m\n\u001b[0m",
      "\u001b[1;31mNameError\u001b[0m: name 'l1' is not defined"
     ]
    }
   ],
   "source": [
    "l1 = [\"a\",\"b\",\"c\"]\n",
    "print(l1)\n",
    "del l1\n",
    "print(l1)"
   ]
  },
  {
   "cell_type": "code",
   "execution_count": 10,
   "metadata": {},
   "outputs": [
    {
     "name": "stdout",
     "output_type": "stream",
     "text": [
      "['A', 'B', 'C']\n",
      "['A', 'B', 'C']\n",
      "['Pakistan', 'B', 'C']\n",
      "['Pakistan', 'B', 'C']\n"
     ]
    }
   ],
   "source": [
    "l1 = ['A','B','C']\n",
    "l2 = l1 # Shallow Copy\n",
    "print(l1)\n",
    "print(l2)\n",
    "\n",
    "l2[0] = \"Pakistan\"\n",
    "print(l1)\n",
    "print(l2)\n"
   ]
  },
  {
   "cell_type": "code",
   "execution_count": 11,
   "metadata": {},
   "outputs": [
    {
     "name": "stdout",
     "output_type": "stream",
     "text": [
      "['A', 'B', 'C']\n",
      "['A', 'B', 'C']\n",
      "['A', 'B', 'C']\n",
      "['Pakistan', 'B', 'C']\n"
     ]
    }
   ],
   "source": [
    "l1 = ['A','B','C']\n",
    "l2 = l1.copy() # Deep Copy\n",
    "print(l1)\n",
    "print(l2)\n",
    "\n",
    "l2[0] = \"Pakistan\"\n",
    "print(l1)\n",
    "print(l2)\n"
   ]
  },
  {
   "cell_type": "code",
   "execution_count": 12,
   "metadata": {},
   "outputs": [
    {
     "data": {
      "text/plain": [
       "2"
      ]
     },
     "execution_count": 12,
     "metadata": {},
     "output_type": "execute_result"
    }
   ],
   "source": [
    "l1 = ['A',\"B\",\"A\",\"C\",\"C\"]\n",
    "l1.count(\"C\")"
   ]
  },
  {
   "cell_type": "code",
   "execution_count": 13,
   "metadata": {},
   "outputs": [
    {
     "data": {
      "text/plain": [
       "0"
      ]
     },
     "execution_count": 13,
     "metadata": {},
     "output_type": "execute_result"
    }
   ],
   "source": [
    "l1 = ['A',\"B\",\"A\",\"C\",\"C\"]\n",
    "l1.count(\"D\")"
   ]
  },
  {
   "cell_type": "code",
   "execution_count": 14,
   "metadata": {},
   "outputs": [
    {
     "name": "stdout",
     "output_type": "stream",
     "text": [
      "['A', 'B', 'C', 'Y', 'X', 'Z']\n",
      "['A', 'B', 'C'] ['Y', 'X', 'Z']\n"
     ]
    }
   ],
   "source": [
    "l1 = ['A',\"B\",\"C\"]\n",
    "l2 = [\"Y\",\"X\",\"Z\"]\n",
    "\n",
    "print(l1 + l2) # Inline Operation\n",
    "print(l1,l2)"
   ]
  },
  {
   "cell_type": "code",
   "execution_count": 15,
   "metadata": {},
   "outputs": [
    {
     "name": "stdout",
     "output_type": "stream",
     "text": [
      "['A', 'B', 'C', 'Y', 'X', 'Z']\n",
      "['A', 'B', 'C'] ['Y', 'X', 'Z']\n"
     ]
    }
   ],
   "source": [
    "l1 = ['A',\"B\",\"C\"]\n",
    "l2 = [\"Y\",\"X\",\"Z\"]\n",
    "\n",
    "print(l1.__add__(l2)) # Inline Operation\n",
    "print(l1,l2)"
   ]
  },
  {
   "cell_type": "code",
   "execution_count": 16,
   "metadata": {},
   "outputs": [
    {
     "name": "stdout",
     "output_type": "stream",
     "text": [
      "['A', 'B', 'C', 'Y', 'X', 'Z']\n",
      "['Y', 'X', 'Z']\n"
     ]
    }
   ],
   "source": [
    "l1 = ['A',\"B\",\"C\"]\n",
    "l2 = [\"Y\",\"X\",\"Z\"]\n",
    "\n",
    "l1.extend(l2) # In Memory Operation\n",
    "\n",
    "print(l1)\n",
    "print(l2)"
   ]
  },
  {
   "cell_type": "code",
   "execution_count": 17,
   "metadata": {},
   "outputs": [
    {
     "name": "stdout",
     "output_type": "stream",
     "text": [
      "['A', 'B', 'C', 'Y', 'X', 'Z']\n"
     ]
    }
   ],
   "source": [
    "print(l1)"
   ]
  },
  {
   "cell_type": "code",
   "execution_count": 18,
   "metadata": {
    "scrolled": true
   },
   "outputs": [
    {
     "name": "stdout",
     "output_type": "stream",
     "text": [
      "['A', 'B', 'C', 'Y', 'X', 'Z']\n",
      "3\n"
     ]
    }
   ],
   "source": [
    "print(l1)\n",
    "print(l1.index(\"Y\"))"
   ]
  },
  {
   "cell_type": "code",
   "execution_count": 19,
   "metadata": {},
   "outputs": [
    {
     "name": "stdout",
     "output_type": "stream",
     "text": [
      "1\n",
      "3\n"
     ]
    }
   ],
   "source": [
    "l1 = [\"A\",\"B\",\"C\",\"B\",\"A\"]\n",
    "print(l1.index(\"B\"))\n",
    "print(l1.index(\"B\", 2))"
   ]
  },
  {
   "cell_type": "code",
   "execution_count": 22,
   "metadata": {},
   "outputs": [
    {
     "name": "stdout",
     "output_type": "stream",
     "text": [
      "B\n"
     ]
    }
   ],
   "source": [
    "l1 = [\"A\",\"B\",\"C\",\"B\",\"A\",\"B\"]\n",
    "print(l1[l1.index(\"B\")])"
   ]
  },
  {
   "cell_type": "code",
   "execution_count": 23,
   "metadata": {},
   "outputs": [
    {
     "name": "stdout",
     "output_type": "stream",
     "text": [
      "1\n"
     ]
    }
   ],
   "source": [
    "l1 = [\"A\",\"B\",\"C\",\"B\",\"A\"]\n",
    "index = l1.index(\"B\")\n",
    "print(l1.index(\"B\",index ))"
   ]
  },
  {
   "cell_type": "code",
   "execution_count": 24,
   "metadata": {},
   "outputs": [
    {
     "name": "stdout",
     "output_type": "stream",
     "text": [
      "['C', 'B', 'A']\n",
      "['C', 'D', 'B', 'A']\n"
     ]
    }
   ],
   "source": [
    "l1 = []\n",
    "l1.insert(0, \"A\")#[A]\n",
    "l1.insert(0, \"B\")#[B,A]\n",
    "l1.insert(0, \"C\")#[C,B,A]\n",
    "print(l1)\n",
    "l1.insert(1,\"D\")\n",
    "print(l1)"
   ]
  },
  {
   "cell_type": "code",
   "execution_count": 25,
   "metadata": {},
   "outputs": [
    {
     "data": {
      "text/plain": [
       "['A']"
      ]
     },
     "execution_count": 25,
     "metadata": {},
     "output_type": "execute_result"
    }
   ],
   "source": [
    "l1 = [\"A\",\"B\",\"C\"]\n",
    "\n",
    "del l1[-1] # [\"A\",\"B\"]\n",
    "del l1[-1] #[\"A\"]\n",
    "l1"
   ]
  },
  {
   "cell_type": "code",
   "execution_count": 26,
   "metadata": {},
   "outputs": [
    {
     "name": "stdout",
     "output_type": "stream",
     "text": [
      "['A', 'B']\n",
      "['E', 'D', 'C']\n"
     ]
    }
   ],
   "source": [
    "l2 = []\n",
    "l1 = [\"A\",\"B\",\"C\",\"D\",\"E\"]\n",
    "\n",
    "a = l1.pop() # E\n",
    "l2.append(a) # [E]\n",
    "\n",
    "a = l1.pop() # D\n",
    "l2.append(a) # [E,D]\n",
    "\n",
    "a = l1.pop() # C\n",
    "l2.append(a)# [E,D,C]\n",
    "\n",
    "print(l1) # [A,B]\n",
    "print(l2) # [E,D,C]\n"
   ]
  },
  {
   "cell_type": "code",
   "execution_count": 27,
   "metadata": {},
   "outputs": [
    {
     "name": "stdout",
     "output_type": "stream",
     "text": [
      "['A', 'E']\n",
      "['B', 'C', 'D']\n"
     ]
    }
   ],
   "source": [
    "l2 = []\n",
    "l1 = [\"A\",\"B\",\"C\",\"D\",\"E\"]\n",
    "\n",
    "a = l1.pop(1) # B\n",
    "l2.append(a) # [B]\n",
    "\n",
    "a = l1.pop(1) # C\n",
    "l2.append(a) # [B,C]\n",
    "\n",
    "a = l1.pop(1) # D\n",
    "l2.append(a)# [B,C,D]\n",
    "\n",
    "print(l1) \n",
    "print(l2) \n",
    "#.index(\"B\")"
   ]
  },
  {
   "cell_type": "code",
   "execution_count": 28,
   "metadata": {},
   "outputs": [
    {
     "name": "stdout",
     "output_type": "stream",
     "text": [
      "None\n",
      "['A', 'C', 'B', 'E']\n",
      "['A', 'C', 'E']\n"
     ]
    }
   ],
   "source": [
    "l1 = [\"A\",\"B\",\"C\",\"B\",\"E\"]\n",
    "print(l1.remove(\"B\"))\n",
    "print(l1)\n",
    "l1.remove(\"B\")\n",
    "print(l1)"
   ]
  },
  {
   "cell_type": "code",
   "execution_count": 29,
   "metadata": {},
   "outputs": [
    {
     "name": "stdout",
     "output_type": "stream",
     "text": [
      "['A', 'B', 'X', 'C', 'Y', 'Z']\n",
      "['Z', 'Y', 'C', 'X', 'B', 'A']\n"
     ]
    }
   ],
   "source": [
    "l1 = [\"A\",\"B\",\"X\",\"C\",\"Y\",\"Z\"]\n",
    "print(l1)\n",
    "l1.reverse()\n",
    "print(l1)"
   ]
  },
  {
   "cell_type": "code",
   "execution_count": 30,
   "metadata": {},
   "outputs": [
    {
     "name": "stdout",
     "output_type": "stream",
     "text": [
      "['A', 'B', 'X', 'C', 'Y', 'Z']\n",
      "['A', 'B', 'C', 'X', 'Y', 'Z']\n"
     ]
    }
   ],
   "source": [
    "l1 = [\"A\",\"B\",\"X\",\"C\",\"Y\",\"Z\"]\n",
    "print(l1)\n",
    "l1.sort()\n",
    "print(l1)"
   ]
  },
  {
   "cell_type": "code",
   "execution_count": 31,
   "metadata": {},
   "outputs": [
    {
     "name": "stdout",
     "output_type": "stream",
     "text": [
      "['A', 'B', 'X', 'C', 'Y', 'Z']\n",
      "['Z', 'Y', 'X', 'C', 'B', 'A']\n"
     ]
    }
   ],
   "source": [
    "l1 = [\"A\",\"B\",\"X\",\"C\",\"Y\",\"Z\"]\n",
    "print(l1)\n",
    "l1.sort()\n",
    "l1.reverse()\n",
    "print(l1)"
   ]
  },
  {
   "cell_type": "code",
   "execution_count": 32,
   "metadata": {},
   "outputs": [
    {
     "name": "stdout",
     "output_type": "stream",
     "text": [
      "['A', 'B', 'X', 'C', 'Y', 'Z']\n",
      "['Z', 'Y', 'X', 'C', 'B', 'A']\n"
     ]
    }
   ],
   "source": [
    "l1 = [\"A\",\"B\",\"X\",\"C\",\"Y\",\"Z\"]\n",
    "print(l1)\n",
    "l1.sort(reverse=True)\n",
    "print(l1)"
   ]
  },
  {
   "cell_type": "code",
   "execution_count": 33,
   "metadata": {},
   "outputs": [
    {
     "name": "stdout",
     "output_type": "stream",
     "text": [
      "['A', 'B', 'C'] ['X', 'Z']\n",
      "['A', 'B', 'C', 'X', 'Z']\n",
      "['A', 'B', 'C'] ['X', 'Z']\n"
     ]
    }
   ],
   "source": [
    "l1 = [\"A\",\"B\",\"C\"]\n",
    "l2 = [\"X\",\"Z\"]\n",
    "\n",
    "print(l1,l2)\n",
    "print(l1.__add__(l2)) # Inline Operation\n",
    "print(l1,l2)"
   ]
  },
  {
   "cell_type": "code",
   "execution_count": 34,
   "metadata": {},
   "outputs": [
    {
     "name": "stdout",
     "output_type": "stream",
     "text": [
      "['A', 'B', 'C']\n"
     ]
    },
    {
     "data": {
      "text/plain": [
       "list"
      ]
     },
     "execution_count": 34,
     "metadata": {},
     "output_type": "execute_result"
    }
   ],
   "source": [
    "print(l1)\n",
    "l1.__class__"
   ]
  },
  {
   "cell_type": "code",
   "execution_count": 35,
   "metadata": {},
   "outputs": [
    {
     "name": "stdout",
     "output_type": "stream",
     "text": [
      "['A', 'B', 'C']\n"
     ]
    },
    {
     "data": {
      "text/plain": [
       "True"
      ]
     },
     "execution_count": 35,
     "metadata": {},
     "output_type": "execute_result"
    }
   ],
   "source": [
    "print(l1)\n",
    "l1.__contains__(\"A\")"
   ]
  },
  {
   "cell_type": "code",
   "execution_count": 36,
   "metadata": {},
   "outputs": [
    {
     "data": {
      "text/plain": [
       "['A', 'C']"
      ]
     },
     "execution_count": 36,
     "metadata": {},
     "output_type": "execute_result"
    }
   ],
   "source": [
    "l1 = [\"A\",\"B\",\"C\"]\n",
    "l1.__delitem__(1)\n",
    "l1"
   ]
  },
  {
   "cell_type": "code",
   "execution_count": 37,
   "metadata": {},
   "outputs": [
    {
     "data": {
      "text/plain": [
       "'Built-in mutable sequence.\\n\\nIf no argument is given, the constructor creates a new empty list.\\nThe argument must be an iterable if specified.'"
      ]
     },
     "execution_count": 37,
     "metadata": {},
     "output_type": "execute_result"
    }
   ],
   "source": [
    "l1.__doc__"
   ]
  },
  {
   "cell_type": "code",
   "execution_count": null,
   "metadata": {},
   "outputs": [],
   "source": [
    "#[1,2,3]\n",
    "#[1,2,3]\n",
    "# True\n",
    "[1,2,3].__eq__([3,2,1])\n",
    "\n"
   ]
  },
  {
   "cell_type": "code",
   "execution_count": null,
   "metadata": {},
   "outputs": [],
   "source": [
    "#5,7,9\n",
    "#1,2,4\n",
    "[5,7,9].__ge__([1,2,3])"
   ]
  },
  {
   "cell_type": "code",
   "execution_count": null,
   "metadata": {},
   "outputs": [],
   "source": [
    "['A'].__mul__(2)"
   ]
  },
  {
   "cell_type": "code",
   "execution_count": null,
   "metadata": {},
   "outputs": [],
   "source": [
    "['A'] * 2"
   ]
  },
  {
   "cell_type": "code",
   "execution_count": null,
   "metadata": {},
   "outputs": [],
   "source": [
    "['A'].__sizeof__()"
   ]
  },
  {
   "cell_type": "code",
   "execution_count": null,
   "metadata": {},
   "outputs": [],
   "source": [
    "['A'].__sizeof__"
   ]
  },
  {
   "cell_type": "markdown",
   "metadata": {},
   "source": [
    "# Tuple"
   ]
  },
  {
   "cell_type": "code",
   "execution_count": null,
   "metadata": {},
   "outputs": [],
   "source": [
    "l1 = [\"A\",\"B\",\"C\"]\n",
    "l1[1]=\"ZZ\"\n",
    "print(l1)"
   ]
  },
  {
   "cell_type": "code",
   "execution_count": null,
   "metadata": {},
   "outputs": [],
   "source": [
    "l1 = (\"A\",\"B\",\"C\")\n",
    "l1[1] = 5\n",
    "print(l1)\n"
   ]
  },
  {
   "cell_type": "code",
   "execution_count": null,
   "metadata": {},
   "outputs": [],
   "source": [
    "l1 = (\"A\",\"B\",\"C\")\n",
    "l1 = (\"A\",5,\"C\")\n",
    "print(l1)"
   ]
  },
  {
   "cell_type": "code",
   "execution_count": null,
   "metadata": {},
   "outputs": [],
   "source": []
  },
  {
   "cell_type": "code",
   "execution_count": null,
   "metadata": {},
   "outputs": [],
   "source": []
  },
  {
   "cell_type": "code",
   "execution_count": null,
   "metadata": {},
   "outputs": [],
   "source": []
  },
  {
   "cell_type": "code",
   "execution_count": null,
   "metadata": {},
   "outputs": [],
   "source": []
  },
  {
   "cell_type": "code",
   "execution_count": null,
   "metadata": {},
   "outputs": [],
   "source": []
  },
  {
   "cell_type": "code",
   "execution_count": null,
   "metadata": {},
   "outputs": [],
   "source": [
    "help(list)"
   ]
  },
  {
   "cell_type": "code",
   "execution_count": null,
   "metadata": {},
   "outputs": [],
   "source": [
    "print(len(dir(list)))\n",
    "dir(list)"
   ]
  },
  {
   "cell_type": "markdown",
   "metadata": {},
   "source": [
    "# Loop"
   ]
  },
  {
   "cell_type": "code",
   "execution_count": null,
   "metadata": {},
   "outputs": [],
   "source": [
    "\"A \" * 10"
   ]
  },
  {
   "cell_type": "raw",
   "metadata": {},
   "source": [
    "# Counter\n",
    "# Logic\n",
    "# Increment / Decrement"
   ]
  },
  {
   "cell_type": "code",
   "execution_count": null,
   "metadata": {},
   "outputs": [],
   "source": [
    "counter = 1 # Counter\n",
    "\n",
    "while counter <= 10: #Logic\n",
    "    print(\"line no\",counter)\n",
    "    counter += 1 # Increment"
   ]
  },
  {
   "cell_type": "code",
   "execution_count": null,
   "metadata": {},
   "outputs": [],
   "source": [
    "counter = 1000# Counter\n",
    "\n",
    "while counter >= 990: #Logic\n",
    "    print(\"line no\",counter)\n",
    "    counter -= 1 # Increment"
   ]
  },
  {
   "cell_type": "raw",
   "metadata": {},
   "source": [
    "for(counter; logic; increment){\n",
    "    statment;\n",
    "}"
   ]
  },
  {
   "cell_type": "code",
   "execution_count": null,
   "metadata": {},
   "outputs": [],
   "source": [
    "for i in range(1,11):\n",
    "    print(i)"
   ]
  },
  {
   "cell_type": "code",
   "execution_count": null,
   "metadata": {},
   "outputs": [],
   "source": [
    "for i in range(1000,990,-1):\n",
    "    print(i)"
   ]
  },
  {
   "cell_type": "code",
   "execution_count": null,
   "metadata": {},
   "outputs": [],
   "source": [
    "for i in range(1,11):\n",
    "    #print(2,\"X\",i,\"=\",i*2)\n",
    "    #print(\"2 X \"+str(i)+\" = \"+str(i*2))\n",
    "    print(f\"2 X {i} = {i*2}\")"
   ]
  },
  {
   "cell_type": "code",
   "execution_count": null,
   "metadata": {},
   "outputs": [],
   "source": [
    "for i in range(10,0,-1):\n",
    "    #print(2,\"X\",i,\"=\",i*2)\n",
    "    #print(\"2 X \"+str(i)+\" = \"+str(i*2))\n",
    "    print(f\"2 X {i} = {i*2}\")"
   ]
  },
  {
   "cell_type": "code",
   "execution_count": null,
   "metadata": {},
   "outputs": [],
   "source": [
    "#user = int(input(\"Enter no\"))\n",
    "user = input(\"Enter no\")\n",
    "user = int(user)\n",
    "for t in range(1, user+1): #4+1 =5\n",
    "    for n in range(1,11):\n",
    "        print(f\"{t} X {n} = {t*n}\")"
   ]
  },
  {
   "cell_type": "code",
   "execution_count": null,
   "metadata": {},
   "outputs": [],
   "source": [
    "1 X 1 = 1   2 X 1 = 2\n",
    "1 X 2 = 2   2 X 2 = 4\n",
    "1 X 3 = 3   2 X 3 = 1\n",
    "1 X 4 = 4   2 X 4 = 1\n",
    "1 X 5 = 5   2 X 5 = 1\n",
    "1 X 6 = 6   2 X 6 = 1\n",
    "1 X 7 = 7   2 X 7 = 1\n",
    "1 X 8 = 8   2 X 8 = 1\n",
    "1 X 9 = 9   2 X 8 = 1\n",
    "1 X 10 = 10 2 X 10 = 20"
   ]
  },
  {
   "cell_type": "code",
   "execution_count": null,
   "metadata": {},
   "outputs": [],
   "source": [
    "u = int(input(\"Enter no\"))\n",
    "\n",
    "for r in range(1,11):\n",
    "    for c in range(1, u+1):\n",
    "        print(f\"{c} X {r} = {c*r}\", end=\"\\t\")\n",
    "    print()"
   ]
  },
  {
   "cell_type": "code",
   "execution_count": null,
   "metadata": {},
   "outputs": [],
   "source": [
    "0315-2968211"
   ]
  }
 ],
 "metadata": {
  "kernelspec": {
   "display_name": "Python 3",
   "language": "python",
   "name": "python3"
  },
  "language_info": {
   "codemirror_mode": {
    "name": "ipython",
    "version": 3
   },
   "file_extension": ".py",
   "mimetype": "text/x-python",
   "name": "python",
   "nbconvert_exporter": "python",
   "pygments_lexer": "ipython3",
   "version": "3.7.6"
  }
 },
 "nbformat": 4,
 "nbformat_minor": 2
}
